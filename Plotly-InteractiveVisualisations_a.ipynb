{
 "cells": [
  {
   "cell_type": "markdown",
   "metadata": {},
   "source": [
    "# Interactive Visualisation using Plotly"
   ]
  },
  {
   "cell_type": "markdown",
   "metadata": {},
   "source": [
    "The plotly Python library (plotly.py) is an interactive, open-source plotting library that supports over 40 unique chart types covering a wide range of statistical, financial, geographic, scientific, and 3-dimensional use-cases."
   ]
  },
  {
   "cell_type": "markdown",
   "metadata": {},
   "source": [
    "The main aim of this notebook are:<br />\n",
    "I.   Plot various charts using plotly.<br />\n",
    "II.  Adding dropdowns and axis sliders to the charts.<br />\n",
    "III. Save the visualisations as html as stand-alone interactive visualisations.<br />\n",
    "IV.  Add multiple plots (subplots) to the same space.<br />\n",
    "\n",
    "Part I is covered in this notebook. Part II, III and IV is tackled in the second notebook."
   ]
  },
  {
   "cell_type": "code",
   "execution_count": 1,
   "metadata": {},
   "outputs": [
    {
     "data": {
      "text/html": [
       "        <script type=\"text/javascript\">\n",
       "        window.PlotlyConfig = {MathJaxConfig: 'local'};\n",
       "        if (window.MathJax) {MathJax.Hub.Config({SVG: {font: \"STIX-Web\"}});}\n",
       "        if (typeof require !== 'undefined') {\n",
       "        require.undef(\"plotly\");\n",
       "        requirejs.config({\n",
       "            paths: {\n",
       "                'plotly': ['https://cdn.plot.ly/plotly-latest.min']\n",
       "            }\n",
       "        });\n",
       "        require(['plotly'], function(Plotly) {\n",
       "            window._Plotly = Plotly;\n",
       "        });\n",
       "        }\n",
       "        </script>\n",
       "        "
      ]
     },
     "metadata": {},
     "output_type": "display_data"
    }
   ],
   "source": [
    "import pandas as pd\n",
    "import random\n",
    "import numpy as np\n",
    "\n",
    "from plotly import graph_objs as go\n",
    "import plotly.figure_factory as ff\n",
    "import ipywidgets as w\n",
    "from plotly.subplots import make_subplots\n",
    "from IPython.display import display\n",
    "from plotly.offline import iplot, init_notebook_mode\n",
    "init_notebook_mode(connected = True)\n"
   ]
  },
  {
   "cell_type": "markdown",
   "metadata": {},
   "source": [
    "Let's assume that the dataframe is a sales data of a small company with three products namely CategoryA, CtagoryB and CategoryC. We now try to plot the sales of the three Categories with different charts using plotly."
   ]
  },
  {
   "cell_type": "code",
   "execution_count": 2,
   "metadata": {},
   "outputs": [
    {
     "data": {
      "text/html": [
       "<div>\n",
       "<style scoped>\n",
       "    .dataframe tbody tr th:only-of-type {\n",
       "        vertical-align: middle;\n",
       "    }\n",
       "\n",
       "    .dataframe tbody tr th {\n",
       "        vertical-align: top;\n",
       "    }\n",
       "\n",
       "    .dataframe thead th {\n",
       "        text-align: right;\n",
       "    }\n",
       "</style>\n",
       "<table border=\"1\" class=\"dataframe\">\n",
       "  <thead>\n",
       "    <tr style=\"text-align: right;\">\n",
       "      <th></th>\n",
       "      <th>date</th>\n",
       "      <th>category</th>\n",
       "    </tr>\n",
       "  </thead>\n",
       "  <tbody>\n",
       "    <tr>\n",
       "      <th>0</th>\n",
       "      <td>2020-05-07</td>\n",
       "      <td>CategoryA</td>\n",
       "    </tr>\n",
       "    <tr>\n",
       "      <th>1</th>\n",
       "      <td>2020-05-07</td>\n",
       "      <td>CategoryB</td>\n",
       "    </tr>\n",
       "    <tr>\n",
       "      <th>2</th>\n",
       "      <td>2020-05-07</td>\n",
       "      <td>CategoryA</td>\n",
       "    </tr>\n",
       "    <tr>\n",
       "      <th>3</th>\n",
       "      <td>2020-05-07</td>\n",
       "      <td>CategoryA</td>\n",
       "    </tr>\n",
       "    <tr>\n",
       "      <th>4</th>\n",
       "      <td>2020-05-07</td>\n",
       "      <td>CategoryC</td>\n",
       "    </tr>\n",
       "  </tbody>\n",
       "</table>\n",
       "</div>"
      ],
      "text/plain": [
       "         date   category\n",
       "0  2020-05-07  CategoryA\n",
       "1  2020-05-07  CategoryB\n",
       "2  2020-05-07  CategoryA\n",
       "3  2020-05-07  CategoryA\n",
       "4  2020-05-07  CategoryC"
      ]
     },
     "execution_count": 2,
     "metadata": {},
     "output_type": "execute_result"
    }
   ],
   "source": [
    "df = pd.read_excel(\"data//sales_data.xlsx\")\n",
    "df['date'] = df['date'].dt.date\n",
    "df.head()"
   ]
  },
  {
   "cell_type": "markdown",
   "metadata": {},
   "source": [
    "# I. Plot different charts using plotly"
   ]
  },
  {
   "cell_type": "markdown",
   "metadata": {},
   "source": [
    "## 1. Pie and Donut chart"
   ]
  },
  {
   "cell_type": "markdown",
   "metadata": {},
   "source": [
    "### 1.1 Pie Chart "
   ]
  },
  {
   "cell_type": "code",
   "execution_count": 3,
   "metadata": {},
   "outputs": [
    {
     "data": {
      "application/vnd.plotly.v1+json": {
       "config": {
        "linkText": "Export to plot.ly",
        "plotlyServerURL": "https://plot.ly",
        "showLink": false
       },
       "data": [
        {
         "labels": [
          "CategoryA",
          "CategoryB",
          "CategoryC"
         ],
         "marker": {
          "colors": [
           "#CDDC39",
           "#673AB7",
           "#F44336"
          ]
         },
         "type": "pie",
         "values": [
          54,
          41,
          64
         ]
        }
       ],
       "layout": {
        "template": {
         "data": {
          "bar": [
           {
            "error_x": {
             "color": "#2a3f5f"
            },
            "error_y": {
             "color": "#2a3f5f"
            },
            "marker": {
             "line": {
              "color": "#E5ECF6",
              "width": 0.5
             }
            },
            "type": "bar"
           }
          ],
          "barpolar": [
           {
            "marker": {
             "line": {
              "color": "#E5ECF6",
              "width": 0.5
             }
            },
            "type": "barpolar"
           }
          ],
          "carpet": [
           {
            "aaxis": {
             "endlinecolor": "#2a3f5f",
             "gridcolor": "white",
             "linecolor": "white",
             "minorgridcolor": "white",
             "startlinecolor": "#2a3f5f"
            },
            "baxis": {
             "endlinecolor": "#2a3f5f",
             "gridcolor": "white",
             "linecolor": "white",
             "minorgridcolor": "white",
             "startlinecolor": "#2a3f5f"
            },
            "type": "carpet"
           }
          ],
          "choropleth": [
           {
            "colorbar": {
             "outlinewidth": 0,
             "ticks": ""
            },
            "type": "choropleth"
           }
          ],
          "contour": [
           {
            "colorbar": {
             "outlinewidth": 0,
             "ticks": ""
            },
            "colorscale": [
             [
              0,
              "#0d0887"
             ],
             [
              0.1111111111111111,
              "#46039f"
             ],
             [
              0.2222222222222222,
              "#7201a8"
             ],
             [
              0.3333333333333333,
              "#9c179e"
             ],
             [
              0.4444444444444444,
              "#bd3786"
             ],
             [
              0.5555555555555556,
              "#d8576b"
             ],
             [
              0.6666666666666666,
              "#ed7953"
             ],
             [
              0.7777777777777778,
              "#fb9f3a"
             ],
             [
              0.8888888888888888,
              "#fdca26"
             ],
             [
              1,
              "#f0f921"
             ]
            ],
            "type": "contour"
           }
          ],
          "contourcarpet": [
           {
            "colorbar": {
             "outlinewidth": 0,
             "ticks": ""
            },
            "type": "contourcarpet"
           }
          ],
          "heatmap": [
           {
            "colorbar": {
             "outlinewidth": 0,
             "ticks": ""
            },
            "colorscale": [
             [
              0,
              "#0d0887"
             ],
             [
              0.1111111111111111,
              "#46039f"
             ],
             [
              0.2222222222222222,
              "#7201a8"
             ],
             [
              0.3333333333333333,
              "#9c179e"
             ],
             [
              0.4444444444444444,
              "#bd3786"
             ],
             [
              0.5555555555555556,
              "#d8576b"
             ],
             [
              0.6666666666666666,
              "#ed7953"
             ],
             [
              0.7777777777777778,
              "#fb9f3a"
             ],
             [
              0.8888888888888888,
              "#fdca26"
             ],
             [
              1,
              "#f0f921"
             ]
            ],
            "type": "heatmap"
           }
          ],
          "heatmapgl": [
           {
            "colorbar": {
             "outlinewidth": 0,
             "ticks": ""
            },
            "colorscale": [
             [
              0,
              "#0d0887"
             ],
             [
              0.1111111111111111,
              "#46039f"
             ],
             [
              0.2222222222222222,
              "#7201a8"
             ],
             [
              0.3333333333333333,
              "#9c179e"
             ],
             [
              0.4444444444444444,
              "#bd3786"
             ],
             [
              0.5555555555555556,
              "#d8576b"
             ],
             [
              0.6666666666666666,
              "#ed7953"
             ],
             [
              0.7777777777777778,
              "#fb9f3a"
             ],
             [
              0.8888888888888888,
              "#fdca26"
             ],
             [
              1,
              "#f0f921"
             ]
            ],
            "type": "heatmapgl"
           }
          ],
          "histogram": [
           {
            "marker": {
             "colorbar": {
              "outlinewidth": 0,
              "ticks": ""
             }
            },
            "type": "histogram"
           }
          ],
          "histogram2d": [
           {
            "colorbar": {
             "outlinewidth": 0,
             "ticks": ""
            },
            "colorscale": [
             [
              0,
              "#0d0887"
             ],
             [
              0.1111111111111111,
              "#46039f"
             ],
             [
              0.2222222222222222,
              "#7201a8"
             ],
             [
              0.3333333333333333,
              "#9c179e"
             ],
             [
              0.4444444444444444,
              "#bd3786"
             ],
             [
              0.5555555555555556,
              "#d8576b"
             ],
             [
              0.6666666666666666,
              "#ed7953"
             ],
             [
              0.7777777777777778,
              "#fb9f3a"
             ],
             [
              0.8888888888888888,
              "#fdca26"
             ],
             [
              1,
              "#f0f921"
             ]
            ],
            "type": "histogram2d"
           }
          ],
          "histogram2dcontour": [
           {
            "colorbar": {
             "outlinewidth": 0,
             "ticks": ""
            },
            "colorscale": [
             [
              0,
              "#0d0887"
             ],
             [
              0.1111111111111111,
              "#46039f"
             ],
             [
              0.2222222222222222,
              "#7201a8"
             ],
             [
              0.3333333333333333,
              "#9c179e"
             ],
             [
              0.4444444444444444,
              "#bd3786"
             ],
             [
              0.5555555555555556,
              "#d8576b"
             ],
             [
              0.6666666666666666,
              "#ed7953"
             ],
             [
              0.7777777777777778,
              "#fb9f3a"
             ],
             [
              0.8888888888888888,
              "#fdca26"
             ],
             [
              1,
              "#f0f921"
             ]
            ],
            "type": "histogram2dcontour"
           }
          ],
          "mesh3d": [
           {
            "colorbar": {
             "outlinewidth": 0,
             "ticks": ""
            },
            "type": "mesh3d"
           }
          ],
          "parcoords": [
           {
            "line": {
             "colorbar": {
              "outlinewidth": 0,
              "ticks": ""
             }
            },
            "type": "parcoords"
           }
          ],
          "pie": [
           {
            "automargin": true,
            "type": "pie"
           }
          ],
          "scatter": [
           {
            "marker": {
             "colorbar": {
              "outlinewidth": 0,
              "ticks": ""
             }
            },
            "type": "scatter"
           }
          ],
          "scatter3d": [
           {
            "line": {
             "colorbar": {
              "outlinewidth": 0,
              "ticks": ""
             }
            },
            "marker": {
             "colorbar": {
              "outlinewidth": 0,
              "ticks": ""
             }
            },
            "type": "scatter3d"
           }
          ],
          "scattercarpet": [
           {
            "marker": {
             "colorbar": {
              "outlinewidth": 0,
              "ticks": ""
             }
            },
            "type": "scattercarpet"
           }
          ],
          "scattergeo": [
           {
            "marker": {
             "colorbar": {
              "outlinewidth": 0,
              "ticks": ""
             }
            },
            "type": "scattergeo"
           }
          ],
          "scattergl": [
           {
            "marker": {
             "colorbar": {
              "outlinewidth": 0,
              "ticks": ""
             }
            },
            "type": "scattergl"
           }
          ],
          "scattermapbox": [
           {
            "marker": {
             "colorbar": {
              "outlinewidth": 0,
              "ticks": ""
             }
            },
            "type": "scattermapbox"
           }
          ],
          "scatterpolar": [
           {
            "marker": {
             "colorbar": {
              "outlinewidth": 0,
              "ticks": ""
             }
            },
            "type": "scatterpolar"
           }
          ],
          "scatterpolargl": [
           {
            "marker": {
             "colorbar": {
              "outlinewidth": 0,
              "ticks": ""
             }
            },
            "type": "scatterpolargl"
           }
          ],
          "scatterternary": [
           {
            "marker": {
             "colorbar": {
              "outlinewidth": 0,
              "ticks": ""
             }
            },
            "type": "scatterternary"
           }
          ],
          "surface": [
           {
            "colorbar": {
             "outlinewidth": 0,
             "ticks": ""
            },
            "colorscale": [
             [
              0,
              "#0d0887"
             ],
             [
              0.1111111111111111,
              "#46039f"
             ],
             [
              0.2222222222222222,
              "#7201a8"
             ],
             [
              0.3333333333333333,
              "#9c179e"
             ],
             [
              0.4444444444444444,
              "#bd3786"
             ],
             [
              0.5555555555555556,
              "#d8576b"
             ],
             [
              0.6666666666666666,
              "#ed7953"
             ],
             [
              0.7777777777777778,
              "#fb9f3a"
             ],
             [
              0.8888888888888888,
              "#fdca26"
             ],
             [
              1,
              "#f0f921"
             ]
            ],
            "type": "surface"
           }
          ],
          "table": [
           {
            "cells": {
             "fill": {
              "color": "#EBF0F8"
             },
             "line": {
              "color": "white"
             }
            },
            "header": {
             "fill": {
              "color": "#C8D4E3"
             },
             "line": {
              "color": "white"
             }
            },
            "type": "table"
           }
          ]
         },
         "layout": {
          "annotationdefaults": {
           "arrowcolor": "#2a3f5f",
           "arrowhead": 0,
           "arrowwidth": 1
          },
          "coloraxis": {
           "colorbar": {
            "outlinewidth": 0,
            "ticks": ""
           }
          },
          "colorscale": {
           "diverging": [
            [
             0,
             "#8e0152"
            ],
            [
             0.1,
             "#c51b7d"
            ],
            [
             0.2,
             "#de77ae"
            ],
            [
             0.3,
             "#f1b6da"
            ],
            [
             0.4,
             "#fde0ef"
            ],
            [
             0.5,
             "#f7f7f7"
            ],
            [
             0.6,
             "#e6f5d0"
            ],
            [
             0.7,
             "#b8e186"
            ],
            [
             0.8,
             "#7fbc41"
            ],
            [
             0.9,
             "#4d9221"
            ],
            [
             1,
             "#276419"
            ]
           ],
           "sequential": [
            [
             0,
             "#0d0887"
            ],
            [
             0.1111111111111111,
             "#46039f"
            ],
            [
             0.2222222222222222,
             "#7201a8"
            ],
            [
             0.3333333333333333,
             "#9c179e"
            ],
            [
             0.4444444444444444,
             "#bd3786"
            ],
            [
             0.5555555555555556,
             "#d8576b"
            ],
            [
             0.6666666666666666,
             "#ed7953"
            ],
            [
             0.7777777777777778,
             "#fb9f3a"
            ],
            [
             0.8888888888888888,
             "#fdca26"
            ],
            [
             1,
             "#f0f921"
            ]
           ],
           "sequentialminus": [
            [
             0,
             "#0d0887"
            ],
            [
             0.1111111111111111,
             "#46039f"
            ],
            [
             0.2222222222222222,
             "#7201a8"
            ],
            [
             0.3333333333333333,
             "#9c179e"
            ],
            [
             0.4444444444444444,
             "#bd3786"
            ],
            [
             0.5555555555555556,
             "#d8576b"
            ],
            [
             0.6666666666666666,
             "#ed7953"
            ],
            [
             0.7777777777777778,
             "#fb9f3a"
            ],
            [
             0.8888888888888888,
             "#fdca26"
            ],
            [
             1,
             "#f0f921"
            ]
           ]
          },
          "colorway": [
           "#636efa",
           "#EF553B",
           "#00cc96",
           "#ab63fa",
           "#FFA15A",
           "#19d3f3",
           "#FF6692",
           "#B6E880",
           "#FF97FF",
           "#FECB52"
          ],
          "font": {
           "color": "#2a3f5f"
          },
          "geo": {
           "bgcolor": "white",
           "lakecolor": "white",
           "landcolor": "#E5ECF6",
           "showlakes": true,
           "showland": true,
           "subunitcolor": "white"
          },
          "hoverlabel": {
           "align": "left"
          },
          "hovermode": "closest",
          "mapbox": {
           "style": "light"
          },
          "paper_bgcolor": "white",
          "plot_bgcolor": "#E5ECF6",
          "polar": {
           "angularaxis": {
            "gridcolor": "white",
            "linecolor": "white",
            "ticks": ""
           },
           "bgcolor": "#E5ECF6",
           "radialaxis": {
            "gridcolor": "white",
            "linecolor": "white",
            "ticks": ""
           }
          },
          "scene": {
           "xaxis": {
            "backgroundcolor": "#E5ECF6",
            "gridcolor": "white",
            "gridwidth": 2,
            "linecolor": "white",
            "showbackground": true,
            "ticks": "",
            "zerolinecolor": "white"
           },
           "yaxis": {
            "backgroundcolor": "#E5ECF6",
            "gridcolor": "white",
            "gridwidth": 2,
            "linecolor": "white",
            "showbackground": true,
            "ticks": "",
            "zerolinecolor": "white"
           },
           "zaxis": {
            "backgroundcolor": "#E5ECF6",
            "gridcolor": "white",
            "gridwidth": 2,
            "linecolor": "white",
            "showbackground": true,
            "ticks": "",
            "zerolinecolor": "white"
           }
          },
          "shapedefaults": {
           "line": {
            "color": "#2a3f5f"
           }
          },
          "ternary": {
           "aaxis": {
            "gridcolor": "white",
            "linecolor": "white",
            "ticks": ""
           },
           "baxis": {
            "gridcolor": "white",
            "linecolor": "white",
            "ticks": ""
           },
           "bgcolor": "#E5ECF6",
           "caxis": {
            "gridcolor": "white",
            "linecolor": "white",
            "ticks": ""
           }
          },
          "title": {
           "x": 0.05
          },
          "xaxis": {
           "automargin": true,
           "gridcolor": "white",
           "linecolor": "white",
           "ticks": "",
           "title": {
            "standoff": 15
           },
           "zerolinecolor": "white",
           "zerolinewidth": 2
          },
          "yaxis": {
           "automargin": true,
           "gridcolor": "white",
           "linecolor": "white",
           "ticks": "",
           "title": {
            "standoff": 15
           },
           "zerolinecolor": "white",
           "zerolinewidth": 2
          }
         }
        },
        "title": {
         "text": "Pie chart showing the distribution of the three categories"
        }
       }
      },
      "text/html": [
       "<div>\n",
       "        \n",
       "        \n",
       "            <div id=\"c6601ed1-77ce-4961-82ba-b298096dd947\" class=\"plotly-graph-div\" style=\"height:525px; width:100%;\"></div>\n",
       "            <script type=\"text/javascript\">\n",
       "                require([\"plotly\"], function(Plotly) {\n",
       "                    window.PLOTLYENV=window.PLOTLYENV || {};\n",
       "                    \n",
       "                if (document.getElementById(\"c6601ed1-77ce-4961-82ba-b298096dd947\")) {\n",
       "                    Plotly.newPlot(\n",
       "                        'c6601ed1-77ce-4961-82ba-b298096dd947',\n",
       "                        [{\"labels\": [\"CategoryA\", \"CategoryB\", \"CategoryC\"], \"marker\": {\"colors\": [\"#CDDC39\", \"#673AB7\", \"#F44336\"]}, \"type\": \"pie\", \"values\": [54, 41, 64]}],\n",
       "                        {\"template\": {\"data\": {\"bar\": [{\"error_x\": {\"color\": \"#2a3f5f\"}, \"error_y\": {\"color\": \"#2a3f5f\"}, \"marker\": {\"line\": {\"color\": \"#E5ECF6\", \"width\": 0.5}}, \"type\": \"bar\"}], \"barpolar\": [{\"marker\": {\"line\": {\"color\": \"#E5ECF6\", \"width\": 0.5}}, \"type\": \"barpolar\"}], \"carpet\": [{\"aaxis\": {\"endlinecolor\": \"#2a3f5f\", \"gridcolor\": \"white\", \"linecolor\": \"white\", \"minorgridcolor\": \"white\", \"startlinecolor\": \"#2a3f5f\"}, \"baxis\": {\"endlinecolor\": \"#2a3f5f\", \"gridcolor\": \"white\", \"linecolor\": \"white\", \"minorgridcolor\": \"white\", \"startlinecolor\": \"#2a3f5f\"}, \"type\": \"carpet\"}], \"choropleth\": [{\"colorbar\": {\"outlinewidth\": 0, \"ticks\": \"\"}, \"type\": \"choropleth\"}], \"contour\": [{\"colorbar\": {\"outlinewidth\": 0, \"ticks\": \"\"}, \"colorscale\": [[0.0, \"#0d0887\"], [0.1111111111111111, \"#46039f\"], [0.2222222222222222, \"#7201a8\"], [0.3333333333333333, \"#9c179e\"], [0.4444444444444444, \"#bd3786\"], [0.5555555555555556, \"#d8576b\"], [0.6666666666666666, \"#ed7953\"], [0.7777777777777778, \"#fb9f3a\"], [0.8888888888888888, \"#fdca26\"], [1.0, \"#f0f921\"]], \"type\": \"contour\"}], \"contourcarpet\": [{\"colorbar\": {\"outlinewidth\": 0, \"ticks\": \"\"}, \"type\": \"contourcarpet\"}], \"heatmap\": [{\"colorbar\": {\"outlinewidth\": 0, \"ticks\": \"\"}, \"colorscale\": [[0.0, \"#0d0887\"], [0.1111111111111111, \"#46039f\"], [0.2222222222222222, \"#7201a8\"], [0.3333333333333333, \"#9c179e\"], [0.4444444444444444, \"#bd3786\"], [0.5555555555555556, \"#d8576b\"], [0.6666666666666666, \"#ed7953\"], [0.7777777777777778, \"#fb9f3a\"], [0.8888888888888888, \"#fdca26\"], [1.0, \"#f0f921\"]], \"type\": \"heatmap\"}], \"heatmapgl\": [{\"colorbar\": {\"outlinewidth\": 0, \"ticks\": \"\"}, \"colorscale\": [[0.0, \"#0d0887\"], [0.1111111111111111, \"#46039f\"], [0.2222222222222222, \"#7201a8\"], [0.3333333333333333, \"#9c179e\"], [0.4444444444444444, \"#bd3786\"], [0.5555555555555556, \"#d8576b\"], [0.6666666666666666, \"#ed7953\"], [0.7777777777777778, \"#fb9f3a\"], [0.8888888888888888, \"#fdca26\"], [1.0, \"#f0f921\"]], \"type\": \"heatmapgl\"}], \"histogram\": [{\"marker\": {\"colorbar\": {\"outlinewidth\": 0, \"ticks\": \"\"}}, \"type\": \"histogram\"}], \"histogram2d\": [{\"colorbar\": {\"outlinewidth\": 0, \"ticks\": \"\"}, \"colorscale\": [[0.0, \"#0d0887\"], [0.1111111111111111, \"#46039f\"], [0.2222222222222222, \"#7201a8\"], [0.3333333333333333, \"#9c179e\"], [0.4444444444444444, \"#bd3786\"], [0.5555555555555556, \"#d8576b\"], [0.6666666666666666, \"#ed7953\"], [0.7777777777777778, \"#fb9f3a\"], [0.8888888888888888, \"#fdca26\"], [1.0, \"#f0f921\"]], \"type\": \"histogram2d\"}], \"histogram2dcontour\": [{\"colorbar\": {\"outlinewidth\": 0, \"ticks\": \"\"}, \"colorscale\": [[0.0, \"#0d0887\"], [0.1111111111111111, \"#46039f\"], [0.2222222222222222, \"#7201a8\"], [0.3333333333333333, \"#9c179e\"], [0.4444444444444444, \"#bd3786\"], [0.5555555555555556, \"#d8576b\"], [0.6666666666666666, \"#ed7953\"], [0.7777777777777778, \"#fb9f3a\"], [0.8888888888888888, \"#fdca26\"], [1.0, \"#f0f921\"]], \"type\": \"histogram2dcontour\"}], \"mesh3d\": [{\"colorbar\": {\"outlinewidth\": 0, \"ticks\": \"\"}, \"type\": \"mesh3d\"}], \"parcoords\": [{\"line\": {\"colorbar\": {\"outlinewidth\": 0, \"ticks\": \"\"}}, \"type\": \"parcoords\"}], \"pie\": [{\"automargin\": true, \"type\": \"pie\"}], \"scatter\": [{\"marker\": {\"colorbar\": {\"outlinewidth\": 0, \"ticks\": \"\"}}, \"type\": \"scatter\"}], \"scatter3d\": [{\"line\": {\"colorbar\": {\"outlinewidth\": 0, \"ticks\": \"\"}}, \"marker\": {\"colorbar\": {\"outlinewidth\": 0, \"ticks\": \"\"}}, \"type\": \"scatter3d\"}], \"scattercarpet\": [{\"marker\": {\"colorbar\": {\"outlinewidth\": 0, \"ticks\": \"\"}}, \"type\": \"scattercarpet\"}], \"scattergeo\": [{\"marker\": {\"colorbar\": {\"outlinewidth\": 0, \"ticks\": \"\"}}, \"type\": \"scattergeo\"}], \"scattergl\": [{\"marker\": {\"colorbar\": {\"outlinewidth\": 0, \"ticks\": \"\"}}, \"type\": \"scattergl\"}], \"scattermapbox\": [{\"marker\": {\"colorbar\": {\"outlinewidth\": 0, \"ticks\": \"\"}}, \"type\": \"scattermapbox\"}], \"scatterpolar\": [{\"marker\": {\"colorbar\": {\"outlinewidth\": 0, \"ticks\": \"\"}}, \"type\": \"scatterpolar\"}], \"scatterpolargl\": [{\"marker\": {\"colorbar\": {\"outlinewidth\": 0, \"ticks\": \"\"}}, \"type\": \"scatterpolargl\"}], \"scatterternary\": [{\"marker\": {\"colorbar\": {\"outlinewidth\": 0, \"ticks\": \"\"}}, \"type\": \"scatterternary\"}], \"surface\": [{\"colorbar\": {\"outlinewidth\": 0, \"ticks\": \"\"}, \"colorscale\": [[0.0, \"#0d0887\"], [0.1111111111111111, \"#46039f\"], [0.2222222222222222, \"#7201a8\"], [0.3333333333333333, \"#9c179e\"], [0.4444444444444444, \"#bd3786\"], [0.5555555555555556, \"#d8576b\"], [0.6666666666666666, \"#ed7953\"], [0.7777777777777778, \"#fb9f3a\"], [0.8888888888888888, \"#fdca26\"], [1.0, \"#f0f921\"]], \"type\": \"surface\"}], \"table\": [{\"cells\": {\"fill\": {\"color\": \"#EBF0F8\"}, \"line\": {\"color\": \"white\"}}, \"header\": {\"fill\": {\"color\": \"#C8D4E3\"}, \"line\": {\"color\": \"white\"}}, \"type\": \"table\"}]}, \"layout\": {\"annotationdefaults\": {\"arrowcolor\": \"#2a3f5f\", \"arrowhead\": 0, \"arrowwidth\": 1}, \"coloraxis\": {\"colorbar\": {\"outlinewidth\": 0, \"ticks\": \"\"}}, \"colorscale\": {\"diverging\": [[0, \"#8e0152\"], [0.1, \"#c51b7d\"], [0.2, \"#de77ae\"], [0.3, \"#f1b6da\"], [0.4, \"#fde0ef\"], [0.5, \"#f7f7f7\"], [0.6, \"#e6f5d0\"], [0.7, \"#b8e186\"], [0.8, \"#7fbc41\"], [0.9, \"#4d9221\"], [1, \"#276419\"]], \"sequential\": [[0.0, \"#0d0887\"], [0.1111111111111111, \"#46039f\"], [0.2222222222222222, \"#7201a8\"], [0.3333333333333333, \"#9c179e\"], [0.4444444444444444, \"#bd3786\"], [0.5555555555555556, \"#d8576b\"], [0.6666666666666666, \"#ed7953\"], [0.7777777777777778, \"#fb9f3a\"], [0.8888888888888888, \"#fdca26\"], [1.0, \"#f0f921\"]], \"sequentialminus\": [[0.0, \"#0d0887\"], [0.1111111111111111, \"#46039f\"], [0.2222222222222222, \"#7201a8\"], [0.3333333333333333, \"#9c179e\"], [0.4444444444444444, \"#bd3786\"], [0.5555555555555556, \"#d8576b\"], [0.6666666666666666, \"#ed7953\"], [0.7777777777777778, \"#fb9f3a\"], [0.8888888888888888, \"#fdca26\"], [1.0, \"#f0f921\"]]}, \"colorway\": [\"#636efa\", \"#EF553B\", \"#00cc96\", \"#ab63fa\", \"#FFA15A\", \"#19d3f3\", \"#FF6692\", \"#B6E880\", \"#FF97FF\", \"#FECB52\"], \"font\": {\"color\": \"#2a3f5f\"}, \"geo\": {\"bgcolor\": \"white\", \"lakecolor\": \"white\", \"landcolor\": \"#E5ECF6\", \"showlakes\": true, \"showland\": true, \"subunitcolor\": \"white\"}, \"hoverlabel\": {\"align\": \"left\"}, \"hovermode\": \"closest\", \"mapbox\": {\"style\": \"light\"}, \"paper_bgcolor\": \"white\", \"plot_bgcolor\": \"#E5ECF6\", \"polar\": {\"angularaxis\": {\"gridcolor\": \"white\", \"linecolor\": \"white\", \"ticks\": \"\"}, \"bgcolor\": \"#E5ECF6\", \"radialaxis\": {\"gridcolor\": \"white\", \"linecolor\": \"white\", \"ticks\": \"\"}}, \"scene\": {\"xaxis\": {\"backgroundcolor\": \"#E5ECF6\", \"gridcolor\": \"white\", \"gridwidth\": 2, \"linecolor\": \"white\", \"showbackground\": true, \"ticks\": \"\", \"zerolinecolor\": \"white\"}, \"yaxis\": {\"backgroundcolor\": \"#E5ECF6\", \"gridcolor\": \"white\", \"gridwidth\": 2, \"linecolor\": \"white\", \"showbackground\": true, \"ticks\": \"\", \"zerolinecolor\": \"white\"}, \"zaxis\": {\"backgroundcolor\": \"#E5ECF6\", \"gridcolor\": \"white\", \"gridwidth\": 2, \"linecolor\": \"white\", \"showbackground\": true, \"ticks\": \"\", \"zerolinecolor\": \"white\"}}, \"shapedefaults\": {\"line\": {\"color\": \"#2a3f5f\"}}, \"ternary\": {\"aaxis\": {\"gridcolor\": \"white\", \"linecolor\": \"white\", \"ticks\": \"\"}, \"baxis\": {\"gridcolor\": \"white\", \"linecolor\": \"white\", \"ticks\": \"\"}, \"bgcolor\": \"#E5ECF6\", \"caxis\": {\"gridcolor\": \"white\", \"linecolor\": \"white\", \"ticks\": \"\"}}, \"title\": {\"x\": 0.05}, \"xaxis\": {\"automargin\": true, \"gridcolor\": \"white\", \"linecolor\": \"white\", \"ticks\": \"\", \"title\": {\"standoff\": 15}, \"zerolinecolor\": \"white\", \"zerolinewidth\": 2}, \"yaxis\": {\"automargin\": true, \"gridcolor\": \"white\", \"linecolor\": \"white\", \"ticks\": \"\", \"title\": {\"standoff\": 15}, \"zerolinecolor\": \"white\", \"zerolinewidth\": 2}}}, \"title\": {\"text\": \"Pie chart showing the distribution of the three categories\"}},\n",
       "                        {\"responsive\": true}\n",
       "                    ).then(function(){\n",
       "                            \n",
       "var gd = document.getElementById('c6601ed1-77ce-4961-82ba-b298096dd947');\n",
       "var x = new MutationObserver(function (mutations, observer) {{\n",
       "        var display = window.getComputedStyle(gd).display;\n",
       "        if (!display || display === 'none') {{\n",
       "            console.log([gd, 'removed!']);\n",
       "            Plotly.purge(gd);\n",
       "            observer.disconnect();\n",
       "        }}\n",
       "}});\n",
       "\n",
       "// Listen for the removal of the full notebook cells\n",
       "var notebookContainer = gd.closest('#notebook-container');\n",
       "if (notebookContainer) {{\n",
       "    x.observe(notebookContainer, {childList: true});\n",
       "}}\n",
       "\n",
       "// Listen for the clearing of the current output cell\n",
       "var outputEl = gd.closest('.output');\n",
       "if (outputEl) {{\n",
       "    x.observe(outputEl, {childList: true});\n",
       "}}\n",
       "\n",
       "                        })\n",
       "                };\n",
       "                });\n",
       "            </script>\n",
       "        </div>"
      ]
     },
     "metadata": {},
     "output_type": "display_data"
    }
   ],
   "source": [
    "plot_pie = df.groupby('category').count().reset_index().rename(columns={'date': 'category_count'})\n",
    "\n",
    "trace = go.Pie(labels=plot_pie['category'], values=plot_pie['category_count'], marker={'colors': ['#CDDC39', '#673AB7', '#F44336']})\n",
    "fig = go.Figure(data = [trace])\n",
    "fig.update_layout(title_text='Pie chart showing the distribution of the three categories')\n",
    "iplot(fig)"
   ]
  },
  {
   "cell_type": "markdown",
   "metadata": {},
   "source": [
    "### 1.2 Donut chart "
   ]
  },
  {
   "cell_type": "code",
   "execution_count": 4,
   "metadata": {},
   "outputs": [
    {
     "data": {
      "application/vnd.plotly.v1+json": {
       "config": {
        "linkText": "Export to plot.ly",
        "plotlyServerURL": "https://plot.ly",
        "showLink": false
       },
       "data": [
        {
         "hole": 0.4,
         "labels": [
          "CategoryA",
          "CategoryB",
          "CategoryC"
         ],
         "marker": {
          "colors": [
           "#CDDC39",
           "#673AB7",
           "#F44336"
          ]
         },
         "type": "pie",
         "values": [
          54,
          41,
          64
         ]
        }
       ],
       "layout": {
        "template": {
         "data": {
          "bar": [
           {
            "error_x": {
             "color": "#2a3f5f"
            },
            "error_y": {
             "color": "#2a3f5f"
            },
            "marker": {
             "line": {
              "color": "#E5ECF6",
              "width": 0.5
             }
            },
            "type": "bar"
           }
          ],
          "barpolar": [
           {
            "marker": {
             "line": {
              "color": "#E5ECF6",
              "width": 0.5
             }
            },
            "type": "barpolar"
           }
          ],
          "carpet": [
           {
            "aaxis": {
             "endlinecolor": "#2a3f5f",
             "gridcolor": "white",
             "linecolor": "white",
             "minorgridcolor": "white",
             "startlinecolor": "#2a3f5f"
            },
            "baxis": {
             "endlinecolor": "#2a3f5f",
             "gridcolor": "white",
             "linecolor": "white",
             "minorgridcolor": "white",
             "startlinecolor": "#2a3f5f"
            },
            "type": "carpet"
           }
          ],
          "choropleth": [
           {
            "colorbar": {
             "outlinewidth": 0,
             "ticks": ""
            },
            "type": "choropleth"
           }
          ],
          "contour": [
           {
            "colorbar": {
             "outlinewidth": 0,
             "ticks": ""
            },
            "colorscale": [
             [
              0,
              "#0d0887"
             ],
             [
              0.1111111111111111,
              "#46039f"
             ],
             [
              0.2222222222222222,
              "#7201a8"
             ],
             [
              0.3333333333333333,
              "#9c179e"
             ],
             [
              0.4444444444444444,
              "#bd3786"
             ],
             [
              0.5555555555555556,
              "#d8576b"
             ],
             [
              0.6666666666666666,
              "#ed7953"
             ],
             [
              0.7777777777777778,
              "#fb9f3a"
             ],
             [
              0.8888888888888888,
              "#fdca26"
             ],
             [
              1,
              "#f0f921"
             ]
            ],
            "type": "contour"
           }
          ],
          "contourcarpet": [
           {
            "colorbar": {
             "outlinewidth": 0,
             "ticks": ""
            },
            "type": "contourcarpet"
           }
          ],
          "heatmap": [
           {
            "colorbar": {
             "outlinewidth": 0,
             "ticks": ""
            },
            "colorscale": [
             [
              0,
              "#0d0887"
             ],
             [
              0.1111111111111111,
              "#46039f"
             ],
             [
              0.2222222222222222,
              "#7201a8"
             ],
             [
              0.3333333333333333,
              "#9c179e"
             ],
             [
              0.4444444444444444,
              "#bd3786"
             ],
             [
              0.5555555555555556,
              "#d8576b"
             ],
             [
              0.6666666666666666,
              "#ed7953"
             ],
             [
              0.7777777777777778,
              "#fb9f3a"
             ],
             [
              0.8888888888888888,
              "#fdca26"
             ],
             [
              1,
              "#f0f921"
             ]
            ],
            "type": "heatmap"
           }
          ],
          "heatmapgl": [
           {
            "colorbar": {
             "outlinewidth": 0,
             "ticks": ""
            },
            "colorscale": [
             [
              0,
              "#0d0887"
             ],
             [
              0.1111111111111111,
              "#46039f"
             ],
             [
              0.2222222222222222,
              "#7201a8"
             ],
             [
              0.3333333333333333,
              "#9c179e"
             ],
             [
              0.4444444444444444,
              "#bd3786"
             ],
             [
              0.5555555555555556,
              "#d8576b"
             ],
             [
              0.6666666666666666,
              "#ed7953"
             ],
             [
              0.7777777777777778,
              "#fb9f3a"
             ],
             [
              0.8888888888888888,
              "#fdca26"
             ],
             [
              1,
              "#f0f921"
             ]
            ],
            "type": "heatmapgl"
           }
          ],
          "histogram": [
           {
            "marker": {
             "colorbar": {
              "outlinewidth": 0,
              "ticks": ""
             }
            },
            "type": "histogram"
           }
          ],
          "histogram2d": [
           {
            "colorbar": {
             "outlinewidth": 0,
             "ticks": ""
            },
            "colorscale": [
             [
              0,
              "#0d0887"
             ],
             [
              0.1111111111111111,
              "#46039f"
             ],
             [
              0.2222222222222222,
              "#7201a8"
             ],
             [
              0.3333333333333333,
              "#9c179e"
             ],
             [
              0.4444444444444444,
              "#bd3786"
             ],
             [
              0.5555555555555556,
              "#d8576b"
             ],
             [
              0.6666666666666666,
              "#ed7953"
             ],
             [
              0.7777777777777778,
              "#fb9f3a"
             ],
             [
              0.8888888888888888,
              "#fdca26"
             ],
             [
              1,
              "#f0f921"
             ]
            ],
            "type": "histogram2d"
           }
          ],
          "histogram2dcontour": [
           {
            "colorbar": {
             "outlinewidth": 0,
             "ticks": ""
            },
            "colorscale": [
             [
              0,
              "#0d0887"
             ],
             [
              0.1111111111111111,
              "#46039f"
             ],
             [
              0.2222222222222222,
              "#7201a8"
             ],
             [
              0.3333333333333333,
              "#9c179e"
             ],
             [
              0.4444444444444444,
              "#bd3786"
             ],
             [
              0.5555555555555556,
              "#d8576b"
             ],
             [
              0.6666666666666666,
              "#ed7953"
             ],
             [
              0.7777777777777778,
              "#fb9f3a"
             ],
             [
              0.8888888888888888,
              "#fdca26"
             ],
             [
              1,
              "#f0f921"
             ]
            ],
            "type": "histogram2dcontour"
           }
          ],
          "mesh3d": [
           {
            "colorbar": {
             "outlinewidth": 0,
             "ticks": ""
            },
            "type": "mesh3d"
           }
          ],
          "parcoords": [
           {
            "line": {
             "colorbar": {
              "outlinewidth": 0,
              "ticks": ""
             }
            },
            "type": "parcoords"
           }
          ],
          "pie": [
           {
            "automargin": true,
            "type": "pie"
           }
          ],
          "scatter": [
           {
            "marker": {
             "colorbar": {
              "outlinewidth": 0,
              "ticks": ""
             }
            },
            "type": "scatter"
           }
          ],
          "scatter3d": [
           {
            "line": {
             "colorbar": {
              "outlinewidth": 0,
              "ticks": ""
             }
            },
            "marker": {
             "colorbar": {
              "outlinewidth": 0,
              "ticks": ""
             }
            },
            "type": "scatter3d"
           }
          ],
          "scattercarpet": [
           {
            "marker": {
             "colorbar": {
              "outlinewidth": 0,
              "ticks": ""
             }
            },
            "type": "scattercarpet"
           }
          ],
          "scattergeo": [
           {
            "marker": {
             "colorbar": {
              "outlinewidth": 0,
              "ticks": ""
             }
            },
            "type": "scattergeo"
           }
          ],
          "scattergl": [
           {
            "marker": {
             "colorbar": {
              "outlinewidth": 0,
              "ticks": ""
             }
            },
            "type": "scattergl"
           }
          ],
          "scattermapbox": [
           {
            "marker": {
             "colorbar": {
              "outlinewidth": 0,
              "ticks": ""
             }
            },
            "type": "scattermapbox"
           }
          ],
          "scatterpolar": [
           {
            "marker": {
             "colorbar": {
              "outlinewidth": 0,
              "ticks": ""
             }
            },
            "type": "scatterpolar"
           }
          ],
          "scatterpolargl": [
           {
            "marker": {
             "colorbar": {
              "outlinewidth": 0,
              "ticks": ""
             }
            },
            "type": "scatterpolargl"
           }
          ],
          "scatterternary": [
           {
            "marker": {
             "colorbar": {
              "outlinewidth": 0,
              "ticks": ""
             }
            },
            "type": "scatterternary"
           }
          ],
          "surface": [
           {
            "colorbar": {
             "outlinewidth": 0,
             "ticks": ""
            },
            "colorscale": [
             [
              0,
              "#0d0887"
             ],
             [
              0.1111111111111111,
              "#46039f"
             ],
             [
              0.2222222222222222,
              "#7201a8"
             ],
             [
              0.3333333333333333,
              "#9c179e"
             ],
             [
              0.4444444444444444,
              "#bd3786"
             ],
             [
              0.5555555555555556,
              "#d8576b"
             ],
             [
              0.6666666666666666,
              "#ed7953"
             ],
             [
              0.7777777777777778,
              "#fb9f3a"
             ],
             [
              0.8888888888888888,
              "#fdca26"
             ],
             [
              1,
              "#f0f921"
             ]
            ],
            "type": "surface"
           }
          ],
          "table": [
           {
            "cells": {
             "fill": {
              "color": "#EBF0F8"
             },
             "line": {
              "color": "white"
             }
            },
            "header": {
             "fill": {
              "color": "#C8D4E3"
             },
             "line": {
              "color": "white"
             }
            },
            "type": "table"
           }
          ]
         },
         "layout": {
          "annotationdefaults": {
           "arrowcolor": "#2a3f5f",
           "arrowhead": 0,
           "arrowwidth": 1
          },
          "coloraxis": {
           "colorbar": {
            "outlinewidth": 0,
            "ticks": ""
           }
          },
          "colorscale": {
           "diverging": [
            [
             0,
             "#8e0152"
            ],
            [
             0.1,
             "#c51b7d"
            ],
            [
             0.2,
             "#de77ae"
            ],
            [
             0.3,
             "#f1b6da"
            ],
            [
             0.4,
             "#fde0ef"
            ],
            [
             0.5,
             "#f7f7f7"
            ],
            [
             0.6,
             "#e6f5d0"
            ],
            [
             0.7,
             "#b8e186"
            ],
            [
             0.8,
             "#7fbc41"
            ],
            [
             0.9,
             "#4d9221"
            ],
            [
             1,
             "#276419"
            ]
           ],
           "sequential": [
            [
             0,
             "#0d0887"
            ],
            [
             0.1111111111111111,
             "#46039f"
            ],
            [
             0.2222222222222222,
             "#7201a8"
            ],
            [
             0.3333333333333333,
             "#9c179e"
            ],
            [
             0.4444444444444444,
             "#bd3786"
            ],
            [
             0.5555555555555556,
             "#d8576b"
            ],
            [
             0.6666666666666666,
             "#ed7953"
            ],
            [
             0.7777777777777778,
             "#fb9f3a"
            ],
            [
             0.8888888888888888,
             "#fdca26"
            ],
            [
             1,
             "#f0f921"
            ]
           ],
           "sequentialminus": [
            [
             0,
             "#0d0887"
            ],
            [
             0.1111111111111111,
             "#46039f"
            ],
            [
             0.2222222222222222,
             "#7201a8"
            ],
            [
             0.3333333333333333,
             "#9c179e"
            ],
            [
             0.4444444444444444,
             "#bd3786"
            ],
            [
             0.5555555555555556,
             "#d8576b"
            ],
            [
             0.6666666666666666,
             "#ed7953"
            ],
            [
             0.7777777777777778,
             "#fb9f3a"
            ],
            [
             0.8888888888888888,
             "#fdca26"
            ],
            [
             1,
             "#f0f921"
            ]
           ]
          },
          "colorway": [
           "#636efa",
           "#EF553B",
           "#00cc96",
           "#ab63fa",
           "#FFA15A",
           "#19d3f3",
           "#FF6692",
           "#B6E880",
           "#FF97FF",
           "#FECB52"
          ],
          "font": {
           "color": "#2a3f5f"
          },
          "geo": {
           "bgcolor": "white",
           "lakecolor": "white",
           "landcolor": "#E5ECF6",
           "showlakes": true,
           "showland": true,
           "subunitcolor": "white"
          },
          "hoverlabel": {
           "align": "left"
          },
          "hovermode": "closest",
          "mapbox": {
           "style": "light"
          },
          "paper_bgcolor": "white",
          "plot_bgcolor": "#E5ECF6",
          "polar": {
           "angularaxis": {
            "gridcolor": "white",
            "linecolor": "white",
            "ticks": ""
           },
           "bgcolor": "#E5ECF6",
           "radialaxis": {
            "gridcolor": "white",
            "linecolor": "white",
            "ticks": ""
           }
          },
          "scene": {
           "xaxis": {
            "backgroundcolor": "#E5ECF6",
            "gridcolor": "white",
            "gridwidth": 2,
            "linecolor": "white",
            "showbackground": true,
            "ticks": "",
            "zerolinecolor": "white"
           },
           "yaxis": {
            "backgroundcolor": "#E5ECF6",
            "gridcolor": "white",
            "gridwidth": 2,
            "linecolor": "white",
            "showbackground": true,
            "ticks": "",
            "zerolinecolor": "white"
           },
           "zaxis": {
            "backgroundcolor": "#E5ECF6",
            "gridcolor": "white",
            "gridwidth": 2,
            "linecolor": "white",
            "showbackground": true,
            "ticks": "",
            "zerolinecolor": "white"
           }
          },
          "shapedefaults": {
           "line": {
            "color": "#2a3f5f"
           }
          },
          "ternary": {
           "aaxis": {
            "gridcolor": "white",
            "linecolor": "white",
            "ticks": ""
           },
           "baxis": {
            "gridcolor": "white",
            "linecolor": "white",
            "ticks": ""
           },
           "bgcolor": "#E5ECF6",
           "caxis": {
            "gridcolor": "white",
            "linecolor": "white",
            "ticks": ""
           }
          },
          "title": {
           "x": 0.05
          },
          "xaxis": {
           "automargin": true,
           "gridcolor": "white",
           "linecolor": "white",
           "ticks": "",
           "title": {
            "standoff": 15
           },
           "zerolinecolor": "white",
           "zerolinewidth": 2
          },
          "yaxis": {
           "automargin": true,
           "gridcolor": "white",
           "linecolor": "white",
           "ticks": "",
           "title": {
            "standoff": 15
           },
           "zerolinecolor": "white",
           "zerolinewidth": 2
          }
         }
        },
        "title": {
         "text": "Donut chart showing the distribution of the three categories"
        }
       }
      },
      "text/html": [
       "<div>\n",
       "        \n",
       "        \n",
       "            <div id=\"4750f145-1d83-4ee2-b25c-157a5e8bedfc\" class=\"plotly-graph-div\" style=\"height:525px; width:100%;\"></div>\n",
       "            <script type=\"text/javascript\">\n",
       "                require([\"plotly\"], function(Plotly) {\n",
       "                    window.PLOTLYENV=window.PLOTLYENV || {};\n",
       "                    \n",
       "                if (document.getElementById(\"4750f145-1d83-4ee2-b25c-157a5e8bedfc\")) {\n",
       "                    Plotly.newPlot(\n",
       "                        '4750f145-1d83-4ee2-b25c-157a5e8bedfc',\n",
       "                        [{\"hole\": 0.4, \"labels\": [\"CategoryA\", \"CategoryB\", \"CategoryC\"], \"marker\": {\"colors\": [\"#CDDC39\", \"#673AB7\", \"#F44336\"]}, \"type\": \"pie\", \"values\": [54, 41, 64]}],\n",
       "                        {\"template\": {\"data\": {\"bar\": [{\"error_x\": {\"color\": \"#2a3f5f\"}, \"error_y\": {\"color\": \"#2a3f5f\"}, \"marker\": {\"line\": {\"color\": \"#E5ECF6\", \"width\": 0.5}}, \"type\": \"bar\"}], \"barpolar\": [{\"marker\": {\"line\": {\"color\": \"#E5ECF6\", \"width\": 0.5}}, \"type\": \"barpolar\"}], \"carpet\": [{\"aaxis\": {\"endlinecolor\": \"#2a3f5f\", \"gridcolor\": \"white\", \"linecolor\": \"white\", \"minorgridcolor\": \"white\", \"startlinecolor\": \"#2a3f5f\"}, \"baxis\": {\"endlinecolor\": \"#2a3f5f\", \"gridcolor\": \"white\", \"linecolor\": \"white\", \"minorgridcolor\": \"white\", \"startlinecolor\": \"#2a3f5f\"}, \"type\": \"carpet\"}], \"choropleth\": [{\"colorbar\": {\"outlinewidth\": 0, \"ticks\": \"\"}, \"type\": \"choropleth\"}], \"contour\": [{\"colorbar\": {\"outlinewidth\": 0, \"ticks\": \"\"}, \"colorscale\": [[0.0, \"#0d0887\"], [0.1111111111111111, \"#46039f\"], [0.2222222222222222, \"#7201a8\"], [0.3333333333333333, \"#9c179e\"], [0.4444444444444444, \"#bd3786\"], [0.5555555555555556, \"#d8576b\"], [0.6666666666666666, \"#ed7953\"], [0.7777777777777778, \"#fb9f3a\"], [0.8888888888888888, \"#fdca26\"], [1.0, \"#f0f921\"]], \"type\": \"contour\"}], \"contourcarpet\": [{\"colorbar\": {\"outlinewidth\": 0, \"ticks\": \"\"}, \"type\": \"contourcarpet\"}], \"heatmap\": [{\"colorbar\": {\"outlinewidth\": 0, \"ticks\": \"\"}, \"colorscale\": [[0.0, \"#0d0887\"], [0.1111111111111111, \"#46039f\"], [0.2222222222222222, \"#7201a8\"], [0.3333333333333333, \"#9c179e\"], [0.4444444444444444, \"#bd3786\"], [0.5555555555555556, \"#d8576b\"], [0.6666666666666666, \"#ed7953\"], [0.7777777777777778, \"#fb9f3a\"], [0.8888888888888888, \"#fdca26\"], [1.0, \"#f0f921\"]], \"type\": \"heatmap\"}], \"heatmapgl\": [{\"colorbar\": {\"outlinewidth\": 0, \"ticks\": \"\"}, \"colorscale\": [[0.0, \"#0d0887\"], [0.1111111111111111, \"#46039f\"], [0.2222222222222222, \"#7201a8\"], [0.3333333333333333, \"#9c179e\"], [0.4444444444444444, \"#bd3786\"], [0.5555555555555556, \"#d8576b\"], [0.6666666666666666, \"#ed7953\"], [0.7777777777777778, \"#fb9f3a\"], [0.8888888888888888, \"#fdca26\"], [1.0, \"#f0f921\"]], \"type\": \"heatmapgl\"}], \"histogram\": [{\"marker\": {\"colorbar\": {\"outlinewidth\": 0, \"ticks\": \"\"}}, \"type\": \"histogram\"}], \"histogram2d\": [{\"colorbar\": {\"outlinewidth\": 0, \"ticks\": \"\"}, \"colorscale\": [[0.0, \"#0d0887\"], [0.1111111111111111, \"#46039f\"], [0.2222222222222222, \"#7201a8\"], [0.3333333333333333, \"#9c179e\"], [0.4444444444444444, \"#bd3786\"], [0.5555555555555556, \"#d8576b\"], [0.6666666666666666, \"#ed7953\"], [0.7777777777777778, \"#fb9f3a\"], [0.8888888888888888, \"#fdca26\"], [1.0, \"#f0f921\"]], \"type\": \"histogram2d\"}], \"histogram2dcontour\": [{\"colorbar\": {\"outlinewidth\": 0, \"ticks\": \"\"}, \"colorscale\": [[0.0, \"#0d0887\"], [0.1111111111111111, \"#46039f\"], [0.2222222222222222, \"#7201a8\"], [0.3333333333333333, \"#9c179e\"], [0.4444444444444444, \"#bd3786\"], [0.5555555555555556, \"#d8576b\"], [0.6666666666666666, \"#ed7953\"], [0.7777777777777778, \"#fb9f3a\"], [0.8888888888888888, \"#fdca26\"], [1.0, \"#f0f921\"]], \"type\": \"histogram2dcontour\"}], \"mesh3d\": [{\"colorbar\": {\"outlinewidth\": 0, \"ticks\": \"\"}, \"type\": \"mesh3d\"}], \"parcoords\": [{\"line\": {\"colorbar\": {\"outlinewidth\": 0, \"ticks\": \"\"}}, \"type\": \"parcoords\"}], \"pie\": [{\"automargin\": true, \"type\": \"pie\"}], \"scatter\": [{\"marker\": {\"colorbar\": {\"outlinewidth\": 0, \"ticks\": \"\"}}, \"type\": \"scatter\"}], \"scatter3d\": [{\"line\": {\"colorbar\": {\"outlinewidth\": 0, \"ticks\": \"\"}}, \"marker\": {\"colorbar\": {\"outlinewidth\": 0, \"ticks\": \"\"}}, \"type\": \"scatter3d\"}], \"scattercarpet\": [{\"marker\": {\"colorbar\": {\"outlinewidth\": 0, \"ticks\": \"\"}}, \"type\": \"scattercarpet\"}], \"scattergeo\": [{\"marker\": {\"colorbar\": {\"outlinewidth\": 0, \"ticks\": \"\"}}, \"type\": \"scattergeo\"}], \"scattergl\": [{\"marker\": {\"colorbar\": {\"outlinewidth\": 0, \"ticks\": \"\"}}, \"type\": \"scattergl\"}], \"scattermapbox\": [{\"marker\": {\"colorbar\": {\"outlinewidth\": 0, \"ticks\": \"\"}}, \"type\": \"scattermapbox\"}], \"scatterpolar\": [{\"marker\": {\"colorbar\": {\"outlinewidth\": 0, \"ticks\": \"\"}}, \"type\": \"scatterpolar\"}], \"scatterpolargl\": [{\"marker\": {\"colorbar\": {\"outlinewidth\": 0, \"ticks\": \"\"}}, \"type\": \"scatterpolargl\"}], \"scatterternary\": [{\"marker\": {\"colorbar\": {\"outlinewidth\": 0, \"ticks\": \"\"}}, \"type\": \"scatterternary\"}], \"surface\": [{\"colorbar\": {\"outlinewidth\": 0, \"ticks\": \"\"}, \"colorscale\": [[0.0, \"#0d0887\"], [0.1111111111111111, \"#46039f\"], [0.2222222222222222, \"#7201a8\"], [0.3333333333333333, \"#9c179e\"], [0.4444444444444444, \"#bd3786\"], [0.5555555555555556, \"#d8576b\"], [0.6666666666666666, \"#ed7953\"], [0.7777777777777778, \"#fb9f3a\"], [0.8888888888888888, \"#fdca26\"], [1.0, \"#f0f921\"]], \"type\": \"surface\"}], \"table\": [{\"cells\": {\"fill\": {\"color\": \"#EBF0F8\"}, \"line\": {\"color\": \"white\"}}, \"header\": {\"fill\": {\"color\": \"#C8D4E3\"}, \"line\": {\"color\": \"white\"}}, \"type\": \"table\"}]}, \"layout\": {\"annotationdefaults\": {\"arrowcolor\": \"#2a3f5f\", \"arrowhead\": 0, \"arrowwidth\": 1}, \"coloraxis\": {\"colorbar\": {\"outlinewidth\": 0, \"ticks\": \"\"}}, \"colorscale\": {\"diverging\": [[0, \"#8e0152\"], [0.1, \"#c51b7d\"], [0.2, \"#de77ae\"], [0.3, \"#f1b6da\"], [0.4, \"#fde0ef\"], [0.5, \"#f7f7f7\"], [0.6, \"#e6f5d0\"], [0.7, \"#b8e186\"], [0.8, \"#7fbc41\"], [0.9, \"#4d9221\"], [1, \"#276419\"]], \"sequential\": [[0.0, \"#0d0887\"], [0.1111111111111111, \"#46039f\"], [0.2222222222222222, \"#7201a8\"], [0.3333333333333333, \"#9c179e\"], [0.4444444444444444, \"#bd3786\"], [0.5555555555555556, \"#d8576b\"], [0.6666666666666666, \"#ed7953\"], [0.7777777777777778, \"#fb9f3a\"], [0.8888888888888888, \"#fdca26\"], [1.0, \"#f0f921\"]], \"sequentialminus\": [[0.0, \"#0d0887\"], [0.1111111111111111, \"#46039f\"], [0.2222222222222222, \"#7201a8\"], [0.3333333333333333, \"#9c179e\"], [0.4444444444444444, \"#bd3786\"], [0.5555555555555556, \"#d8576b\"], [0.6666666666666666, \"#ed7953\"], [0.7777777777777778, \"#fb9f3a\"], [0.8888888888888888, \"#fdca26\"], [1.0, \"#f0f921\"]]}, \"colorway\": [\"#636efa\", \"#EF553B\", \"#00cc96\", \"#ab63fa\", \"#FFA15A\", \"#19d3f3\", \"#FF6692\", \"#B6E880\", \"#FF97FF\", \"#FECB52\"], \"font\": {\"color\": \"#2a3f5f\"}, \"geo\": {\"bgcolor\": \"white\", \"lakecolor\": \"white\", \"landcolor\": \"#E5ECF6\", \"showlakes\": true, \"showland\": true, \"subunitcolor\": \"white\"}, \"hoverlabel\": {\"align\": \"left\"}, \"hovermode\": \"closest\", \"mapbox\": {\"style\": \"light\"}, \"paper_bgcolor\": \"white\", \"plot_bgcolor\": \"#E5ECF6\", \"polar\": {\"angularaxis\": {\"gridcolor\": \"white\", \"linecolor\": \"white\", \"ticks\": \"\"}, \"bgcolor\": \"#E5ECF6\", \"radialaxis\": {\"gridcolor\": \"white\", \"linecolor\": \"white\", \"ticks\": \"\"}}, \"scene\": {\"xaxis\": {\"backgroundcolor\": \"#E5ECF6\", \"gridcolor\": \"white\", \"gridwidth\": 2, \"linecolor\": \"white\", \"showbackground\": true, \"ticks\": \"\", \"zerolinecolor\": \"white\"}, \"yaxis\": {\"backgroundcolor\": \"#E5ECF6\", \"gridcolor\": \"white\", \"gridwidth\": 2, \"linecolor\": \"white\", \"showbackground\": true, \"ticks\": \"\", \"zerolinecolor\": \"white\"}, \"zaxis\": {\"backgroundcolor\": \"#E5ECF6\", \"gridcolor\": \"white\", \"gridwidth\": 2, \"linecolor\": \"white\", \"showbackground\": true, \"ticks\": \"\", \"zerolinecolor\": \"white\"}}, \"shapedefaults\": {\"line\": {\"color\": \"#2a3f5f\"}}, \"ternary\": {\"aaxis\": {\"gridcolor\": \"white\", \"linecolor\": \"white\", \"ticks\": \"\"}, \"baxis\": {\"gridcolor\": \"white\", \"linecolor\": \"white\", \"ticks\": \"\"}, \"bgcolor\": \"#E5ECF6\", \"caxis\": {\"gridcolor\": \"white\", \"linecolor\": \"white\", \"ticks\": \"\"}}, \"title\": {\"x\": 0.05}, \"xaxis\": {\"automargin\": true, \"gridcolor\": \"white\", \"linecolor\": \"white\", \"ticks\": \"\", \"title\": {\"standoff\": 15}, \"zerolinecolor\": \"white\", \"zerolinewidth\": 2}, \"yaxis\": {\"automargin\": true, \"gridcolor\": \"white\", \"linecolor\": \"white\", \"ticks\": \"\", \"title\": {\"standoff\": 15}, \"zerolinecolor\": \"white\", \"zerolinewidth\": 2}}}, \"title\": {\"text\": \"Donut chart showing the distribution of the three categories\"}},\n",
       "                        {\"responsive\": true}\n",
       "                    ).then(function(){\n",
       "                            \n",
       "var gd = document.getElementById('4750f145-1d83-4ee2-b25c-157a5e8bedfc');\n",
       "var x = new MutationObserver(function (mutations, observer) {{\n",
       "        var display = window.getComputedStyle(gd).display;\n",
       "        if (!display || display === 'none') {{\n",
       "            console.log([gd, 'removed!']);\n",
       "            Plotly.purge(gd);\n",
       "            observer.disconnect();\n",
       "        }}\n",
       "}});\n",
       "\n",
       "// Listen for the removal of the full notebook cells\n",
       "var notebookContainer = gd.closest('#notebook-container');\n",
       "if (notebookContainer) {{\n",
       "    x.observe(notebookContainer, {childList: true});\n",
       "}}\n",
       "\n",
       "// Listen for the clearing of the current output cell\n",
       "var outputEl = gd.closest('.output');\n",
       "if (outputEl) {{\n",
       "    x.observe(outputEl, {childList: true});\n",
       "}}\n",
       "\n",
       "                        })\n",
       "                };\n",
       "                });\n",
       "            </script>\n",
       "        </div>"
      ]
     },
     "metadata": {},
     "output_type": "display_data"
    }
   ],
   "source": [
    "plot_donut = df.groupby('category').count().reset_index().rename(columns={'date': 'category_count'})\n",
    "\n",
    "trace = go.Pie(labels=plot_donut['category'], values=plot_donut['category_count'], hole=.4, marker={'colors': ['#CDDC39', '#673AB7', '#F44336']})\n",
    "fig = go.Figure(data = [trace])\n",
    "fig.update_layout(title_text='Donut chart showing the distribution of the three categories')\n",
    "iplot(fig)\n"
   ]
  },
  {
   "cell_type": "markdown",
   "metadata": {},
   "source": [
    "## 2.  Bar chart"
   ]
  },
  {
   "cell_type": "markdown",
   "metadata": {},
   "source": [
    "### 2.1 Simple Bar Chart"
   ]
  },
  {
   "cell_type": "code",
   "execution_count": 5,
   "metadata": {},
   "outputs": [
    {
     "data": {
      "application/vnd.plotly.v1+json": {
       "config": {
        "linkText": "Export to plot.ly",
        "plotlyServerURL": "https://plot.ly",
        "showLink": false
       },
       "data": [
        {
         "type": "bar",
         "x": [
          "CategoryA",
          "CategoryB",
          "CategoryC"
         ],
         "y": [
          54,
          41,
          64
         ]
        }
       ],
       "layout": {
        "template": {
         "data": {
          "bar": [
           {
            "error_x": {
             "color": "#2a3f5f"
            },
            "error_y": {
             "color": "#2a3f5f"
            },
            "marker": {
             "line": {
              "color": "#E5ECF6",
              "width": 0.5
             }
            },
            "type": "bar"
           }
          ],
          "barpolar": [
           {
            "marker": {
             "line": {
              "color": "#E5ECF6",
              "width": 0.5
             }
            },
            "type": "barpolar"
           }
          ],
          "carpet": [
           {
            "aaxis": {
             "endlinecolor": "#2a3f5f",
             "gridcolor": "white",
             "linecolor": "white",
             "minorgridcolor": "white",
             "startlinecolor": "#2a3f5f"
            },
            "baxis": {
             "endlinecolor": "#2a3f5f",
             "gridcolor": "white",
             "linecolor": "white",
             "minorgridcolor": "white",
             "startlinecolor": "#2a3f5f"
            },
            "type": "carpet"
           }
          ],
          "choropleth": [
           {
            "colorbar": {
             "outlinewidth": 0,
             "ticks": ""
            },
            "type": "choropleth"
           }
          ],
          "contour": [
           {
            "colorbar": {
             "outlinewidth": 0,
             "ticks": ""
            },
            "colorscale": [
             [
              0,
              "#0d0887"
             ],
             [
              0.1111111111111111,
              "#46039f"
             ],
             [
              0.2222222222222222,
              "#7201a8"
             ],
             [
              0.3333333333333333,
              "#9c179e"
             ],
             [
              0.4444444444444444,
              "#bd3786"
             ],
             [
              0.5555555555555556,
              "#d8576b"
             ],
             [
              0.6666666666666666,
              "#ed7953"
             ],
             [
              0.7777777777777778,
              "#fb9f3a"
             ],
             [
              0.8888888888888888,
              "#fdca26"
             ],
             [
              1,
              "#f0f921"
             ]
            ],
            "type": "contour"
           }
          ],
          "contourcarpet": [
           {
            "colorbar": {
             "outlinewidth": 0,
             "ticks": ""
            },
            "type": "contourcarpet"
           }
          ],
          "heatmap": [
           {
            "colorbar": {
             "outlinewidth": 0,
             "ticks": ""
            },
            "colorscale": [
             [
              0,
              "#0d0887"
             ],
             [
              0.1111111111111111,
              "#46039f"
             ],
             [
              0.2222222222222222,
              "#7201a8"
             ],
             [
              0.3333333333333333,
              "#9c179e"
             ],
             [
              0.4444444444444444,
              "#bd3786"
             ],
             [
              0.5555555555555556,
              "#d8576b"
             ],
             [
              0.6666666666666666,
              "#ed7953"
             ],
             [
              0.7777777777777778,
              "#fb9f3a"
             ],
             [
              0.8888888888888888,
              "#fdca26"
             ],
             [
              1,
              "#f0f921"
             ]
            ],
            "type": "heatmap"
           }
          ],
          "heatmapgl": [
           {
            "colorbar": {
             "outlinewidth": 0,
             "ticks": ""
            },
            "colorscale": [
             [
              0,
              "#0d0887"
             ],
             [
              0.1111111111111111,
              "#46039f"
             ],
             [
              0.2222222222222222,
              "#7201a8"
             ],
             [
              0.3333333333333333,
              "#9c179e"
             ],
             [
              0.4444444444444444,
              "#bd3786"
             ],
             [
              0.5555555555555556,
              "#d8576b"
             ],
             [
              0.6666666666666666,
              "#ed7953"
             ],
             [
              0.7777777777777778,
              "#fb9f3a"
             ],
             [
              0.8888888888888888,
              "#fdca26"
             ],
             [
              1,
              "#f0f921"
             ]
            ],
            "type": "heatmapgl"
           }
          ],
          "histogram": [
           {
            "marker": {
             "colorbar": {
              "outlinewidth": 0,
              "ticks": ""
             }
            },
            "type": "histogram"
           }
          ],
          "histogram2d": [
           {
            "colorbar": {
             "outlinewidth": 0,
             "ticks": ""
            },
            "colorscale": [
             [
              0,
              "#0d0887"
             ],
             [
              0.1111111111111111,
              "#46039f"
             ],
             [
              0.2222222222222222,
              "#7201a8"
             ],
             [
              0.3333333333333333,
              "#9c179e"
             ],
             [
              0.4444444444444444,
              "#bd3786"
             ],
             [
              0.5555555555555556,
              "#d8576b"
             ],
             [
              0.6666666666666666,
              "#ed7953"
             ],
             [
              0.7777777777777778,
              "#fb9f3a"
             ],
             [
              0.8888888888888888,
              "#fdca26"
             ],
             [
              1,
              "#f0f921"
             ]
            ],
            "type": "histogram2d"
           }
          ],
          "histogram2dcontour": [
           {
            "colorbar": {
             "outlinewidth": 0,
             "ticks": ""
            },
            "colorscale": [
             [
              0,
              "#0d0887"
             ],
             [
              0.1111111111111111,
              "#46039f"
             ],
             [
              0.2222222222222222,
              "#7201a8"
             ],
             [
              0.3333333333333333,
              "#9c179e"
             ],
             [
              0.4444444444444444,
              "#bd3786"
             ],
             [
              0.5555555555555556,
              "#d8576b"
             ],
             [
              0.6666666666666666,
              "#ed7953"
             ],
             [
              0.7777777777777778,
              "#fb9f3a"
             ],
             [
              0.8888888888888888,
              "#fdca26"
             ],
             [
              1,
              "#f0f921"
             ]
            ],
            "type": "histogram2dcontour"
           }
          ],
          "mesh3d": [
           {
            "colorbar": {
             "outlinewidth": 0,
             "ticks": ""
            },
            "type": "mesh3d"
           }
          ],
          "parcoords": [
           {
            "line": {
             "colorbar": {
              "outlinewidth": 0,
              "ticks": ""
             }
            },
            "type": "parcoords"
           }
          ],
          "pie": [
           {
            "automargin": true,
            "type": "pie"
           }
          ],
          "scatter": [
           {
            "marker": {
             "colorbar": {
              "outlinewidth": 0,
              "ticks": ""
             }
            },
            "type": "scatter"
           }
          ],
          "scatter3d": [
           {
            "line": {
             "colorbar": {
              "outlinewidth": 0,
              "ticks": ""
             }
            },
            "marker": {
             "colorbar": {
              "outlinewidth": 0,
              "ticks": ""
             }
            },
            "type": "scatter3d"
           }
          ],
          "scattercarpet": [
           {
            "marker": {
             "colorbar": {
              "outlinewidth": 0,
              "ticks": ""
             }
            },
            "type": "scattercarpet"
           }
          ],
          "scattergeo": [
           {
            "marker": {
             "colorbar": {
              "outlinewidth": 0,
              "ticks": ""
             }
            },
            "type": "scattergeo"
           }
          ],
          "scattergl": [
           {
            "marker": {
             "colorbar": {
              "outlinewidth": 0,
              "ticks": ""
             }
            },
            "type": "scattergl"
           }
          ],
          "scattermapbox": [
           {
            "marker": {
             "colorbar": {
              "outlinewidth": 0,
              "ticks": ""
             }
            },
            "type": "scattermapbox"
           }
          ],
          "scatterpolar": [
           {
            "marker": {
             "colorbar": {
              "outlinewidth": 0,
              "ticks": ""
             }
            },
            "type": "scatterpolar"
           }
          ],
          "scatterpolargl": [
           {
            "marker": {
             "colorbar": {
              "outlinewidth": 0,
              "ticks": ""
             }
            },
            "type": "scatterpolargl"
           }
          ],
          "scatterternary": [
           {
            "marker": {
             "colorbar": {
              "outlinewidth": 0,
              "ticks": ""
             }
            },
            "type": "scatterternary"
           }
          ],
          "surface": [
           {
            "colorbar": {
             "outlinewidth": 0,
             "ticks": ""
            },
            "colorscale": [
             [
              0,
              "#0d0887"
             ],
             [
              0.1111111111111111,
              "#46039f"
             ],
             [
              0.2222222222222222,
              "#7201a8"
             ],
             [
              0.3333333333333333,
              "#9c179e"
             ],
             [
              0.4444444444444444,
              "#bd3786"
             ],
             [
              0.5555555555555556,
              "#d8576b"
             ],
             [
              0.6666666666666666,
              "#ed7953"
             ],
             [
              0.7777777777777778,
              "#fb9f3a"
             ],
             [
              0.8888888888888888,
              "#fdca26"
             ],
             [
              1,
              "#f0f921"
             ]
            ],
            "type": "surface"
           }
          ],
          "table": [
           {
            "cells": {
             "fill": {
              "color": "#EBF0F8"
             },
             "line": {
              "color": "white"
             }
            },
            "header": {
             "fill": {
              "color": "#C8D4E3"
             },
             "line": {
              "color": "white"
             }
            },
            "type": "table"
           }
          ]
         },
         "layout": {
          "annotationdefaults": {
           "arrowcolor": "#2a3f5f",
           "arrowhead": 0,
           "arrowwidth": 1
          },
          "coloraxis": {
           "colorbar": {
            "outlinewidth": 0,
            "ticks": ""
           }
          },
          "colorscale": {
           "diverging": [
            [
             0,
             "#8e0152"
            ],
            [
             0.1,
             "#c51b7d"
            ],
            [
             0.2,
             "#de77ae"
            ],
            [
             0.3,
             "#f1b6da"
            ],
            [
             0.4,
             "#fde0ef"
            ],
            [
             0.5,
             "#f7f7f7"
            ],
            [
             0.6,
             "#e6f5d0"
            ],
            [
             0.7,
             "#b8e186"
            ],
            [
             0.8,
             "#7fbc41"
            ],
            [
             0.9,
             "#4d9221"
            ],
            [
             1,
             "#276419"
            ]
           ],
           "sequential": [
            [
             0,
             "#0d0887"
            ],
            [
             0.1111111111111111,
             "#46039f"
            ],
            [
             0.2222222222222222,
             "#7201a8"
            ],
            [
             0.3333333333333333,
             "#9c179e"
            ],
            [
             0.4444444444444444,
             "#bd3786"
            ],
            [
             0.5555555555555556,
             "#d8576b"
            ],
            [
             0.6666666666666666,
             "#ed7953"
            ],
            [
             0.7777777777777778,
             "#fb9f3a"
            ],
            [
             0.8888888888888888,
             "#fdca26"
            ],
            [
             1,
             "#f0f921"
            ]
           ],
           "sequentialminus": [
            [
             0,
             "#0d0887"
            ],
            [
             0.1111111111111111,
             "#46039f"
            ],
            [
             0.2222222222222222,
             "#7201a8"
            ],
            [
             0.3333333333333333,
             "#9c179e"
            ],
            [
             0.4444444444444444,
             "#bd3786"
            ],
            [
             0.5555555555555556,
             "#d8576b"
            ],
            [
             0.6666666666666666,
             "#ed7953"
            ],
            [
             0.7777777777777778,
             "#fb9f3a"
            ],
            [
             0.8888888888888888,
             "#fdca26"
            ],
            [
             1,
             "#f0f921"
            ]
           ]
          },
          "colorway": [
           "#636efa",
           "#EF553B",
           "#00cc96",
           "#ab63fa",
           "#FFA15A",
           "#19d3f3",
           "#FF6692",
           "#B6E880",
           "#FF97FF",
           "#FECB52"
          ],
          "font": {
           "color": "#2a3f5f"
          },
          "geo": {
           "bgcolor": "white",
           "lakecolor": "white",
           "landcolor": "#E5ECF6",
           "showlakes": true,
           "showland": true,
           "subunitcolor": "white"
          },
          "hoverlabel": {
           "align": "left"
          },
          "hovermode": "closest",
          "mapbox": {
           "style": "light"
          },
          "paper_bgcolor": "white",
          "plot_bgcolor": "#E5ECF6",
          "polar": {
           "angularaxis": {
            "gridcolor": "white",
            "linecolor": "white",
            "ticks": ""
           },
           "bgcolor": "#E5ECF6",
           "radialaxis": {
            "gridcolor": "white",
            "linecolor": "white",
            "ticks": ""
           }
          },
          "scene": {
           "xaxis": {
            "backgroundcolor": "#E5ECF6",
            "gridcolor": "white",
            "gridwidth": 2,
            "linecolor": "white",
            "showbackground": true,
            "ticks": "",
            "zerolinecolor": "white"
           },
           "yaxis": {
            "backgroundcolor": "#E5ECF6",
            "gridcolor": "white",
            "gridwidth": 2,
            "linecolor": "white",
            "showbackground": true,
            "ticks": "",
            "zerolinecolor": "white"
           },
           "zaxis": {
            "backgroundcolor": "#E5ECF6",
            "gridcolor": "white",
            "gridwidth": 2,
            "linecolor": "white",
            "showbackground": true,
            "ticks": "",
            "zerolinecolor": "white"
           }
          },
          "shapedefaults": {
           "line": {
            "color": "#2a3f5f"
           }
          },
          "ternary": {
           "aaxis": {
            "gridcolor": "white",
            "linecolor": "white",
            "ticks": ""
           },
           "baxis": {
            "gridcolor": "white",
            "linecolor": "white",
            "ticks": ""
           },
           "bgcolor": "#E5ECF6",
           "caxis": {
            "gridcolor": "white",
            "linecolor": "white",
            "ticks": ""
           }
          },
          "title": {
           "x": 0.05
          },
          "xaxis": {
           "automargin": true,
           "gridcolor": "white",
           "linecolor": "white",
           "ticks": "",
           "title": {
            "standoff": 15
           },
           "zerolinecolor": "white",
           "zerolinewidth": 2
          },
          "yaxis": {
           "automargin": true,
           "gridcolor": "white",
           "linecolor": "white",
           "ticks": "",
           "title": {
            "standoff": 15
           },
           "zerolinecolor": "white",
           "zerolinewidth": 2
          }
         }
        },
        "title": {
         "text": "Bar chart showing the distribution of the three categories"
        }
       }
      },
      "text/html": [
       "<div>\n",
       "        \n",
       "        \n",
       "            <div id=\"e8969b19-6d66-4df2-ae24-fd2f9ab3a671\" class=\"plotly-graph-div\" style=\"height:525px; width:100%;\"></div>\n",
       "            <script type=\"text/javascript\">\n",
       "                require([\"plotly\"], function(Plotly) {\n",
       "                    window.PLOTLYENV=window.PLOTLYENV || {};\n",
       "                    \n",
       "                if (document.getElementById(\"e8969b19-6d66-4df2-ae24-fd2f9ab3a671\")) {\n",
       "                    Plotly.newPlot(\n",
       "                        'e8969b19-6d66-4df2-ae24-fd2f9ab3a671',\n",
       "                        [{\"type\": \"bar\", \"x\": [\"CategoryA\", \"CategoryB\", \"CategoryC\"], \"y\": [54, 41, 64]}],\n",
       "                        {\"template\": {\"data\": {\"bar\": [{\"error_x\": {\"color\": \"#2a3f5f\"}, \"error_y\": {\"color\": \"#2a3f5f\"}, \"marker\": {\"line\": {\"color\": \"#E5ECF6\", \"width\": 0.5}}, \"type\": \"bar\"}], \"barpolar\": [{\"marker\": {\"line\": {\"color\": \"#E5ECF6\", \"width\": 0.5}}, \"type\": \"barpolar\"}], \"carpet\": [{\"aaxis\": {\"endlinecolor\": \"#2a3f5f\", \"gridcolor\": \"white\", \"linecolor\": \"white\", \"minorgridcolor\": \"white\", \"startlinecolor\": \"#2a3f5f\"}, \"baxis\": {\"endlinecolor\": \"#2a3f5f\", \"gridcolor\": \"white\", \"linecolor\": \"white\", \"minorgridcolor\": \"white\", \"startlinecolor\": \"#2a3f5f\"}, \"type\": \"carpet\"}], \"choropleth\": [{\"colorbar\": {\"outlinewidth\": 0, \"ticks\": \"\"}, \"type\": \"choropleth\"}], \"contour\": [{\"colorbar\": {\"outlinewidth\": 0, \"ticks\": \"\"}, \"colorscale\": [[0.0, \"#0d0887\"], [0.1111111111111111, \"#46039f\"], [0.2222222222222222, \"#7201a8\"], [0.3333333333333333, \"#9c179e\"], [0.4444444444444444, \"#bd3786\"], [0.5555555555555556, \"#d8576b\"], [0.6666666666666666, \"#ed7953\"], [0.7777777777777778, \"#fb9f3a\"], [0.8888888888888888, \"#fdca26\"], [1.0, \"#f0f921\"]], \"type\": \"contour\"}], \"contourcarpet\": [{\"colorbar\": {\"outlinewidth\": 0, \"ticks\": \"\"}, \"type\": \"contourcarpet\"}], \"heatmap\": [{\"colorbar\": {\"outlinewidth\": 0, \"ticks\": \"\"}, \"colorscale\": [[0.0, \"#0d0887\"], [0.1111111111111111, \"#46039f\"], [0.2222222222222222, \"#7201a8\"], [0.3333333333333333, \"#9c179e\"], [0.4444444444444444, \"#bd3786\"], [0.5555555555555556, \"#d8576b\"], [0.6666666666666666, \"#ed7953\"], [0.7777777777777778, \"#fb9f3a\"], [0.8888888888888888, \"#fdca26\"], [1.0, \"#f0f921\"]], \"type\": \"heatmap\"}], \"heatmapgl\": [{\"colorbar\": {\"outlinewidth\": 0, \"ticks\": \"\"}, \"colorscale\": [[0.0, \"#0d0887\"], [0.1111111111111111, \"#46039f\"], [0.2222222222222222, \"#7201a8\"], [0.3333333333333333, \"#9c179e\"], [0.4444444444444444, \"#bd3786\"], [0.5555555555555556, \"#d8576b\"], [0.6666666666666666, \"#ed7953\"], [0.7777777777777778, \"#fb9f3a\"], [0.8888888888888888, \"#fdca26\"], [1.0, \"#f0f921\"]], \"type\": \"heatmapgl\"}], \"histogram\": [{\"marker\": {\"colorbar\": {\"outlinewidth\": 0, \"ticks\": \"\"}}, \"type\": \"histogram\"}], \"histogram2d\": [{\"colorbar\": {\"outlinewidth\": 0, \"ticks\": \"\"}, \"colorscale\": [[0.0, \"#0d0887\"], [0.1111111111111111, \"#46039f\"], [0.2222222222222222, \"#7201a8\"], [0.3333333333333333, \"#9c179e\"], [0.4444444444444444, \"#bd3786\"], [0.5555555555555556, \"#d8576b\"], [0.6666666666666666, \"#ed7953\"], [0.7777777777777778, \"#fb9f3a\"], [0.8888888888888888, \"#fdca26\"], [1.0, \"#f0f921\"]], \"type\": \"histogram2d\"}], \"histogram2dcontour\": [{\"colorbar\": {\"outlinewidth\": 0, \"ticks\": \"\"}, \"colorscale\": [[0.0, \"#0d0887\"], [0.1111111111111111, \"#46039f\"], [0.2222222222222222, \"#7201a8\"], [0.3333333333333333, \"#9c179e\"], [0.4444444444444444, \"#bd3786\"], [0.5555555555555556, \"#d8576b\"], [0.6666666666666666, \"#ed7953\"], [0.7777777777777778, \"#fb9f3a\"], [0.8888888888888888, \"#fdca26\"], [1.0, \"#f0f921\"]], \"type\": \"histogram2dcontour\"}], \"mesh3d\": [{\"colorbar\": {\"outlinewidth\": 0, \"ticks\": \"\"}, \"type\": \"mesh3d\"}], \"parcoords\": [{\"line\": {\"colorbar\": {\"outlinewidth\": 0, \"ticks\": \"\"}}, \"type\": \"parcoords\"}], \"pie\": [{\"automargin\": true, \"type\": \"pie\"}], \"scatter\": [{\"marker\": {\"colorbar\": {\"outlinewidth\": 0, \"ticks\": \"\"}}, \"type\": \"scatter\"}], \"scatter3d\": [{\"line\": {\"colorbar\": {\"outlinewidth\": 0, \"ticks\": \"\"}}, \"marker\": {\"colorbar\": {\"outlinewidth\": 0, \"ticks\": \"\"}}, \"type\": \"scatter3d\"}], \"scattercarpet\": [{\"marker\": {\"colorbar\": {\"outlinewidth\": 0, \"ticks\": \"\"}}, \"type\": \"scattercarpet\"}], \"scattergeo\": [{\"marker\": {\"colorbar\": {\"outlinewidth\": 0, \"ticks\": \"\"}}, \"type\": \"scattergeo\"}], \"scattergl\": [{\"marker\": {\"colorbar\": {\"outlinewidth\": 0, \"ticks\": \"\"}}, \"type\": \"scattergl\"}], \"scattermapbox\": [{\"marker\": {\"colorbar\": {\"outlinewidth\": 0, \"ticks\": \"\"}}, \"type\": \"scattermapbox\"}], \"scatterpolar\": [{\"marker\": {\"colorbar\": {\"outlinewidth\": 0, \"ticks\": \"\"}}, \"type\": \"scatterpolar\"}], \"scatterpolargl\": [{\"marker\": {\"colorbar\": {\"outlinewidth\": 0, \"ticks\": \"\"}}, \"type\": \"scatterpolargl\"}], \"scatterternary\": [{\"marker\": {\"colorbar\": {\"outlinewidth\": 0, \"ticks\": \"\"}}, \"type\": \"scatterternary\"}], \"surface\": [{\"colorbar\": {\"outlinewidth\": 0, \"ticks\": \"\"}, \"colorscale\": [[0.0, \"#0d0887\"], [0.1111111111111111, \"#46039f\"], [0.2222222222222222, \"#7201a8\"], [0.3333333333333333, \"#9c179e\"], [0.4444444444444444, \"#bd3786\"], [0.5555555555555556, \"#d8576b\"], [0.6666666666666666, \"#ed7953\"], [0.7777777777777778, \"#fb9f3a\"], [0.8888888888888888, \"#fdca26\"], [1.0, \"#f0f921\"]], \"type\": \"surface\"}], \"table\": [{\"cells\": {\"fill\": {\"color\": \"#EBF0F8\"}, \"line\": {\"color\": \"white\"}}, \"header\": {\"fill\": {\"color\": \"#C8D4E3\"}, \"line\": {\"color\": \"white\"}}, \"type\": \"table\"}]}, \"layout\": {\"annotationdefaults\": {\"arrowcolor\": \"#2a3f5f\", \"arrowhead\": 0, \"arrowwidth\": 1}, \"coloraxis\": {\"colorbar\": {\"outlinewidth\": 0, \"ticks\": \"\"}}, \"colorscale\": {\"diverging\": [[0, \"#8e0152\"], [0.1, \"#c51b7d\"], [0.2, \"#de77ae\"], [0.3, \"#f1b6da\"], [0.4, \"#fde0ef\"], [0.5, \"#f7f7f7\"], [0.6, \"#e6f5d0\"], [0.7, \"#b8e186\"], [0.8, \"#7fbc41\"], [0.9, \"#4d9221\"], [1, \"#276419\"]], \"sequential\": [[0.0, \"#0d0887\"], [0.1111111111111111, \"#46039f\"], [0.2222222222222222, \"#7201a8\"], [0.3333333333333333, \"#9c179e\"], [0.4444444444444444, \"#bd3786\"], [0.5555555555555556, \"#d8576b\"], [0.6666666666666666, \"#ed7953\"], [0.7777777777777778, \"#fb9f3a\"], [0.8888888888888888, \"#fdca26\"], [1.0, \"#f0f921\"]], \"sequentialminus\": [[0.0, \"#0d0887\"], [0.1111111111111111, \"#46039f\"], [0.2222222222222222, \"#7201a8\"], [0.3333333333333333, \"#9c179e\"], [0.4444444444444444, \"#bd3786\"], [0.5555555555555556, \"#d8576b\"], [0.6666666666666666, \"#ed7953\"], [0.7777777777777778, \"#fb9f3a\"], [0.8888888888888888, \"#fdca26\"], [1.0, \"#f0f921\"]]}, \"colorway\": [\"#636efa\", \"#EF553B\", \"#00cc96\", \"#ab63fa\", \"#FFA15A\", \"#19d3f3\", \"#FF6692\", \"#B6E880\", \"#FF97FF\", \"#FECB52\"], \"font\": {\"color\": \"#2a3f5f\"}, \"geo\": {\"bgcolor\": \"white\", \"lakecolor\": \"white\", \"landcolor\": \"#E5ECF6\", \"showlakes\": true, \"showland\": true, \"subunitcolor\": \"white\"}, \"hoverlabel\": {\"align\": \"left\"}, \"hovermode\": \"closest\", \"mapbox\": {\"style\": \"light\"}, \"paper_bgcolor\": \"white\", \"plot_bgcolor\": \"#E5ECF6\", \"polar\": {\"angularaxis\": {\"gridcolor\": \"white\", \"linecolor\": \"white\", \"ticks\": \"\"}, \"bgcolor\": \"#E5ECF6\", \"radialaxis\": {\"gridcolor\": \"white\", \"linecolor\": \"white\", \"ticks\": \"\"}}, \"scene\": {\"xaxis\": {\"backgroundcolor\": \"#E5ECF6\", \"gridcolor\": \"white\", \"gridwidth\": 2, \"linecolor\": \"white\", \"showbackground\": true, \"ticks\": \"\", \"zerolinecolor\": \"white\"}, \"yaxis\": {\"backgroundcolor\": \"#E5ECF6\", \"gridcolor\": \"white\", \"gridwidth\": 2, \"linecolor\": \"white\", \"showbackground\": true, \"ticks\": \"\", \"zerolinecolor\": \"white\"}, \"zaxis\": {\"backgroundcolor\": \"#E5ECF6\", \"gridcolor\": \"white\", \"gridwidth\": 2, \"linecolor\": \"white\", \"showbackground\": true, \"ticks\": \"\", \"zerolinecolor\": \"white\"}}, \"shapedefaults\": {\"line\": {\"color\": \"#2a3f5f\"}}, \"ternary\": {\"aaxis\": {\"gridcolor\": \"white\", \"linecolor\": \"white\", \"ticks\": \"\"}, \"baxis\": {\"gridcolor\": \"white\", \"linecolor\": \"white\", \"ticks\": \"\"}, \"bgcolor\": \"#E5ECF6\", \"caxis\": {\"gridcolor\": \"white\", \"linecolor\": \"white\", \"ticks\": \"\"}}, \"title\": {\"x\": 0.05}, \"xaxis\": {\"automargin\": true, \"gridcolor\": \"white\", \"linecolor\": \"white\", \"ticks\": \"\", \"title\": {\"standoff\": 15}, \"zerolinecolor\": \"white\", \"zerolinewidth\": 2}, \"yaxis\": {\"automargin\": true, \"gridcolor\": \"white\", \"linecolor\": \"white\", \"ticks\": \"\", \"title\": {\"standoff\": 15}, \"zerolinecolor\": \"white\", \"zerolinewidth\": 2}}}, \"title\": {\"text\": \"Bar chart showing the distribution of the three categories\"}},\n",
       "                        {\"responsive\": true}\n",
       "                    ).then(function(){\n",
       "                            \n",
       "var gd = document.getElementById('e8969b19-6d66-4df2-ae24-fd2f9ab3a671');\n",
       "var x = new MutationObserver(function (mutations, observer) {{\n",
       "        var display = window.getComputedStyle(gd).display;\n",
       "        if (!display || display === 'none') {{\n",
       "            console.log([gd, 'removed!']);\n",
       "            Plotly.purge(gd);\n",
       "            observer.disconnect();\n",
       "        }}\n",
       "}});\n",
       "\n",
       "// Listen for the removal of the full notebook cells\n",
       "var notebookContainer = gd.closest('#notebook-container');\n",
       "if (notebookContainer) {{\n",
       "    x.observe(notebookContainer, {childList: true});\n",
       "}}\n",
       "\n",
       "// Listen for the clearing of the current output cell\n",
       "var outputEl = gd.closest('.output');\n",
       "if (outputEl) {{\n",
       "    x.observe(outputEl, {childList: true});\n",
       "}}\n",
       "\n",
       "                        })\n",
       "                };\n",
       "                });\n",
       "            </script>\n",
       "        </div>"
      ]
     },
     "metadata": {},
     "output_type": "display_data"
    }
   ],
   "source": [
    "plot_bar = df.groupby('category').count().reset_index().rename(columns={'date': 'category_count'})\n",
    "\n",
    "trace = go.Bar(x=plot_bar['category'], y=plot_bar['category_count'])\n",
    "fig = go.Figure(data=trace)\n",
    "fig.update_layout(title_text='Bar chart showing the distribution of the three categories')\n",
    "iplot(fig)\n",
    "\n"
   ]
  },
  {
   "cell_type": "markdown",
   "metadata": {},
   "source": [
    "### 2.2 Grouped Bar Chart"
   ]
  },
  {
   "cell_type": "code",
   "execution_count": 6,
   "metadata": {},
   "outputs": [
    {
     "data": {
      "application/vnd.plotly.v1+json": {
       "config": {
        "linkText": "Export to plot.ly",
        "plotlyServerURL": "https://plot.ly",
        "showLink": false
       },
       "data": [
        {
         "name": "CategoryA",
         "type": "bar",
         "x": [
          "2020-05-07",
          "2020-05-08",
          "2020-05-09",
          "2020-05-10",
          "2020-05-11",
          "2020-05-12",
          "2020-05-13",
          "2020-05-14",
          "2020-05-15",
          "2020-05-16",
          "2020-05-17",
          "2020-05-18",
          "2020-05-19",
          "2020-05-20",
          "2020-05-21"
         ],
         "y": [
          3,
          3,
          2,
          2,
          1,
          2,
          4,
          6,
          4,
          4,
          4,
          6,
          7,
          2,
          4
         ]
        },
        {
         "name": "CategoryB",
         "type": "bar",
         "x": [
          "2020-05-07",
          "2020-05-08",
          "2020-05-09",
          "2020-05-10",
          "2020-05-11",
          "2020-05-12",
          "2020-05-13",
          "2020-05-14",
          "2020-05-15",
          "2020-05-16",
          "2020-05-17",
          "2020-05-18",
          "2020-05-19",
          "2020-05-20",
          "2020-05-21"
         ],
         "y": [
          2,
          2,
          1,
          2,
          1,
          7,
          3,
          5,
          2,
          4,
          2,
          2,
          2,
          4,
          2
         ]
        },
        {
         "name": "CategoryC",
         "type": "bar",
         "x": [
          "2020-05-07",
          "2020-05-08",
          "2020-05-09",
          "2020-05-10",
          "2020-05-11",
          "2020-05-12",
          "2020-05-13",
          "2020-05-14",
          "2020-05-15",
          "2020-05-16",
          "2020-05-17",
          "2020-05-18",
          "2020-05-19",
          "2020-05-20",
          "2020-05-21"
         ],
         "y": [
          1,
          5,
          2,
          3,
          2,
          3,
          2,
          5,
          4,
          7,
          6,
          6,
          6,
          5,
          7
         ]
        }
       ],
       "layout": {
        "barmode": "group",
        "template": {
         "data": {
          "bar": [
           {
            "error_x": {
             "color": "#2a3f5f"
            },
            "error_y": {
             "color": "#2a3f5f"
            },
            "marker": {
             "line": {
              "color": "#E5ECF6",
              "width": 0.5
             }
            },
            "type": "bar"
           }
          ],
          "barpolar": [
           {
            "marker": {
             "line": {
              "color": "#E5ECF6",
              "width": 0.5
             }
            },
            "type": "barpolar"
           }
          ],
          "carpet": [
           {
            "aaxis": {
             "endlinecolor": "#2a3f5f",
             "gridcolor": "white",
             "linecolor": "white",
             "minorgridcolor": "white",
             "startlinecolor": "#2a3f5f"
            },
            "baxis": {
             "endlinecolor": "#2a3f5f",
             "gridcolor": "white",
             "linecolor": "white",
             "minorgridcolor": "white",
             "startlinecolor": "#2a3f5f"
            },
            "type": "carpet"
           }
          ],
          "choropleth": [
           {
            "colorbar": {
             "outlinewidth": 0,
             "ticks": ""
            },
            "type": "choropleth"
           }
          ],
          "contour": [
           {
            "colorbar": {
             "outlinewidth": 0,
             "ticks": ""
            },
            "colorscale": [
             [
              0,
              "#0d0887"
             ],
             [
              0.1111111111111111,
              "#46039f"
             ],
             [
              0.2222222222222222,
              "#7201a8"
             ],
             [
              0.3333333333333333,
              "#9c179e"
             ],
             [
              0.4444444444444444,
              "#bd3786"
             ],
             [
              0.5555555555555556,
              "#d8576b"
             ],
             [
              0.6666666666666666,
              "#ed7953"
             ],
             [
              0.7777777777777778,
              "#fb9f3a"
             ],
             [
              0.8888888888888888,
              "#fdca26"
             ],
             [
              1,
              "#f0f921"
             ]
            ],
            "type": "contour"
           }
          ],
          "contourcarpet": [
           {
            "colorbar": {
             "outlinewidth": 0,
             "ticks": ""
            },
            "type": "contourcarpet"
           }
          ],
          "heatmap": [
           {
            "colorbar": {
             "outlinewidth": 0,
             "ticks": ""
            },
            "colorscale": [
             [
              0,
              "#0d0887"
             ],
             [
              0.1111111111111111,
              "#46039f"
             ],
             [
              0.2222222222222222,
              "#7201a8"
             ],
             [
              0.3333333333333333,
              "#9c179e"
             ],
             [
              0.4444444444444444,
              "#bd3786"
             ],
             [
              0.5555555555555556,
              "#d8576b"
             ],
             [
              0.6666666666666666,
              "#ed7953"
             ],
             [
              0.7777777777777778,
              "#fb9f3a"
             ],
             [
              0.8888888888888888,
              "#fdca26"
             ],
             [
              1,
              "#f0f921"
             ]
            ],
            "type": "heatmap"
           }
          ],
          "heatmapgl": [
           {
            "colorbar": {
             "outlinewidth": 0,
             "ticks": ""
            },
            "colorscale": [
             [
              0,
              "#0d0887"
             ],
             [
              0.1111111111111111,
              "#46039f"
             ],
             [
              0.2222222222222222,
              "#7201a8"
             ],
             [
              0.3333333333333333,
              "#9c179e"
             ],
             [
              0.4444444444444444,
              "#bd3786"
             ],
             [
              0.5555555555555556,
              "#d8576b"
             ],
             [
              0.6666666666666666,
              "#ed7953"
             ],
             [
              0.7777777777777778,
              "#fb9f3a"
             ],
             [
              0.8888888888888888,
              "#fdca26"
             ],
             [
              1,
              "#f0f921"
             ]
            ],
            "type": "heatmapgl"
           }
          ],
          "histogram": [
           {
            "marker": {
             "colorbar": {
              "outlinewidth": 0,
              "ticks": ""
             }
            },
            "type": "histogram"
           }
          ],
          "histogram2d": [
           {
            "colorbar": {
             "outlinewidth": 0,
             "ticks": ""
            },
            "colorscale": [
             [
              0,
              "#0d0887"
             ],
             [
              0.1111111111111111,
              "#46039f"
             ],
             [
              0.2222222222222222,
              "#7201a8"
             ],
             [
              0.3333333333333333,
              "#9c179e"
             ],
             [
              0.4444444444444444,
              "#bd3786"
             ],
             [
              0.5555555555555556,
              "#d8576b"
             ],
             [
              0.6666666666666666,
              "#ed7953"
             ],
             [
              0.7777777777777778,
              "#fb9f3a"
             ],
             [
              0.8888888888888888,
              "#fdca26"
             ],
             [
              1,
              "#f0f921"
             ]
            ],
            "type": "histogram2d"
           }
          ],
          "histogram2dcontour": [
           {
            "colorbar": {
             "outlinewidth": 0,
             "ticks": ""
            },
            "colorscale": [
             [
              0,
              "#0d0887"
             ],
             [
              0.1111111111111111,
              "#46039f"
             ],
             [
              0.2222222222222222,
              "#7201a8"
             ],
             [
              0.3333333333333333,
              "#9c179e"
             ],
             [
              0.4444444444444444,
              "#bd3786"
             ],
             [
              0.5555555555555556,
              "#d8576b"
             ],
             [
              0.6666666666666666,
              "#ed7953"
             ],
             [
              0.7777777777777778,
              "#fb9f3a"
             ],
             [
              0.8888888888888888,
              "#fdca26"
             ],
             [
              1,
              "#f0f921"
             ]
            ],
            "type": "histogram2dcontour"
           }
          ],
          "mesh3d": [
           {
            "colorbar": {
             "outlinewidth": 0,
             "ticks": ""
            },
            "type": "mesh3d"
           }
          ],
          "parcoords": [
           {
            "line": {
             "colorbar": {
              "outlinewidth": 0,
              "ticks": ""
             }
            },
            "type": "parcoords"
           }
          ],
          "pie": [
           {
            "automargin": true,
            "type": "pie"
           }
          ],
          "scatter": [
           {
            "marker": {
             "colorbar": {
              "outlinewidth": 0,
              "ticks": ""
             }
            },
            "type": "scatter"
           }
          ],
          "scatter3d": [
           {
            "line": {
             "colorbar": {
              "outlinewidth": 0,
              "ticks": ""
             }
            },
            "marker": {
             "colorbar": {
              "outlinewidth": 0,
              "ticks": ""
             }
            },
            "type": "scatter3d"
           }
          ],
          "scattercarpet": [
           {
            "marker": {
             "colorbar": {
              "outlinewidth": 0,
              "ticks": ""
             }
            },
            "type": "scattercarpet"
           }
          ],
          "scattergeo": [
           {
            "marker": {
             "colorbar": {
              "outlinewidth": 0,
              "ticks": ""
             }
            },
            "type": "scattergeo"
           }
          ],
          "scattergl": [
           {
            "marker": {
             "colorbar": {
              "outlinewidth": 0,
              "ticks": ""
             }
            },
            "type": "scattergl"
           }
          ],
          "scattermapbox": [
           {
            "marker": {
             "colorbar": {
              "outlinewidth": 0,
              "ticks": ""
             }
            },
            "type": "scattermapbox"
           }
          ],
          "scatterpolar": [
           {
            "marker": {
             "colorbar": {
              "outlinewidth": 0,
              "ticks": ""
             }
            },
            "type": "scatterpolar"
           }
          ],
          "scatterpolargl": [
           {
            "marker": {
             "colorbar": {
              "outlinewidth": 0,
              "ticks": ""
             }
            },
            "type": "scatterpolargl"
           }
          ],
          "scatterternary": [
           {
            "marker": {
             "colorbar": {
              "outlinewidth": 0,
              "ticks": ""
             }
            },
            "type": "scatterternary"
           }
          ],
          "surface": [
           {
            "colorbar": {
             "outlinewidth": 0,
             "ticks": ""
            },
            "colorscale": [
             [
              0,
              "#0d0887"
             ],
             [
              0.1111111111111111,
              "#46039f"
             ],
             [
              0.2222222222222222,
              "#7201a8"
             ],
             [
              0.3333333333333333,
              "#9c179e"
             ],
             [
              0.4444444444444444,
              "#bd3786"
             ],
             [
              0.5555555555555556,
              "#d8576b"
             ],
             [
              0.6666666666666666,
              "#ed7953"
             ],
             [
              0.7777777777777778,
              "#fb9f3a"
             ],
             [
              0.8888888888888888,
              "#fdca26"
             ],
             [
              1,
              "#f0f921"
             ]
            ],
            "type": "surface"
           }
          ],
          "table": [
           {
            "cells": {
             "fill": {
              "color": "#EBF0F8"
             },
             "line": {
              "color": "white"
             }
            },
            "header": {
             "fill": {
              "color": "#C8D4E3"
             },
             "line": {
              "color": "white"
             }
            },
            "type": "table"
           }
          ]
         },
         "layout": {
          "annotationdefaults": {
           "arrowcolor": "#2a3f5f",
           "arrowhead": 0,
           "arrowwidth": 1
          },
          "coloraxis": {
           "colorbar": {
            "outlinewidth": 0,
            "ticks": ""
           }
          },
          "colorscale": {
           "diverging": [
            [
             0,
             "#8e0152"
            ],
            [
             0.1,
             "#c51b7d"
            ],
            [
             0.2,
             "#de77ae"
            ],
            [
             0.3,
             "#f1b6da"
            ],
            [
             0.4,
             "#fde0ef"
            ],
            [
             0.5,
             "#f7f7f7"
            ],
            [
             0.6,
             "#e6f5d0"
            ],
            [
             0.7,
             "#b8e186"
            ],
            [
             0.8,
             "#7fbc41"
            ],
            [
             0.9,
             "#4d9221"
            ],
            [
             1,
             "#276419"
            ]
           ],
           "sequential": [
            [
             0,
             "#0d0887"
            ],
            [
             0.1111111111111111,
             "#46039f"
            ],
            [
             0.2222222222222222,
             "#7201a8"
            ],
            [
             0.3333333333333333,
             "#9c179e"
            ],
            [
             0.4444444444444444,
             "#bd3786"
            ],
            [
             0.5555555555555556,
             "#d8576b"
            ],
            [
             0.6666666666666666,
             "#ed7953"
            ],
            [
             0.7777777777777778,
             "#fb9f3a"
            ],
            [
             0.8888888888888888,
             "#fdca26"
            ],
            [
             1,
             "#f0f921"
            ]
           ],
           "sequentialminus": [
            [
             0,
             "#0d0887"
            ],
            [
             0.1111111111111111,
             "#46039f"
            ],
            [
             0.2222222222222222,
             "#7201a8"
            ],
            [
             0.3333333333333333,
             "#9c179e"
            ],
            [
             0.4444444444444444,
             "#bd3786"
            ],
            [
             0.5555555555555556,
             "#d8576b"
            ],
            [
             0.6666666666666666,
             "#ed7953"
            ],
            [
             0.7777777777777778,
             "#fb9f3a"
            ],
            [
             0.8888888888888888,
             "#fdca26"
            ],
            [
             1,
             "#f0f921"
            ]
           ]
          },
          "colorway": [
           "#636efa",
           "#EF553B",
           "#00cc96",
           "#ab63fa",
           "#FFA15A",
           "#19d3f3",
           "#FF6692",
           "#B6E880",
           "#FF97FF",
           "#FECB52"
          ],
          "font": {
           "color": "#2a3f5f"
          },
          "geo": {
           "bgcolor": "white",
           "lakecolor": "white",
           "landcolor": "#E5ECF6",
           "showlakes": true,
           "showland": true,
           "subunitcolor": "white"
          },
          "hoverlabel": {
           "align": "left"
          },
          "hovermode": "closest",
          "mapbox": {
           "style": "light"
          },
          "paper_bgcolor": "white",
          "plot_bgcolor": "#E5ECF6",
          "polar": {
           "angularaxis": {
            "gridcolor": "white",
            "linecolor": "white",
            "ticks": ""
           },
           "bgcolor": "#E5ECF6",
           "radialaxis": {
            "gridcolor": "white",
            "linecolor": "white",
            "ticks": ""
           }
          },
          "scene": {
           "xaxis": {
            "backgroundcolor": "#E5ECF6",
            "gridcolor": "white",
            "gridwidth": 2,
            "linecolor": "white",
            "showbackground": true,
            "ticks": "",
            "zerolinecolor": "white"
           },
           "yaxis": {
            "backgroundcolor": "#E5ECF6",
            "gridcolor": "white",
            "gridwidth": 2,
            "linecolor": "white",
            "showbackground": true,
            "ticks": "",
            "zerolinecolor": "white"
           },
           "zaxis": {
            "backgroundcolor": "#E5ECF6",
            "gridcolor": "white",
            "gridwidth": 2,
            "linecolor": "white",
            "showbackground": true,
            "ticks": "",
            "zerolinecolor": "white"
           }
          },
          "shapedefaults": {
           "line": {
            "color": "#2a3f5f"
           }
          },
          "ternary": {
           "aaxis": {
            "gridcolor": "white",
            "linecolor": "white",
            "ticks": ""
           },
           "baxis": {
            "gridcolor": "white",
            "linecolor": "white",
            "ticks": ""
           },
           "bgcolor": "#E5ECF6",
           "caxis": {
            "gridcolor": "white",
            "linecolor": "white",
            "ticks": ""
           }
          },
          "title": {
           "x": 0.05
          },
          "xaxis": {
           "automargin": true,
           "gridcolor": "white",
           "linecolor": "white",
           "ticks": "",
           "title": {
            "standoff": 15
           },
           "zerolinecolor": "white",
           "zerolinewidth": 2
          },
          "yaxis": {
           "automargin": true,
           "gridcolor": "white",
           "linecolor": "white",
           "ticks": "",
           "title": {
            "standoff": 15
           },
           "zerolinecolor": "white",
           "zerolinewidth": 2
          }
         }
        },
        "title": {
         "text": "Grouped Bar chart showing the distribution of the three categories over time"
        }
       }
      },
      "text/html": [
       "<div>\n",
       "        \n",
       "        \n",
       "            <div id=\"332f66f9-8fae-4e28-bf56-dd9c75a45622\" class=\"plotly-graph-div\" style=\"height:525px; width:100%;\"></div>\n",
       "            <script type=\"text/javascript\">\n",
       "                require([\"plotly\"], function(Plotly) {\n",
       "                    window.PLOTLYENV=window.PLOTLYENV || {};\n",
       "                    \n",
       "                if (document.getElementById(\"332f66f9-8fae-4e28-bf56-dd9c75a45622\")) {\n",
       "                    Plotly.newPlot(\n",
       "                        '332f66f9-8fae-4e28-bf56-dd9c75a45622',\n",
       "                        [{\"name\": \"CategoryA\", \"type\": \"bar\", \"x\": [\"2020-05-07\", \"2020-05-08\", \"2020-05-09\", \"2020-05-10\", \"2020-05-11\", \"2020-05-12\", \"2020-05-13\", \"2020-05-14\", \"2020-05-15\", \"2020-05-16\", \"2020-05-17\", \"2020-05-18\", \"2020-05-19\", \"2020-05-20\", \"2020-05-21\"], \"y\": [3, 3, 2, 2, 1, 2, 4, 6, 4, 4, 4, 6, 7, 2, 4]}, {\"name\": \"CategoryB\", \"type\": \"bar\", \"x\": [\"2020-05-07\", \"2020-05-08\", \"2020-05-09\", \"2020-05-10\", \"2020-05-11\", \"2020-05-12\", \"2020-05-13\", \"2020-05-14\", \"2020-05-15\", \"2020-05-16\", \"2020-05-17\", \"2020-05-18\", \"2020-05-19\", \"2020-05-20\", \"2020-05-21\"], \"y\": [2, 2, 1, 2, 1, 7, 3, 5, 2, 4, 2, 2, 2, 4, 2]}, {\"name\": \"CategoryC\", \"type\": \"bar\", \"x\": [\"2020-05-07\", \"2020-05-08\", \"2020-05-09\", \"2020-05-10\", \"2020-05-11\", \"2020-05-12\", \"2020-05-13\", \"2020-05-14\", \"2020-05-15\", \"2020-05-16\", \"2020-05-17\", \"2020-05-18\", \"2020-05-19\", \"2020-05-20\", \"2020-05-21\"], \"y\": [1, 5, 2, 3, 2, 3, 2, 5, 4, 7, 6, 6, 6, 5, 7]}],\n",
       "                        {\"barmode\": \"group\", \"template\": {\"data\": {\"bar\": [{\"error_x\": {\"color\": \"#2a3f5f\"}, \"error_y\": {\"color\": \"#2a3f5f\"}, \"marker\": {\"line\": {\"color\": \"#E5ECF6\", \"width\": 0.5}}, \"type\": \"bar\"}], \"barpolar\": [{\"marker\": {\"line\": {\"color\": \"#E5ECF6\", \"width\": 0.5}}, \"type\": \"barpolar\"}], \"carpet\": [{\"aaxis\": {\"endlinecolor\": \"#2a3f5f\", \"gridcolor\": \"white\", \"linecolor\": \"white\", \"minorgridcolor\": \"white\", \"startlinecolor\": \"#2a3f5f\"}, \"baxis\": {\"endlinecolor\": \"#2a3f5f\", \"gridcolor\": \"white\", \"linecolor\": \"white\", \"minorgridcolor\": \"white\", \"startlinecolor\": \"#2a3f5f\"}, \"type\": \"carpet\"}], \"choropleth\": [{\"colorbar\": {\"outlinewidth\": 0, \"ticks\": \"\"}, \"type\": \"choropleth\"}], \"contour\": [{\"colorbar\": {\"outlinewidth\": 0, \"ticks\": \"\"}, \"colorscale\": [[0.0, \"#0d0887\"], [0.1111111111111111, \"#46039f\"], [0.2222222222222222, \"#7201a8\"], [0.3333333333333333, \"#9c179e\"], [0.4444444444444444, \"#bd3786\"], [0.5555555555555556, \"#d8576b\"], [0.6666666666666666, \"#ed7953\"], [0.7777777777777778, \"#fb9f3a\"], [0.8888888888888888, \"#fdca26\"], [1.0, \"#f0f921\"]], \"type\": \"contour\"}], \"contourcarpet\": [{\"colorbar\": {\"outlinewidth\": 0, \"ticks\": \"\"}, \"type\": \"contourcarpet\"}], \"heatmap\": [{\"colorbar\": {\"outlinewidth\": 0, \"ticks\": \"\"}, \"colorscale\": [[0.0, \"#0d0887\"], [0.1111111111111111, \"#46039f\"], [0.2222222222222222, \"#7201a8\"], [0.3333333333333333, \"#9c179e\"], [0.4444444444444444, \"#bd3786\"], [0.5555555555555556, \"#d8576b\"], [0.6666666666666666, \"#ed7953\"], [0.7777777777777778, \"#fb9f3a\"], [0.8888888888888888, \"#fdca26\"], [1.0, \"#f0f921\"]], \"type\": \"heatmap\"}], \"heatmapgl\": [{\"colorbar\": {\"outlinewidth\": 0, \"ticks\": \"\"}, \"colorscale\": [[0.0, \"#0d0887\"], [0.1111111111111111, \"#46039f\"], [0.2222222222222222, \"#7201a8\"], [0.3333333333333333, \"#9c179e\"], [0.4444444444444444, \"#bd3786\"], [0.5555555555555556, \"#d8576b\"], [0.6666666666666666, \"#ed7953\"], [0.7777777777777778, \"#fb9f3a\"], [0.8888888888888888, \"#fdca26\"], [1.0, \"#f0f921\"]], \"type\": \"heatmapgl\"}], \"histogram\": [{\"marker\": {\"colorbar\": {\"outlinewidth\": 0, \"ticks\": \"\"}}, \"type\": \"histogram\"}], \"histogram2d\": [{\"colorbar\": {\"outlinewidth\": 0, \"ticks\": \"\"}, \"colorscale\": [[0.0, \"#0d0887\"], [0.1111111111111111, \"#46039f\"], [0.2222222222222222, \"#7201a8\"], [0.3333333333333333, \"#9c179e\"], [0.4444444444444444, \"#bd3786\"], [0.5555555555555556, \"#d8576b\"], [0.6666666666666666, \"#ed7953\"], [0.7777777777777778, \"#fb9f3a\"], [0.8888888888888888, \"#fdca26\"], [1.0, \"#f0f921\"]], \"type\": \"histogram2d\"}], \"histogram2dcontour\": [{\"colorbar\": {\"outlinewidth\": 0, \"ticks\": \"\"}, \"colorscale\": [[0.0, \"#0d0887\"], [0.1111111111111111, \"#46039f\"], [0.2222222222222222, \"#7201a8\"], [0.3333333333333333, \"#9c179e\"], [0.4444444444444444, \"#bd3786\"], [0.5555555555555556, \"#d8576b\"], [0.6666666666666666, \"#ed7953\"], [0.7777777777777778, \"#fb9f3a\"], [0.8888888888888888, \"#fdca26\"], [1.0, \"#f0f921\"]], \"type\": \"histogram2dcontour\"}], \"mesh3d\": [{\"colorbar\": {\"outlinewidth\": 0, \"ticks\": \"\"}, \"type\": \"mesh3d\"}], \"parcoords\": [{\"line\": {\"colorbar\": {\"outlinewidth\": 0, \"ticks\": \"\"}}, \"type\": \"parcoords\"}], \"pie\": [{\"automargin\": true, \"type\": \"pie\"}], \"scatter\": [{\"marker\": {\"colorbar\": {\"outlinewidth\": 0, \"ticks\": \"\"}}, \"type\": \"scatter\"}], \"scatter3d\": [{\"line\": {\"colorbar\": {\"outlinewidth\": 0, \"ticks\": \"\"}}, \"marker\": {\"colorbar\": {\"outlinewidth\": 0, \"ticks\": \"\"}}, \"type\": \"scatter3d\"}], \"scattercarpet\": [{\"marker\": {\"colorbar\": {\"outlinewidth\": 0, \"ticks\": \"\"}}, \"type\": \"scattercarpet\"}], \"scattergeo\": [{\"marker\": {\"colorbar\": {\"outlinewidth\": 0, \"ticks\": \"\"}}, \"type\": \"scattergeo\"}], \"scattergl\": [{\"marker\": {\"colorbar\": {\"outlinewidth\": 0, \"ticks\": \"\"}}, \"type\": \"scattergl\"}], \"scattermapbox\": [{\"marker\": {\"colorbar\": {\"outlinewidth\": 0, \"ticks\": \"\"}}, \"type\": \"scattermapbox\"}], \"scatterpolar\": [{\"marker\": {\"colorbar\": {\"outlinewidth\": 0, \"ticks\": \"\"}}, \"type\": \"scatterpolar\"}], \"scatterpolargl\": [{\"marker\": {\"colorbar\": {\"outlinewidth\": 0, \"ticks\": \"\"}}, \"type\": \"scatterpolargl\"}], \"scatterternary\": [{\"marker\": {\"colorbar\": {\"outlinewidth\": 0, \"ticks\": \"\"}}, \"type\": \"scatterternary\"}], \"surface\": [{\"colorbar\": {\"outlinewidth\": 0, \"ticks\": \"\"}, \"colorscale\": [[0.0, \"#0d0887\"], [0.1111111111111111, \"#46039f\"], [0.2222222222222222, \"#7201a8\"], [0.3333333333333333, \"#9c179e\"], [0.4444444444444444, \"#bd3786\"], [0.5555555555555556, \"#d8576b\"], [0.6666666666666666, \"#ed7953\"], [0.7777777777777778, \"#fb9f3a\"], [0.8888888888888888, \"#fdca26\"], [1.0, \"#f0f921\"]], \"type\": \"surface\"}], \"table\": [{\"cells\": {\"fill\": {\"color\": \"#EBF0F8\"}, \"line\": {\"color\": \"white\"}}, \"header\": {\"fill\": {\"color\": \"#C8D4E3\"}, \"line\": {\"color\": \"white\"}}, \"type\": \"table\"}]}, \"layout\": {\"annotationdefaults\": {\"arrowcolor\": \"#2a3f5f\", \"arrowhead\": 0, \"arrowwidth\": 1}, \"coloraxis\": {\"colorbar\": {\"outlinewidth\": 0, \"ticks\": \"\"}}, \"colorscale\": {\"diverging\": [[0, \"#8e0152\"], [0.1, \"#c51b7d\"], [0.2, \"#de77ae\"], [0.3, \"#f1b6da\"], [0.4, \"#fde0ef\"], [0.5, \"#f7f7f7\"], [0.6, \"#e6f5d0\"], [0.7, \"#b8e186\"], [0.8, \"#7fbc41\"], [0.9, \"#4d9221\"], [1, \"#276419\"]], \"sequential\": [[0.0, \"#0d0887\"], [0.1111111111111111, \"#46039f\"], [0.2222222222222222, \"#7201a8\"], [0.3333333333333333, \"#9c179e\"], [0.4444444444444444, \"#bd3786\"], [0.5555555555555556, \"#d8576b\"], [0.6666666666666666, \"#ed7953\"], [0.7777777777777778, \"#fb9f3a\"], [0.8888888888888888, \"#fdca26\"], [1.0, \"#f0f921\"]], \"sequentialminus\": [[0.0, \"#0d0887\"], [0.1111111111111111, \"#46039f\"], [0.2222222222222222, \"#7201a8\"], [0.3333333333333333, \"#9c179e\"], [0.4444444444444444, \"#bd3786\"], [0.5555555555555556, \"#d8576b\"], [0.6666666666666666, \"#ed7953\"], [0.7777777777777778, \"#fb9f3a\"], [0.8888888888888888, \"#fdca26\"], [1.0, \"#f0f921\"]]}, \"colorway\": [\"#636efa\", \"#EF553B\", \"#00cc96\", \"#ab63fa\", \"#FFA15A\", \"#19d3f3\", \"#FF6692\", \"#B6E880\", \"#FF97FF\", \"#FECB52\"], \"font\": {\"color\": \"#2a3f5f\"}, \"geo\": {\"bgcolor\": \"white\", \"lakecolor\": \"white\", \"landcolor\": \"#E5ECF6\", \"showlakes\": true, \"showland\": true, \"subunitcolor\": \"white\"}, \"hoverlabel\": {\"align\": \"left\"}, \"hovermode\": \"closest\", \"mapbox\": {\"style\": \"light\"}, \"paper_bgcolor\": \"white\", \"plot_bgcolor\": \"#E5ECF6\", \"polar\": {\"angularaxis\": {\"gridcolor\": \"white\", \"linecolor\": \"white\", \"ticks\": \"\"}, \"bgcolor\": \"#E5ECF6\", \"radialaxis\": {\"gridcolor\": \"white\", \"linecolor\": \"white\", \"ticks\": \"\"}}, \"scene\": {\"xaxis\": {\"backgroundcolor\": \"#E5ECF6\", \"gridcolor\": \"white\", \"gridwidth\": 2, \"linecolor\": \"white\", \"showbackground\": true, \"ticks\": \"\", \"zerolinecolor\": \"white\"}, \"yaxis\": {\"backgroundcolor\": \"#E5ECF6\", \"gridcolor\": \"white\", \"gridwidth\": 2, \"linecolor\": \"white\", \"showbackground\": true, \"ticks\": \"\", \"zerolinecolor\": \"white\"}, \"zaxis\": {\"backgroundcolor\": \"#E5ECF6\", \"gridcolor\": \"white\", \"gridwidth\": 2, \"linecolor\": \"white\", \"showbackground\": true, \"ticks\": \"\", \"zerolinecolor\": \"white\"}}, \"shapedefaults\": {\"line\": {\"color\": \"#2a3f5f\"}}, \"ternary\": {\"aaxis\": {\"gridcolor\": \"white\", \"linecolor\": \"white\", \"ticks\": \"\"}, \"baxis\": {\"gridcolor\": \"white\", \"linecolor\": \"white\", \"ticks\": \"\"}, \"bgcolor\": \"#E5ECF6\", \"caxis\": {\"gridcolor\": \"white\", \"linecolor\": \"white\", \"ticks\": \"\"}}, \"title\": {\"x\": 0.05}, \"xaxis\": {\"automargin\": true, \"gridcolor\": \"white\", \"linecolor\": \"white\", \"ticks\": \"\", \"title\": {\"standoff\": 15}, \"zerolinecolor\": \"white\", \"zerolinewidth\": 2}, \"yaxis\": {\"automargin\": true, \"gridcolor\": \"white\", \"linecolor\": \"white\", \"ticks\": \"\", \"title\": {\"standoff\": 15}, \"zerolinecolor\": \"white\", \"zerolinewidth\": 2}}}, \"title\": {\"text\": \"Grouped Bar chart showing the distribution of the three categories over time\"}},\n",
       "                        {\"responsive\": true}\n",
       "                    ).then(function(){\n",
       "                            \n",
       "var gd = document.getElementById('332f66f9-8fae-4e28-bf56-dd9c75a45622');\n",
       "var x = new MutationObserver(function (mutations, observer) {{\n",
       "        var display = window.getComputedStyle(gd).display;\n",
       "        if (!display || display === 'none') {{\n",
       "            console.log([gd, 'removed!']);\n",
       "            Plotly.purge(gd);\n",
       "            observer.disconnect();\n",
       "        }}\n",
       "}});\n",
       "\n",
       "// Listen for the removal of the full notebook cells\n",
       "var notebookContainer = gd.closest('#notebook-container');\n",
       "if (notebookContainer) {{\n",
       "    x.observe(notebookContainer, {childList: true});\n",
       "}}\n",
       "\n",
       "// Listen for the clearing of the current output cell\n",
       "var outputEl = gd.closest('.output');\n",
       "if (outputEl) {{\n",
       "    x.observe(outputEl, {childList: true});\n",
       "}}\n",
       "\n",
       "                        })\n",
       "                };\n",
       "                });\n",
       "            </script>\n",
       "        </div>"
      ]
     },
     "metadata": {},
     "output_type": "display_data"
    }
   ],
   "source": [
    "df_bar = df.groupby(['date','category']).size().reset_index().rename(columns={0:'category_count'})\n",
    "plot_bar_group = df_bar.pivot_table(index='date', columns='category', values='category_count', fill_value=0).reset_index()\n",
    "\n",
    "trace1 = go.Bar(x=plot_bar_group.date, y=plot_bar_group.CategoryA, name = 'CategoryA')\n",
    "trace2 = go.Bar(x=plot_bar_group.date, y=plot_bar_group.CategoryB, name = 'CategoryB')\n",
    "trace3 = go.Bar(x=plot_bar_group.date, y=plot_bar_group.CategoryC, name = 'CategoryC')\n",
    "\n",
    "fig = go.Figure(data=[trace1, trace2, trace3])\n",
    "fig.update_layout(barmode='group', title_text='Grouped Bar chart showing the distribution of the three categories over time')\n",
    "iplot(fig)\n"
   ]
  },
  {
   "cell_type": "markdown",
   "metadata": {},
   "source": [
    "### 2.3 Stacked Bar Chart  "
   ]
  },
  {
   "cell_type": "code",
   "execution_count": 7,
   "metadata": {},
   "outputs": [
    {
     "data": {
      "application/vnd.plotly.v1+json": {
       "config": {
        "linkText": "Export to plot.ly",
        "plotlyServerURL": "https://plot.ly",
        "showLink": false
       },
       "data": [
        {
         "name": "CategoryA",
         "type": "bar",
         "x": [
          "2020-05-07",
          "2020-05-08",
          "2020-05-09",
          "2020-05-10",
          "2020-05-11",
          "2020-05-12",
          "2020-05-13",
          "2020-05-14",
          "2020-05-15",
          "2020-05-16",
          "2020-05-17",
          "2020-05-18",
          "2020-05-19",
          "2020-05-20",
          "2020-05-21"
         ],
         "y": [
          3,
          3,
          2,
          2,
          1,
          2,
          4,
          6,
          4,
          4,
          4,
          6,
          7,
          2,
          4
         ]
        },
        {
         "name": "CategoryB",
         "type": "bar",
         "x": [
          "2020-05-07",
          "2020-05-08",
          "2020-05-09",
          "2020-05-10",
          "2020-05-11",
          "2020-05-12",
          "2020-05-13",
          "2020-05-14",
          "2020-05-15",
          "2020-05-16",
          "2020-05-17",
          "2020-05-18",
          "2020-05-19",
          "2020-05-20",
          "2020-05-21"
         ],
         "y": [
          2,
          2,
          1,
          2,
          1,
          7,
          3,
          5,
          2,
          4,
          2,
          2,
          2,
          4,
          2
         ]
        },
        {
         "name": "CategoryC",
         "type": "bar",
         "x": [
          "2020-05-07",
          "2020-05-08",
          "2020-05-09",
          "2020-05-10",
          "2020-05-11",
          "2020-05-12",
          "2020-05-13",
          "2020-05-14",
          "2020-05-15",
          "2020-05-16",
          "2020-05-17",
          "2020-05-18",
          "2020-05-19",
          "2020-05-20",
          "2020-05-21"
         ],
         "y": [
          1,
          5,
          2,
          3,
          2,
          3,
          2,
          5,
          4,
          7,
          6,
          6,
          6,
          5,
          7
         ]
        }
       ],
       "layout": {
        "barmode": "stack",
        "template": {
         "data": {
          "bar": [
           {
            "error_x": {
             "color": "#2a3f5f"
            },
            "error_y": {
             "color": "#2a3f5f"
            },
            "marker": {
             "line": {
              "color": "#E5ECF6",
              "width": 0.5
             }
            },
            "type": "bar"
           }
          ],
          "barpolar": [
           {
            "marker": {
             "line": {
              "color": "#E5ECF6",
              "width": 0.5
             }
            },
            "type": "barpolar"
           }
          ],
          "carpet": [
           {
            "aaxis": {
             "endlinecolor": "#2a3f5f",
             "gridcolor": "white",
             "linecolor": "white",
             "minorgridcolor": "white",
             "startlinecolor": "#2a3f5f"
            },
            "baxis": {
             "endlinecolor": "#2a3f5f",
             "gridcolor": "white",
             "linecolor": "white",
             "minorgridcolor": "white",
             "startlinecolor": "#2a3f5f"
            },
            "type": "carpet"
           }
          ],
          "choropleth": [
           {
            "colorbar": {
             "outlinewidth": 0,
             "ticks": ""
            },
            "type": "choropleth"
           }
          ],
          "contour": [
           {
            "colorbar": {
             "outlinewidth": 0,
             "ticks": ""
            },
            "colorscale": [
             [
              0,
              "#0d0887"
             ],
             [
              0.1111111111111111,
              "#46039f"
             ],
             [
              0.2222222222222222,
              "#7201a8"
             ],
             [
              0.3333333333333333,
              "#9c179e"
             ],
             [
              0.4444444444444444,
              "#bd3786"
             ],
             [
              0.5555555555555556,
              "#d8576b"
             ],
             [
              0.6666666666666666,
              "#ed7953"
             ],
             [
              0.7777777777777778,
              "#fb9f3a"
             ],
             [
              0.8888888888888888,
              "#fdca26"
             ],
             [
              1,
              "#f0f921"
             ]
            ],
            "type": "contour"
           }
          ],
          "contourcarpet": [
           {
            "colorbar": {
             "outlinewidth": 0,
             "ticks": ""
            },
            "type": "contourcarpet"
           }
          ],
          "heatmap": [
           {
            "colorbar": {
             "outlinewidth": 0,
             "ticks": ""
            },
            "colorscale": [
             [
              0,
              "#0d0887"
             ],
             [
              0.1111111111111111,
              "#46039f"
             ],
             [
              0.2222222222222222,
              "#7201a8"
             ],
             [
              0.3333333333333333,
              "#9c179e"
             ],
             [
              0.4444444444444444,
              "#bd3786"
             ],
             [
              0.5555555555555556,
              "#d8576b"
             ],
             [
              0.6666666666666666,
              "#ed7953"
             ],
             [
              0.7777777777777778,
              "#fb9f3a"
             ],
             [
              0.8888888888888888,
              "#fdca26"
             ],
             [
              1,
              "#f0f921"
             ]
            ],
            "type": "heatmap"
           }
          ],
          "heatmapgl": [
           {
            "colorbar": {
             "outlinewidth": 0,
             "ticks": ""
            },
            "colorscale": [
             [
              0,
              "#0d0887"
             ],
             [
              0.1111111111111111,
              "#46039f"
             ],
             [
              0.2222222222222222,
              "#7201a8"
             ],
             [
              0.3333333333333333,
              "#9c179e"
             ],
             [
              0.4444444444444444,
              "#bd3786"
             ],
             [
              0.5555555555555556,
              "#d8576b"
             ],
             [
              0.6666666666666666,
              "#ed7953"
             ],
             [
              0.7777777777777778,
              "#fb9f3a"
             ],
             [
              0.8888888888888888,
              "#fdca26"
             ],
             [
              1,
              "#f0f921"
             ]
            ],
            "type": "heatmapgl"
           }
          ],
          "histogram": [
           {
            "marker": {
             "colorbar": {
              "outlinewidth": 0,
              "ticks": ""
             }
            },
            "type": "histogram"
           }
          ],
          "histogram2d": [
           {
            "colorbar": {
             "outlinewidth": 0,
             "ticks": ""
            },
            "colorscale": [
             [
              0,
              "#0d0887"
             ],
             [
              0.1111111111111111,
              "#46039f"
             ],
             [
              0.2222222222222222,
              "#7201a8"
             ],
             [
              0.3333333333333333,
              "#9c179e"
             ],
             [
              0.4444444444444444,
              "#bd3786"
             ],
             [
              0.5555555555555556,
              "#d8576b"
             ],
             [
              0.6666666666666666,
              "#ed7953"
             ],
             [
              0.7777777777777778,
              "#fb9f3a"
             ],
             [
              0.8888888888888888,
              "#fdca26"
             ],
             [
              1,
              "#f0f921"
             ]
            ],
            "type": "histogram2d"
           }
          ],
          "histogram2dcontour": [
           {
            "colorbar": {
             "outlinewidth": 0,
             "ticks": ""
            },
            "colorscale": [
             [
              0,
              "#0d0887"
             ],
             [
              0.1111111111111111,
              "#46039f"
             ],
             [
              0.2222222222222222,
              "#7201a8"
             ],
             [
              0.3333333333333333,
              "#9c179e"
             ],
             [
              0.4444444444444444,
              "#bd3786"
             ],
             [
              0.5555555555555556,
              "#d8576b"
             ],
             [
              0.6666666666666666,
              "#ed7953"
             ],
             [
              0.7777777777777778,
              "#fb9f3a"
             ],
             [
              0.8888888888888888,
              "#fdca26"
             ],
             [
              1,
              "#f0f921"
             ]
            ],
            "type": "histogram2dcontour"
           }
          ],
          "mesh3d": [
           {
            "colorbar": {
             "outlinewidth": 0,
             "ticks": ""
            },
            "type": "mesh3d"
           }
          ],
          "parcoords": [
           {
            "line": {
             "colorbar": {
              "outlinewidth": 0,
              "ticks": ""
             }
            },
            "type": "parcoords"
           }
          ],
          "pie": [
           {
            "automargin": true,
            "type": "pie"
           }
          ],
          "scatter": [
           {
            "marker": {
             "colorbar": {
              "outlinewidth": 0,
              "ticks": ""
             }
            },
            "type": "scatter"
           }
          ],
          "scatter3d": [
           {
            "line": {
             "colorbar": {
              "outlinewidth": 0,
              "ticks": ""
             }
            },
            "marker": {
             "colorbar": {
              "outlinewidth": 0,
              "ticks": ""
             }
            },
            "type": "scatter3d"
           }
          ],
          "scattercarpet": [
           {
            "marker": {
             "colorbar": {
              "outlinewidth": 0,
              "ticks": ""
             }
            },
            "type": "scattercarpet"
           }
          ],
          "scattergeo": [
           {
            "marker": {
             "colorbar": {
              "outlinewidth": 0,
              "ticks": ""
             }
            },
            "type": "scattergeo"
           }
          ],
          "scattergl": [
           {
            "marker": {
             "colorbar": {
              "outlinewidth": 0,
              "ticks": ""
             }
            },
            "type": "scattergl"
           }
          ],
          "scattermapbox": [
           {
            "marker": {
             "colorbar": {
              "outlinewidth": 0,
              "ticks": ""
             }
            },
            "type": "scattermapbox"
           }
          ],
          "scatterpolar": [
           {
            "marker": {
             "colorbar": {
              "outlinewidth": 0,
              "ticks": ""
             }
            },
            "type": "scatterpolar"
           }
          ],
          "scatterpolargl": [
           {
            "marker": {
             "colorbar": {
              "outlinewidth": 0,
              "ticks": ""
             }
            },
            "type": "scatterpolargl"
           }
          ],
          "scatterternary": [
           {
            "marker": {
             "colorbar": {
              "outlinewidth": 0,
              "ticks": ""
             }
            },
            "type": "scatterternary"
           }
          ],
          "surface": [
           {
            "colorbar": {
             "outlinewidth": 0,
             "ticks": ""
            },
            "colorscale": [
             [
              0,
              "#0d0887"
             ],
             [
              0.1111111111111111,
              "#46039f"
             ],
             [
              0.2222222222222222,
              "#7201a8"
             ],
             [
              0.3333333333333333,
              "#9c179e"
             ],
             [
              0.4444444444444444,
              "#bd3786"
             ],
             [
              0.5555555555555556,
              "#d8576b"
             ],
             [
              0.6666666666666666,
              "#ed7953"
             ],
             [
              0.7777777777777778,
              "#fb9f3a"
             ],
             [
              0.8888888888888888,
              "#fdca26"
             ],
             [
              1,
              "#f0f921"
             ]
            ],
            "type": "surface"
           }
          ],
          "table": [
           {
            "cells": {
             "fill": {
              "color": "#EBF0F8"
             },
             "line": {
              "color": "white"
             }
            },
            "header": {
             "fill": {
              "color": "#C8D4E3"
             },
             "line": {
              "color": "white"
             }
            },
            "type": "table"
           }
          ]
         },
         "layout": {
          "annotationdefaults": {
           "arrowcolor": "#2a3f5f",
           "arrowhead": 0,
           "arrowwidth": 1
          },
          "coloraxis": {
           "colorbar": {
            "outlinewidth": 0,
            "ticks": ""
           }
          },
          "colorscale": {
           "diverging": [
            [
             0,
             "#8e0152"
            ],
            [
             0.1,
             "#c51b7d"
            ],
            [
             0.2,
             "#de77ae"
            ],
            [
             0.3,
             "#f1b6da"
            ],
            [
             0.4,
             "#fde0ef"
            ],
            [
             0.5,
             "#f7f7f7"
            ],
            [
             0.6,
             "#e6f5d0"
            ],
            [
             0.7,
             "#b8e186"
            ],
            [
             0.8,
             "#7fbc41"
            ],
            [
             0.9,
             "#4d9221"
            ],
            [
             1,
             "#276419"
            ]
           ],
           "sequential": [
            [
             0,
             "#0d0887"
            ],
            [
             0.1111111111111111,
             "#46039f"
            ],
            [
             0.2222222222222222,
             "#7201a8"
            ],
            [
             0.3333333333333333,
             "#9c179e"
            ],
            [
             0.4444444444444444,
             "#bd3786"
            ],
            [
             0.5555555555555556,
             "#d8576b"
            ],
            [
             0.6666666666666666,
             "#ed7953"
            ],
            [
             0.7777777777777778,
             "#fb9f3a"
            ],
            [
             0.8888888888888888,
             "#fdca26"
            ],
            [
             1,
             "#f0f921"
            ]
           ],
           "sequentialminus": [
            [
             0,
             "#0d0887"
            ],
            [
             0.1111111111111111,
             "#46039f"
            ],
            [
             0.2222222222222222,
             "#7201a8"
            ],
            [
             0.3333333333333333,
             "#9c179e"
            ],
            [
             0.4444444444444444,
             "#bd3786"
            ],
            [
             0.5555555555555556,
             "#d8576b"
            ],
            [
             0.6666666666666666,
             "#ed7953"
            ],
            [
             0.7777777777777778,
             "#fb9f3a"
            ],
            [
             0.8888888888888888,
             "#fdca26"
            ],
            [
             1,
             "#f0f921"
            ]
           ]
          },
          "colorway": [
           "#636efa",
           "#EF553B",
           "#00cc96",
           "#ab63fa",
           "#FFA15A",
           "#19d3f3",
           "#FF6692",
           "#B6E880",
           "#FF97FF",
           "#FECB52"
          ],
          "font": {
           "color": "#2a3f5f"
          },
          "geo": {
           "bgcolor": "white",
           "lakecolor": "white",
           "landcolor": "#E5ECF6",
           "showlakes": true,
           "showland": true,
           "subunitcolor": "white"
          },
          "hoverlabel": {
           "align": "left"
          },
          "hovermode": "closest",
          "mapbox": {
           "style": "light"
          },
          "paper_bgcolor": "white",
          "plot_bgcolor": "#E5ECF6",
          "polar": {
           "angularaxis": {
            "gridcolor": "white",
            "linecolor": "white",
            "ticks": ""
           },
           "bgcolor": "#E5ECF6",
           "radialaxis": {
            "gridcolor": "white",
            "linecolor": "white",
            "ticks": ""
           }
          },
          "scene": {
           "xaxis": {
            "backgroundcolor": "#E5ECF6",
            "gridcolor": "white",
            "gridwidth": 2,
            "linecolor": "white",
            "showbackground": true,
            "ticks": "",
            "zerolinecolor": "white"
           },
           "yaxis": {
            "backgroundcolor": "#E5ECF6",
            "gridcolor": "white",
            "gridwidth": 2,
            "linecolor": "white",
            "showbackground": true,
            "ticks": "",
            "zerolinecolor": "white"
           },
           "zaxis": {
            "backgroundcolor": "#E5ECF6",
            "gridcolor": "white",
            "gridwidth": 2,
            "linecolor": "white",
            "showbackground": true,
            "ticks": "",
            "zerolinecolor": "white"
           }
          },
          "shapedefaults": {
           "line": {
            "color": "#2a3f5f"
           }
          },
          "ternary": {
           "aaxis": {
            "gridcolor": "white",
            "linecolor": "white",
            "ticks": ""
           },
           "baxis": {
            "gridcolor": "white",
            "linecolor": "white",
            "ticks": ""
           },
           "bgcolor": "#E5ECF6",
           "caxis": {
            "gridcolor": "white",
            "linecolor": "white",
            "ticks": ""
           }
          },
          "title": {
           "x": 0.05
          },
          "xaxis": {
           "automargin": true,
           "gridcolor": "white",
           "linecolor": "white",
           "ticks": "",
           "title": {
            "standoff": 15
           },
           "zerolinecolor": "white",
           "zerolinewidth": 2
          },
          "yaxis": {
           "automargin": true,
           "gridcolor": "white",
           "linecolor": "white",
           "ticks": "",
           "title": {
            "standoff": 15
           },
           "zerolinecolor": "white",
           "zerolinewidth": 2
          }
         }
        },
        "title": {
         "text": "Stacked Bar chart showing the distribution of the three categories over time"
        }
       }
      },
      "text/html": [
       "<div>\n",
       "        \n",
       "        \n",
       "            <div id=\"177e7c7a-a449-43f2-b290-34000528bf66\" class=\"plotly-graph-div\" style=\"height:525px; width:100%;\"></div>\n",
       "            <script type=\"text/javascript\">\n",
       "                require([\"plotly\"], function(Plotly) {\n",
       "                    window.PLOTLYENV=window.PLOTLYENV || {};\n",
       "                    \n",
       "                if (document.getElementById(\"177e7c7a-a449-43f2-b290-34000528bf66\")) {\n",
       "                    Plotly.newPlot(\n",
       "                        '177e7c7a-a449-43f2-b290-34000528bf66',\n",
       "                        [{\"name\": \"CategoryA\", \"type\": \"bar\", \"x\": [\"2020-05-07\", \"2020-05-08\", \"2020-05-09\", \"2020-05-10\", \"2020-05-11\", \"2020-05-12\", \"2020-05-13\", \"2020-05-14\", \"2020-05-15\", \"2020-05-16\", \"2020-05-17\", \"2020-05-18\", \"2020-05-19\", \"2020-05-20\", \"2020-05-21\"], \"y\": [3, 3, 2, 2, 1, 2, 4, 6, 4, 4, 4, 6, 7, 2, 4]}, {\"name\": \"CategoryB\", \"type\": \"bar\", \"x\": [\"2020-05-07\", \"2020-05-08\", \"2020-05-09\", \"2020-05-10\", \"2020-05-11\", \"2020-05-12\", \"2020-05-13\", \"2020-05-14\", \"2020-05-15\", \"2020-05-16\", \"2020-05-17\", \"2020-05-18\", \"2020-05-19\", \"2020-05-20\", \"2020-05-21\"], \"y\": [2, 2, 1, 2, 1, 7, 3, 5, 2, 4, 2, 2, 2, 4, 2]}, {\"name\": \"CategoryC\", \"type\": \"bar\", \"x\": [\"2020-05-07\", \"2020-05-08\", \"2020-05-09\", \"2020-05-10\", \"2020-05-11\", \"2020-05-12\", \"2020-05-13\", \"2020-05-14\", \"2020-05-15\", \"2020-05-16\", \"2020-05-17\", \"2020-05-18\", \"2020-05-19\", \"2020-05-20\", \"2020-05-21\"], \"y\": [1, 5, 2, 3, 2, 3, 2, 5, 4, 7, 6, 6, 6, 5, 7]}],\n",
       "                        {\"barmode\": \"stack\", \"template\": {\"data\": {\"bar\": [{\"error_x\": {\"color\": \"#2a3f5f\"}, \"error_y\": {\"color\": \"#2a3f5f\"}, \"marker\": {\"line\": {\"color\": \"#E5ECF6\", \"width\": 0.5}}, \"type\": \"bar\"}], \"barpolar\": [{\"marker\": {\"line\": {\"color\": \"#E5ECF6\", \"width\": 0.5}}, \"type\": \"barpolar\"}], \"carpet\": [{\"aaxis\": {\"endlinecolor\": \"#2a3f5f\", \"gridcolor\": \"white\", \"linecolor\": \"white\", \"minorgridcolor\": \"white\", \"startlinecolor\": \"#2a3f5f\"}, \"baxis\": {\"endlinecolor\": \"#2a3f5f\", \"gridcolor\": \"white\", \"linecolor\": \"white\", \"minorgridcolor\": \"white\", \"startlinecolor\": \"#2a3f5f\"}, \"type\": \"carpet\"}], \"choropleth\": [{\"colorbar\": {\"outlinewidth\": 0, \"ticks\": \"\"}, \"type\": \"choropleth\"}], \"contour\": [{\"colorbar\": {\"outlinewidth\": 0, \"ticks\": \"\"}, \"colorscale\": [[0.0, \"#0d0887\"], [0.1111111111111111, \"#46039f\"], [0.2222222222222222, \"#7201a8\"], [0.3333333333333333, \"#9c179e\"], [0.4444444444444444, \"#bd3786\"], [0.5555555555555556, \"#d8576b\"], [0.6666666666666666, \"#ed7953\"], [0.7777777777777778, \"#fb9f3a\"], [0.8888888888888888, \"#fdca26\"], [1.0, \"#f0f921\"]], \"type\": \"contour\"}], \"contourcarpet\": [{\"colorbar\": {\"outlinewidth\": 0, \"ticks\": \"\"}, \"type\": \"contourcarpet\"}], \"heatmap\": [{\"colorbar\": {\"outlinewidth\": 0, \"ticks\": \"\"}, \"colorscale\": [[0.0, \"#0d0887\"], [0.1111111111111111, \"#46039f\"], [0.2222222222222222, \"#7201a8\"], [0.3333333333333333, \"#9c179e\"], [0.4444444444444444, \"#bd3786\"], [0.5555555555555556, \"#d8576b\"], [0.6666666666666666, \"#ed7953\"], [0.7777777777777778, \"#fb9f3a\"], [0.8888888888888888, \"#fdca26\"], [1.0, \"#f0f921\"]], \"type\": \"heatmap\"}], \"heatmapgl\": [{\"colorbar\": {\"outlinewidth\": 0, \"ticks\": \"\"}, \"colorscale\": [[0.0, \"#0d0887\"], [0.1111111111111111, \"#46039f\"], [0.2222222222222222, \"#7201a8\"], [0.3333333333333333, \"#9c179e\"], [0.4444444444444444, \"#bd3786\"], [0.5555555555555556, \"#d8576b\"], [0.6666666666666666, \"#ed7953\"], [0.7777777777777778, \"#fb9f3a\"], [0.8888888888888888, \"#fdca26\"], [1.0, \"#f0f921\"]], \"type\": \"heatmapgl\"}], \"histogram\": [{\"marker\": {\"colorbar\": {\"outlinewidth\": 0, \"ticks\": \"\"}}, \"type\": \"histogram\"}], \"histogram2d\": [{\"colorbar\": {\"outlinewidth\": 0, \"ticks\": \"\"}, \"colorscale\": [[0.0, \"#0d0887\"], [0.1111111111111111, \"#46039f\"], [0.2222222222222222, \"#7201a8\"], [0.3333333333333333, \"#9c179e\"], [0.4444444444444444, \"#bd3786\"], [0.5555555555555556, \"#d8576b\"], [0.6666666666666666, \"#ed7953\"], [0.7777777777777778, \"#fb9f3a\"], [0.8888888888888888, \"#fdca26\"], [1.0, \"#f0f921\"]], \"type\": \"histogram2d\"}], \"histogram2dcontour\": [{\"colorbar\": {\"outlinewidth\": 0, \"ticks\": \"\"}, \"colorscale\": [[0.0, \"#0d0887\"], [0.1111111111111111, \"#46039f\"], [0.2222222222222222, \"#7201a8\"], [0.3333333333333333, \"#9c179e\"], [0.4444444444444444, \"#bd3786\"], [0.5555555555555556, \"#d8576b\"], [0.6666666666666666, \"#ed7953\"], [0.7777777777777778, \"#fb9f3a\"], [0.8888888888888888, \"#fdca26\"], [1.0, \"#f0f921\"]], \"type\": \"histogram2dcontour\"}], \"mesh3d\": [{\"colorbar\": {\"outlinewidth\": 0, \"ticks\": \"\"}, \"type\": \"mesh3d\"}], \"parcoords\": [{\"line\": {\"colorbar\": {\"outlinewidth\": 0, \"ticks\": \"\"}}, \"type\": \"parcoords\"}], \"pie\": [{\"automargin\": true, \"type\": \"pie\"}], \"scatter\": [{\"marker\": {\"colorbar\": {\"outlinewidth\": 0, \"ticks\": \"\"}}, \"type\": \"scatter\"}], \"scatter3d\": [{\"line\": {\"colorbar\": {\"outlinewidth\": 0, \"ticks\": \"\"}}, \"marker\": {\"colorbar\": {\"outlinewidth\": 0, \"ticks\": \"\"}}, \"type\": \"scatter3d\"}], \"scattercarpet\": [{\"marker\": {\"colorbar\": {\"outlinewidth\": 0, \"ticks\": \"\"}}, \"type\": \"scattercarpet\"}], \"scattergeo\": [{\"marker\": {\"colorbar\": {\"outlinewidth\": 0, \"ticks\": \"\"}}, \"type\": \"scattergeo\"}], \"scattergl\": [{\"marker\": {\"colorbar\": {\"outlinewidth\": 0, \"ticks\": \"\"}}, \"type\": \"scattergl\"}], \"scattermapbox\": [{\"marker\": {\"colorbar\": {\"outlinewidth\": 0, \"ticks\": \"\"}}, \"type\": \"scattermapbox\"}], \"scatterpolar\": [{\"marker\": {\"colorbar\": {\"outlinewidth\": 0, \"ticks\": \"\"}}, \"type\": \"scatterpolar\"}], \"scatterpolargl\": [{\"marker\": {\"colorbar\": {\"outlinewidth\": 0, \"ticks\": \"\"}}, \"type\": \"scatterpolargl\"}], \"scatterternary\": [{\"marker\": {\"colorbar\": {\"outlinewidth\": 0, \"ticks\": \"\"}}, \"type\": \"scatterternary\"}], \"surface\": [{\"colorbar\": {\"outlinewidth\": 0, \"ticks\": \"\"}, \"colorscale\": [[0.0, \"#0d0887\"], [0.1111111111111111, \"#46039f\"], [0.2222222222222222, \"#7201a8\"], [0.3333333333333333, \"#9c179e\"], [0.4444444444444444, \"#bd3786\"], [0.5555555555555556, \"#d8576b\"], [0.6666666666666666, \"#ed7953\"], [0.7777777777777778, \"#fb9f3a\"], [0.8888888888888888, \"#fdca26\"], [1.0, \"#f0f921\"]], \"type\": \"surface\"}], \"table\": [{\"cells\": {\"fill\": {\"color\": \"#EBF0F8\"}, \"line\": {\"color\": \"white\"}}, \"header\": {\"fill\": {\"color\": \"#C8D4E3\"}, \"line\": {\"color\": \"white\"}}, \"type\": \"table\"}]}, \"layout\": {\"annotationdefaults\": {\"arrowcolor\": \"#2a3f5f\", \"arrowhead\": 0, \"arrowwidth\": 1}, \"coloraxis\": {\"colorbar\": {\"outlinewidth\": 0, \"ticks\": \"\"}}, \"colorscale\": {\"diverging\": [[0, \"#8e0152\"], [0.1, \"#c51b7d\"], [0.2, \"#de77ae\"], [0.3, \"#f1b6da\"], [0.4, \"#fde0ef\"], [0.5, \"#f7f7f7\"], [0.6, \"#e6f5d0\"], [0.7, \"#b8e186\"], [0.8, \"#7fbc41\"], [0.9, \"#4d9221\"], [1, \"#276419\"]], \"sequential\": [[0.0, \"#0d0887\"], [0.1111111111111111, \"#46039f\"], [0.2222222222222222, \"#7201a8\"], [0.3333333333333333, \"#9c179e\"], [0.4444444444444444, \"#bd3786\"], [0.5555555555555556, \"#d8576b\"], [0.6666666666666666, \"#ed7953\"], [0.7777777777777778, \"#fb9f3a\"], [0.8888888888888888, \"#fdca26\"], [1.0, \"#f0f921\"]], \"sequentialminus\": [[0.0, \"#0d0887\"], [0.1111111111111111, \"#46039f\"], [0.2222222222222222, \"#7201a8\"], [0.3333333333333333, \"#9c179e\"], [0.4444444444444444, \"#bd3786\"], [0.5555555555555556, \"#d8576b\"], [0.6666666666666666, \"#ed7953\"], [0.7777777777777778, \"#fb9f3a\"], [0.8888888888888888, \"#fdca26\"], [1.0, \"#f0f921\"]]}, \"colorway\": [\"#636efa\", \"#EF553B\", \"#00cc96\", \"#ab63fa\", \"#FFA15A\", \"#19d3f3\", \"#FF6692\", \"#B6E880\", \"#FF97FF\", \"#FECB52\"], \"font\": {\"color\": \"#2a3f5f\"}, \"geo\": {\"bgcolor\": \"white\", \"lakecolor\": \"white\", \"landcolor\": \"#E5ECF6\", \"showlakes\": true, \"showland\": true, \"subunitcolor\": \"white\"}, \"hoverlabel\": {\"align\": \"left\"}, \"hovermode\": \"closest\", \"mapbox\": {\"style\": \"light\"}, \"paper_bgcolor\": \"white\", \"plot_bgcolor\": \"#E5ECF6\", \"polar\": {\"angularaxis\": {\"gridcolor\": \"white\", \"linecolor\": \"white\", \"ticks\": \"\"}, \"bgcolor\": \"#E5ECF6\", \"radialaxis\": {\"gridcolor\": \"white\", \"linecolor\": \"white\", \"ticks\": \"\"}}, \"scene\": {\"xaxis\": {\"backgroundcolor\": \"#E5ECF6\", \"gridcolor\": \"white\", \"gridwidth\": 2, \"linecolor\": \"white\", \"showbackground\": true, \"ticks\": \"\", \"zerolinecolor\": \"white\"}, \"yaxis\": {\"backgroundcolor\": \"#E5ECF6\", \"gridcolor\": \"white\", \"gridwidth\": 2, \"linecolor\": \"white\", \"showbackground\": true, \"ticks\": \"\", \"zerolinecolor\": \"white\"}, \"zaxis\": {\"backgroundcolor\": \"#E5ECF6\", \"gridcolor\": \"white\", \"gridwidth\": 2, \"linecolor\": \"white\", \"showbackground\": true, \"ticks\": \"\", \"zerolinecolor\": \"white\"}}, \"shapedefaults\": {\"line\": {\"color\": \"#2a3f5f\"}}, \"ternary\": {\"aaxis\": {\"gridcolor\": \"white\", \"linecolor\": \"white\", \"ticks\": \"\"}, \"baxis\": {\"gridcolor\": \"white\", \"linecolor\": \"white\", \"ticks\": \"\"}, \"bgcolor\": \"#E5ECF6\", \"caxis\": {\"gridcolor\": \"white\", \"linecolor\": \"white\", \"ticks\": \"\"}}, \"title\": {\"x\": 0.05}, \"xaxis\": {\"automargin\": true, \"gridcolor\": \"white\", \"linecolor\": \"white\", \"ticks\": \"\", \"title\": {\"standoff\": 15}, \"zerolinecolor\": \"white\", \"zerolinewidth\": 2}, \"yaxis\": {\"automargin\": true, \"gridcolor\": \"white\", \"linecolor\": \"white\", \"ticks\": \"\", \"title\": {\"standoff\": 15}, \"zerolinecolor\": \"white\", \"zerolinewidth\": 2}}}, \"title\": {\"text\": \"Stacked Bar chart showing the distribution of the three categories over time\"}},\n",
       "                        {\"responsive\": true}\n",
       "                    ).then(function(){\n",
       "                            \n",
       "var gd = document.getElementById('177e7c7a-a449-43f2-b290-34000528bf66');\n",
       "var x = new MutationObserver(function (mutations, observer) {{\n",
       "        var display = window.getComputedStyle(gd).display;\n",
       "        if (!display || display === 'none') {{\n",
       "            console.log([gd, 'removed!']);\n",
       "            Plotly.purge(gd);\n",
       "            observer.disconnect();\n",
       "        }}\n",
       "}});\n",
       "\n",
       "// Listen for the removal of the full notebook cells\n",
       "var notebookContainer = gd.closest('#notebook-container');\n",
       "if (notebookContainer) {{\n",
       "    x.observe(notebookContainer, {childList: true});\n",
       "}}\n",
       "\n",
       "// Listen for the clearing of the current output cell\n",
       "var outputEl = gd.closest('.output');\n",
       "if (outputEl) {{\n",
       "    x.observe(outputEl, {childList: true});\n",
       "}}\n",
       "\n",
       "                        })\n",
       "                };\n",
       "                });\n",
       "            </script>\n",
       "        </div>"
      ]
     },
     "metadata": {},
     "output_type": "display_data"
    }
   ],
   "source": [
    "df_bar = df.groupby(['date','category']).size().reset_index().rename(columns={0:'category_count'})\n",
    "plot_bar_stack = df_bar.pivot_table(index='date', columns='category', values='category_count', fill_value=0).reset_index()\n",
    "\n",
    "trace1 = go.Bar(x=plot_bar_stack.date, y=plot_bar_stack.CategoryA, name = 'CategoryA')\n",
    "trace2 = go.Bar(x=plot_bar_stack.date, y=plot_bar_stack.CategoryB, name = 'CategoryB')\n",
    "trace3 = go.Bar(x=plot_bar_stack.date, y=plot_bar_stack.CategoryC, name = 'CategoryC')\n",
    "\n",
    "fig = go.Figure(data=[trace1, trace2, trace3])\n",
    "fig.update_layout(barmode='stack', title_text='Stacked Bar chart showing the distribution of the three categories over time')\n",
    "iplot(fig)"
   ]
  },
  {
   "cell_type": "markdown",
   "metadata": {},
   "source": [
    "## 3. Line Chart "
   ]
  },
  {
   "cell_type": "markdown",
   "metadata": {},
   "source": [
    "### 3.1 Scatter Plot"
   ]
  },
  {
   "cell_type": "code",
   "execution_count": 8,
   "metadata": {},
   "outputs": [
    {
     "data": {
      "application/vnd.plotly.v1+json": {
       "config": {
        "linkText": "Export to plot.ly",
        "plotlyServerURL": "https://plot.ly",
        "showLink": false
       },
       "data": [
        {
         "mode": "markers",
         "type": "scatter",
         "x": [
          "2020-05-07",
          "2020-05-08",
          "2020-05-09",
          "2020-05-10",
          "2020-05-11",
          "2020-05-12",
          "2020-05-13",
          "2020-05-14",
          "2020-05-15",
          "2020-05-16",
          "2020-05-17",
          "2020-05-18",
          "2020-05-19",
          "2020-05-20",
          "2020-05-21"
         ],
         "y": [
          6,
          10,
          5,
          7,
          4,
          12,
          9,
          16,
          10,
          15,
          12,
          14,
          15,
          11,
          13
         ]
        }
       ],
       "layout": {
        "template": {
         "data": {
          "bar": [
           {
            "error_x": {
             "color": "#2a3f5f"
            },
            "error_y": {
             "color": "#2a3f5f"
            },
            "marker": {
             "line": {
              "color": "#E5ECF6",
              "width": 0.5
             }
            },
            "type": "bar"
           }
          ],
          "barpolar": [
           {
            "marker": {
             "line": {
              "color": "#E5ECF6",
              "width": 0.5
             }
            },
            "type": "barpolar"
           }
          ],
          "carpet": [
           {
            "aaxis": {
             "endlinecolor": "#2a3f5f",
             "gridcolor": "white",
             "linecolor": "white",
             "minorgridcolor": "white",
             "startlinecolor": "#2a3f5f"
            },
            "baxis": {
             "endlinecolor": "#2a3f5f",
             "gridcolor": "white",
             "linecolor": "white",
             "minorgridcolor": "white",
             "startlinecolor": "#2a3f5f"
            },
            "type": "carpet"
           }
          ],
          "choropleth": [
           {
            "colorbar": {
             "outlinewidth": 0,
             "ticks": ""
            },
            "type": "choropleth"
           }
          ],
          "contour": [
           {
            "colorbar": {
             "outlinewidth": 0,
             "ticks": ""
            },
            "colorscale": [
             [
              0,
              "#0d0887"
             ],
             [
              0.1111111111111111,
              "#46039f"
             ],
             [
              0.2222222222222222,
              "#7201a8"
             ],
             [
              0.3333333333333333,
              "#9c179e"
             ],
             [
              0.4444444444444444,
              "#bd3786"
             ],
             [
              0.5555555555555556,
              "#d8576b"
             ],
             [
              0.6666666666666666,
              "#ed7953"
             ],
             [
              0.7777777777777778,
              "#fb9f3a"
             ],
             [
              0.8888888888888888,
              "#fdca26"
             ],
             [
              1,
              "#f0f921"
             ]
            ],
            "type": "contour"
           }
          ],
          "contourcarpet": [
           {
            "colorbar": {
             "outlinewidth": 0,
             "ticks": ""
            },
            "type": "contourcarpet"
           }
          ],
          "heatmap": [
           {
            "colorbar": {
             "outlinewidth": 0,
             "ticks": ""
            },
            "colorscale": [
             [
              0,
              "#0d0887"
             ],
             [
              0.1111111111111111,
              "#46039f"
             ],
             [
              0.2222222222222222,
              "#7201a8"
             ],
             [
              0.3333333333333333,
              "#9c179e"
             ],
             [
              0.4444444444444444,
              "#bd3786"
             ],
             [
              0.5555555555555556,
              "#d8576b"
             ],
             [
              0.6666666666666666,
              "#ed7953"
             ],
             [
              0.7777777777777778,
              "#fb9f3a"
             ],
             [
              0.8888888888888888,
              "#fdca26"
             ],
             [
              1,
              "#f0f921"
             ]
            ],
            "type": "heatmap"
           }
          ],
          "heatmapgl": [
           {
            "colorbar": {
             "outlinewidth": 0,
             "ticks": ""
            },
            "colorscale": [
             [
              0,
              "#0d0887"
             ],
             [
              0.1111111111111111,
              "#46039f"
             ],
             [
              0.2222222222222222,
              "#7201a8"
             ],
             [
              0.3333333333333333,
              "#9c179e"
             ],
             [
              0.4444444444444444,
              "#bd3786"
             ],
             [
              0.5555555555555556,
              "#d8576b"
             ],
             [
              0.6666666666666666,
              "#ed7953"
             ],
             [
              0.7777777777777778,
              "#fb9f3a"
             ],
             [
              0.8888888888888888,
              "#fdca26"
             ],
             [
              1,
              "#f0f921"
             ]
            ],
            "type": "heatmapgl"
           }
          ],
          "histogram": [
           {
            "marker": {
             "colorbar": {
              "outlinewidth": 0,
              "ticks": ""
             }
            },
            "type": "histogram"
           }
          ],
          "histogram2d": [
           {
            "colorbar": {
             "outlinewidth": 0,
             "ticks": ""
            },
            "colorscale": [
             [
              0,
              "#0d0887"
             ],
             [
              0.1111111111111111,
              "#46039f"
             ],
             [
              0.2222222222222222,
              "#7201a8"
             ],
             [
              0.3333333333333333,
              "#9c179e"
             ],
             [
              0.4444444444444444,
              "#bd3786"
             ],
             [
              0.5555555555555556,
              "#d8576b"
             ],
             [
              0.6666666666666666,
              "#ed7953"
             ],
             [
              0.7777777777777778,
              "#fb9f3a"
             ],
             [
              0.8888888888888888,
              "#fdca26"
             ],
             [
              1,
              "#f0f921"
             ]
            ],
            "type": "histogram2d"
           }
          ],
          "histogram2dcontour": [
           {
            "colorbar": {
             "outlinewidth": 0,
             "ticks": ""
            },
            "colorscale": [
             [
              0,
              "#0d0887"
             ],
             [
              0.1111111111111111,
              "#46039f"
             ],
             [
              0.2222222222222222,
              "#7201a8"
             ],
             [
              0.3333333333333333,
              "#9c179e"
             ],
             [
              0.4444444444444444,
              "#bd3786"
             ],
             [
              0.5555555555555556,
              "#d8576b"
             ],
             [
              0.6666666666666666,
              "#ed7953"
             ],
             [
              0.7777777777777778,
              "#fb9f3a"
             ],
             [
              0.8888888888888888,
              "#fdca26"
             ],
             [
              1,
              "#f0f921"
             ]
            ],
            "type": "histogram2dcontour"
           }
          ],
          "mesh3d": [
           {
            "colorbar": {
             "outlinewidth": 0,
             "ticks": ""
            },
            "type": "mesh3d"
           }
          ],
          "parcoords": [
           {
            "line": {
             "colorbar": {
              "outlinewidth": 0,
              "ticks": ""
             }
            },
            "type": "parcoords"
           }
          ],
          "pie": [
           {
            "automargin": true,
            "type": "pie"
           }
          ],
          "scatter": [
           {
            "marker": {
             "colorbar": {
              "outlinewidth": 0,
              "ticks": ""
             }
            },
            "type": "scatter"
           }
          ],
          "scatter3d": [
           {
            "line": {
             "colorbar": {
              "outlinewidth": 0,
              "ticks": ""
             }
            },
            "marker": {
             "colorbar": {
              "outlinewidth": 0,
              "ticks": ""
             }
            },
            "type": "scatter3d"
           }
          ],
          "scattercarpet": [
           {
            "marker": {
             "colorbar": {
              "outlinewidth": 0,
              "ticks": ""
             }
            },
            "type": "scattercarpet"
           }
          ],
          "scattergeo": [
           {
            "marker": {
             "colorbar": {
              "outlinewidth": 0,
              "ticks": ""
             }
            },
            "type": "scattergeo"
           }
          ],
          "scattergl": [
           {
            "marker": {
             "colorbar": {
              "outlinewidth": 0,
              "ticks": ""
             }
            },
            "type": "scattergl"
           }
          ],
          "scattermapbox": [
           {
            "marker": {
             "colorbar": {
              "outlinewidth": 0,
              "ticks": ""
             }
            },
            "type": "scattermapbox"
           }
          ],
          "scatterpolar": [
           {
            "marker": {
             "colorbar": {
              "outlinewidth": 0,
              "ticks": ""
             }
            },
            "type": "scatterpolar"
           }
          ],
          "scatterpolargl": [
           {
            "marker": {
             "colorbar": {
              "outlinewidth": 0,
              "ticks": ""
             }
            },
            "type": "scatterpolargl"
           }
          ],
          "scatterternary": [
           {
            "marker": {
             "colorbar": {
              "outlinewidth": 0,
              "ticks": ""
             }
            },
            "type": "scatterternary"
           }
          ],
          "surface": [
           {
            "colorbar": {
             "outlinewidth": 0,
             "ticks": ""
            },
            "colorscale": [
             [
              0,
              "#0d0887"
             ],
             [
              0.1111111111111111,
              "#46039f"
             ],
             [
              0.2222222222222222,
              "#7201a8"
             ],
             [
              0.3333333333333333,
              "#9c179e"
             ],
             [
              0.4444444444444444,
              "#bd3786"
             ],
             [
              0.5555555555555556,
              "#d8576b"
             ],
             [
              0.6666666666666666,
              "#ed7953"
             ],
             [
              0.7777777777777778,
              "#fb9f3a"
             ],
             [
              0.8888888888888888,
              "#fdca26"
             ],
             [
              1,
              "#f0f921"
             ]
            ],
            "type": "surface"
           }
          ],
          "table": [
           {
            "cells": {
             "fill": {
              "color": "#EBF0F8"
             },
             "line": {
              "color": "white"
             }
            },
            "header": {
             "fill": {
              "color": "#C8D4E3"
             },
             "line": {
              "color": "white"
             }
            },
            "type": "table"
           }
          ]
         },
         "layout": {
          "annotationdefaults": {
           "arrowcolor": "#2a3f5f",
           "arrowhead": 0,
           "arrowwidth": 1
          },
          "coloraxis": {
           "colorbar": {
            "outlinewidth": 0,
            "ticks": ""
           }
          },
          "colorscale": {
           "diverging": [
            [
             0,
             "#8e0152"
            ],
            [
             0.1,
             "#c51b7d"
            ],
            [
             0.2,
             "#de77ae"
            ],
            [
             0.3,
             "#f1b6da"
            ],
            [
             0.4,
             "#fde0ef"
            ],
            [
             0.5,
             "#f7f7f7"
            ],
            [
             0.6,
             "#e6f5d0"
            ],
            [
             0.7,
             "#b8e186"
            ],
            [
             0.8,
             "#7fbc41"
            ],
            [
             0.9,
             "#4d9221"
            ],
            [
             1,
             "#276419"
            ]
           ],
           "sequential": [
            [
             0,
             "#0d0887"
            ],
            [
             0.1111111111111111,
             "#46039f"
            ],
            [
             0.2222222222222222,
             "#7201a8"
            ],
            [
             0.3333333333333333,
             "#9c179e"
            ],
            [
             0.4444444444444444,
             "#bd3786"
            ],
            [
             0.5555555555555556,
             "#d8576b"
            ],
            [
             0.6666666666666666,
             "#ed7953"
            ],
            [
             0.7777777777777778,
             "#fb9f3a"
            ],
            [
             0.8888888888888888,
             "#fdca26"
            ],
            [
             1,
             "#f0f921"
            ]
           ],
           "sequentialminus": [
            [
             0,
             "#0d0887"
            ],
            [
             0.1111111111111111,
             "#46039f"
            ],
            [
             0.2222222222222222,
             "#7201a8"
            ],
            [
             0.3333333333333333,
             "#9c179e"
            ],
            [
             0.4444444444444444,
             "#bd3786"
            ],
            [
             0.5555555555555556,
             "#d8576b"
            ],
            [
             0.6666666666666666,
             "#ed7953"
            ],
            [
             0.7777777777777778,
             "#fb9f3a"
            ],
            [
             0.8888888888888888,
             "#fdca26"
            ],
            [
             1,
             "#f0f921"
            ]
           ]
          },
          "colorway": [
           "#636efa",
           "#EF553B",
           "#00cc96",
           "#ab63fa",
           "#FFA15A",
           "#19d3f3",
           "#FF6692",
           "#B6E880",
           "#FF97FF",
           "#FECB52"
          ],
          "font": {
           "color": "#2a3f5f"
          },
          "geo": {
           "bgcolor": "white",
           "lakecolor": "white",
           "landcolor": "#E5ECF6",
           "showlakes": true,
           "showland": true,
           "subunitcolor": "white"
          },
          "hoverlabel": {
           "align": "left"
          },
          "hovermode": "closest",
          "mapbox": {
           "style": "light"
          },
          "paper_bgcolor": "white",
          "plot_bgcolor": "#E5ECF6",
          "polar": {
           "angularaxis": {
            "gridcolor": "white",
            "linecolor": "white",
            "ticks": ""
           },
           "bgcolor": "#E5ECF6",
           "radialaxis": {
            "gridcolor": "white",
            "linecolor": "white",
            "ticks": ""
           }
          },
          "scene": {
           "xaxis": {
            "backgroundcolor": "#E5ECF6",
            "gridcolor": "white",
            "gridwidth": 2,
            "linecolor": "white",
            "showbackground": true,
            "ticks": "",
            "zerolinecolor": "white"
           },
           "yaxis": {
            "backgroundcolor": "#E5ECF6",
            "gridcolor": "white",
            "gridwidth": 2,
            "linecolor": "white",
            "showbackground": true,
            "ticks": "",
            "zerolinecolor": "white"
           },
           "zaxis": {
            "backgroundcolor": "#E5ECF6",
            "gridcolor": "white",
            "gridwidth": 2,
            "linecolor": "white",
            "showbackground": true,
            "ticks": "",
            "zerolinecolor": "white"
           }
          },
          "shapedefaults": {
           "line": {
            "color": "#2a3f5f"
           }
          },
          "ternary": {
           "aaxis": {
            "gridcolor": "white",
            "linecolor": "white",
            "ticks": ""
           },
           "baxis": {
            "gridcolor": "white",
            "linecolor": "white",
            "ticks": ""
           },
           "bgcolor": "#E5ECF6",
           "caxis": {
            "gridcolor": "white",
            "linecolor": "white",
            "ticks": ""
           }
          },
          "title": {
           "x": 0.05
          },
          "xaxis": {
           "automargin": true,
           "gridcolor": "white",
           "linecolor": "white",
           "ticks": "",
           "title": {
            "standoff": 15
           },
           "zerolinecolor": "white",
           "zerolinewidth": 2
          },
          "yaxis": {
           "automargin": true,
           "gridcolor": "white",
           "linecolor": "white",
           "ticks": "",
           "title": {
            "standoff": 15
           },
           "zerolinecolor": "white",
           "zerolinewidth": 2
          }
         }
        },
        "title": {
         "text": "Scatter Plot showing the distribution of the three categories"
        }
       }
      },
      "text/html": [
       "<div>\n",
       "        \n",
       "        \n",
       "            <div id=\"c64c212a-b970-4929-9e72-7d89083dddad\" class=\"plotly-graph-div\" style=\"height:525px; width:100%;\"></div>\n",
       "            <script type=\"text/javascript\">\n",
       "                require([\"plotly\"], function(Plotly) {\n",
       "                    window.PLOTLYENV=window.PLOTLYENV || {};\n",
       "                    \n",
       "                if (document.getElementById(\"c64c212a-b970-4929-9e72-7d89083dddad\")) {\n",
       "                    Plotly.newPlot(\n",
       "                        'c64c212a-b970-4929-9e72-7d89083dddad',\n",
       "                        [{\"mode\": \"markers\", \"type\": \"scatter\", \"x\": [\"2020-05-07\", \"2020-05-08\", \"2020-05-09\", \"2020-05-10\", \"2020-05-11\", \"2020-05-12\", \"2020-05-13\", \"2020-05-14\", \"2020-05-15\", \"2020-05-16\", \"2020-05-17\", \"2020-05-18\", \"2020-05-19\", \"2020-05-20\", \"2020-05-21\"], \"y\": [6, 10, 5, 7, 4, 12, 9, 16, 10, 15, 12, 14, 15, 11, 13]}],\n",
       "                        {\"template\": {\"data\": {\"bar\": [{\"error_x\": {\"color\": \"#2a3f5f\"}, \"error_y\": {\"color\": \"#2a3f5f\"}, \"marker\": {\"line\": {\"color\": \"#E5ECF6\", \"width\": 0.5}}, \"type\": \"bar\"}], \"barpolar\": [{\"marker\": {\"line\": {\"color\": \"#E5ECF6\", \"width\": 0.5}}, \"type\": \"barpolar\"}], \"carpet\": [{\"aaxis\": {\"endlinecolor\": \"#2a3f5f\", \"gridcolor\": \"white\", \"linecolor\": \"white\", \"minorgridcolor\": \"white\", \"startlinecolor\": \"#2a3f5f\"}, \"baxis\": {\"endlinecolor\": \"#2a3f5f\", \"gridcolor\": \"white\", \"linecolor\": \"white\", \"minorgridcolor\": \"white\", \"startlinecolor\": \"#2a3f5f\"}, \"type\": \"carpet\"}], \"choropleth\": [{\"colorbar\": {\"outlinewidth\": 0, \"ticks\": \"\"}, \"type\": \"choropleth\"}], \"contour\": [{\"colorbar\": {\"outlinewidth\": 0, \"ticks\": \"\"}, \"colorscale\": [[0.0, \"#0d0887\"], [0.1111111111111111, \"#46039f\"], [0.2222222222222222, \"#7201a8\"], [0.3333333333333333, \"#9c179e\"], [0.4444444444444444, \"#bd3786\"], [0.5555555555555556, \"#d8576b\"], [0.6666666666666666, \"#ed7953\"], [0.7777777777777778, \"#fb9f3a\"], [0.8888888888888888, \"#fdca26\"], [1.0, \"#f0f921\"]], \"type\": \"contour\"}], \"contourcarpet\": [{\"colorbar\": {\"outlinewidth\": 0, \"ticks\": \"\"}, \"type\": \"contourcarpet\"}], \"heatmap\": [{\"colorbar\": {\"outlinewidth\": 0, \"ticks\": \"\"}, \"colorscale\": [[0.0, \"#0d0887\"], [0.1111111111111111, \"#46039f\"], [0.2222222222222222, \"#7201a8\"], [0.3333333333333333, \"#9c179e\"], [0.4444444444444444, \"#bd3786\"], [0.5555555555555556, \"#d8576b\"], [0.6666666666666666, \"#ed7953\"], [0.7777777777777778, \"#fb9f3a\"], [0.8888888888888888, \"#fdca26\"], [1.0, \"#f0f921\"]], \"type\": \"heatmap\"}], \"heatmapgl\": [{\"colorbar\": {\"outlinewidth\": 0, \"ticks\": \"\"}, \"colorscale\": [[0.0, \"#0d0887\"], [0.1111111111111111, \"#46039f\"], [0.2222222222222222, \"#7201a8\"], [0.3333333333333333, \"#9c179e\"], [0.4444444444444444, \"#bd3786\"], [0.5555555555555556, \"#d8576b\"], [0.6666666666666666, \"#ed7953\"], [0.7777777777777778, \"#fb9f3a\"], [0.8888888888888888, \"#fdca26\"], [1.0, \"#f0f921\"]], \"type\": \"heatmapgl\"}], \"histogram\": [{\"marker\": {\"colorbar\": {\"outlinewidth\": 0, \"ticks\": \"\"}}, \"type\": \"histogram\"}], \"histogram2d\": [{\"colorbar\": {\"outlinewidth\": 0, \"ticks\": \"\"}, \"colorscale\": [[0.0, \"#0d0887\"], [0.1111111111111111, \"#46039f\"], [0.2222222222222222, \"#7201a8\"], [0.3333333333333333, \"#9c179e\"], [0.4444444444444444, \"#bd3786\"], [0.5555555555555556, \"#d8576b\"], [0.6666666666666666, \"#ed7953\"], [0.7777777777777778, \"#fb9f3a\"], [0.8888888888888888, \"#fdca26\"], [1.0, \"#f0f921\"]], \"type\": \"histogram2d\"}], \"histogram2dcontour\": [{\"colorbar\": {\"outlinewidth\": 0, \"ticks\": \"\"}, \"colorscale\": [[0.0, \"#0d0887\"], [0.1111111111111111, \"#46039f\"], [0.2222222222222222, \"#7201a8\"], [0.3333333333333333, \"#9c179e\"], [0.4444444444444444, \"#bd3786\"], [0.5555555555555556, \"#d8576b\"], [0.6666666666666666, \"#ed7953\"], [0.7777777777777778, \"#fb9f3a\"], [0.8888888888888888, \"#fdca26\"], [1.0, \"#f0f921\"]], \"type\": \"histogram2dcontour\"}], \"mesh3d\": [{\"colorbar\": {\"outlinewidth\": 0, \"ticks\": \"\"}, \"type\": \"mesh3d\"}], \"parcoords\": [{\"line\": {\"colorbar\": {\"outlinewidth\": 0, \"ticks\": \"\"}}, \"type\": \"parcoords\"}], \"pie\": [{\"automargin\": true, \"type\": \"pie\"}], \"scatter\": [{\"marker\": {\"colorbar\": {\"outlinewidth\": 0, \"ticks\": \"\"}}, \"type\": \"scatter\"}], \"scatter3d\": [{\"line\": {\"colorbar\": {\"outlinewidth\": 0, \"ticks\": \"\"}}, \"marker\": {\"colorbar\": {\"outlinewidth\": 0, \"ticks\": \"\"}}, \"type\": \"scatter3d\"}], \"scattercarpet\": [{\"marker\": {\"colorbar\": {\"outlinewidth\": 0, \"ticks\": \"\"}}, \"type\": \"scattercarpet\"}], \"scattergeo\": [{\"marker\": {\"colorbar\": {\"outlinewidth\": 0, \"ticks\": \"\"}}, \"type\": \"scattergeo\"}], \"scattergl\": [{\"marker\": {\"colorbar\": {\"outlinewidth\": 0, \"ticks\": \"\"}}, \"type\": \"scattergl\"}], \"scattermapbox\": [{\"marker\": {\"colorbar\": {\"outlinewidth\": 0, \"ticks\": \"\"}}, \"type\": \"scattermapbox\"}], \"scatterpolar\": [{\"marker\": {\"colorbar\": {\"outlinewidth\": 0, \"ticks\": \"\"}}, \"type\": \"scatterpolar\"}], \"scatterpolargl\": [{\"marker\": {\"colorbar\": {\"outlinewidth\": 0, \"ticks\": \"\"}}, \"type\": \"scatterpolargl\"}], \"scatterternary\": [{\"marker\": {\"colorbar\": {\"outlinewidth\": 0, \"ticks\": \"\"}}, \"type\": \"scatterternary\"}], \"surface\": [{\"colorbar\": {\"outlinewidth\": 0, \"ticks\": \"\"}, \"colorscale\": [[0.0, \"#0d0887\"], [0.1111111111111111, \"#46039f\"], [0.2222222222222222, \"#7201a8\"], [0.3333333333333333, \"#9c179e\"], [0.4444444444444444, \"#bd3786\"], [0.5555555555555556, \"#d8576b\"], [0.6666666666666666, \"#ed7953\"], [0.7777777777777778, \"#fb9f3a\"], [0.8888888888888888, \"#fdca26\"], [1.0, \"#f0f921\"]], \"type\": \"surface\"}], \"table\": [{\"cells\": {\"fill\": {\"color\": \"#EBF0F8\"}, \"line\": {\"color\": \"white\"}}, \"header\": {\"fill\": {\"color\": \"#C8D4E3\"}, \"line\": {\"color\": \"white\"}}, \"type\": \"table\"}]}, \"layout\": {\"annotationdefaults\": {\"arrowcolor\": \"#2a3f5f\", \"arrowhead\": 0, \"arrowwidth\": 1}, \"coloraxis\": {\"colorbar\": {\"outlinewidth\": 0, \"ticks\": \"\"}}, \"colorscale\": {\"diverging\": [[0, \"#8e0152\"], [0.1, \"#c51b7d\"], [0.2, \"#de77ae\"], [0.3, \"#f1b6da\"], [0.4, \"#fde0ef\"], [0.5, \"#f7f7f7\"], [0.6, \"#e6f5d0\"], [0.7, \"#b8e186\"], [0.8, \"#7fbc41\"], [0.9, \"#4d9221\"], [1, \"#276419\"]], \"sequential\": [[0.0, \"#0d0887\"], [0.1111111111111111, \"#46039f\"], [0.2222222222222222, \"#7201a8\"], [0.3333333333333333, \"#9c179e\"], [0.4444444444444444, \"#bd3786\"], [0.5555555555555556, \"#d8576b\"], [0.6666666666666666, \"#ed7953\"], [0.7777777777777778, \"#fb9f3a\"], [0.8888888888888888, \"#fdca26\"], [1.0, \"#f0f921\"]], \"sequentialminus\": [[0.0, \"#0d0887\"], [0.1111111111111111, \"#46039f\"], [0.2222222222222222, \"#7201a8\"], [0.3333333333333333, \"#9c179e\"], [0.4444444444444444, \"#bd3786\"], [0.5555555555555556, \"#d8576b\"], [0.6666666666666666, \"#ed7953\"], [0.7777777777777778, \"#fb9f3a\"], [0.8888888888888888, \"#fdca26\"], [1.0, \"#f0f921\"]]}, \"colorway\": [\"#636efa\", \"#EF553B\", \"#00cc96\", \"#ab63fa\", \"#FFA15A\", \"#19d3f3\", \"#FF6692\", \"#B6E880\", \"#FF97FF\", \"#FECB52\"], \"font\": {\"color\": \"#2a3f5f\"}, \"geo\": {\"bgcolor\": \"white\", \"lakecolor\": \"white\", \"landcolor\": \"#E5ECF6\", \"showlakes\": true, \"showland\": true, \"subunitcolor\": \"white\"}, \"hoverlabel\": {\"align\": \"left\"}, \"hovermode\": \"closest\", \"mapbox\": {\"style\": \"light\"}, \"paper_bgcolor\": \"white\", \"plot_bgcolor\": \"#E5ECF6\", \"polar\": {\"angularaxis\": {\"gridcolor\": \"white\", \"linecolor\": \"white\", \"ticks\": \"\"}, \"bgcolor\": \"#E5ECF6\", \"radialaxis\": {\"gridcolor\": \"white\", \"linecolor\": \"white\", \"ticks\": \"\"}}, \"scene\": {\"xaxis\": {\"backgroundcolor\": \"#E5ECF6\", \"gridcolor\": \"white\", \"gridwidth\": 2, \"linecolor\": \"white\", \"showbackground\": true, \"ticks\": \"\", \"zerolinecolor\": \"white\"}, \"yaxis\": {\"backgroundcolor\": \"#E5ECF6\", \"gridcolor\": \"white\", \"gridwidth\": 2, \"linecolor\": \"white\", \"showbackground\": true, \"ticks\": \"\", \"zerolinecolor\": \"white\"}, \"zaxis\": {\"backgroundcolor\": \"#E5ECF6\", \"gridcolor\": \"white\", \"gridwidth\": 2, \"linecolor\": \"white\", \"showbackground\": true, \"ticks\": \"\", \"zerolinecolor\": \"white\"}}, \"shapedefaults\": {\"line\": {\"color\": \"#2a3f5f\"}}, \"ternary\": {\"aaxis\": {\"gridcolor\": \"white\", \"linecolor\": \"white\", \"ticks\": \"\"}, \"baxis\": {\"gridcolor\": \"white\", \"linecolor\": \"white\", \"ticks\": \"\"}, \"bgcolor\": \"#E5ECF6\", \"caxis\": {\"gridcolor\": \"white\", \"linecolor\": \"white\", \"ticks\": \"\"}}, \"title\": {\"x\": 0.05}, \"xaxis\": {\"automargin\": true, \"gridcolor\": \"white\", \"linecolor\": \"white\", \"ticks\": \"\", \"title\": {\"standoff\": 15}, \"zerolinecolor\": \"white\", \"zerolinewidth\": 2}, \"yaxis\": {\"automargin\": true, \"gridcolor\": \"white\", \"linecolor\": \"white\", \"ticks\": \"\", \"title\": {\"standoff\": 15}, \"zerolinecolor\": \"white\", \"zerolinewidth\": 2}}}, \"title\": {\"text\": \"Scatter Plot showing the distribution of the three categories\"}},\n",
       "                        {\"responsive\": true}\n",
       "                    ).then(function(){\n",
       "                            \n",
       "var gd = document.getElementById('c64c212a-b970-4929-9e72-7d89083dddad');\n",
       "var x = new MutationObserver(function (mutations, observer) {{\n",
       "        var display = window.getComputedStyle(gd).display;\n",
       "        if (!display || display === 'none') {{\n",
       "            console.log([gd, 'removed!']);\n",
       "            Plotly.purge(gd);\n",
       "            observer.disconnect();\n",
       "        }}\n",
       "}});\n",
       "\n",
       "// Listen for the removal of the full notebook cells\n",
       "var notebookContainer = gd.closest('#notebook-container');\n",
       "if (notebookContainer) {{\n",
       "    x.observe(notebookContainer, {childList: true});\n",
       "}}\n",
       "\n",
       "// Listen for the clearing of the current output cell\n",
       "var outputEl = gd.closest('.output');\n",
       "if (outputEl) {{\n",
       "    x.observe(outputEl, {childList: true});\n",
       "}}\n",
       "\n",
       "                        })\n",
       "                };\n",
       "                });\n",
       "            </script>\n",
       "        </div>"
      ]
     },
     "metadata": {},
     "output_type": "display_data"
    }
   ],
   "source": [
    "plot_markers = df.groupby('date').count().reset_index().rename(columns={'category': 'category_count'})\n",
    "trace = go.Scatter(x=plot_markers['date'], y=plot_markers['category_count'], mode='markers')\n",
    "fig = go.Figure(data=[trace])\n",
    "fig.update_layout(title_text='Scatter Plot showing the distribution of the three categories')\n",
    "iplot(fig)"
   ]
  },
  {
   "cell_type": "markdown",
   "metadata": {},
   "source": [
    "### 3.2 Line Plot "
   ]
  },
  {
   "cell_type": "code",
   "execution_count": 9,
   "metadata": {},
   "outputs": [
    {
     "data": {
      "application/vnd.plotly.v1+json": {
       "config": {
        "linkText": "Export to plot.ly",
        "plotlyServerURL": "https://plot.ly",
        "showLink": false
       },
       "data": [
        {
         "mode": "lines",
         "type": "scatter",
         "x": [
          "2020-05-07",
          "2020-05-08",
          "2020-05-09",
          "2020-05-10",
          "2020-05-11",
          "2020-05-12",
          "2020-05-13",
          "2020-05-14",
          "2020-05-15",
          "2020-05-16",
          "2020-05-17",
          "2020-05-18",
          "2020-05-19",
          "2020-05-20",
          "2020-05-21"
         ],
         "y": [
          6,
          10,
          5,
          7,
          4,
          12,
          9,
          16,
          10,
          15,
          12,
          14,
          15,
          11,
          13
         ]
        }
       ],
       "layout": {
        "template": {
         "data": {
          "bar": [
           {
            "error_x": {
             "color": "#2a3f5f"
            },
            "error_y": {
             "color": "#2a3f5f"
            },
            "marker": {
             "line": {
              "color": "#E5ECF6",
              "width": 0.5
             }
            },
            "type": "bar"
           }
          ],
          "barpolar": [
           {
            "marker": {
             "line": {
              "color": "#E5ECF6",
              "width": 0.5
             }
            },
            "type": "barpolar"
           }
          ],
          "carpet": [
           {
            "aaxis": {
             "endlinecolor": "#2a3f5f",
             "gridcolor": "white",
             "linecolor": "white",
             "minorgridcolor": "white",
             "startlinecolor": "#2a3f5f"
            },
            "baxis": {
             "endlinecolor": "#2a3f5f",
             "gridcolor": "white",
             "linecolor": "white",
             "minorgridcolor": "white",
             "startlinecolor": "#2a3f5f"
            },
            "type": "carpet"
           }
          ],
          "choropleth": [
           {
            "colorbar": {
             "outlinewidth": 0,
             "ticks": ""
            },
            "type": "choropleth"
           }
          ],
          "contour": [
           {
            "colorbar": {
             "outlinewidth": 0,
             "ticks": ""
            },
            "colorscale": [
             [
              0,
              "#0d0887"
             ],
             [
              0.1111111111111111,
              "#46039f"
             ],
             [
              0.2222222222222222,
              "#7201a8"
             ],
             [
              0.3333333333333333,
              "#9c179e"
             ],
             [
              0.4444444444444444,
              "#bd3786"
             ],
             [
              0.5555555555555556,
              "#d8576b"
             ],
             [
              0.6666666666666666,
              "#ed7953"
             ],
             [
              0.7777777777777778,
              "#fb9f3a"
             ],
             [
              0.8888888888888888,
              "#fdca26"
             ],
             [
              1,
              "#f0f921"
             ]
            ],
            "type": "contour"
           }
          ],
          "contourcarpet": [
           {
            "colorbar": {
             "outlinewidth": 0,
             "ticks": ""
            },
            "type": "contourcarpet"
           }
          ],
          "heatmap": [
           {
            "colorbar": {
             "outlinewidth": 0,
             "ticks": ""
            },
            "colorscale": [
             [
              0,
              "#0d0887"
             ],
             [
              0.1111111111111111,
              "#46039f"
             ],
             [
              0.2222222222222222,
              "#7201a8"
             ],
             [
              0.3333333333333333,
              "#9c179e"
             ],
             [
              0.4444444444444444,
              "#bd3786"
             ],
             [
              0.5555555555555556,
              "#d8576b"
             ],
             [
              0.6666666666666666,
              "#ed7953"
             ],
             [
              0.7777777777777778,
              "#fb9f3a"
             ],
             [
              0.8888888888888888,
              "#fdca26"
             ],
             [
              1,
              "#f0f921"
             ]
            ],
            "type": "heatmap"
           }
          ],
          "heatmapgl": [
           {
            "colorbar": {
             "outlinewidth": 0,
             "ticks": ""
            },
            "colorscale": [
             [
              0,
              "#0d0887"
             ],
             [
              0.1111111111111111,
              "#46039f"
             ],
             [
              0.2222222222222222,
              "#7201a8"
             ],
             [
              0.3333333333333333,
              "#9c179e"
             ],
             [
              0.4444444444444444,
              "#bd3786"
             ],
             [
              0.5555555555555556,
              "#d8576b"
             ],
             [
              0.6666666666666666,
              "#ed7953"
             ],
             [
              0.7777777777777778,
              "#fb9f3a"
             ],
             [
              0.8888888888888888,
              "#fdca26"
             ],
             [
              1,
              "#f0f921"
             ]
            ],
            "type": "heatmapgl"
           }
          ],
          "histogram": [
           {
            "marker": {
             "colorbar": {
              "outlinewidth": 0,
              "ticks": ""
             }
            },
            "type": "histogram"
           }
          ],
          "histogram2d": [
           {
            "colorbar": {
             "outlinewidth": 0,
             "ticks": ""
            },
            "colorscale": [
             [
              0,
              "#0d0887"
             ],
             [
              0.1111111111111111,
              "#46039f"
             ],
             [
              0.2222222222222222,
              "#7201a8"
             ],
             [
              0.3333333333333333,
              "#9c179e"
             ],
             [
              0.4444444444444444,
              "#bd3786"
             ],
             [
              0.5555555555555556,
              "#d8576b"
             ],
             [
              0.6666666666666666,
              "#ed7953"
             ],
             [
              0.7777777777777778,
              "#fb9f3a"
             ],
             [
              0.8888888888888888,
              "#fdca26"
             ],
             [
              1,
              "#f0f921"
             ]
            ],
            "type": "histogram2d"
           }
          ],
          "histogram2dcontour": [
           {
            "colorbar": {
             "outlinewidth": 0,
             "ticks": ""
            },
            "colorscale": [
             [
              0,
              "#0d0887"
             ],
             [
              0.1111111111111111,
              "#46039f"
             ],
             [
              0.2222222222222222,
              "#7201a8"
             ],
             [
              0.3333333333333333,
              "#9c179e"
             ],
             [
              0.4444444444444444,
              "#bd3786"
             ],
             [
              0.5555555555555556,
              "#d8576b"
             ],
             [
              0.6666666666666666,
              "#ed7953"
             ],
             [
              0.7777777777777778,
              "#fb9f3a"
             ],
             [
              0.8888888888888888,
              "#fdca26"
             ],
             [
              1,
              "#f0f921"
             ]
            ],
            "type": "histogram2dcontour"
           }
          ],
          "mesh3d": [
           {
            "colorbar": {
             "outlinewidth": 0,
             "ticks": ""
            },
            "type": "mesh3d"
           }
          ],
          "parcoords": [
           {
            "line": {
             "colorbar": {
              "outlinewidth": 0,
              "ticks": ""
             }
            },
            "type": "parcoords"
           }
          ],
          "pie": [
           {
            "automargin": true,
            "type": "pie"
           }
          ],
          "scatter": [
           {
            "marker": {
             "colorbar": {
              "outlinewidth": 0,
              "ticks": ""
             }
            },
            "type": "scatter"
           }
          ],
          "scatter3d": [
           {
            "line": {
             "colorbar": {
              "outlinewidth": 0,
              "ticks": ""
             }
            },
            "marker": {
             "colorbar": {
              "outlinewidth": 0,
              "ticks": ""
             }
            },
            "type": "scatter3d"
           }
          ],
          "scattercarpet": [
           {
            "marker": {
             "colorbar": {
              "outlinewidth": 0,
              "ticks": ""
             }
            },
            "type": "scattercarpet"
           }
          ],
          "scattergeo": [
           {
            "marker": {
             "colorbar": {
              "outlinewidth": 0,
              "ticks": ""
             }
            },
            "type": "scattergeo"
           }
          ],
          "scattergl": [
           {
            "marker": {
             "colorbar": {
              "outlinewidth": 0,
              "ticks": ""
             }
            },
            "type": "scattergl"
           }
          ],
          "scattermapbox": [
           {
            "marker": {
             "colorbar": {
              "outlinewidth": 0,
              "ticks": ""
             }
            },
            "type": "scattermapbox"
           }
          ],
          "scatterpolar": [
           {
            "marker": {
             "colorbar": {
              "outlinewidth": 0,
              "ticks": ""
             }
            },
            "type": "scatterpolar"
           }
          ],
          "scatterpolargl": [
           {
            "marker": {
             "colorbar": {
              "outlinewidth": 0,
              "ticks": ""
             }
            },
            "type": "scatterpolargl"
           }
          ],
          "scatterternary": [
           {
            "marker": {
             "colorbar": {
              "outlinewidth": 0,
              "ticks": ""
             }
            },
            "type": "scatterternary"
           }
          ],
          "surface": [
           {
            "colorbar": {
             "outlinewidth": 0,
             "ticks": ""
            },
            "colorscale": [
             [
              0,
              "#0d0887"
             ],
             [
              0.1111111111111111,
              "#46039f"
             ],
             [
              0.2222222222222222,
              "#7201a8"
             ],
             [
              0.3333333333333333,
              "#9c179e"
             ],
             [
              0.4444444444444444,
              "#bd3786"
             ],
             [
              0.5555555555555556,
              "#d8576b"
             ],
             [
              0.6666666666666666,
              "#ed7953"
             ],
             [
              0.7777777777777778,
              "#fb9f3a"
             ],
             [
              0.8888888888888888,
              "#fdca26"
             ],
             [
              1,
              "#f0f921"
             ]
            ],
            "type": "surface"
           }
          ],
          "table": [
           {
            "cells": {
             "fill": {
              "color": "#EBF0F8"
             },
             "line": {
              "color": "white"
             }
            },
            "header": {
             "fill": {
              "color": "#C8D4E3"
             },
             "line": {
              "color": "white"
             }
            },
            "type": "table"
           }
          ]
         },
         "layout": {
          "annotationdefaults": {
           "arrowcolor": "#2a3f5f",
           "arrowhead": 0,
           "arrowwidth": 1
          },
          "coloraxis": {
           "colorbar": {
            "outlinewidth": 0,
            "ticks": ""
           }
          },
          "colorscale": {
           "diverging": [
            [
             0,
             "#8e0152"
            ],
            [
             0.1,
             "#c51b7d"
            ],
            [
             0.2,
             "#de77ae"
            ],
            [
             0.3,
             "#f1b6da"
            ],
            [
             0.4,
             "#fde0ef"
            ],
            [
             0.5,
             "#f7f7f7"
            ],
            [
             0.6,
             "#e6f5d0"
            ],
            [
             0.7,
             "#b8e186"
            ],
            [
             0.8,
             "#7fbc41"
            ],
            [
             0.9,
             "#4d9221"
            ],
            [
             1,
             "#276419"
            ]
           ],
           "sequential": [
            [
             0,
             "#0d0887"
            ],
            [
             0.1111111111111111,
             "#46039f"
            ],
            [
             0.2222222222222222,
             "#7201a8"
            ],
            [
             0.3333333333333333,
             "#9c179e"
            ],
            [
             0.4444444444444444,
             "#bd3786"
            ],
            [
             0.5555555555555556,
             "#d8576b"
            ],
            [
             0.6666666666666666,
             "#ed7953"
            ],
            [
             0.7777777777777778,
             "#fb9f3a"
            ],
            [
             0.8888888888888888,
             "#fdca26"
            ],
            [
             1,
             "#f0f921"
            ]
           ],
           "sequentialminus": [
            [
             0,
             "#0d0887"
            ],
            [
             0.1111111111111111,
             "#46039f"
            ],
            [
             0.2222222222222222,
             "#7201a8"
            ],
            [
             0.3333333333333333,
             "#9c179e"
            ],
            [
             0.4444444444444444,
             "#bd3786"
            ],
            [
             0.5555555555555556,
             "#d8576b"
            ],
            [
             0.6666666666666666,
             "#ed7953"
            ],
            [
             0.7777777777777778,
             "#fb9f3a"
            ],
            [
             0.8888888888888888,
             "#fdca26"
            ],
            [
             1,
             "#f0f921"
            ]
           ]
          },
          "colorway": [
           "#636efa",
           "#EF553B",
           "#00cc96",
           "#ab63fa",
           "#FFA15A",
           "#19d3f3",
           "#FF6692",
           "#B6E880",
           "#FF97FF",
           "#FECB52"
          ],
          "font": {
           "color": "#2a3f5f"
          },
          "geo": {
           "bgcolor": "white",
           "lakecolor": "white",
           "landcolor": "#E5ECF6",
           "showlakes": true,
           "showland": true,
           "subunitcolor": "white"
          },
          "hoverlabel": {
           "align": "left"
          },
          "hovermode": "closest",
          "mapbox": {
           "style": "light"
          },
          "paper_bgcolor": "white",
          "plot_bgcolor": "#E5ECF6",
          "polar": {
           "angularaxis": {
            "gridcolor": "white",
            "linecolor": "white",
            "ticks": ""
           },
           "bgcolor": "#E5ECF6",
           "radialaxis": {
            "gridcolor": "white",
            "linecolor": "white",
            "ticks": ""
           }
          },
          "scene": {
           "xaxis": {
            "backgroundcolor": "#E5ECF6",
            "gridcolor": "white",
            "gridwidth": 2,
            "linecolor": "white",
            "showbackground": true,
            "ticks": "",
            "zerolinecolor": "white"
           },
           "yaxis": {
            "backgroundcolor": "#E5ECF6",
            "gridcolor": "white",
            "gridwidth": 2,
            "linecolor": "white",
            "showbackground": true,
            "ticks": "",
            "zerolinecolor": "white"
           },
           "zaxis": {
            "backgroundcolor": "#E5ECF6",
            "gridcolor": "white",
            "gridwidth": 2,
            "linecolor": "white",
            "showbackground": true,
            "ticks": "",
            "zerolinecolor": "white"
           }
          },
          "shapedefaults": {
           "line": {
            "color": "#2a3f5f"
           }
          },
          "ternary": {
           "aaxis": {
            "gridcolor": "white",
            "linecolor": "white",
            "ticks": ""
           },
           "baxis": {
            "gridcolor": "white",
            "linecolor": "white",
            "ticks": ""
           },
           "bgcolor": "#E5ECF6",
           "caxis": {
            "gridcolor": "white",
            "linecolor": "white",
            "ticks": ""
           }
          },
          "title": {
           "x": 0.05
          },
          "xaxis": {
           "automargin": true,
           "gridcolor": "white",
           "linecolor": "white",
           "ticks": "",
           "title": {
            "standoff": 15
           },
           "zerolinecolor": "white",
           "zerolinewidth": 2
          },
          "yaxis": {
           "automargin": true,
           "gridcolor": "white",
           "linecolor": "white",
           "ticks": "",
           "title": {
            "standoff": 15
           },
           "zerolinecolor": "white",
           "zerolinewidth": 2
          }
         }
        },
        "title": {
         "text": "Line chart showing the distribution of the three categories"
        }
       }
      },
      "text/html": [
       "<div>\n",
       "        \n",
       "        \n",
       "            <div id=\"8e0d5d21-a62c-4035-b46d-a71703ee8bad\" class=\"plotly-graph-div\" style=\"height:525px; width:100%;\"></div>\n",
       "            <script type=\"text/javascript\">\n",
       "                require([\"plotly\"], function(Plotly) {\n",
       "                    window.PLOTLYENV=window.PLOTLYENV || {};\n",
       "                    \n",
       "                if (document.getElementById(\"8e0d5d21-a62c-4035-b46d-a71703ee8bad\")) {\n",
       "                    Plotly.newPlot(\n",
       "                        '8e0d5d21-a62c-4035-b46d-a71703ee8bad',\n",
       "                        [{\"mode\": \"lines\", \"type\": \"scatter\", \"x\": [\"2020-05-07\", \"2020-05-08\", \"2020-05-09\", \"2020-05-10\", \"2020-05-11\", \"2020-05-12\", \"2020-05-13\", \"2020-05-14\", \"2020-05-15\", \"2020-05-16\", \"2020-05-17\", \"2020-05-18\", \"2020-05-19\", \"2020-05-20\", \"2020-05-21\"], \"y\": [6, 10, 5, 7, 4, 12, 9, 16, 10, 15, 12, 14, 15, 11, 13]}],\n",
       "                        {\"template\": {\"data\": {\"bar\": [{\"error_x\": {\"color\": \"#2a3f5f\"}, \"error_y\": {\"color\": \"#2a3f5f\"}, \"marker\": {\"line\": {\"color\": \"#E5ECF6\", \"width\": 0.5}}, \"type\": \"bar\"}], \"barpolar\": [{\"marker\": {\"line\": {\"color\": \"#E5ECF6\", \"width\": 0.5}}, \"type\": \"barpolar\"}], \"carpet\": [{\"aaxis\": {\"endlinecolor\": \"#2a3f5f\", \"gridcolor\": \"white\", \"linecolor\": \"white\", \"minorgridcolor\": \"white\", \"startlinecolor\": \"#2a3f5f\"}, \"baxis\": {\"endlinecolor\": \"#2a3f5f\", \"gridcolor\": \"white\", \"linecolor\": \"white\", \"minorgridcolor\": \"white\", \"startlinecolor\": \"#2a3f5f\"}, \"type\": \"carpet\"}], \"choropleth\": [{\"colorbar\": {\"outlinewidth\": 0, \"ticks\": \"\"}, \"type\": \"choropleth\"}], \"contour\": [{\"colorbar\": {\"outlinewidth\": 0, \"ticks\": \"\"}, \"colorscale\": [[0.0, \"#0d0887\"], [0.1111111111111111, \"#46039f\"], [0.2222222222222222, \"#7201a8\"], [0.3333333333333333, \"#9c179e\"], [0.4444444444444444, \"#bd3786\"], [0.5555555555555556, \"#d8576b\"], [0.6666666666666666, \"#ed7953\"], [0.7777777777777778, \"#fb9f3a\"], [0.8888888888888888, \"#fdca26\"], [1.0, \"#f0f921\"]], \"type\": \"contour\"}], \"contourcarpet\": [{\"colorbar\": {\"outlinewidth\": 0, \"ticks\": \"\"}, \"type\": \"contourcarpet\"}], \"heatmap\": [{\"colorbar\": {\"outlinewidth\": 0, \"ticks\": \"\"}, \"colorscale\": [[0.0, \"#0d0887\"], [0.1111111111111111, \"#46039f\"], [0.2222222222222222, \"#7201a8\"], [0.3333333333333333, \"#9c179e\"], [0.4444444444444444, \"#bd3786\"], [0.5555555555555556, \"#d8576b\"], [0.6666666666666666, \"#ed7953\"], [0.7777777777777778, \"#fb9f3a\"], [0.8888888888888888, \"#fdca26\"], [1.0, \"#f0f921\"]], \"type\": \"heatmap\"}], \"heatmapgl\": [{\"colorbar\": {\"outlinewidth\": 0, \"ticks\": \"\"}, \"colorscale\": [[0.0, \"#0d0887\"], [0.1111111111111111, \"#46039f\"], [0.2222222222222222, \"#7201a8\"], [0.3333333333333333, \"#9c179e\"], [0.4444444444444444, \"#bd3786\"], [0.5555555555555556, \"#d8576b\"], [0.6666666666666666, \"#ed7953\"], [0.7777777777777778, \"#fb9f3a\"], [0.8888888888888888, \"#fdca26\"], [1.0, \"#f0f921\"]], \"type\": \"heatmapgl\"}], \"histogram\": [{\"marker\": {\"colorbar\": {\"outlinewidth\": 0, \"ticks\": \"\"}}, \"type\": \"histogram\"}], \"histogram2d\": [{\"colorbar\": {\"outlinewidth\": 0, \"ticks\": \"\"}, \"colorscale\": [[0.0, \"#0d0887\"], [0.1111111111111111, \"#46039f\"], [0.2222222222222222, \"#7201a8\"], [0.3333333333333333, \"#9c179e\"], [0.4444444444444444, \"#bd3786\"], [0.5555555555555556, \"#d8576b\"], [0.6666666666666666, \"#ed7953\"], [0.7777777777777778, \"#fb9f3a\"], [0.8888888888888888, \"#fdca26\"], [1.0, \"#f0f921\"]], \"type\": \"histogram2d\"}], \"histogram2dcontour\": [{\"colorbar\": {\"outlinewidth\": 0, \"ticks\": \"\"}, \"colorscale\": [[0.0, \"#0d0887\"], [0.1111111111111111, \"#46039f\"], [0.2222222222222222, \"#7201a8\"], [0.3333333333333333, \"#9c179e\"], [0.4444444444444444, \"#bd3786\"], [0.5555555555555556, \"#d8576b\"], [0.6666666666666666, \"#ed7953\"], [0.7777777777777778, \"#fb9f3a\"], [0.8888888888888888, \"#fdca26\"], [1.0, \"#f0f921\"]], \"type\": \"histogram2dcontour\"}], \"mesh3d\": [{\"colorbar\": {\"outlinewidth\": 0, \"ticks\": \"\"}, \"type\": \"mesh3d\"}], \"parcoords\": [{\"line\": {\"colorbar\": {\"outlinewidth\": 0, \"ticks\": \"\"}}, \"type\": \"parcoords\"}], \"pie\": [{\"automargin\": true, \"type\": \"pie\"}], \"scatter\": [{\"marker\": {\"colorbar\": {\"outlinewidth\": 0, \"ticks\": \"\"}}, \"type\": \"scatter\"}], \"scatter3d\": [{\"line\": {\"colorbar\": {\"outlinewidth\": 0, \"ticks\": \"\"}}, \"marker\": {\"colorbar\": {\"outlinewidth\": 0, \"ticks\": \"\"}}, \"type\": \"scatter3d\"}], \"scattercarpet\": [{\"marker\": {\"colorbar\": {\"outlinewidth\": 0, \"ticks\": \"\"}}, \"type\": \"scattercarpet\"}], \"scattergeo\": [{\"marker\": {\"colorbar\": {\"outlinewidth\": 0, \"ticks\": \"\"}}, \"type\": \"scattergeo\"}], \"scattergl\": [{\"marker\": {\"colorbar\": {\"outlinewidth\": 0, \"ticks\": \"\"}}, \"type\": \"scattergl\"}], \"scattermapbox\": [{\"marker\": {\"colorbar\": {\"outlinewidth\": 0, \"ticks\": \"\"}}, \"type\": \"scattermapbox\"}], \"scatterpolar\": [{\"marker\": {\"colorbar\": {\"outlinewidth\": 0, \"ticks\": \"\"}}, \"type\": \"scatterpolar\"}], \"scatterpolargl\": [{\"marker\": {\"colorbar\": {\"outlinewidth\": 0, \"ticks\": \"\"}}, \"type\": \"scatterpolargl\"}], \"scatterternary\": [{\"marker\": {\"colorbar\": {\"outlinewidth\": 0, \"ticks\": \"\"}}, \"type\": \"scatterternary\"}], \"surface\": [{\"colorbar\": {\"outlinewidth\": 0, \"ticks\": \"\"}, \"colorscale\": [[0.0, \"#0d0887\"], [0.1111111111111111, \"#46039f\"], [0.2222222222222222, \"#7201a8\"], [0.3333333333333333, \"#9c179e\"], [0.4444444444444444, \"#bd3786\"], [0.5555555555555556, \"#d8576b\"], [0.6666666666666666, \"#ed7953\"], [0.7777777777777778, \"#fb9f3a\"], [0.8888888888888888, \"#fdca26\"], [1.0, \"#f0f921\"]], \"type\": \"surface\"}], \"table\": [{\"cells\": {\"fill\": {\"color\": \"#EBF0F8\"}, \"line\": {\"color\": \"white\"}}, \"header\": {\"fill\": {\"color\": \"#C8D4E3\"}, \"line\": {\"color\": \"white\"}}, \"type\": \"table\"}]}, \"layout\": {\"annotationdefaults\": {\"arrowcolor\": \"#2a3f5f\", \"arrowhead\": 0, \"arrowwidth\": 1}, \"coloraxis\": {\"colorbar\": {\"outlinewidth\": 0, \"ticks\": \"\"}}, \"colorscale\": {\"diverging\": [[0, \"#8e0152\"], [0.1, \"#c51b7d\"], [0.2, \"#de77ae\"], [0.3, \"#f1b6da\"], [0.4, \"#fde0ef\"], [0.5, \"#f7f7f7\"], [0.6, \"#e6f5d0\"], [0.7, \"#b8e186\"], [0.8, \"#7fbc41\"], [0.9, \"#4d9221\"], [1, \"#276419\"]], \"sequential\": [[0.0, \"#0d0887\"], [0.1111111111111111, \"#46039f\"], [0.2222222222222222, \"#7201a8\"], [0.3333333333333333, \"#9c179e\"], [0.4444444444444444, \"#bd3786\"], [0.5555555555555556, \"#d8576b\"], [0.6666666666666666, \"#ed7953\"], [0.7777777777777778, \"#fb9f3a\"], [0.8888888888888888, \"#fdca26\"], [1.0, \"#f0f921\"]], \"sequentialminus\": [[0.0, \"#0d0887\"], [0.1111111111111111, \"#46039f\"], [0.2222222222222222, \"#7201a8\"], [0.3333333333333333, \"#9c179e\"], [0.4444444444444444, \"#bd3786\"], [0.5555555555555556, \"#d8576b\"], [0.6666666666666666, \"#ed7953\"], [0.7777777777777778, \"#fb9f3a\"], [0.8888888888888888, \"#fdca26\"], [1.0, \"#f0f921\"]]}, \"colorway\": [\"#636efa\", \"#EF553B\", \"#00cc96\", \"#ab63fa\", \"#FFA15A\", \"#19d3f3\", \"#FF6692\", \"#B6E880\", \"#FF97FF\", \"#FECB52\"], \"font\": {\"color\": \"#2a3f5f\"}, \"geo\": {\"bgcolor\": \"white\", \"lakecolor\": \"white\", \"landcolor\": \"#E5ECF6\", \"showlakes\": true, \"showland\": true, \"subunitcolor\": \"white\"}, \"hoverlabel\": {\"align\": \"left\"}, \"hovermode\": \"closest\", \"mapbox\": {\"style\": \"light\"}, \"paper_bgcolor\": \"white\", \"plot_bgcolor\": \"#E5ECF6\", \"polar\": {\"angularaxis\": {\"gridcolor\": \"white\", \"linecolor\": \"white\", \"ticks\": \"\"}, \"bgcolor\": \"#E5ECF6\", \"radialaxis\": {\"gridcolor\": \"white\", \"linecolor\": \"white\", \"ticks\": \"\"}}, \"scene\": {\"xaxis\": {\"backgroundcolor\": \"#E5ECF6\", \"gridcolor\": \"white\", \"gridwidth\": 2, \"linecolor\": \"white\", \"showbackground\": true, \"ticks\": \"\", \"zerolinecolor\": \"white\"}, \"yaxis\": {\"backgroundcolor\": \"#E5ECF6\", \"gridcolor\": \"white\", \"gridwidth\": 2, \"linecolor\": \"white\", \"showbackground\": true, \"ticks\": \"\", \"zerolinecolor\": \"white\"}, \"zaxis\": {\"backgroundcolor\": \"#E5ECF6\", \"gridcolor\": \"white\", \"gridwidth\": 2, \"linecolor\": \"white\", \"showbackground\": true, \"ticks\": \"\", \"zerolinecolor\": \"white\"}}, \"shapedefaults\": {\"line\": {\"color\": \"#2a3f5f\"}}, \"ternary\": {\"aaxis\": {\"gridcolor\": \"white\", \"linecolor\": \"white\", \"ticks\": \"\"}, \"baxis\": {\"gridcolor\": \"white\", \"linecolor\": \"white\", \"ticks\": \"\"}, \"bgcolor\": \"#E5ECF6\", \"caxis\": {\"gridcolor\": \"white\", \"linecolor\": \"white\", \"ticks\": \"\"}}, \"title\": {\"x\": 0.05}, \"xaxis\": {\"automargin\": true, \"gridcolor\": \"white\", \"linecolor\": \"white\", \"ticks\": \"\", \"title\": {\"standoff\": 15}, \"zerolinecolor\": \"white\", \"zerolinewidth\": 2}, \"yaxis\": {\"automargin\": true, \"gridcolor\": \"white\", \"linecolor\": \"white\", \"ticks\": \"\", \"title\": {\"standoff\": 15}, \"zerolinecolor\": \"white\", \"zerolinewidth\": 2}}}, \"title\": {\"text\": \"Line chart showing the distribution of the three categories\"}},\n",
       "                        {\"responsive\": true}\n",
       "                    ).then(function(){\n",
       "                            \n",
       "var gd = document.getElementById('8e0d5d21-a62c-4035-b46d-a71703ee8bad');\n",
       "var x = new MutationObserver(function (mutations, observer) {{\n",
       "        var display = window.getComputedStyle(gd).display;\n",
       "        if (!display || display === 'none') {{\n",
       "            console.log([gd, 'removed!']);\n",
       "            Plotly.purge(gd);\n",
       "            observer.disconnect();\n",
       "        }}\n",
       "}});\n",
       "\n",
       "// Listen for the removal of the full notebook cells\n",
       "var notebookContainer = gd.closest('#notebook-container');\n",
       "if (notebookContainer) {{\n",
       "    x.observe(notebookContainer, {childList: true});\n",
       "}}\n",
       "\n",
       "// Listen for the clearing of the current output cell\n",
       "var outputEl = gd.closest('.output');\n",
       "if (outputEl) {{\n",
       "    x.observe(outputEl, {childList: true});\n",
       "}}\n",
       "\n",
       "                        })\n",
       "                };\n",
       "                });\n",
       "            </script>\n",
       "        </div>"
      ]
     },
     "metadata": {},
     "output_type": "display_data"
    }
   ],
   "source": [
    "plot_line = df.groupby('date').count().reset_index().rename(columns={'category': 'category_count'})\n",
    "trace = go.Scatter(x=plot_line['date'], y=plot_line['category_count'], mode='lines')\n",
    "fig = go.Figure(data=[trace])\n",
    "fig.update_layout(title_text='Line chart showing the distribution of the three categories')\n",
    "iplot(fig)"
   ]
  },
  {
   "cell_type": "markdown",
   "metadata": {},
   "source": [
    "### 3.3 Line Plot with Markers"
   ]
  },
  {
   "cell_type": "code",
   "execution_count": 10,
   "metadata": {},
   "outputs": [
    {
     "data": {
      "application/vnd.plotly.v1+json": {
       "config": {
        "linkText": "Export to plot.ly",
        "plotlyServerURL": "https://plot.ly",
        "showLink": false
       },
       "data": [
        {
         "mode": "lines+markers",
         "type": "scatter",
         "x": [
          "2020-05-07",
          "2020-05-08",
          "2020-05-09",
          "2020-05-10",
          "2020-05-11",
          "2020-05-12",
          "2020-05-13",
          "2020-05-14",
          "2020-05-15",
          "2020-05-16",
          "2020-05-17",
          "2020-05-18",
          "2020-05-19",
          "2020-05-20",
          "2020-05-21"
         ],
         "y": [
          6,
          10,
          5,
          7,
          4,
          12,
          9,
          16,
          10,
          15,
          12,
          14,
          15,
          11,
          13
         ]
        }
       ],
       "layout": {
        "template": {
         "data": {
          "bar": [
           {
            "error_x": {
             "color": "#2a3f5f"
            },
            "error_y": {
             "color": "#2a3f5f"
            },
            "marker": {
             "line": {
              "color": "#E5ECF6",
              "width": 0.5
             }
            },
            "type": "bar"
           }
          ],
          "barpolar": [
           {
            "marker": {
             "line": {
              "color": "#E5ECF6",
              "width": 0.5
             }
            },
            "type": "barpolar"
           }
          ],
          "carpet": [
           {
            "aaxis": {
             "endlinecolor": "#2a3f5f",
             "gridcolor": "white",
             "linecolor": "white",
             "minorgridcolor": "white",
             "startlinecolor": "#2a3f5f"
            },
            "baxis": {
             "endlinecolor": "#2a3f5f",
             "gridcolor": "white",
             "linecolor": "white",
             "minorgridcolor": "white",
             "startlinecolor": "#2a3f5f"
            },
            "type": "carpet"
           }
          ],
          "choropleth": [
           {
            "colorbar": {
             "outlinewidth": 0,
             "ticks": ""
            },
            "type": "choropleth"
           }
          ],
          "contour": [
           {
            "colorbar": {
             "outlinewidth": 0,
             "ticks": ""
            },
            "colorscale": [
             [
              0,
              "#0d0887"
             ],
             [
              0.1111111111111111,
              "#46039f"
             ],
             [
              0.2222222222222222,
              "#7201a8"
             ],
             [
              0.3333333333333333,
              "#9c179e"
             ],
             [
              0.4444444444444444,
              "#bd3786"
             ],
             [
              0.5555555555555556,
              "#d8576b"
             ],
             [
              0.6666666666666666,
              "#ed7953"
             ],
             [
              0.7777777777777778,
              "#fb9f3a"
             ],
             [
              0.8888888888888888,
              "#fdca26"
             ],
             [
              1,
              "#f0f921"
             ]
            ],
            "type": "contour"
           }
          ],
          "contourcarpet": [
           {
            "colorbar": {
             "outlinewidth": 0,
             "ticks": ""
            },
            "type": "contourcarpet"
           }
          ],
          "heatmap": [
           {
            "colorbar": {
             "outlinewidth": 0,
             "ticks": ""
            },
            "colorscale": [
             [
              0,
              "#0d0887"
             ],
             [
              0.1111111111111111,
              "#46039f"
             ],
             [
              0.2222222222222222,
              "#7201a8"
             ],
             [
              0.3333333333333333,
              "#9c179e"
             ],
             [
              0.4444444444444444,
              "#bd3786"
             ],
             [
              0.5555555555555556,
              "#d8576b"
             ],
             [
              0.6666666666666666,
              "#ed7953"
             ],
             [
              0.7777777777777778,
              "#fb9f3a"
             ],
             [
              0.8888888888888888,
              "#fdca26"
             ],
             [
              1,
              "#f0f921"
             ]
            ],
            "type": "heatmap"
           }
          ],
          "heatmapgl": [
           {
            "colorbar": {
             "outlinewidth": 0,
             "ticks": ""
            },
            "colorscale": [
             [
              0,
              "#0d0887"
             ],
             [
              0.1111111111111111,
              "#46039f"
             ],
             [
              0.2222222222222222,
              "#7201a8"
             ],
             [
              0.3333333333333333,
              "#9c179e"
             ],
             [
              0.4444444444444444,
              "#bd3786"
             ],
             [
              0.5555555555555556,
              "#d8576b"
             ],
             [
              0.6666666666666666,
              "#ed7953"
             ],
             [
              0.7777777777777778,
              "#fb9f3a"
             ],
             [
              0.8888888888888888,
              "#fdca26"
             ],
             [
              1,
              "#f0f921"
             ]
            ],
            "type": "heatmapgl"
           }
          ],
          "histogram": [
           {
            "marker": {
             "colorbar": {
              "outlinewidth": 0,
              "ticks": ""
             }
            },
            "type": "histogram"
           }
          ],
          "histogram2d": [
           {
            "colorbar": {
             "outlinewidth": 0,
             "ticks": ""
            },
            "colorscale": [
             [
              0,
              "#0d0887"
             ],
             [
              0.1111111111111111,
              "#46039f"
             ],
             [
              0.2222222222222222,
              "#7201a8"
             ],
             [
              0.3333333333333333,
              "#9c179e"
             ],
             [
              0.4444444444444444,
              "#bd3786"
             ],
             [
              0.5555555555555556,
              "#d8576b"
             ],
             [
              0.6666666666666666,
              "#ed7953"
             ],
             [
              0.7777777777777778,
              "#fb9f3a"
             ],
             [
              0.8888888888888888,
              "#fdca26"
             ],
             [
              1,
              "#f0f921"
             ]
            ],
            "type": "histogram2d"
           }
          ],
          "histogram2dcontour": [
           {
            "colorbar": {
             "outlinewidth": 0,
             "ticks": ""
            },
            "colorscale": [
             [
              0,
              "#0d0887"
             ],
             [
              0.1111111111111111,
              "#46039f"
             ],
             [
              0.2222222222222222,
              "#7201a8"
             ],
             [
              0.3333333333333333,
              "#9c179e"
             ],
             [
              0.4444444444444444,
              "#bd3786"
             ],
             [
              0.5555555555555556,
              "#d8576b"
             ],
             [
              0.6666666666666666,
              "#ed7953"
             ],
             [
              0.7777777777777778,
              "#fb9f3a"
             ],
             [
              0.8888888888888888,
              "#fdca26"
             ],
             [
              1,
              "#f0f921"
             ]
            ],
            "type": "histogram2dcontour"
           }
          ],
          "mesh3d": [
           {
            "colorbar": {
             "outlinewidth": 0,
             "ticks": ""
            },
            "type": "mesh3d"
           }
          ],
          "parcoords": [
           {
            "line": {
             "colorbar": {
              "outlinewidth": 0,
              "ticks": ""
             }
            },
            "type": "parcoords"
           }
          ],
          "pie": [
           {
            "automargin": true,
            "type": "pie"
           }
          ],
          "scatter": [
           {
            "marker": {
             "colorbar": {
              "outlinewidth": 0,
              "ticks": ""
             }
            },
            "type": "scatter"
           }
          ],
          "scatter3d": [
           {
            "line": {
             "colorbar": {
              "outlinewidth": 0,
              "ticks": ""
             }
            },
            "marker": {
             "colorbar": {
              "outlinewidth": 0,
              "ticks": ""
             }
            },
            "type": "scatter3d"
           }
          ],
          "scattercarpet": [
           {
            "marker": {
             "colorbar": {
              "outlinewidth": 0,
              "ticks": ""
             }
            },
            "type": "scattercarpet"
           }
          ],
          "scattergeo": [
           {
            "marker": {
             "colorbar": {
              "outlinewidth": 0,
              "ticks": ""
             }
            },
            "type": "scattergeo"
           }
          ],
          "scattergl": [
           {
            "marker": {
             "colorbar": {
              "outlinewidth": 0,
              "ticks": ""
             }
            },
            "type": "scattergl"
           }
          ],
          "scattermapbox": [
           {
            "marker": {
             "colorbar": {
              "outlinewidth": 0,
              "ticks": ""
             }
            },
            "type": "scattermapbox"
           }
          ],
          "scatterpolar": [
           {
            "marker": {
             "colorbar": {
              "outlinewidth": 0,
              "ticks": ""
             }
            },
            "type": "scatterpolar"
           }
          ],
          "scatterpolargl": [
           {
            "marker": {
             "colorbar": {
              "outlinewidth": 0,
              "ticks": ""
             }
            },
            "type": "scatterpolargl"
           }
          ],
          "scatterternary": [
           {
            "marker": {
             "colorbar": {
              "outlinewidth": 0,
              "ticks": ""
             }
            },
            "type": "scatterternary"
           }
          ],
          "surface": [
           {
            "colorbar": {
             "outlinewidth": 0,
             "ticks": ""
            },
            "colorscale": [
             [
              0,
              "#0d0887"
             ],
             [
              0.1111111111111111,
              "#46039f"
             ],
             [
              0.2222222222222222,
              "#7201a8"
             ],
             [
              0.3333333333333333,
              "#9c179e"
             ],
             [
              0.4444444444444444,
              "#bd3786"
             ],
             [
              0.5555555555555556,
              "#d8576b"
             ],
             [
              0.6666666666666666,
              "#ed7953"
             ],
             [
              0.7777777777777778,
              "#fb9f3a"
             ],
             [
              0.8888888888888888,
              "#fdca26"
             ],
             [
              1,
              "#f0f921"
             ]
            ],
            "type": "surface"
           }
          ],
          "table": [
           {
            "cells": {
             "fill": {
              "color": "#EBF0F8"
             },
             "line": {
              "color": "white"
             }
            },
            "header": {
             "fill": {
              "color": "#C8D4E3"
             },
             "line": {
              "color": "white"
             }
            },
            "type": "table"
           }
          ]
         },
         "layout": {
          "annotationdefaults": {
           "arrowcolor": "#2a3f5f",
           "arrowhead": 0,
           "arrowwidth": 1
          },
          "coloraxis": {
           "colorbar": {
            "outlinewidth": 0,
            "ticks": ""
           }
          },
          "colorscale": {
           "diverging": [
            [
             0,
             "#8e0152"
            ],
            [
             0.1,
             "#c51b7d"
            ],
            [
             0.2,
             "#de77ae"
            ],
            [
             0.3,
             "#f1b6da"
            ],
            [
             0.4,
             "#fde0ef"
            ],
            [
             0.5,
             "#f7f7f7"
            ],
            [
             0.6,
             "#e6f5d0"
            ],
            [
             0.7,
             "#b8e186"
            ],
            [
             0.8,
             "#7fbc41"
            ],
            [
             0.9,
             "#4d9221"
            ],
            [
             1,
             "#276419"
            ]
           ],
           "sequential": [
            [
             0,
             "#0d0887"
            ],
            [
             0.1111111111111111,
             "#46039f"
            ],
            [
             0.2222222222222222,
             "#7201a8"
            ],
            [
             0.3333333333333333,
             "#9c179e"
            ],
            [
             0.4444444444444444,
             "#bd3786"
            ],
            [
             0.5555555555555556,
             "#d8576b"
            ],
            [
             0.6666666666666666,
             "#ed7953"
            ],
            [
             0.7777777777777778,
             "#fb9f3a"
            ],
            [
             0.8888888888888888,
             "#fdca26"
            ],
            [
             1,
             "#f0f921"
            ]
           ],
           "sequentialminus": [
            [
             0,
             "#0d0887"
            ],
            [
             0.1111111111111111,
             "#46039f"
            ],
            [
             0.2222222222222222,
             "#7201a8"
            ],
            [
             0.3333333333333333,
             "#9c179e"
            ],
            [
             0.4444444444444444,
             "#bd3786"
            ],
            [
             0.5555555555555556,
             "#d8576b"
            ],
            [
             0.6666666666666666,
             "#ed7953"
            ],
            [
             0.7777777777777778,
             "#fb9f3a"
            ],
            [
             0.8888888888888888,
             "#fdca26"
            ],
            [
             1,
             "#f0f921"
            ]
           ]
          },
          "colorway": [
           "#636efa",
           "#EF553B",
           "#00cc96",
           "#ab63fa",
           "#FFA15A",
           "#19d3f3",
           "#FF6692",
           "#B6E880",
           "#FF97FF",
           "#FECB52"
          ],
          "font": {
           "color": "#2a3f5f"
          },
          "geo": {
           "bgcolor": "white",
           "lakecolor": "white",
           "landcolor": "#E5ECF6",
           "showlakes": true,
           "showland": true,
           "subunitcolor": "white"
          },
          "hoverlabel": {
           "align": "left"
          },
          "hovermode": "closest",
          "mapbox": {
           "style": "light"
          },
          "paper_bgcolor": "white",
          "plot_bgcolor": "#E5ECF6",
          "polar": {
           "angularaxis": {
            "gridcolor": "white",
            "linecolor": "white",
            "ticks": ""
           },
           "bgcolor": "#E5ECF6",
           "radialaxis": {
            "gridcolor": "white",
            "linecolor": "white",
            "ticks": ""
           }
          },
          "scene": {
           "xaxis": {
            "backgroundcolor": "#E5ECF6",
            "gridcolor": "white",
            "gridwidth": 2,
            "linecolor": "white",
            "showbackground": true,
            "ticks": "",
            "zerolinecolor": "white"
           },
           "yaxis": {
            "backgroundcolor": "#E5ECF6",
            "gridcolor": "white",
            "gridwidth": 2,
            "linecolor": "white",
            "showbackground": true,
            "ticks": "",
            "zerolinecolor": "white"
           },
           "zaxis": {
            "backgroundcolor": "#E5ECF6",
            "gridcolor": "white",
            "gridwidth": 2,
            "linecolor": "white",
            "showbackground": true,
            "ticks": "",
            "zerolinecolor": "white"
           }
          },
          "shapedefaults": {
           "line": {
            "color": "#2a3f5f"
           }
          },
          "ternary": {
           "aaxis": {
            "gridcolor": "white",
            "linecolor": "white",
            "ticks": ""
           },
           "baxis": {
            "gridcolor": "white",
            "linecolor": "white",
            "ticks": ""
           },
           "bgcolor": "#E5ECF6",
           "caxis": {
            "gridcolor": "white",
            "linecolor": "white",
            "ticks": ""
           }
          },
          "title": {
           "x": 0.05
          },
          "xaxis": {
           "automargin": true,
           "gridcolor": "white",
           "linecolor": "white",
           "ticks": "",
           "title": {
            "standoff": 15
           },
           "zerolinecolor": "white",
           "zerolinewidth": 2
          },
          "yaxis": {
           "automargin": true,
           "gridcolor": "white",
           "linecolor": "white",
           "ticks": "",
           "title": {
            "standoff": 15
           },
           "zerolinecolor": "white",
           "zerolinewidth": 2
          }
         }
        },
        "title": {
         "text": "Line chart (with markers) showing the distribution of the three categories"
        }
       }
      },
      "text/html": [
       "<div>\n",
       "        \n",
       "        \n",
       "            <div id=\"e288fe53-5ccb-430b-a994-1cf059e22700\" class=\"plotly-graph-div\" style=\"height:525px; width:100%;\"></div>\n",
       "            <script type=\"text/javascript\">\n",
       "                require([\"plotly\"], function(Plotly) {\n",
       "                    window.PLOTLYENV=window.PLOTLYENV || {};\n",
       "                    \n",
       "                if (document.getElementById(\"e288fe53-5ccb-430b-a994-1cf059e22700\")) {\n",
       "                    Plotly.newPlot(\n",
       "                        'e288fe53-5ccb-430b-a994-1cf059e22700',\n",
       "                        [{\"mode\": \"lines+markers\", \"type\": \"scatter\", \"x\": [\"2020-05-07\", \"2020-05-08\", \"2020-05-09\", \"2020-05-10\", \"2020-05-11\", \"2020-05-12\", \"2020-05-13\", \"2020-05-14\", \"2020-05-15\", \"2020-05-16\", \"2020-05-17\", \"2020-05-18\", \"2020-05-19\", \"2020-05-20\", \"2020-05-21\"], \"y\": [6, 10, 5, 7, 4, 12, 9, 16, 10, 15, 12, 14, 15, 11, 13]}],\n",
       "                        {\"template\": {\"data\": {\"bar\": [{\"error_x\": {\"color\": \"#2a3f5f\"}, \"error_y\": {\"color\": \"#2a3f5f\"}, \"marker\": {\"line\": {\"color\": \"#E5ECF6\", \"width\": 0.5}}, \"type\": \"bar\"}], \"barpolar\": [{\"marker\": {\"line\": {\"color\": \"#E5ECF6\", \"width\": 0.5}}, \"type\": \"barpolar\"}], \"carpet\": [{\"aaxis\": {\"endlinecolor\": \"#2a3f5f\", \"gridcolor\": \"white\", \"linecolor\": \"white\", \"minorgridcolor\": \"white\", \"startlinecolor\": \"#2a3f5f\"}, \"baxis\": {\"endlinecolor\": \"#2a3f5f\", \"gridcolor\": \"white\", \"linecolor\": \"white\", \"minorgridcolor\": \"white\", \"startlinecolor\": \"#2a3f5f\"}, \"type\": \"carpet\"}], \"choropleth\": [{\"colorbar\": {\"outlinewidth\": 0, \"ticks\": \"\"}, \"type\": \"choropleth\"}], \"contour\": [{\"colorbar\": {\"outlinewidth\": 0, \"ticks\": \"\"}, \"colorscale\": [[0.0, \"#0d0887\"], [0.1111111111111111, \"#46039f\"], [0.2222222222222222, \"#7201a8\"], [0.3333333333333333, \"#9c179e\"], [0.4444444444444444, \"#bd3786\"], [0.5555555555555556, \"#d8576b\"], [0.6666666666666666, \"#ed7953\"], [0.7777777777777778, \"#fb9f3a\"], [0.8888888888888888, \"#fdca26\"], [1.0, \"#f0f921\"]], \"type\": \"contour\"}], \"contourcarpet\": [{\"colorbar\": {\"outlinewidth\": 0, \"ticks\": \"\"}, \"type\": \"contourcarpet\"}], \"heatmap\": [{\"colorbar\": {\"outlinewidth\": 0, \"ticks\": \"\"}, \"colorscale\": [[0.0, \"#0d0887\"], [0.1111111111111111, \"#46039f\"], [0.2222222222222222, \"#7201a8\"], [0.3333333333333333, \"#9c179e\"], [0.4444444444444444, \"#bd3786\"], [0.5555555555555556, \"#d8576b\"], [0.6666666666666666, \"#ed7953\"], [0.7777777777777778, \"#fb9f3a\"], [0.8888888888888888, \"#fdca26\"], [1.0, \"#f0f921\"]], \"type\": \"heatmap\"}], \"heatmapgl\": [{\"colorbar\": {\"outlinewidth\": 0, \"ticks\": \"\"}, \"colorscale\": [[0.0, \"#0d0887\"], [0.1111111111111111, \"#46039f\"], [0.2222222222222222, \"#7201a8\"], [0.3333333333333333, \"#9c179e\"], [0.4444444444444444, \"#bd3786\"], [0.5555555555555556, \"#d8576b\"], [0.6666666666666666, \"#ed7953\"], [0.7777777777777778, \"#fb9f3a\"], [0.8888888888888888, \"#fdca26\"], [1.0, \"#f0f921\"]], \"type\": \"heatmapgl\"}], \"histogram\": [{\"marker\": {\"colorbar\": {\"outlinewidth\": 0, \"ticks\": \"\"}}, \"type\": \"histogram\"}], \"histogram2d\": [{\"colorbar\": {\"outlinewidth\": 0, \"ticks\": \"\"}, \"colorscale\": [[0.0, \"#0d0887\"], [0.1111111111111111, \"#46039f\"], [0.2222222222222222, \"#7201a8\"], [0.3333333333333333, \"#9c179e\"], [0.4444444444444444, \"#bd3786\"], [0.5555555555555556, \"#d8576b\"], [0.6666666666666666, \"#ed7953\"], [0.7777777777777778, \"#fb9f3a\"], [0.8888888888888888, \"#fdca26\"], [1.0, \"#f0f921\"]], \"type\": \"histogram2d\"}], \"histogram2dcontour\": [{\"colorbar\": {\"outlinewidth\": 0, \"ticks\": \"\"}, \"colorscale\": [[0.0, \"#0d0887\"], [0.1111111111111111, \"#46039f\"], [0.2222222222222222, \"#7201a8\"], [0.3333333333333333, \"#9c179e\"], [0.4444444444444444, \"#bd3786\"], [0.5555555555555556, \"#d8576b\"], [0.6666666666666666, \"#ed7953\"], [0.7777777777777778, \"#fb9f3a\"], [0.8888888888888888, \"#fdca26\"], [1.0, \"#f0f921\"]], \"type\": \"histogram2dcontour\"}], \"mesh3d\": [{\"colorbar\": {\"outlinewidth\": 0, \"ticks\": \"\"}, \"type\": \"mesh3d\"}], \"parcoords\": [{\"line\": {\"colorbar\": {\"outlinewidth\": 0, \"ticks\": \"\"}}, \"type\": \"parcoords\"}], \"pie\": [{\"automargin\": true, \"type\": \"pie\"}], \"scatter\": [{\"marker\": {\"colorbar\": {\"outlinewidth\": 0, \"ticks\": \"\"}}, \"type\": \"scatter\"}], \"scatter3d\": [{\"line\": {\"colorbar\": {\"outlinewidth\": 0, \"ticks\": \"\"}}, \"marker\": {\"colorbar\": {\"outlinewidth\": 0, \"ticks\": \"\"}}, \"type\": \"scatter3d\"}], \"scattercarpet\": [{\"marker\": {\"colorbar\": {\"outlinewidth\": 0, \"ticks\": \"\"}}, \"type\": \"scattercarpet\"}], \"scattergeo\": [{\"marker\": {\"colorbar\": {\"outlinewidth\": 0, \"ticks\": \"\"}}, \"type\": \"scattergeo\"}], \"scattergl\": [{\"marker\": {\"colorbar\": {\"outlinewidth\": 0, \"ticks\": \"\"}}, \"type\": \"scattergl\"}], \"scattermapbox\": [{\"marker\": {\"colorbar\": {\"outlinewidth\": 0, \"ticks\": \"\"}}, \"type\": \"scattermapbox\"}], \"scatterpolar\": [{\"marker\": {\"colorbar\": {\"outlinewidth\": 0, \"ticks\": \"\"}}, \"type\": \"scatterpolar\"}], \"scatterpolargl\": [{\"marker\": {\"colorbar\": {\"outlinewidth\": 0, \"ticks\": \"\"}}, \"type\": \"scatterpolargl\"}], \"scatterternary\": [{\"marker\": {\"colorbar\": {\"outlinewidth\": 0, \"ticks\": \"\"}}, \"type\": \"scatterternary\"}], \"surface\": [{\"colorbar\": {\"outlinewidth\": 0, \"ticks\": \"\"}, \"colorscale\": [[0.0, \"#0d0887\"], [0.1111111111111111, \"#46039f\"], [0.2222222222222222, \"#7201a8\"], [0.3333333333333333, \"#9c179e\"], [0.4444444444444444, \"#bd3786\"], [0.5555555555555556, \"#d8576b\"], [0.6666666666666666, \"#ed7953\"], [0.7777777777777778, \"#fb9f3a\"], [0.8888888888888888, \"#fdca26\"], [1.0, \"#f0f921\"]], \"type\": \"surface\"}], \"table\": [{\"cells\": {\"fill\": {\"color\": \"#EBF0F8\"}, \"line\": {\"color\": \"white\"}}, \"header\": {\"fill\": {\"color\": \"#C8D4E3\"}, \"line\": {\"color\": \"white\"}}, \"type\": \"table\"}]}, \"layout\": {\"annotationdefaults\": {\"arrowcolor\": \"#2a3f5f\", \"arrowhead\": 0, \"arrowwidth\": 1}, \"coloraxis\": {\"colorbar\": {\"outlinewidth\": 0, \"ticks\": \"\"}}, \"colorscale\": {\"diverging\": [[0, \"#8e0152\"], [0.1, \"#c51b7d\"], [0.2, \"#de77ae\"], [0.3, \"#f1b6da\"], [0.4, \"#fde0ef\"], [0.5, \"#f7f7f7\"], [0.6, \"#e6f5d0\"], [0.7, \"#b8e186\"], [0.8, \"#7fbc41\"], [0.9, \"#4d9221\"], [1, \"#276419\"]], \"sequential\": [[0.0, \"#0d0887\"], [0.1111111111111111, \"#46039f\"], [0.2222222222222222, \"#7201a8\"], [0.3333333333333333, \"#9c179e\"], [0.4444444444444444, \"#bd3786\"], [0.5555555555555556, \"#d8576b\"], [0.6666666666666666, \"#ed7953\"], [0.7777777777777778, \"#fb9f3a\"], [0.8888888888888888, \"#fdca26\"], [1.0, \"#f0f921\"]], \"sequentialminus\": [[0.0, \"#0d0887\"], [0.1111111111111111, \"#46039f\"], [0.2222222222222222, \"#7201a8\"], [0.3333333333333333, \"#9c179e\"], [0.4444444444444444, \"#bd3786\"], [0.5555555555555556, \"#d8576b\"], [0.6666666666666666, \"#ed7953\"], [0.7777777777777778, \"#fb9f3a\"], [0.8888888888888888, \"#fdca26\"], [1.0, \"#f0f921\"]]}, \"colorway\": [\"#636efa\", \"#EF553B\", \"#00cc96\", \"#ab63fa\", \"#FFA15A\", \"#19d3f3\", \"#FF6692\", \"#B6E880\", \"#FF97FF\", \"#FECB52\"], \"font\": {\"color\": \"#2a3f5f\"}, \"geo\": {\"bgcolor\": \"white\", \"lakecolor\": \"white\", \"landcolor\": \"#E5ECF6\", \"showlakes\": true, \"showland\": true, \"subunitcolor\": \"white\"}, \"hoverlabel\": {\"align\": \"left\"}, \"hovermode\": \"closest\", \"mapbox\": {\"style\": \"light\"}, \"paper_bgcolor\": \"white\", \"plot_bgcolor\": \"#E5ECF6\", \"polar\": {\"angularaxis\": {\"gridcolor\": \"white\", \"linecolor\": \"white\", \"ticks\": \"\"}, \"bgcolor\": \"#E5ECF6\", \"radialaxis\": {\"gridcolor\": \"white\", \"linecolor\": \"white\", \"ticks\": \"\"}}, \"scene\": {\"xaxis\": {\"backgroundcolor\": \"#E5ECF6\", \"gridcolor\": \"white\", \"gridwidth\": 2, \"linecolor\": \"white\", \"showbackground\": true, \"ticks\": \"\", \"zerolinecolor\": \"white\"}, \"yaxis\": {\"backgroundcolor\": \"#E5ECF6\", \"gridcolor\": \"white\", \"gridwidth\": 2, \"linecolor\": \"white\", \"showbackground\": true, \"ticks\": \"\", \"zerolinecolor\": \"white\"}, \"zaxis\": {\"backgroundcolor\": \"#E5ECF6\", \"gridcolor\": \"white\", \"gridwidth\": 2, \"linecolor\": \"white\", \"showbackground\": true, \"ticks\": \"\", \"zerolinecolor\": \"white\"}}, \"shapedefaults\": {\"line\": {\"color\": \"#2a3f5f\"}}, \"ternary\": {\"aaxis\": {\"gridcolor\": \"white\", \"linecolor\": \"white\", \"ticks\": \"\"}, \"baxis\": {\"gridcolor\": \"white\", \"linecolor\": \"white\", \"ticks\": \"\"}, \"bgcolor\": \"#E5ECF6\", \"caxis\": {\"gridcolor\": \"white\", \"linecolor\": \"white\", \"ticks\": \"\"}}, \"title\": {\"x\": 0.05}, \"xaxis\": {\"automargin\": true, \"gridcolor\": \"white\", \"linecolor\": \"white\", \"ticks\": \"\", \"title\": {\"standoff\": 15}, \"zerolinecolor\": \"white\", \"zerolinewidth\": 2}, \"yaxis\": {\"automargin\": true, \"gridcolor\": \"white\", \"linecolor\": \"white\", \"ticks\": \"\", \"title\": {\"standoff\": 15}, \"zerolinecolor\": \"white\", \"zerolinewidth\": 2}}}, \"title\": {\"text\": \"Line chart (with markers) showing the distribution of the three categories\"}},\n",
       "                        {\"responsive\": true}\n",
       "                    ).then(function(){\n",
       "                            \n",
       "var gd = document.getElementById('e288fe53-5ccb-430b-a994-1cf059e22700');\n",
       "var x = new MutationObserver(function (mutations, observer) {{\n",
       "        var display = window.getComputedStyle(gd).display;\n",
       "        if (!display || display === 'none') {{\n",
       "            console.log([gd, 'removed!']);\n",
       "            Plotly.purge(gd);\n",
       "            observer.disconnect();\n",
       "        }}\n",
       "}});\n",
       "\n",
       "// Listen for the removal of the full notebook cells\n",
       "var notebookContainer = gd.closest('#notebook-container');\n",
       "if (notebookContainer) {{\n",
       "    x.observe(notebookContainer, {childList: true});\n",
       "}}\n",
       "\n",
       "// Listen for the clearing of the current output cell\n",
       "var outputEl = gd.closest('.output');\n",
       "if (outputEl) {{\n",
       "    x.observe(outputEl, {childList: true});\n",
       "}}\n",
       "\n",
       "                        })\n",
       "                };\n",
       "                });\n",
       "            </script>\n",
       "        </div>"
      ]
     },
     "metadata": {},
     "output_type": "display_data"
    }
   ],
   "source": [
    "plot_linemarkers = df.groupby('date').count().reset_index().rename(columns={'category': 'category_count'})\n",
    "trace = go.Scatter(x=plot_linemarkers['date'], y=plot_linemarkers['category_count'], mode='lines+markers')\n",
    "fig = go.Figure(data=[trace])\n",
    "fig.update_layout(title_text='Line chart (with markers) showing the distribution of the three categories')\n",
    "iplot(fig)"
   ]
  },
  {
   "cell_type": "markdown",
   "metadata": {},
   "source": [
    "### 3.4 Bubble Chart"
   ]
  },
  {
   "cell_type": "code",
   "execution_count": 11,
   "metadata": {},
   "outputs": [
    {
     "data": {
      "text/html": [
       "<div>\n",
       "<style scoped>\n",
       "    .dataframe tbody tr th:only-of-type {\n",
       "        vertical-align: middle;\n",
       "    }\n",
       "\n",
       "    .dataframe tbody tr th {\n",
       "        vertical-align: top;\n",
       "    }\n",
       "\n",
       "    .dataframe thead th {\n",
       "        text-align: right;\n",
       "    }\n",
       "</style>\n",
       "<table border=\"1\" class=\"dataframe\">\n",
       "  <thead>\n",
       "    <tr style=\"text-align: right;\">\n",
       "      <th></th>\n",
       "      <th>category</th>\n",
       "      <th>category_count</th>\n",
       "    </tr>\n",
       "  </thead>\n",
       "  <tbody>\n",
       "    <tr>\n",
       "      <th>0</th>\n",
       "      <td>CategoryA</td>\n",
       "      <td>54</td>\n",
       "    </tr>\n",
       "    <tr>\n",
       "      <th>1</th>\n",
       "      <td>CategoryB</td>\n",
       "      <td>41</td>\n",
       "    </tr>\n",
       "    <tr>\n",
       "      <th>2</th>\n",
       "      <td>CategoryC</td>\n",
       "      <td>64</td>\n",
       "    </tr>\n",
       "  </tbody>\n",
       "</table>\n",
       "</div>"
      ],
      "text/plain": [
       "    category  category_count\n",
       "0  CategoryA              54\n",
       "1  CategoryB              41\n",
       "2  CategoryC              64"
      ]
     },
     "execution_count": 11,
     "metadata": {},
     "output_type": "execute_result"
    }
   ],
   "source": [
    "plot_bubble = df.groupby('category').count().reset_index().rename(columns={'date': 'category_count'})\n",
    "plot_bubble"
   ]
  },
  {
   "cell_type": "markdown",
   "metadata": {},
   "source": [
    "Now let's add the share of each category to these dataframe. The share column will be used to control the size of the bubble."
   ]
  },
  {
   "cell_type": "code",
   "execution_count": 12,
   "metadata": {},
   "outputs": [
    {
     "data": {
      "text/html": [
       "<div>\n",
       "<style scoped>\n",
       "    .dataframe tbody tr th:only-of-type {\n",
       "        vertical-align: middle;\n",
       "    }\n",
       "\n",
       "    .dataframe tbody tr th {\n",
       "        vertical-align: top;\n",
       "    }\n",
       "\n",
       "    .dataframe thead th {\n",
       "        text-align: right;\n",
       "    }\n",
       "</style>\n",
       "<table border=\"1\" class=\"dataframe\">\n",
       "  <thead>\n",
       "    <tr style=\"text-align: right;\">\n",
       "      <th></th>\n",
       "      <th>category</th>\n",
       "      <th>category_count</th>\n",
       "      <th>share</th>\n",
       "    </tr>\n",
       "  </thead>\n",
       "  <tbody>\n",
       "    <tr>\n",
       "      <th>0</th>\n",
       "      <td>CategoryA</td>\n",
       "      <td>54</td>\n",
       "      <td>50</td>\n",
       "    </tr>\n",
       "    <tr>\n",
       "      <th>1</th>\n",
       "      <td>CategoryB</td>\n",
       "      <td>41</td>\n",
       "      <td>25</td>\n",
       "    </tr>\n",
       "    <tr>\n",
       "      <th>2</th>\n",
       "      <td>CategoryC</td>\n",
       "      <td>64</td>\n",
       "      <td>100</td>\n",
       "    </tr>\n",
       "  </tbody>\n",
       "</table>\n",
       "</div>"
      ],
      "text/plain": [
       "    category  category_count  share\n",
       "0  CategoryA              54     50\n",
       "1  CategoryB              41     25\n",
       "2  CategoryC              64    100"
      ]
     },
     "execution_count": 12,
     "metadata": {},
     "output_type": "execute_result"
    }
   ],
   "source": [
    "share = [50, 25, 100]\n",
    "plot_bubble['share'] = share\n",
    "plot_bubble"
   ]
  },
  {
   "cell_type": "code",
   "execution_count": 13,
   "metadata": {},
   "outputs": [
    {
     "data": {
      "application/vnd.plotly.v1+json": {
       "config": {
        "linkText": "Export to plot.ly",
        "plotlyServerURL": "https://plot.ly",
        "showLink": false
       },
       "data": [
        {
         "marker": {
          "color": [
           "blue",
           "red",
           "yellow"
          ],
          "size": [
           50,
           25,
           100
          ]
         },
         "mode": "markers",
         "type": "scatter",
         "x": [
          "CategoryA",
          "CategoryB",
          "CategoryC"
         ],
         "y": [
          54,
          41,
          64
         ]
        }
       ],
       "layout": {
        "template": {
         "data": {
          "bar": [
           {
            "error_x": {
             "color": "#2a3f5f"
            },
            "error_y": {
             "color": "#2a3f5f"
            },
            "marker": {
             "line": {
              "color": "#E5ECF6",
              "width": 0.5
             }
            },
            "type": "bar"
           }
          ],
          "barpolar": [
           {
            "marker": {
             "line": {
              "color": "#E5ECF6",
              "width": 0.5
             }
            },
            "type": "barpolar"
           }
          ],
          "carpet": [
           {
            "aaxis": {
             "endlinecolor": "#2a3f5f",
             "gridcolor": "white",
             "linecolor": "white",
             "minorgridcolor": "white",
             "startlinecolor": "#2a3f5f"
            },
            "baxis": {
             "endlinecolor": "#2a3f5f",
             "gridcolor": "white",
             "linecolor": "white",
             "minorgridcolor": "white",
             "startlinecolor": "#2a3f5f"
            },
            "type": "carpet"
           }
          ],
          "choropleth": [
           {
            "colorbar": {
             "outlinewidth": 0,
             "ticks": ""
            },
            "type": "choropleth"
           }
          ],
          "contour": [
           {
            "colorbar": {
             "outlinewidth": 0,
             "ticks": ""
            },
            "colorscale": [
             [
              0,
              "#0d0887"
             ],
             [
              0.1111111111111111,
              "#46039f"
             ],
             [
              0.2222222222222222,
              "#7201a8"
             ],
             [
              0.3333333333333333,
              "#9c179e"
             ],
             [
              0.4444444444444444,
              "#bd3786"
             ],
             [
              0.5555555555555556,
              "#d8576b"
             ],
             [
              0.6666666666666666,
              "#ed7953"
             ],
             [
              0.7777777777777778,
              "#fb9f3a"
             ],
             [
              0.8888888888888888,
              "#fdca26"
             ],
             [
              1,
              "#f0f921"
             ]
            ],
            "type": "contour"
           }
          ],
          "contourcarpet": [
           {
            "colorbar": {
             "outlinewidth": 0,
             "ticks": ""
            },
            "type": "contourcarpet"
           }
          ],
          "heatmap": [
           {
            "colorbar": {
             "outlinewidth": 0,
             "ticks": ""
            },
            "colorscale": [
             [
              0,
              "#0d0887"
             ],
             [
              0.1111111111111111,
              "#46039f"
             ],
             [
              0.2222222222222222,
              "#7201a8"
             ],
             [
              0.3333333333333333,
              "#9c179e"
             ],
             [
              0.4444444444444444,
              "#bd3786"
             ],
             [
              0.5555555555555556,
              "#d8576b"
             ],
             [
              0.6666666666666666,
              "#ed7953"
             ],
             [
              0.7777777777777778,
              "#fb9f3a"
             ],
             [
              0.8888888888888888,
              "#fdca26"
             ],
             [
              1,
              "#f0f921"
             ]
            ],
            "type": "heatmap"
           }
          ],
          "heatmapgl": [
           {
            "colorbar": {
             "outlinewidth": 0,
             "ticks": ""
            },
            "colorscale": [
             [
              0,
              "#0d0887"
             ],
             [
              0.1111111111111111,
              "#46039f"
             ],
             [
              0.2222222222222222,
              "#7201a8"
             ],
             [
              0.3333333333333333,
              "#9c179e"
             ],
             [
              0.4444444444444444,
              "#bd3786"
             ],
             [
              0.5555555555555556,
              "#d8576b"
             ],
             [
              0.6666666666666666,
              "#ed7953"
             ],
             [
              0.7777777777777778,
              "#fb9f3a"
             ],
             [
              0.8888888888888888,
              "#fdca26"
             ],
             [
              1,
              "#f0f921"
             ]
            ],
            "type": "heatmapgl"
           }
          ],
          "histogram": [
           {
            "marker": {
             "colorbar": {
              "outlinewidth": 0,
              "ticks": ""
             }
            },
            "type": "histogram"
           }
          ],
          "histogram2d": [
           {
            "colorbar": {
             "outlinewidth": 0,
             "ticks": ""
            },
            "colorscale": [
             [
              0,
              "#0d0887"
             ],
             [
              0.1111111111111111,
              "#46039f"
             ],
             [
              0.2222222222222222,
              "#7201a8"
             ],
             [
              0.3333333333333333,
              "#9c179e"
             ],
             [
              0.4444444444444444,
              "#bd3786"
             ],
             [
              0.5555555555555556,
              "#d8576b"
             ],
             [
              0.6666666666666666,
              "#ed7953"
             ],
             [
              0.7777777777777778,
              "#fb9f3a"
             ],
             [
              0.8888888888888888,
              "#fdca26"
             ],
             [
              1,
              "#f0f921"
             ]
            ],
            "type": "histogram2d"
           }
          ],
          "histogram2dcontour": [
           {
            "colorbar": {
             "outlinewidth": 0,
             "ticks": ""
            },
            "colorscale": [
             [
              0,
              "#0d0887"
             ],
             [
              0.1111111111111111,
              "#46039f"
             ],
             [
              0.2222222222222222,
              "#7201a8"
             ],
             [
              0.3333333333333333,
              "#9c179e"
             ],
             [
              0.4444444444444444,
              "#bd3786"
             ],
             [
              0.5555555555555556,
              "#d8576b"
             ],
             [
              0.6666666666666666,
              "#ed7953"
             ],
             [
              0.7777777777777778,
              "#fb9f3a"
             ],
             [
              0.8888888888888888,
              "#fdca26"
             ],
             [
              1,
              "#f0f921"
             ]
            ],
            "type": "histogram2dcontour"
           }
          ],
          "mesh3d": [
           {
            "colorbar": {
             "outlinewidth": 0,
             "ticks": ""
            },
            "type": "mesh3d"
           }
          ],
          "parcoords": [
           {
            "line": {
             "colorbar": {
              "outlinewidth": 0,
              "ticks": ""
             }
            },
            "type": "parcoords"
           }
          ],
          "pie": [
           {
            "automargin": true,
            "type": "pie"
           }
          ],
          "scatter": [
           {
            "marker": {
             "colorbar": {
              "outlinewidth": 0,
              "ticks": ""
             }
            },
            "type": "scatter"
           }
          ],
          "scatter3d": [
           {
            "line": {
             "colorbar": {
              "outlinewidth": 0,
              "ticks": ""
             }
            },
            "marker": {
             "colorbar": {
              "outlinewidth": 0,
              "ticks": ""
             }
            },
            "type": "scatter3d"
           }
          ],
          "scattercarpet": [
           {
            "marker": {
             "colorbar": {
              "outlinewidth": 0,
              "ticks": ""
             }
            },
            "type": "scattercarpet"
           }
          ],
          "scattergeo": [
           {
            "marker": {
             "colorbar": {
              "outlinewidth": 0,
              "ticks": ""
             }
            },
            "type": "scattergeo"
           }
          ],
          "scattergl": [
           {
            "marker": {
             "colorbar": {
              "outlinewidth": 0,
              "ticks": ""
             }
            },
            "type": "scattergl"
           }
          ],
          "scattermapbox": [
           {
            "marker": {
             "colorbar": {
              "outlinewidth": 0,
              "ticks": ""
             }
            },
            "type": "scattermapbox"
           }
          ],
          "scatterpolar": [
           {
            "marker": {
             "colorbar": {
              "outlinewidth": 0,
              "ticks": ""
             }
            },
            "type": "scatterpolar"
           }
          ],
          "scatterpolargl": [
           {
            "marker": {
             "colorbar": {
              "outlinewidth": 0,
              "ticks": ""
             }
            },
            "type": "scatterpolargl"
           }
          ],
          "scatterternary": [
           {
            "marker": {
             "colorbar": {
              "outlinewidth": 0,
              "ticks": ""
             }
            },
            "type": "scatterternary"
           }
          ],
          "surface": [
           {
            "colorbar": {
             "outlinewidth": 0,
             "ticks": ""
            },
            "colorscale": [
             [
              0,
              "#0d0887"
             ],
             [
              0.1111111111111111,
              "#46039f"
             ],
             [
              0.2222222222222222,
              "#7201a8"
             ],
             [
              0.3333333333333333,
              "#9c179e"
             ],
             [
              0.4444444444444444,
              "#bd3786"
             ],
             [
              0.5555555555555556,
              "#d8576b"
             ],
             [
              0.6666666666666666,
              "#ed7953"
             ],
             [
              0.7777777777777778,
              "#fb9f3a"
             ],
             [
              0.8888888888888888,
              "#fdca26"
             ],
             [
              1,
              "#f0f921"
             ]
            ],
            "type": "surface"
           }
          ],
          "table": [
           {
            "cells": {
             "fill": {
              "color": "#EBF0F8"
             },
             "line": {
              "color": "white"
             }
            },
            "header": {
             "fill": {
              "color": "#C8D4E3"
             },
             "line": {
              "color": "white"
             }
            },
            "type": "table"
           }
          ]
         },
         "layout": {
          "annotationdefaults": {
           "arrowcolor": "#2a3f5f",
           "arrowhead": 0,
           "arrowwidth": 1
          },
          "coloraxis": {
           "colorbar": {
            "outlinewidth": 0,
            "ticks": ""
           }
          },
          "colorscale": {
           "diverging": [
            [
             0,
             "#8e0152"
            ],
            [
             0.1,
             "#c51b7d"
            ],
            [
             0.2,
             "#de77ae"
            ],
            [
             0.3,
             "#f1b6da"
            ],
            [
             0.4,
             "#fde0ef"
            ],
            [
             0.5,
             "#f7f7f7"
            ],
            [
             0.6,
             "#e6f5d0"
            ],
            [
             0.7,
             "#b8e186"
            ],
            [
             0.8,
             "#7fbc41"
            ],
            [
             0.9,
             "#4d9221"
            ],
            [
             1,
             "#276419"
            ]
           ],
           "sequential": [
            [
             0,
             "#0d0887"
            ],
            [
             0.1111111111111111,
             "#46039f"
            ],
            [
             0.2222222222222222,
             "#7201a8"
            ],
            [
             0.3333333333333333,
             "#9c179e"
            ],
            [
             0.4444444444444444,
             "#bd3786"
            ],
            [
             0.5555555555555556,
             "#d8576b"
            ],
            [
             0.6666666666666666,
             "#ed7953"
            ],
            [
             0.7777777777777778,
             "#fb9f3a"
            ],
            [
             0.8888888888888888,
             "#fdca26"
            ],
            [
             1,
             "#f0f921"
            ]
           ],
           "sequentialminus": [
            [
             0,
             "#0d0887"
            ],
            [
             0.1111111111111111,
             "#46039f"
            ],
            [
             0.2222222222222222,
             "#7201a8"
            ],
            [
             0.3333333333333333,
             "#9c179e"
            ],
            [
             0.4444444444444444,
             "#bd3786"
            ],
            [
             0.5555555555555556,
             "#d8576b"
            ],
            [
             0.6666666666666666,
             "#ed7953"
            ],
            [
             0.7777777777777778,
             "#fb9f3a"
            ],
            [
             0.8888888888888888,
             "#fdca26"
            ],
            [
             1,
             "#f0f921"
            ]
           ]
          },
          "colorway": [
           "#636efa",
           "#EF553B",
           "#00cc96",
           "#ab63fa",
           "#FFA15A",
           "#19d3f3",
           "#FF6692",
           "#B6E880",
           "#FF97FF",
           "#FECB52"
          ],
          "font": {
           "color": "#2a3f5f"
          },
          "geo": {
           "bgcolor": "white",
           "lakecolor": "white",
           "landcolor": "#E5ECF6",
           "showlakes": true,
           "showland": true,
           "subunitcolor": "white"
          },
          "hoverlabel": {
           "align": "left"
          },
          "hovermode": "closest",
          "mapbox": {
           "style": "light"
          },
          "paper_bgcolor": "white",
          "plot_bgcolor": "#E5ECF6",
          "polar": {
           "angularaxis": {
            "gridcolor": "white",
            "linecolor": "white",
            "ticks": ""
           },
           "bgcolor": "#E5ECF6",
           "radialaxis": {
            "gridcolor": "white",
            "linecolor": "white",
            "ticks": ""
           }
          },
          "scene": {
           "xaxis": {
            "backgroundcolor": "#E5ECF6",
            "gridcolor": "white",
            "gridwidth": 2,
            "linecolor": "white",
            "showbackground": true,
            "ticks": "",
            "zerolinecolor": "white"
           },
           "yaxis": {
            "backgroundcolor": "#E5ECF6",
            "gridcolor": "white",
            "gridwidth": 2,
            "linecolor": "white",
            "showbackground": true,
            "ticks": "",
            "zerolinecolor": "white"
           },
           "zaxis": {
            "backgroundcolor": "#E5ECF6",
            "gridcolor": "white",
            "gridwidth": 2,
            "linecolor": "white",
            "showbackground": true,
            "ticks": "",
            "zerolinecolor": "white"
           }
          },
          "shapedefaults": {
           "line": {
            "color": "#2a3f5f"
           }
          },
          "ternary": {
           "aaxis": {
            "gridcolor": "white",
            "linecolor": "white",
            "ticks": ""
           },
           "baxis": {
            "gridcolor": "white",
            "linecolor": "white",
            "ticks": ""
           },
           "bgcolor": "#E5ECF6",
           "caxis": {
            "gridcolor": "white",
            "linecolor": "white",
            "ticks": ""
           }
          },
          "title": {
           "x": 0.05
          },
          "xaxis": {
           "automargin": true,
           "gridcolor": "white",
           "linecolor": "white",
           "ticks": "",
           "title": {
            "standoff": 15
           },
           "zerolinecolor": "white",
           "zerolinewidth": 2
          },
          "yaxis": {
           "automargin": true,
           "gridcolor": "white",
           "linecolor": "white",
           "ticks": "",
           "title": {
            "standoff": 15
           },
           "zerolinecolor": "white",
           "zerolinewidth": 2
          }
         }
        },
        "title": {
         "text": "Bubble chart showing the distribution of the three categories with their shares"
        }
       }
      },
      "text/html": [
       "<div>\n",
       "        \n",
       "        \n",
       "            <div id=\"10901d8a-a147-4c6e-b853-f52be32c70cd\" class=\"plotly-graph-div\" style=\"height:525px; width:100%;\"></div>\n",
       "            <script type=\"text/javascript\">\n",
       "                require([\"plotly\"], function(Plotly) {\n",
       "                    window.PLOTLYENV=window.PLOTLYENV || {};\n",
       "                    \n",
       "                if (document.getElementById(\"10901d8a-a147-4c6e-b853-f52be32c70cd\")) {\n",
       "                    Plotly.newPlot(\n",
       "                        '10901d8a-a147-4c6e-b853-f52be32c70cd',\n",
       "                        [{\"marker\": {\"color\": [\"blue\", \"red\", \"yellow\"], \"size\": [50, 25, 100]}, \"mode\": \"markers\", \"type\": \"scatter\", \"x\": [\"CategoryA\", \"CategoryB\", \"CategoryC\"], \"y\": [54, 41, 64]}],\n",
       "                        {\"template\": {\"data\": {\"bar\": [{\"error_x\": {\"color\": \"#2a3f5f\"}, \"error_y\": {\"color\": \"#2a3f5f\"}, \"marker\": {\"line\": {\"color\": \"#E5ECF6\", \"width\": 0.5}}, \"type\": \"bar\"}], \"barpolar\": [{\"marker\": {\"line\": {\"color\": \"#E5ECF6\", \"width\": 0.5}}, \"type\": \"barpolar\"}], \"carpet\": [{\"aaxis\": {\"endlinecolor\": \"#2a3f5f\", \"gridcolor\": \"white\", \"linecolor\": \"white\", \"minorgridcolor\": \"white\", \"startlinecolor\": \"#2a3f5f\"}, \"baxis\": {\"endlinecolor\": \"#2a3f5f\", \"gridcolor\": \"white\", \"linecolor\": \"white\", \"minorgridcolor\": \"white\", \"startlinecolor\": \"#2a3f5f\"}, \"type\": \"carpet\"}], \"choropleth\": [{\"colorbar\": {\"outlinewidth\": 0, \"ticks\": \"\"}, \"type\": \"choropleth\"}], \"contour\": [{\"colorbar\": {\"outlinewidth\": 0, \"ticks\": \"\"}, \"colorscale\": [[0.0, \"#0d0887\"], [0.1111111111111111, \"#46039f\"], [0.2222222222222222, \"#7201a8\"], [0.3333333333333333, \"#9c179e\"], [0.4444444444444444, \"#bd3786\"], [0.5555555555555556, \"#d8576b\"], [0.6666666666666666, \"#ed7953\"], [0.7777777777777778, \"#fb9f3a\"], [0.8888888888888888, \"#fdca26\"], [1.0, \"#f0f921\"]], \"type\": \"contour\"}], \"contourcarpet\": [{\"colorbar\": {\"outlinewidth\": 0, \"ticks\": \"\"}, \"type\": \"contourcarpet\"}], \"heatmap\": [{\"colorbar\": {\"outlinewidth\": 0, \"ticks\": \"\"}, \"colorscale\": [[0.0, \"#0d0887\"], [0.1111111111111111, \"#46039f\"], [0.2222222222222222, \"#7201a8\"], [0.3333333333333333, \"#9c179e\"], [0.4444444444444444, \"#bd3786\"], [0.5555555555555556, \"#d8576b\"], [0.6666666666666666, \"#ed7953\"], [0.7777777777777778, \"#fb9f3a\"], [0.8888888888888888, \"#fdca26\"], [1.0, \"#f0f921\"]], \"type\": \"heatmap\"}], \"heatmapgl\": [{\"colorbar\": {\"outlinewidth\": 0, \"ticks\": \"\"}, \"colorscale\": [[0.0, \"#0d0887\"], [0.1111111111111111, \"#46039f\"], [0.2222222222222222, \"#7201a8\"], [0.3333333333333333, \"#9c179e\"], [0.4444444444444444, \"#bd3786\"], [0.5555555555555556, \"#d8576b\"], [0.6666666666666666, \"#ed7953\"], [0.7777777777777778, \"#fb9f3a\"], [0.8888888888888888, \"#fdca26\"], [1.0, \"#f0f921\"]], \"type\": \"heatmapgl\"}], \"histogram\": [{\"marker\": {\"colorbar\": {\"outlinewidth\": 0, \"ticks\": \"\"}}, \"type\": \"histogram\"}], \"histogram2d\": [{\"colorbar\": {\"outlinewidth\": 0, \"ticks\": \"\"}, \"colorscale\": [[0.0, \"#0d0887\"], [0.1111111111111111, \"#46039f\"], [0.2222222222222222, \"#7201a8\"], [0.3333333333333333, \"#9c179e\"], [0.4444444444444444, \"#bd3786\"], [0.5555555555555556, \"#d8576b\"], [0.6666666666666666, \"#ed7953\"], [0.7777777777777778, \"#fb9f3a\"], [0.8888888888888888, \"#fdca26\"], [1.0, \"#f0f921\"]], \"type\": \"histogram2d\"}], \"histogram2dcontour\": [{\"colorbar\": {\"outlinewidth\": 0, \"ticks\": \"\"}, \"colorscale\": [[0.0, \"#0d0887\"], [0.1111111111111111, \"#46039f\"], [0.2222222222222222, \"#7201a8\"], [0.3333333333333333, \"#9c179e\"], [0.4444444444444444, \"#bd3786\"], [0.5555555555555556, \"#d8576b\"], [0.6666666666666666, \"#ed7953\"], [0.7777777777777778, \"#fb9f3a\"], [0.8888888888888888, \"#fdca26\"], [1.0, \"#f0f921\"]], \"type\": \"histogram2dcontour\"}], \"mesh3d\": [{\"colorbar\": {\"outlinewidth\": 0, \"ticks\": \"\"}, \"type\": \"mesh3d\"}], \"parcoords\": [{\"line\": {\"colorbar\": {\"outlinewidth\": 0, \"ticks\": \"\"}}, \"type\": \"parcoords\"}], \"pie\": [{\"automargin\": true, \"type\": \"pie\"}], \"scatter\": [{\"marker\": {\"colorbar\": {\"outlinewidth\": 0, \"ticks\": \"\"}}, \"type\": \"scatter\"}], \"scatter3d\": [{\"line\": {\"colorbar\": {\"outlinewidth\": 0, \"ticks\": \"\"}}, \"marker\": {\"colorbar\": {\"outlinewidth\": 0, \"ticks\": \"\"}}, \"type\": \"scatter3d\"}], \"scattercarpet\": [{\"marker\": {\"colorbar\": {\"outlinewidth\": 0, \"ticks\": \"\"}}, \"type\": \"scattercarpet\"}], \"scattergeo\": [{\"marker\": {\"colorbar\": {\"outlinewidth\": 0, \"ticks\": \"\"}}, \"type\": \"scattergeo\"}], \"scattergl\": [{\"marker\": {\"colorbar\": {\"outlinewidth\": 0, \"ticks\": \"\"}}, \"type\": \"scattergl\"}], \"scattermapbox\": [{\"marker\": {\"colorbar\": {\"outlinewidth\": 0, \"ticks\": \"\"}}, \"type\": \"scattermapbox\"}], \"scatterpolar\": [{\"marker\": {\"colorbar\": {\"outlinewidth\": 0, \"ticks\": \"\"}}, \"type\": \"scatterpolar\"}], \"scatterpolargl\": [{\"marker\": {\"colorbar\": {\"outlinewidth\": 0, \"ticks\": \"\"}}, \"type\": \"scatterpolargl\"}], \"scatterternary\": [{\"marker\": {\"colorbar\": {\"outlinewidth\": 0, \"ticks\": \"\"}}, \"type\": \"scatterternary\"}], \"surface\": [{\"colorbar\": {\"outlinewidth\": 0, \"ticks\": \"\"}, \"colorscale\": [[0.0, \"#0d0887\"], [0.1111111111111111, \"#46039f\"], [0.2222222222222222, \"#7201a8\"], [0.3333333333333333, \"#9c179e\"], [0.4444444444444444, \"#bd3786\"], [0.5555555555555556, \"#d8576b\"], [0.6666666666666666, \"#ed7953\"], [0.7777777777777778, \"#fb9f3a\"], [0.8888888888888888, \"#fdca26\"], [1.0, \"#f0f921\"]], \"type\": \"surface\"}], \"table\": [{\"cells\": {\"fill\": {\"color\": \"#EBF0F8\"}, \"line\": {\"color\": \"white\"}}, \"header\": {\"fill\": {\"color\": \"#C8D4E3\"}, \"line\": {\"color\": \"white\"}}, \"type\": \"table\"}]}, \"layout\": {\"annotationdefaults\": {\"arrowcolor\": \"#2a3f5f\", \"arrowhead\": 0, \"arrowwidth\": 1}, \"coloraxis\": {\"colorbar\": {\"outlinewidth\": 0, \"ticks\": \"\"}}, \"colorscale\": {\"diverging\": [[0, \"#8e0152\"], [0.1, \"#c51b7d\"], [0.2, \"#de77ae\"], [0.3, \"#f1b6da\"], [0.4, \"#fde0ef\"], [0.5, \"#f7f7f7\"], [0.6, \"#e6f5d0\"], [0.7, \"#b8e186\"], [0.8, \"#7fbc41\"], [0.9, \"#4d9221\"], [1, \"#276419\"]], \"sequential\": [[0.0, \"#0d0887\"], [0.1111111111111111, \"#46039f\"], [0.2222222222222222, \"#7201a8\"], [0.3333333333333333, \"#9c179e\"], [0.4444444444444444, \"#bd3786\"], [0.5555555555555556, \"#d8576b\"], [0.6666666666666666, \"#ed7953\"], [0.7777777777777778, \"#fb9f3a\"], [0.8888888888888888, \"#fdca26\"], [1.0, \"#f0f921\"]], \"sequentialminus\": [[0.0, \"#0d0887\"], [0.1111111111111111, \"#46039f\"], [0.2222222222222222, \"#7201a8\"], [0.3333333333333333, \"#9c179e\"], [0.4444444444444444, \"#bd3786\"], [0.5555555555555556, \"#d8576b\"], [0.6666666666666666, \"#ed7953\"], [0.7777777777777778, \"#fb9f3a\"], [0.8888888888888888, \"#fdca26\"], [1.0, \"#f0f921\"]]}, \"colorway\": [\"#636efa\", \"#EF553B\", \"#00cc96\", \"#ab63fa\", \"#FFA15A\", \"#19d3f3\", \"#FF6692\", \"#B6E880\", \"#FF97FF\", \"#FECB52\"], \"font\": {\"color\": \"#2a3f5f\"}, \"geo\": {\"bgcolor\": \"white\", \"lakecolor\": \"white\", \"landcolor\": \"#E5ECF6\", \"showlakes\": true, \"showland\": true, \"subunitcolor\": \"white\"}, \"hoverlabel\": {\"align\": \"left\"}, \"hovermode\": \"closest\", \"mapbox\": {\"style\": \"light\"}, \"paper_bgcolor\": \"white\", \"plot_bgcolor\": \"#E5ECF6\", \"polar\": {\"angularaxis\": {\"gridcolor\": \"white\", \"linecolor\": \"white\", \"ticks\": \"\"}, \"bgcolor\": \"#E5ECF6\", \"radialaxis\": {\"gridcolor\": \"white\", \"linecolor\": \"white\", \"ticks\": \"\"}}, \"scene\": {\"xaxis\": {\"backgroundcolor\": \"#E5ECF6\", \"gridcolor\": \"white\", \"gridwidth\": 2, \"linecolor\": \"white\", \"showbackground\": true, \"ticks\": \"\", \"zerolinecolor\": \"white\"}, \"yaxis\": {\"backgroundcolor\": \"#E5ECF6\", \"gridcolor\": \"white\", \"gridwidth\": 2, \"linecolor\": \"white\", \"showbackground\": true, \"ticks\": \"\", \"zerolinecolor\": \"white\"}, \"zaxis\": {\"backgroundcolor\": \"#E5ECF6\", \"gridcolor\": \"white\", \"gridwidth\": 2, \"linecolor\": \"white\", \"showbackground\": true, \"ticks\": \"\", \"zerolinecolor\": \"white\"}}, \"shapedefaults\": {\"line\": {\"color\": \"#2a3f5f\"}}, \"ternary\": {\"aaxis\": {\"gridcolor\": \"white\", \"linecolor\": \"white\", \"ticks\": \"\"}, \"baxis\": {\"gridcolor\": \"white\", \"linecolor\": \"white\", \"ticks\": \"\"}, \"bgcolor\": \"#E5ECF6\", \"caxis\": {\"gridcolor\": \"white\", \"linecolor\": \"white\", \"ticks\": \"\"}}, \"title\": {\"x\": 0.05}, \"xaxis\": {\"automargin\": true, \"gridcolor\": \"white\", \"linecolor\": \"white\", \"ticks\": \"\", \"title\": {\"standoff\": 15}, \"zerolinecolor\": \"white\", \"zerolinewidth\": 2}, \"yaxis\": {\"automargin\": true, \"gridcolor\": \"white\", \"linecolor\": \"white\", \"ticks\": \"\", \"title\": {\"standoff\": 15}, \"zerolinecolor\": \"white\", \"zerolinewidth\": 2}}}, \"title\": {\"text\": \"Bubble chart showing the distribution of the three categories with their shares\"}},\n",
       "                        {\"responsive\": true}\n",
       "                    ).then(function(){\n",
       "                            \n",
       "var gd = document.getElementById('10901d8a-a147-4c6e-b853-f52be32c70cd');\n",
       "var x = new MutationObserver(function (mutations, observer) {{\n",
       "        var display = window.getComputedStyle(gd).display;\n",
       "        if (!display || display === 'none') {{\n",
       "            console.log([gd, 'removed!']);\n",
       "            Plotly.purge(gd);\n",
       "            observer.disconnect();\n",
       "        }}\n",
       "}});\n",
       "\n",
       "// Listen for the removal of the full notebook cells\n",
       "var notebookContainer = gd.closest('#notebook-container');\n",
       "if (notebookContainer) {{\n",
       "    x.observe(notebookContainer, {childList: true});\n",
       "}}\n",
       "\n",
       "// Listen for the clearing of the current output cell\n",
       "var outputEl = gd.closest('.output');\n",
       "if (outputEl) {{\n",
       "    x.observe(outputEl, {childList: true});\n",
       "}}\n",
       "\n",
       "                        })\n",
       "                };\n",
       "                });\n",
       "            </script>\n",
       "        </div>"
      ]
     },
     "metadata": {},
     "output_type": "display_data"
    }
   ],
   "source": [
    "\n",
    "trace = go.Scatter(x=plot_bubble['category'], y=plot_bubble['category_count'], mode='markers',\n",
    "                   marker_size = plot_bubble['share'], marker_color = ['blue','red','yellow'])\n",
    "fig = go.Figure(data=[trace])\n",
    "fig.update_layout(title_text='Bubble chart showing the distribution of the three categories with their shares')\n",
    "iplot(fig)"
   ]
  },
  {
   "cell_type": "markdown",
   "metadata": {},
   "source": [
    "## 4. Table "
   ]
  },
  {
   "cell_type": "code",
   "execution_count": 14,
   "metadata": {},
   "outputs": [
    {
     "data": {
      "application/vnd.plotly.v1+json": {
       "config": {
        "linkText": "Export to plot.ly",
        "plotlyServerURL": "https://plot.ly",
        "showLink": false
       },
       "data": [
        {
         "cells": {
          "values": [
           [
            "2020-05-07",
            "2020-05-08",
            "2020-05-09",
            "2020-05-10",
            "2020-05-11",
            "2020-05-12",
            "2020-05-13",
            "2020-05-14",
            "2020-05-15",
            "2020-05-16",
            "2020-05-17",
            "2020-05-18",
            "2020-05-19",
            "2020-05-20",
            "2020-05-21"
           ],
           [
            3,
            3,
            2,
            2,
            1,
            2,
            4,
            6,
            4,
            4,
            4,
            6,
            7,
            2,
            4
           ],
           [
            2,
            2,
            1,
            2,
            1,
            7,
            3,
            5,
            2,
            4,
            2,
            2,
            2,
            4,
            2
           ],
           [
            1,
            5,
            2,
            3,
            2,
            3,
            2,
            5,
            4,
            7,
            6,
            6,
            6,
            5,
            7
           ]
          ]
         },
         "header": {
          "values": [
           "date",
           "CategoryA",
           "CategoryB",
           "CategoryC"
          ]
         },
         "type": "table"
        }
       ],
       "layout": {
        "template": {
         "data": {
          "bar": [
           {
            "error_x": {
             "color": "#2a3f5f"
            },
            "error_y": {
             "color": "#2a3f5f"
            },
            "marker": {
             "line": {
              "color": "#E5ECF6",
              "width": 0.5
             }
            },
            "type": "bar"
           }
          ],
          "barpolar": [
           {
            "marker": {
             "line": {
              "color": "#E5ECF6",
              "width": 0.5
             }
            },
            "type": "barpolar"
           }
          ],
          "carpet": [
           {
            "aaxis": {
             "endlinecolor": "#2a3f5f",
             "gridcolor": "white",
             "linecolor": "white",
             "minorgridcolor": "white",
             "startlinecolor": "#2a3f5f"
            },
            "baxis": {
             "endlinecolor": "#2a3f5f",
             "gridcolor": "white",
             "linecolor": "white",
             "minorgridcolor": "white",
             "startlinecolor": "#2a3f5f"
            },
            "type": "carpet"
           }
          ],
          "choropleth": [
           {
            "colorbar": {
             "outlinewidth": 0,
             "ticks": ""
            },
            "type": "choropleth"
           }
          ],
          "contour": [
           {
            "colorbar": {
             "outlinewidth": 0,
             "ticks": ""
            },
            "colorscale": [
             [
              0,
              "#0d0887"
             ],
             [
              0.1111111111111111,
              "#46039f"
             ],
             [
              0.2222222222222222,
              "#7201a8"
             ],
             [
              0.3333333333333333,
              "#9c179e"
             ],
             [
              0.4444444444444444,
              "#bd3786"
             ],
             [
              0.5555555555555556,
              "#d8576b"
             ],
             [
              0.6666666666666666,
              "#ed7953"
             ],
             [
              0.7777777777777778,
              "#fb9f3a"
             ],
             [
              0.8888888888888888,
              "#fdca26"
             ],
             [
              1,
              "#f0f921"
             ]
            ],
            "type": "contour"
           }
          ],
          "contourcarpet": [
           {
            "colorbar": {
             "outlinewidth": 0,
             "ticks": ""
            },
            "type": "contourcarpet"
           }
          ],
          "heatmap": [
           {
            "colorbar": {
             "outlinewidth": 0,
             "ticks": ""
            },
            "colorscale": [
             [
              0,
              "#0d0887"
             ],
             [
              0.1111111111111111,
              "#46039f"
             ],
             [
              0.2222222222222222,
              "#7201a8"
             ],
             [
              0.3333333333333333,
              "#9c179e"
             ],
             [
              0.4444444444444444,
              "#bd3786"
             ],
             [
              0.5555555555555556,
              "#d8576b"
             ],
             [
              0.6666666666666666,
              "#ed7953"
             ],
             [
              0.7777777777777778,
              "#fb9f3a"
             ],
             [
              0.8888888888888888,
              "#fdca26"
             ],
             [
              1,
              "#f0f921"
             ]
            ],
            "type": "heatmap"
           }
          ],
          "heatmapgl": [
           {
            "colorbar": {
             "outlinewidth": 0,
             "ticks": ""
            },
            "colorscale": [
             [
              0,
              "#0d0887"
             ],
             [
              0.1111111111111111,
              "#46039f"
             ],
             [
              0.2222222222222222,
              "#7201a8"
             ],
             [
              0.3333333333333333,
              "#9c179e"
             ],
             [
              0.4444444444444444,
              "#bd3786"
             ],
             [
              0.5555555555555556,
              "#d8576b"
             ],
             [
              0.6666666666666666,
              "#ed7953"
             ],
             [
              0.7777777777777778,
              "#fb9f3a"
             ],
             [
              0.8888888888888888,
              "#fdca26"
             ],
             [
              1,
              "#f0f921"
             ]
            ],
            "type": "heatmapgl"
           }
          ],
          "histogram": [
           {
            "marker": {
             "colorbar": {
              "outlinewidth": 0,
              "ticks": ""
             }
            },
            "type": "histogram"
           }
          ],
          "histogram2d": [
           {
            "colorbar": {
             "outlinewidth": 0,
             "ticks": ""
            },
            "colorscale": [
             [
              0,
              "#0d0887"
             ],
             [
              0.1111111111111111,
              "#46039f"
             ],
             [
              0.2222222222222222,
              "#7201a8"
             ],
             [
              0.3333333333333333,
              "#9c179e"
             ],
             [
              0.4444444444444444,
              "#bd3786"
             ],
             [
              0.5555555555555556,
              "#d8576b"
             ],
             [
              0.6666666666666666,
              "#ed7953"
             ],
             [
              0.7777777777777778,
              "#fb9f3a"
             ],
             [
              0.8888888888888888,
              "#fdca26"
             ],
             [
              1,
              "#f0f921"
             ]
            ],
            "type": "histogram2d"
           }
          ],
          "histogram2dcontour": [
           {
            "colorbar": {
             "outlinewidth": 0,
             "ticks": ""
            },
            "colorscale": [
             [
              0,
              "#0d0887"
             ],
             [
              0.1111111111111111,
              "#46039f"
             ],
             [
              0.2222222222222222,
              "#7201a8"
             ],
             [
              0.3333333333333333,
              "#9c179e"
             ],
             [
              0.4444444444444444,
              "#bd3786"
             ],
             [
              0.5555555555555556,
              "#d8576b"
             ],
             [
              0.6666666666666666,
              "#ed7953"
             ],
             [
              0.7777777777777778,
              "#fb9f3a"
             ],
             [
              0.8888888888888888,
              "#fdca26"
             ],
             [
              1,
              "#f0f921"
             ]
            ],
            "type": "histogram2dcontour"
           }
          ],
          "mesh3d": [
           {
            "colorbar": {
             "outlinewidth": 0,
             "ticks": ""
            },
            "type": "mesh3d"
           }
          ],
          "parcoords": [
           {
            "line": {
             "colorbar": {
              "outlinewidth": 0,
              "ticks": ""
             }
            },
            "type": "parcoords"
           }
          ],
          "pie": [
           {
            "automargin": true,
            "type": "pie"
           }
          ],
          "scatter": [
           {
            "marker": {
             "colorbar": {
              "outlinewidth": 0,
              "ticks": ""
             }
            },
            "type": "scatter"
           }
          ],
          "scatter3d": [
           {
            "line": {
             "colorbar": {
              "outlinewidth": 0,
              "ticks": ""
             }
            },
            "marker": {
             "colorbar": {
              "outlinewidth": 0,
              "ticks": ""
             }
            },
            "type": "scatter3d"
           }
          ],
          "scattercarpet": [
           {
            "marker": {
             "colorbar": {
              "outlinewidth": 0,
              "ticks": ""
             }
            },
            "type": "scattercarpet"
           }
          ],
          "scattergeo": [
           {
            "marker": {
             "colorbar": {
              "outlinewidth": 0,
              "ticks": ""
             }
            },
            "type": "scattergeo"
           }
          ],
          "scattergl": [
           {
            "marker": {
             "colorbar": {
              "outlinewidth": 0,
              "ticks": ""
             }
            },
            "type": "scattergl"
           }
          ],
          "scattermapbox": [
           {
            "marker": {
             "colorbar": {
              "outlinewidth": 0,
              "ticks": ""
             }
            },
            "type": "scattermapbox"
           }
          ],
          "scatterpolar": [
           {
            "marker": {
             "colorbar": {
              "outlinewidth": 0,
              "ticks": ""
             }
            },
            "type": "scatterpolar"
           }
          ],
          "scatterpolargl": [
           {
            "marker": {
             "colorbar": {
              "outlinewidth": 0,
              "ticks": ""
             }
            },
            "type": "scatterpolargl"
           }
          ],
          "scatterternary": [
           {
            "marker": {
             "colorbar": {
              "outlinewidth": 0,
              "ticks": ""
             }
            },
            "type": "scatterternary"
           }
          ],
          "surface": [
           {
            "colorbar": {
             "outlinewidth": 0,
             "ticks": ""
            },
            "colorscale": [
             [
              0,
              "#0d0887"
             ],
             [
              0.1111111111111111,
              "#46039f"
             ],
             [
              0.2222222222222222,
              "#7201a8"
             ],
             [
              0.3333333333333333,
              "#9c179e"
             ],
             [
              0.4444444444444444,
              "#bd3786"
             ],
             [
              0.5555555555555556,
              "#d8576b"
             ],
             [
              0.6666666666666666,
              "#ed7953"
             ],
             [
              0.7777777777777778,
              "#fb9f3a"
             ],
             [
              0.8888888888888888,
              "#fdca26"
             ],
             [
              1,
              "#f0f921"
             ]
            ],
            "type": "surface"
           }
          ],
          "table": [
           {
            "cells": {
             "fill": {
              "color": "#EBF0F8"
             },
             "line": {
              "color": "white"
             }
            },
            "header": {
             "fill": {
              "color": "#C8D4E3"
             },
             "line": {
              "color": "white"
             }
            },
            "type": "table"
           }
          ]
         },
         "layout": {
          "annotationdefaults": {
           "arrowcolor": "#2a3f5f",
           "arrowhead": 0,
           "arrowwidth": 1
          },
          "coloraxis": {
           "colorbar": {
            "outlinewidth": 0,
            "ticks": ""
           }
          },
          "colorscale": {
           "diverging": [
            [
             0,
             "#8e0152"
            ],
            [
             0.1,
             "#c51b7d"
            ],
            [
             0.2,
             "#de77ae"
            ],
            [
             0.3,
             "#f1b6da"
            ],
            [
             0.4,
             "#fde0ef"
            ],
            [
             0.5,
             "#f7f7f7"
            ],
            [
             0.6,
             "#e6f5d0"
            ],
            [
             0.7,
             "#b8e186"
            ],
            [
             0.8,
             "#7fbc41"
            ],
            [
             0.9,
             "#4d9221"
            ],
            [
             1,
             "#276419"
            ]
           ],
           "sequential": [
            [
             0,
             "#0d0887"
            ],
            [
             0.1111111111111111,
             "#46039f"
            ],
            [
             0.2222222222222222,
             "#7201a8"
            ],
            [
             0.3333333333333333,
             "#9c179e"
            ],
            [
             0.4444444444444444,
             "#bd3786"
            ],
            [
             0.5555555555555556,
             "#d8576b"
            ],
            [
             0.6666666666666666,
             "#ed7953"
            ],
            [
             0.7777777777777778,
             "#fb9f3a"
            ],
            [
             0.8888888888888888,
             "#fdca26"
            ],
            [
             1,
             "#f0f921"
            ]
           ],
           "sequentialminus": [
            [
             0,
             "#0d0887"
            ],
            [
             0.1111111111111111,
             "#46039f"
            ],
            [
             0.2222222222222222,
             "#7201a8"
            ],
            [
             0.3333333333333333,
             "#9c179e"
            ],
            [
             0.4444444444444444,
             "#bd3786"
            ],
            [
             0.5555555555555556,
             "#d8576b"
            ],
            [
             0.6666666666666666,
             "#ed7953"
            ],
            [
             0.7777777777777778,
             "#fb9f3a"
            ],
            [
             0.8888888888888888,
             "#fdca26"
            ],
            [
             1,
             "#f0f921"
            ]
           ]
          },
          "colorway": [
           "#636efa",
           "#EF553B",
           "#00cc96",
           "#ab63fa",
           "#FFA15A",
           "#19d3f3",
           "#FF6692",
           "#B6E880",
           "#FF97FF",
           "#FECB52"
          ],
          "font": {
           "color": "#2a3f5f"
          },
          "geo": {
           "bgcolor": "white",
           "lakecolor": "white",
           "landcolor": "#E5ECF6",
           "showlakes": true,
           "showland": true,
           "subunitcolor": "white"
          },
          "hoverlabel": {
           "align": "left"
          },
          "hovermode": "closest",
          "mapbox": {
           "style": "light"
          },
          "paper_bgcolor": "white",
          "plot_bgcolor": "#E5ECF6",
          "polar": {
           "angularaxis": {
            "gridcolor": "white",
            "linecolor": "white",
            "ticks": ""
           },
           "bgcolor": "#E5ECF6",
           "radialaxis": {
            "gridcolor": "white",
            "linecolor": "white",
            "ticks": ""
           }
          },
          "scene": {
           "xaxis": {
            "backgroundcolor": "#E5ECF6",
            "gridcolor": "white",
            "gridwidth": 2,
            "linecolor": "white",
            "showbackground": true,
            "ticks": "",
            "zerolinecolor": "white"
           },
           "yaxis": {
            "backgroundcolor": "#E5ECF6",
            "gridcolor": "white",
            "gridwidth": 2,
            "linecolor": "white",
            "showbackground": true,
            "ticks": "",
            "zerolinecolor": "white"
           },
           "zaxis": {
            "backgroundcolor": "#E5ECF6",
            "gridcolor": "white",
            "gridwidth": 2,
            "linecolor": "white",
            "showbackground": true,
            "ticks": "",
            "zerolinecolor": "white"
           }
          },
          "shapedefaults": {
           "line": {
            "color": "#2a3f5f"
           }
          },
          "ternary": {
           "aaxis": {
            "gridcolor": "white",
            "linecolor": "white",
            "ticks": ""
           },
           "baxis": {
            "gridcolor": "white",
            "linecolor": "white",
            "ticks": ""
           },
           "bgcolor": "#E5ECF6",
           "caxis": {
            "gridcolor": "white",
            "linecolor": "white",
            "ticks": ""
           }
          },
          "title": {
           "x": 0.05
          },
          "xaxis": {
           "automargin": true,
           "gridcolor": "white",
           "linecolor": "white",
           "ticks": "",
           "title": {
            "standoff": 15
           },
           "zerolinecolor": "white",
           "zerolinewidth": 2
          },
          "yaxis": {
           "automargin": true,
           "gridcolor": "white",
           "linecolor": "white",
           "ticks": "",
           "title": {
            "standoff": 15
           },
           "zerolinecolor": "white",
           "zerolinewidth": 2
          }
         }
        },
        "title": {
         "text": "Table showing the sales of each category per day"
        }
       }
      },
      "text/html": [
       "<div>\n",
       "        \n",
       "        \n",
       "            <div id=\"4eb91f6b-260a-4825-8422-c97796365766\" class=\"plotly-graph-div\" style=\"height:525px; width:100%;\"></div>\n",
       "            <script type=\"text/javascript\">\n",
       "                require([\"plotly\"], function(Plotly) {\n",
       "                    window.PLOTLYENV=window.PLOTLYENV || {};\n",
       "                    \n",
       "                if (document.getElementById(\"4eb91f6b-260a-4825-8422-c97796365766\")) {\n",
       "                    Plotly.newPlot(\n",
       "                        '4eb91f6b-260a-4825-8422-c97796365766',\n",
       "                        [{\"cells\": {\"values\": [[\"2020-05-07\", \"2020-05-08\", \"2020-05-09\", \"2020-05-10\", \"2020-05-11\", \"2020-05-12\", \"2020-05-13\", \"2020-05-14\", \"2020-05-15\", \"2020-05-16\", \"2020-05-17\", \"2020-05-18\", \"2020-05-19\", \"2020-05-20\", \"2020-05-21\"], [3, 3, 2, 2, 1, 2, 4, 6, 4, 4, 4, 6, 7, 2, 4], [2, 2, 1, 2, 1, 7, 3, 5, 2, 4, 2, 2, 2, 4, 2], [1, 5, 2, 3, 2, 3, 2, 5, 4, 7, 6, 6, 6, 5, 7]]}, \"header\": {\"values\": [\"date\", \"CategoryA\", \"CategoryB\", \"CategoryC\"]}, \"type\": \"table\"}],\n",
       "                        {\"template\": {\"data\": {\"bar\": [{\"error_x\": {\"color\": \"#2a3f5f\"}, \"error_y\": {\"color\": \"#2a3f5f\"}, \"marker\": {\"line\": {\"color\": \"#E5ECF6\", \"width\": 0.5}}, \"type\": \"bar\"}], \"barpolar\": [{\"marker\": {\"line\": {\"color\": \"#E5ECF6\", \"width\": 0.5}}, \"type\": \"barpolar\"}], \"carpet\": [{\"aaxis\": {\"endlinecolor\": \"#2a3f5f\", \"gridcolor\": \"white\", \"linecolor\": \"white\", \"minorgridcolor\": \"white\", \"startlinecolor\": \"#2a3f5f\"}, \"baxis\": {\"endlinecolor\": \"#2a3f5f\", \"gridcolor\": \"white\", \"linecolor\": \"white\", \"minorgridcolor\": \"white\", \"startlinecolor\": \"#2a3f5f\"}, \"type\": \"carpet\"}], \"choropleth\": [{\"colorbar\": {\"outlinewidth\": 0, \"ticks\": \"\"}, \"type\": \"choropleth\"}], \"contour\": [{\"colorbar\": {\"outlinewidth\": 0, \"ticks\": \"\"}, \"colorscale\": [[0.0, \"#0d0887\"], [0.1111111111111111, \"#46039f\"], [0.2222222222222222, \"#7201a8\"], [0.3333333333333333, \"#9c179e\"], [0.4444444444444444, \"#bd3786\"], [0.5555555555555556, \"#d8576b\"], [0.6666666666666666, \"#ed7953\"], [0.7777777777777778, \"#fb9f3a\"], [0.8888888888888888, \"#fdca26\"], [1.0, \"#f0f921\"]], \"type\": \"contour\"}], \"contourcarpet\": [{\"colorbar\": {\"outlinewidth\": 0, \"ticks\": \"\"}, \"type\": \"contourcarpet\"}], \"heatmap\": [{\"colorbar\": {\"outlinewidth\": 0, \"ticks\": \"\"}, \"colorscale\": [[0.0, \"#0d0887\"], [0.1111111111111111, \"#46039f\"], [0.2222222222222222, \"#7201a8\"], [0.3333333333333333, \"#9c179e\"], [0.4444444444444444, \"#bd3786\"], [0.5555555555555556, \"#d8576b\"], [0.6666666666666666, \"#ed7953\"], [0.7777777777777778, \"#fb9f3a\"], [0.8888888888888888, \"#fdca26\"], [1.0, \"#f0f921\"]], \"type\": \"heatmap\"}], \"heatmapgl\": [{\"colorbar\": {\"outlinewidth\": 0, \"ticks\": \"\"}, \"colorscale\": [[0.0, \"#0d0887\"], [0.1111111111111111, \"#46039f\"], [0.2222222222222222, \"#7201a8\"], [0.3333333333333333, \"#9c179e\"], [0.4444444444444444, \"#bd3786\"], [0.5555555555555556, \"#d8576b\"], [0.6666666666666666, \"#ed7953\"], [0.7777777777777778, \"#fb9f3a\"], [0.8888888888888888, \"#fdca26\"], [1.0, \"#f0f921\"]], \"type\": \"heatmapgl\"}], \"histogram\": [{\"marker\": {\"colorbar\": {\"outlinewidth\": 0, \"ticks\": \"\"}}, \"type\": \"histogram\"}], \"histogram2d\": [{\"colorbar\": {\"outlinewidth\": 0, \"ticks\": \"\"}, \"colorscale\": [[0.0, \"#0d0887\"], [0.1111111111111111, \"#46039f\"], [0.2222222222222222, \"#7201a8\"], [0.3333333333333333, \"#9c179e\"], [0.4444444444444444, \"#bd3786\"], [0.5555555555555556, \"#d8576b\"], [0.6666666666666666, \"#ed7953\"], [0.7777777777777778, \"#fb9f3a\"], [0.8888888888888888, \"#fdca26\"], [1.0, \"#f0f921\"]], \"type\": \"histogram2d\"}], \"histogram2dcontour\": [{\"colorbar\": {\"outlinewidth\": 0, \"ticks\": \"\"}, \"colorscale\": [[0.0, \"#0d0887\"], [0.1111111111111111, \"#46039f\"], [0.2222222222222222, \"#7201a8\"], [0.3333333333333333, \"#9c179e\"], [0.4444444444444444, \"#bd3786\"], [0.5555555555555556, \"#d8576b\"], [0.6666666666666666, \"#ed7953\"], [0.7777777777777778, \"#fb9f3a\"], [0.8888888888888888, \"#fdca26\"], [1.0, \"#f0f921\"]], \"type\": \"histogram2dcontour\"}], \"mesh3d\": [{\"colorbar\": {\"outlinewidth\": 0, \"ticks\": \"\"}, \"type\": \"mesh3d\"}], \"parcoords\": [{\"line\": {\"colorbar\": {\"outlinewidth\": 0, \"ticks\": \"\"}}, \"type\": \"parcoords\"}], \"pie\": [{\"automargin\": true, \"type\": \"pie\"}], \"scatter\": [{\"marker\": {\"colorbar\": {\"outlinewidth\": 0, \"ticks\": \"\"}}, \"type\": \"scatter\"}], \"scatter3d\": [{\"line\": {\"colorbar\": {\"outlinewidth\": 0, \"ticks\": \"\"}}, \"marker\": {\"colorbar\": {\"outlinewidth\": 0, \"ticks\": \"\"}}, \"type\": \"scatter3d\"}], \"scattercarpet\": [{\"marker\": {\"colorbar\": {\"outlinewidth\": 0, \"ticks\": \"\"}}, \"type\": \"scattercarpet\"}], \"scattergeo\": [{\"marker\": {\"colorbar\": {\"outlinewidth\": 0, \"ticks\": \"\"}}, \"type\": \"scattergeo\"}], \"scattergl\": [{\"marker\": {\"colorbar\": {\"outlinewidth\": 0, \"ticks\": \"\"}}, \"type\": \"scattergl\"}], \"scattermapbox\": [{\"marker\": {\"colorbar\": {\"outlinewidth\": 0, \"ticks\": \"\"}}, \"type\": \"scattermapbox\"}], \"scatterpolar\": [{\"marker\": {\"colorbar\": {\"outlinewidth\": 0, \"ticks\": \"\"}}, \"type\": \"scatterpolar\"}], \"scatterpolargl\": [{\"marker\": {\"colorbar\": {\"outlinewidth\": 0, \"ticks\": \"\"}}, \"type\": \"scatterpolargl\"}], \"scatterternary\": [{\"marker\": {\"colorbar\": {\"outlinewidth\": 0, \"ticks\": \"\"}}, \"type\": \"scatterternary\"}], \"surface\": [{\"colorbar\": {\"outlinewidth\": 0, \"ticks\": \"\"}, \"colorscale\": [[0.0, \"#0d0887\"], [0.1111111111111111, \"#46039f\"], [0.2222222222222222, \"#7201a8\"], [0.3333333333333333, \"#9c179e\"], [0.4444444444444444, \"#bd3786\"], [0.5555555555555556, \"#d8576b\"], [0.6666666666666666, \"#ed7953\"], [0.7777777777777778, \"#fb9f3a\"], [0.8888888888888888, \"#fdca26\"], [1.0, \"#f0f921\"]], \"type\": \"surface\"}], \"table\": [{\"cells\": {\"fill\": {\"color\": \"#EBF0F8\"}, \"line\": {\"color\": \"white\"}}, \"header\": {\"fill\": {\"color\": \"#C8D4E3\"}, \"line\": {\"color\": \"white\"}}, \"type\": \"table\"}]}, \"layout\": {\"annotationdefaults\": {\"arrowcolor\": \"#2a3f5f\", \"arrowhead\": 0, \"arrowwidth\": 1}, \"coloraxis\": {\"colorbar\": {\"outlinewidth\": 0, \"ticks\": \"\"}}, \"colorscale\": {\"diverging\": [[0, \"#8e0152\"], [0.1, \"#c51b7d\"], [0.2, \"#de77ae\"], [0.3, \"#f1b6da\"], [0.4, \"#fde0ef\"], [0.5, \"#f7f7f7\"], [0.6, \"#e6f5d0\"], [0.7, \"#b8e186\"], [0.8, \"#7fbc41\"], [0.9, \"#4d9221\"], [1, \"#276419\"]], \"sequential\": [[0.0, \"#0d0887\"], [0.1111111111111111, \"#46039f\"], [0.2222222222222222, \"#7201a8\"], [0.3333333333333333, \"#9c179e\"], [0.4444444444444444, \"#bd3786\"], [0.5555555555555556, \"#d8576b\"], [0.6666666666666666, \"#ed7953\"], [0.7777777777777778, \"#fb9f3a\"], [0.8888888888888888, \"#fdca26\"], [1.0, \"#f0f921\"]], \"sequentialminus\": [[0.0, \"#0d0887\"], [0.1111111111111111, \"#46039f\"], [0.2222222222222222, \"#7201a8\"], [0.3333333333333333, \"#9c179e\"], [0.4444444444444444, \"#bd3786\"], [0.5555555555555556, \"#d8576b\"], [0.6666666666666666, \"#ed7953\"], [0.7777777777777778, \"#fb9f3a\"], [0.8888888888888888, \"#fdca26\"], [1.0, \"#f0f921\"]]}, \"colorway\": [\"#636efa\", \"#EF553B\", \"#00cc96\", \"#ab63fa\", \"#FFA15A\", \"#19d3f3\", \"#FF6692\", \"#B6E880\", \"#FF97FF\", \"#FECB52\"], \"font\": {\"color\": \"#2a3f5f\"}, \"geo\": {\"bgcolor\": \"white\", \"lakecolor\": \"white\", \"landcolor\": \"#E5ECF6\", \"showlakes\": true, \"showland\": true, \"subunitcolor\": \"white\"}, \"hoverlabel\": {\"align\": \"left\"}, \"hovermode\": \"closest\", \"mapbox\": {\"style\": \"light\"}, \"paper_bgcolor\": \"white\", \"plot_bgcolor\": \"#E5ECF6\", \"polar\": {\"angularaxis\": {\"gridcolor\": \"white\", \"linecolor\": \"white\", \"ticks\": \"\"}, \"bgcolor\": \"#E5ECF6\", \"radialaxis\": {\"gridcolor\": \"white\", \"linecolor\": \"white\", \"ticks\": \"\"}}, \"scene\": {\"xaxis\": {\"backgroundcolor\": \"#E5ECF6\", \"gridcolor\": \"white\", \"gridwidth\": 2, \"linecolor\": \"white\", \"showbackground\": true, \"ticks\": \"\", \"zerolinecolor\": \"white\"}, \"yaxis\": {\"backgroundcolor\": \"#E5ECF6\", \"gridcolor\": \"white\", \"gridwidth\": 2, \"linecolor\": \"white\", \"showbackground\": true, \"ticks\": \"\", \"zerolinecolor\": \"white\"}, \"zaxis\": {\"backgroundcolor\": \"#E5ECF6\", \"gridcolor\": \"white\", \"gridwidth\": 2, \"linecolor\": \"white\", \"showbackground\": true, \"ticks\": \"\", \"zerolinecolor\": \"white\"}}, \"shapedefaults\": {\"line\": {\"color\": \"#2a3f5f\"}}, \"ternary\": {\"aaxis\": {\"gridcolor\": \"white\", \"linecolor\": \"white\", \"ticks\": \"\"}, \"baxis\": {\"gridcolor\": \"white\", \"linecolor\": \"white\", \"ticks\": \"\"}, \"bgcolor\": \"#E5ECF6\", \"caxis\": {\"gridcolor\": \"white\", \"linecolor\": \"white\", \"ticks\": \"\"}}, \"title\": {\"x\": 0.05}, \"xaxis\": {\"automargin\": true, \"gridcolor\": \"white\", \"linecolor\": \"white\", \"ticks\": \"\", \"title\": {\"standoff\": 15}, \"zerolinecolor\": \"white\", \"zerolinewidth\": 2}, \"yaxis\": {\"automargin\": true, \"gridcolor\": \"white\", \"linecolor\": \"white\", \"ticks\": \"\", \"title\": {\"standoff\": 15}, \"zerolinecolor\": \"white\", \"zerolinewidth\": 2}}}, \"title\": {\"text\": \"Table showing the sales of each category per day\"}},\n",
       "                        {\"responsive\": true}\n",
       "                    ).then(function(){\n",
       "                            \n",
       "var gd = document.getElementById('4eb91f6b-260a-4825-8422-c97796365766');\n",
       "var x = new MutationObserver(function (mutations, observer) {{\n",
       "        var display = window.getComputedStyle(gd).display;\n",
       "        if (!display || display === 'none') {{\n",
       "            console.log([gd, 'removed!']);\n",
       "            Plotly.purge(gd);\n",
       "            observer.disconnect();\n",
       "        }}\n",
       "}});\n",
       "\n",
       "// Listen for the removal of the full notebook cells\n",
       "var notebookContainer = gd.closest('#notebook-container');\n",
       "if (notebookContainer) {{\n",
       "    x.observe(notebookContainer, {childList: true});\n",
       "}}\n",
       "\n",
       "// Listen for the clearing of the current output cell\n",
       "var outputEl = gd.closest('.output');\n",
       "if (outputEl) {{\n",
       "    x.observe(outputEl, {childList: true});\n",
       "}}\n",
       "\n",
       "                        })\n",
       "                };\n",
       "                });\n",
       "            </script>\n",
       "        </div>"
      ]
     },
     "metadata": {},
     "output_type": "display_data"
    }
   ],
   "source": [
    "df_table = df.groupby(['date','category']).size().reset_index().rename(columns={0:'category_count'})\n",
    "plot_table = df_table.pivot_table(index='date', columns='category', values='category_count', fill_value=0).reset_index()\n",
    "\n",
    "trace = go.Table(header = dict(values = list(plot_table.columns)),\n",
    "   cells = dict(values = [plot_table.date, plot_table.CategoryA, plot_table.CategoryB, plot_table.CategoryC]))\n",
    "\n",
    "data = [trace]\n",
    "fig = go.Figure(data = data)\n",
    "fig.update_layout(title_text='Table showing the sales of each category per day')\n",
    "iplot(fig)"
   ]
  },
  {
   "cell_type": "markdown",
   "metadata": {},
   "source": [
    "## 5. Histogram and Distplots"
   ]
  },
  {
   "cell_type": "markdown",
   "metadata": {},
   "source": [
    "### 5.1 Histogram "
   ]
  },
  {
   "cell_type": "markdown",
   "metadata": {},
   "source": [
    "Inorder to plot a histogram let us consider a different set of values. "
   ]
  },
  {
   "cell_type": "code",
   "execution_count": 15,
   "metadata": {},
   "outputs": [
    {
     "data": {
      "application/vnd.plotly.v1+json": {
       "config": {
        "linkText": "Export to plot.ly",
        "plotlyServerURL": "https://plot.ly",
        "showLink": false
       },
       "data": [
        {
         "type": "histogram",
         "x": [
          25,
          29,
          21,
          23,
          5,
          9,
          18,
          12,
          1,
          5,
          5,
          2,
          22,
          18,
          7
         ]
        }
       ],
       "layout": {
        "template": {
         "data": {
          "bar": [
           {
            "error_x": {
             "color": "#2a3f5f"
            },
            "error_y": {
             "color": "#2a3f5f"
            },
            "marker": {
             "line": {
              "color": "#E5ECF6",
              "width": 0.5
             }
            },
            "type": "bar"
           }
          ],
          "barpolar": [
           {
            "marker": {
             "line": {
              "color": "#E5ECF6",
              "width": 0.5
             }
            },
            "type": "barpolar"
           }
          ],
          "carpet": [
           {
            "aaxis": {
             "endlinecolor": "#2a3f5f",
             "gridcolor": "white",
             "linecolor": "white",
             "minorgridcolor": "white",
             "startlinecolor": "#2a3f5f"
            },
            "baxis": {
             "endlinecolor": "#2a3f5f",
             "gridcolor": "white",
             "linecolor": "white",
             "minorgridcolor": "white",
             "startlinecolor": "#2a3f5f"
            },
            "type": "carpet"
           }
          ],
          "choropleth": [
           {
            "colorbar": {
             "outlinewidth": 0,
             "ticks": ""
            },
            "type": "choropleth"
           }
          ],
          "contour": [
           {
            "colorbar": {
             "outlinewidth": 0,
             "ticks": ""
            },
            "colorscale": [
             [
              0,
              "#0d0887"
             ],
             [
              0.1111111111111111,
              "#46039f"
             ],
             [
              0.2222222222222222,
              "#7201a8"
             ],
             [
              0.3333333333333333,
              "#9c179e"
             ],
             [
              0.4444444444444444,
              "#bd3786"
             ],
             [
              0.5555555555555556,
              "#d8576b"
             ],
             [
              0.6666666666666666,
              "#ed7953"
             ],
             [
              0.7777777777777778,
              "#fb9f3a"
             ],
             [
              0.8888888888888888,
              "#fdca26"
             ],
             [
              1,
              "#f0f921"
             ]
            ],
            "type": "contour"
           }
          ],
          "contourcarpet": [
           {
            "colorbar": {
             "outlinewidth": 0,
             "ticks": ""
            },
            "type": "contourcarpet"
           }
          ],
          "heatmap": [
           {
            "colorbar": {
             "outlinewidth": 0,
             "ticks": ""
            },
            "colorscale": [
             [
              0,
              "#0d0887"
             ],
             [
              0.1111111111111111,
              "#46039f"
             ],
             [
              0.2222222222222222,
              "#7201a8"
             ],
             [
              0.3333333333333333,
              "#9c179e"
             ],
             [
              0.4444444444444444,
              "#bd3786"
             ],
             [
              0.5555555555555556,
              "#d8576b"
             ],
             [
              0.6666666666666666,
              "#ed7953"
             ],
             [
              0.7777777777777778,
              "#fb9f3a"
             ],
             [
              0.8888888888888888,
              "#fdca26"
             ],
             [
              1,
              "#f0f921"
             ]
            ],
            "type": "heatmap"
           }
          ],
          "heatmapgl": [
           {
            "colorbar": {
             "outlinewidth": 0,
             "ticks": ""
            },
            "colorscale": [
             [
              0,
              "#0d0887"
             ],
             [
              0.1111111111111111,
              "#46039f"
             ],
             [
              0.2222222222222222,
              "#7201a8"
             ],
             [
              0.3333333333333333,
              "#9c179e"
             ],
             [
              0.4444444444444444,
              "#bd3786"
             ],
             [
              0.5555555555555556,
              "#d8576b"
             ],
             [
              0.6666666666666666,
              "#ed7953"
             ],
             [
              0.7777777777777778,
              "#fb9f3a"
             ],
             [
              0.8888888888888888,
              "#fdca26"
             ],
             [
              1,
              "#f0f921"
             ]
            ],
            "type": "heatmapgl"
           }
          ],
          "histogram": [
           {
            "marker": {
             "colorbar": {
              "outlinewidth": 0,
              "ticks": ""
             }
            },
            "type": "histogram"
           }
          ],
          "histogram2d": [
           {
            "colorbar": {
             "outlinewidth": 0,
             "ticks": ""
            },
            "colorscale": [
             [
              0,
              "#0d0887"
             ],
             [
              0.1111111111111111,
              "#46039f"
             ],
             [
              0.2222222222222222,
              "#7201a8"
             ],
             [
              0.3333333333333333,
              "#9c179e"
             ],
             [
              0.4444444444444444,
              "#bd3786"
             ],
             [
              0.5555555555555556,
              "#d8576b"
             ],
             [
              0.6666666666666666,
              "#ed7953"
             ],
             [
              0.7777777777777778,
              "#fb9f3a"
             ],
             [
              0.8888888888888888,
              "#fdca26"
             ],
             [
              1,
              "#f0f921"
             ]
            ],
            "type": "histogram2d"
           }
          ],
          "histogram2dcontour": [
           {
            "colorbar": {
             "outlinewidth": 0,
             "ticks": ""
            },
            "colorscale": [
             [
              0,
              "#0d0887"
             ],
             [
              0.1111111111111111,
              "#46039f"
             ],
             [
              0.2222222222222222,
              "#7201a8"
             ],
             [
              0.3333333333333333,
              "#9c179e"
             ],
             [
              0.4444444444444444,
              "#bd3786"
             ],
             [
              0.5555555555555556,
              "#d8576b"
             ],
             [
              0.6666666666666666,
              "#ed7953"
             ],
             [
              0.7777777777777778,
              "#fb9f3a"
             ],
             [
              0.8888888888888888,
              "#fdca26"
             ],
             [
              1,
              "#f0f921"
             ]
            ],
            "type": "histogram2dcontour"
           }
          ],
          "mesh3d": [
           {
            "colorbar": {
             "outlinewidth": 0,
             "ticks": ""
            },
            "type": "mesh3d"
           }
          ],
          "parcoords": [
           {
            "line": {
             "colorbar": {
              "outlinewidth": 0,
              "ticks": ""
             }
            },
            "type": "parcoords"
           }
          ],
          "pie": [
           {
            "automargin": true,
            "type": "pie"
           }
          ],
          "scatter": [
           {
            "marker": {
             "colorbar": {
              "outlinewidth": 0,
              "ticks": ""
             }
            },
            "type": "scatter"
           }
          ],
          "scatter3d": [
           {
            "line": {
             "colorbar": {
              "outlinewidth": 0,
              "ticks": ""
             }
            },
            "marker": {
             "colorbar": {
              "outlinewidth": 0,
              "ticks": ""
             }
            },
            "type": "scatter3d"
           }
          ],
          "scattercarpet": [
           {
            "marker": {
             "colorbar": {
              "outlinewidth": 0,
              "ticks": ""
             }
            },
            "type": "scattercarpet"
           }
          ],
          "scattergeo": [
           {
            "marker": {
             "colorbar": {
              "outlinewidth": 0,
              "ticks": ""
             }
            },
            "type": "scattergeo"
           }
          ],
          "scattergl": [
           {
            "marker": {
             "colorbar": {
              "outlinewidth": 0,
              "ticks": ""
             }
            },
            "type": "scattergl"
           }
          ],
          "scattermapbox": [
           {
            "marker": {
             "colorbar": {
              "outlinewidth": 0,
              "ticks": ""
             }
            },
            "type": "scattermapbox"
           }
          ],
          "scatterpolar": [
           {
            "marker": {
             "colorbar": {
              "outlinewidth": 0,
              "ticks": ""
             }
            },
            "type": "scatterpolar"
           }
          ],
          "scatterpolargl": [
           {
            "marker": {
             "colorbar": {
              "outlinewidth": 0,
              "ticks": ""
             }
            },
            "type": "scatterpolargl"
           }
          ],
          "scatterternary": [
           {
            "marker": {
             "colorbar": {
              "outlinewidth": 0,
              "ticks": ""
             }
            },
            "type": "scatterternary"
           }
          ],
          "surface": [
           {
            "colorbar": {
             "outlinewidth": 0,
             "ticks": ""
            },
            "colorscale": [
             [
              0,
              "#0d0887"
             ],
             [
              0.1111111111111111,
              "#46039f"
             ],
             [
              0.2222222222222222,
              "#7201a8"
             ],
             [
              0.3333333333333333,
              "#9c179e"
             ],
             [
              0.4444444444444444,
              "#bd3786"
             ],
             [
              0.5555555555555556,
              "#d8576b"
             ],
             [
              0.6666666666666666,
              "#ed7953"
             ],
             [
              0.7777777777777778,
              "#fb9f3a"
             ],
             [
              0.8888888888888888,
              "#fdca26"
             ],
             [
              1,
              "#f0f921"
             ]
            ],
            "type": "surface"
           }
          ],
          "table": [
           {
            "cells": {
             "fill": {
              "color": "#EBF0F8"
             },
             "line": {
              "color": "white"
             }
            },
            "header": {
             "fill": {
              "color": "#C8D4E3"
             },
             "line": {
              "color": "white"
             }
            },
            "type": "table"
           }
          ]
         },
         "layout": {
          "annotationdefaults": {
           "arrowcolor": "#2a3f5f",
           "arrowhead": 0,
           "arrowwidth": 1
          },
          "coloraxis": {
           "colorbar": {
            "outlinewidth": 0,
            "ticks": ""
           }
          },
          "colorscale": {
           "diverging": [
            [
             0,
             "#8e0152"
            ],
            [
             0.1,
             "#c51b7d"
            ],
            [
             0.2,
             "#de77ae"
            ],
            [
             0.3,
             "#f1b6da"
            ],
            [
             0.4,
             "#fde0ef"
            ],
            [
             0.5,
             "#f7f7f7"
            ],
            [
             0.6,
             "#e6f5d0"
            ],
            [
             0.7,
             "#b8e186"
            ],
            [
             0.8,
             "#7fbc41"
            ],
            [
             0.9,
             "#4d9221"
            ],
            [
             1,
             "#276419"
            ]
           ],
           "sequential": [
            [
             0,
             "#0d0887"
            ],
            [
             0.1111111111111111,
             "#46039f"
            ],
            [
             0.2222222222222222,
             "#7201a8"
            ],
            [
             0.3333333333333333,
             "#9c179e"
            ],
            [
             0.4444444444444444,
             "#bd3786"
            ],
            [
             0.5555555555555556,
             "#d8576b"
            ],
            [
             0.6666666666666666,
             "#ed7953"
            ],
            [
             0.7777777777777778,
             "#fb9f3a"
            ],
            [
             0.8888888888888888,
             "#fdca26"
            ],
            [
             1,
             "#f0f921"
            ]
           ],
           "sequentialminus": [
            [
             0,
             "#0d0887"
            ],
            [
             0.1111111111111111,
             "#46039f"
            ],
            [
             0.2222222222222222,
             "#7201a8"
            ],
            [
             0.3333333333333333,
             "#9c179e"
            ],
            [
             0.4444444444444444,
             "#bd3786"
            ],
            [
             0.5555555555555556,
             "#d8576b"
            ],
            [
             0.6666666666666666,
             "#ed7953"
            ],
            [
             0.7777777777777778,
             "#fb9f3a"
            ],
            [
             0.8888888888888888,
             "#fdca26"
            ],
            [
             1,
             "#f0f921"
            ]
           ]
          },
          "colorway": [
           "#636efa",
           "#EF553B",
           "#00cc96",
           "#ab63fa",
           "#FFA15A",
           "#19d3f3",
           "#FF6692",
           "#B6E880",
           "#FF97FF",
           "#FECB52"
          ],
          "font": {
           "color": "#2a3f5f"
          },
          "geo": {
           "bgcolor": "white",
           "lakecolor": "white",
           "landcolor": "#E5ECF6",
           "showlakes": true,
           "showland": true,
           "subunitcolor": "white"
          },
          "hoverlabel": {
           "align": "left"
          },
          "hovermode": "closest",
          "mapbox": {
           "style": "light"
          },
          "paper_bgcolor": "white",
          "plot_bgcolor": "#E5ECF6",
          "polar": {
           "angularaxis": {
            "gridcolor": "white",
            "linecolor": "white",
            "ticks": ""
           },
           "bgcolor": "#E5ECF6",
           "radialaxis": {
            "gridcolor": "white",
            "linecolor": "white",
            "ticks": ""
           }
          },
          "scene": {
           "xaxis": {
            "backgroundcolor": "#E5ECF6",
            "gridcolor": "white",
            "gridwidth": 2,
            "linecolor": "white",
            "showbackground": true,
            "ticks": "",
            "zerolinecolor": "white"
           },
           "yaxis": {
            "backgroundcolor": "#E5ECF6",
            "gridcolor": "white",
            "gridwidth": 2,
            "linecolor": "white",
            "showbackground": true,
            "ticks": "",
            "zerolinecolor": "white"
           },
           "zaxis": {
            "backgroundcolor": "#E5ECF6",
            "gridcolor": "white",
            "gridwidth": 2,
            "linecolor": "white",
            "showbackground": true,
            "ticks": "",
            "zerolinecolor": "white"
           }
          },
          "shapedefaults": {
           "line": {
            "color": "#2a3f5f"
           }
          },
          "ternary": {
           "aaxis": {
            "gridcolor": "white",
            "linecolor": "white",
            "ticks": ""
           },
           "baxis": {
            "gridcolor": "white",
            "linecolor": "white",
            "ticks": ""
           },
           "bgcolor": "#E5ECF6",
           "caxis": {
            "gridcolor": "white",
            "linecolor": "white",
            "ticks": ""
           }
          },
          "title": {
           "x": 0.05
          },
          "xaxis": {
           "automargin": true,
           "gridcolor": "white",
           "linecolor": "white",
           "ticks": "",
           "title": {
            "standoff": 15
           },
           "zerolinecolor": "white",
           "zerolinewidth": 2
          },
          "yaxis": {
           "automargin": true,
           "gridcolor": "white",
           "linecolor": "white",
           "ticks": "",
           "title": {
            "standoff": 15
           },
           "zerolinecolor": "white",
           "zerolinewidth": 2
          }
         }
        },
        "title": {
         "text": "Histogram showing the distribution of the generated random numbers"
        }
       }
      },
      "text/html": [
       "<div>\n",
       "        \n",
       "        \n",
       "            <div id=\"f07eb3ca-3afa-4340-b4db-b386d9d0de95\" class=\"plotly-graph-div\" style=\"height:525px; width:100%;\"></div>\n",
       "            <script type=\"text/javascript\">\n",
       "                require([\"plotly\"], function(Plotly) {\n",
       "                    window.PLOTLYENV=window.PLOTLYENV || {};\n",
       "                    \n",
       "                if (document.getElementById(\"f07eb3ca-3afa-4340-b4db-b386d9d0de95\")) {\n",
       "                    Plotly.newPlot(\n",
       "                        'f07eb3ca-3afa-4340-b4db-b386d9d0de95',\n",
       "                        [{\"type\": \"histogram\", \"x\": [25, 29, 21, 23, 5, 9, 18, 12, 1, 5, 5, 2, 22, 18, 7]}],\n",
       "                        {\"template\": {\"data\": {\"bar\": [{\"error_x\": {\"color\": \"#2a3f5f\"}, \"error_y\": {\"color\": \"#2a3f5f\"}, \"marker\": {\"line\": {\"color\": \"#E5ECF6\", \"width\": 0.5}}, \"type\": \"bar\"}], \"barpolar\": [{\"marker\": {\"line\": {\"color\": \"#E5ECF6\", \"width\": 0.5}}, \"type\": \"barpolar\"}], \"carpet\": [{\"aaxis\": {\"endlinecolor\": \"#2a3f5f\", \"gridcolor\": \"white\", \"linecolor\": \"white\", \"minorgridcolor\": \"white\", \"startlinecolor\": \"#2a3f5f\"}, \"baxis\": {\"endlinecolor\": \"#2a3f5f\", \"gridcolor\": \"white\", \"linecolor\": \"white\", \"minorgridcolor\": \"white\", \"startlinecolor\": \"#2a3f5f\"}, \"type\": \"carpet\"}], \"choropleth\": [{\"colorbar\": {\"outlinewidth\": 0, \"ticks\": \"\"}, \"type\": \"choropleth\"}], \"contour\": [{\"colorbar\": {\"outlinewidth\": 0, \"ticks\": \"\"}, \"colorscale\": [[0.0, \"#0d0887\"], [0.1111111111111111, \"#46039f\"], [0.2222222222222222, \"#7201a8\"], [0.3333333333333333, \"#9c179e\"], [0.4444444444444444, \"#bd3786\"], [0.5555555555555556, \"#d8576b\"], [0.6666666666666666, \"#ed7953\"], [0.7777777777777778, \"#fb9f3a\"], [0.8888888888888888, \"#fdca26\"], [1.0, \"#f0f921\"]], \"type\": \"contour\"}], \"contourcarpet\": [{\"colorbar\": {\"outlinewidth\": 0, \"ticks\": \"\"}, \"type\": \"contourcarpet\"}], \"heatmap\": [{\"colorbar\": {\"outlinewidth\": 0, \"ticks\": \"\"}, \"colorscale\": [[0.0, \"#0d0887\"], [0.1111111111111111, \"#46039f\"], [0.2222222222222222, \"#7201a8\"], [0.3333333333333333, \"#9c179e\"], [0.4444444444444444, \"#bd3786\"], [0.5555555555555556, \"#d8576b\"], [0.6666666666666666, \"#ed7953\"], [0.7777777777777778, \"#fb9f3a\"], [0.8888888888888888, \"#fdca26\"], [1.0, \"#f0f921\"]], \"type\": \"heatmap\"}], \"heatmapgl\": [{\"colorbar\": {\"outlinewidth\": 0, \"ticks\": \"\"}, \"colorscale\": [[0.0, \"#0d0887\"], [0.1111111111111111, \"#46039f\"], [0.2222222222222222, \"#7201a8\"], [0.3333333333333333, \"#9c179e\"], [0.4444444444444444, \"#bd3786\"], [0.5555555555555556, \"#d8576b\"], [0.6666666666666666, \"#ed7953\"], [0.7777777777777778, \"#fb9f3a\"], [0.8888888888888888, \"#fdca26\"], [1.0, \"#f0f921\"]], \"type\": \"heatmapgl\"}], \"histogram\": [{\"marker\": {\"colorbar\": {\"outlinewidth\": 0, \"ticks\": \"\"}}, \"type\": \"histogram\"}], \"histogram2d\": [{\"colorbar\": {\"outlinewidth\": 0, \"ticks\": \"\"}, \"colorscale\": [[0.0, \"#0d0887\"], [0.1111111111111111, \"#46039f\"], [0.2222222222222222, \"#7201a8\"], [0.3333333333333333, \"#9c179e\"], [0.4444444444444444, \"#bd3786\"], [0.5555555555555556, \"#d8576b\"], [0.6666666666666666, \"#ed7953\"], [0.7777777777777778, \"#fb9f3a\"], [0.8888888888888888, \"#fdca26\"], [1.0, \"#f0f921\"]], \"type\": \"histogram2d\"}], \"histogram2dcontour\": [{\"colorbar\": {\"outlinewidth\": 0, \"ticks\": \"\"}, \"colorscale\": [[0.0, \"#0d0887\"], [0.1111111111111111, \"#46039f\"], [0.2222222222222222, \"#7201a8\"], [0.3333333333333333, \"#9c179e\"], [0.4444444444444444, \"#bd3786\"], [0.5555555555555556, \"#d8576b\"], [0.6666666666666666, \"#ed7953\"], [0.7777777777777778, \"#fb9f3a\"], [0.8888888888888888, \"#fdca26\"], [1.0, \"#f0f921\"]], \"type\": \"histogram2dcontour\"}], \"mesh3d\": [{\"colorbar\": {\"outlinewidth\": 0, \"ticks\": \"\"}, \"type\": \"mesh3d\"}], \"parcoords\": [{\"line\": {\"colorbar\": {\"outlinewidth\": 0, \"ticks\": \"\"}}, \"type\": \"parcoords\"}], \"pie\": [{\"automargin\": true, \"type\": \"pie\"}], \"scatter\": [{\"marker\": {\"colorbar\": {\"outlinewidth\": 0, \"ticks\": \"\"}}, \"type\": \"scatter\"}], \"scatter3d\": [{\"line\": {\"colorbar\": {\"outlinewidth\": 0, \"ticks\": \"\"}}, \"marker\": {\"colorbar\": {\"outlinewidth\": 0, \"ticks\": \"\"}}, \"type\": \"scatter3d\"}], \"scattercarpet\": [{\"marker\": {\"colorbar\": {\"outlinewidth\": 0, \"ticks\": \"\"}}, \"type\": \"scattercarpet\"}], \"scattergeo\": [{\"marker\": {\"colorbar\": {\"outlinewidth\": 0, \"ticks\": \"\"}}, \"type\": \"scattergeo\"}], \"scattergl\": [{\"marker\": {\"colorbar\": {\"outlinewidth\": 0, \"ticks\": \"\"}}, \"type\": \"scattergl\"}], \"scattermapbox\": [{\"marker\": {\"colorbar\": {\"outlinewidth\": 0, \"ticks\": \"\"}}, \"type\": \"scattermapbox\"}], \"scatterpolar\": [{\"marker\": {\"colorbar\": {\"outlinewidth\": 0, \"ticks\": \"\"}}, \"type\": \"scatterpolar\"}], \"scatterpolargl\": [{\"marker\": {\"colorbar\": {\"outlinewidth\": 0, \"ticks\": \"\"}}, \"type\": \"scatterpolargl\"}], \"scatterternary\": [{\"marker\": {\"colorbar\": {\"outlinewidth\": 0, \"ticks\": \"\"}}, \"type\": \"scatterternary\"}], \"surface\": [{\"colorbar\": {\"outlinewidth\": 0, \"ticks\": \"\"}, \"colorscale\": [[0.0, \"#0d0887\"], [0.1111111111111111, \"#46039f\"], [0.2222222222222222, \"#7201a8\"], [0.3333333333333333, \"#9c179e\"], [0.4444444444444444, \"#bd3786\"], [0.5555555555555556, \"#d8576b\"], [0.6666666666666666, \"#ed7953\"], [0.7777777777777778, \"#fb9f3a\"], [0.8888888888888888, \"#fdca26\"], [1.0, \"#f0f921\"]], \"type\": \"surface\"}], \"table\": [{\"cells\": {\"fill\": {\"color\": \"#EBF0F8\"}, \"line\": {\"color\": \"white\"}}, \"header\": {\"fill\": {\"color\": \"#C8D4E3\"}, \"line\": {\"color\": \"white\"}}, \"type\": \"table\"}]}, \"layout\": {\"annotationdefaults\": {\"arrowcolor\": \"#2a3f5f\", \"arrowhead\": 0, \"arrowwidth\": 1}, \"coloraxis\": {\"colorbar\": {\"outlinewidth\": 0, \"ticks\": \"\"}}, \"colorscale\": {\"diverging\": [[0, \"#8e0152\"], [0.1, \"#c51b7d\"], [0.2, \"#de77ae\"], [0.3, \"#f1b6da\"], [0.4, \"#fde0ef\"], [0.5, \"#f7f7f7\"], [0.6, \"#e6f5d0\"], [0.7, \"#b8e186\"], [0.8, \"#7fbc41\"], [0.9, \"#4d9221\"], [1, \"#276419\"]], \"sequential\": [[0.0, \"#0d0887\"], [0.1111111111111111, \"#46039f\"], [0.2222222222222222, \"#7201a8\"], [0.3333333333333333, \"#9c179e\"], [0.4444444444444444, \"#bd3786\"], [0.5555555555555556, \"#d8576b\"], [0.6666666666666666, \"#ed7953\"], [0.7777777777777778, \"#fb9f3a\"], [0.8888888888888888, \"#fdca26\"], [1.0, \"#f0f921\"]], \"sequentialminus\": [[0.0, \"#0d0887\"], [0.1111111111111111, \"#46039f\"], [0.2222222222222222, \"#7201a8\"], [0.3333333333333333, \"#9c179e\"], [0.4444444444444444, \"#bd3786\"], [0.5555555555555556, \"#d8576b\"], [0.6666666666666666, \"#ed7953\"], [0.7777777777777778, \"#fb9f3a\"], [0.8888888888888888, \"#fdca26\"], [1.0, \"#f0f921\"]]}, \"colorway\": [\"#636efa\", \"#EF553B\", \"#00cc96\", \"#ab63fa\", \"#FFA15A\", \"#19d3f3\", \"#FF6692\", \"#B6E880\", \"#FF97FF\", \"#FECB52\"], \"font\": {\"color\": \"#2a3f5f\"}, \"geo\": {\"bgcolor\": \"white\", \"lakecolor\": \"white\", \"landcolor\": \"#E5ECF6\", \"showlakes\": true, \"showland\": true, \"subunitcolor\": \"white\"}, \"hoverlabel\": {\"align\": \"left\"}, \"hovermode\": \"closest\", \"mapbox\": {\"style\": \"light\"}, \"paper_bgcolor\": \"white\", \"plot_bgcolor\": \"#E5ECF6\", \"polar\": {\"angularaxis\": {\"gridcolor\": \"white\", \"linecolor\": \"white\", \"ticks\": \"\"}, \"bgcolor\": \"#E5ECF6\", \"radialaxis\": {\"gridcolor\": \"white\", \"linecolor\": \"white\", \"ticks\": \"\"}}, \"scene\": {\"xaxis\": {\"backgroundcolor\": \"#E5ECF6\", \"gridcolor\": \"white\", \"gridwidth\": 2, \"linecolor\": \"white\", \"showbackground\": true, \"ticks\": \"\", \"zerolinecolor\": \"white\"}, \"yaxis\": {\"backgroundcolor\": \"#E5ECF6\", \"gridcolor\": \"white\", \"gridwidth\": 2, \"linecolor\": \"white\", \"showbackground\": true, \"ticks\": \"\", \"zerolinecolor\": \"white\"}, \"zaxis\": {\"backgroundcolor\": \"#E5ECF6\", \"gridcolor\": \"white\", \"gridwidth\": 2, \"linecolor\": \"white\", \"showbackground\": true, \"ticks\": \"\", \"zerolinecolor\": \"white\"}}, \"shapedefaults\": {\"line\": {\"color\": \"#2a3f5f\"}}, \"ternary\": {\"aaxis\": {\"gridcolor\": \"white\", \"linecolor\": \"white\", \"ticks\": \"\"}, \"baxis\": {\"gridcolor\": \"white\", \"linecolor\": \"white\", \"ticks\": \"\"}, \"bgcolor\": \"#E5ECF6\", \"caxis\": {\"gridcolor\": \"white\", \"linecolor\": \"white\", \"ticks\": \"\"}}, \"title\": {\"x\": 0.05}, \"xaxis\": {\"automargin\": true, \"gridcolor\": \"white\", \"linecolor\": \"white\", \"ticks\": \"\", \"title\": {\"standoff\": 15}, \"zerolinecolor\": \"white\", \"zerolinewidth\": 2}, \"yaxis\": {\"automargin\": true, \"gridcolor\": \"white\", \"linecolor\": \"white\", \"ticks\": \"\", \"title\": {\"standoff\": 15}, \"zerolinecolor\": \"white\", \"zerolinewidth\": 2}}}, \"title\": {\"text\": \"Histogram showing the distribution of the generated random numbers\"}},\n",
       "                        {\"responsive\": true}\n",
       "                    ).then(function(){\n",
       "                            \n",
       "var gd = document.getElementById('f07eb3ca-3afa-4340-b4db-b386d9d0de95');\n",
       "var x = new MutationObserver(function (mutations, observer) {{\n",
       "        var display = window.getComputedStyle(gd).display;\n",
       "        if (!display || display === 'none') {{\n",
       "            console.log([gd, 'removed!']);\n",
       "            Plotly.purge(gd);\n",
       "            observer.disconnect();\n",
       "        }}\n",
       "}});\n",
       "\n",
       "// Listen for the removal of the full notebook cells\n",
       "var notebookContainer = gd.closest('#notebook-container');\n",
       "if (notebookContainer) {{\n",
       "    x.observe(notebookContainer, {childList: true});\n",
       "}}\n",
       "\n",
       "// Listen for the clearing of the current output cell\n",
       "var outputEl = gd.closest('.output');\n",
       "if (outputEl) {{\n",
       "    x.observe(outputEl, {childList: true});\n",
       "}}\n",
       "\n",
       "                        })\n",
       "                };\n",
       "                });\n",
       "            </script>\n",
       "        </div>"
      ]
     },
     "metadata": {},
     "output_type": "display_data"
    }
   ],
   "source": [
    "\n",
    "randomlist = []\n",
    "for i in range(0,15):\n",
    "    n = random.randint(1,30)\n",
    "    randomlist.append(n)\n",
    "\n",
    "data = [go.Histogram(x = randomlist)]\n",
    "fig = go.Figure(data)\n",
    "fig.update_layout(title_text='Histogram showing the distribution of the generated random numbers')\n",
    "iplot(fig)"
   ]
  },
  {
   "cell_type": "markdown",
   "metadata": {},
   "source": [
    "### 5.2 Displot"
   ]
  },
  {
   "cell_type": "markdown",
   "metadata": {},
   "source": [
    "The distplot figure factory displays a combination of statistical representations of numerical data, such as histogram, kernel density estimation or normal curve, and rug plot."
   ]
  },
  {
   "cell_type": "code",
   "execution_count": 16,
   "metadata": {},
   "outputs": [
    {
     "data": {
      "application/vnd.plotly.v1+json": {
       "config": {
        "linkText": "Export to plot.ly",
        "plotlyServerURL": "https://plot.ly",
        "showLink": false
       },
       "data": [
        {
         "autobinx": false,
         "histnorm": "probability density",
         "legendgroup": "distplot",
         "marker": {
          "color": "rgb(31, 119, 180)"
         },
         "name": "distplot",
         "opacity": 0.7,
         "type": "histogram",
         "x": [
          0.6233526139350194,
          0.9067248474598523,
          0.8851803747760171,
          -1.466408478815326,
          -0.414445698491945,
          -1.0499788057500896,
          -1.3681465250001361,
          0.9086548592466442,
          -0.29973270427588505,
          -0.48756940611008276,
          0.4113221479048586,
          -0.8680421031635495,
          1.437869830436381,
          0.9128694438871497,
          0.2843753716292588,
          0.13620276384288285,
          0.3640516196205729,
          -0.8291614376348568,
          -0.4721769713646088,
          1.8960415251470888,
          1.1966048015800292,
          -0.2514611688005337,
          0.08133834974369562,
          -1.1646812784272755,
          0.23442625119518207,
          -0.48918962357700185,
          1.2867834078891194,
          0.3829865813435284,
          -1.809684089756509,
          0.8496398010678085,
          -1.4816465830389747,
          0.4715406183015713,
          -1.1024665719522901,
          0.2118631210515407,
          -1.4222040737307824,
          1.461082412737266,
          -1.0365573771453684,
          2.2828039806041858,
          -0.12587473047477296,
          -0.780156455674189,
          0.5415324482868853,
          1.2206141377875956,
          -0.34948835783852655,
          0.9734529280390826,
          -0.840014079475631,
          -0.3744281938883881,
          0.24349069696461342,
          -0.9254542457172449,
          -1.5051402588347278,
          0.5937695470578489,
          0.5625512941382717,
          1.1133938186788053,
          1.454684232315281,
          1.073795108689995,
          -2.518614190385078,
          0.679251482292472,
          1.048269162314245,
          0.9118510751544809,
          1.2025243905135559,
          0.5801725393470045,
          1.186382516599771,
          0.09020752606721964,
          -1.3842798858518441,
          0.19603394788977554,
          0.15462941494686017,
          -0.8603978915034414,
          -1.4648392390220102,
          0.43353470315812437,
          -0.965039545341972,
          -0.6092262816466112,
          0.15761391903762853,
          0.41195444676141246,
          -0.5390954610456314,
          0.21186896656792722,
          -0.5484073323894619,
          1.4930127422317718,
          -0.3810648133363724,
          0.7268780021901061,
          0.05873709085930215,
          0.018446718695566414,
          -1.7290639496162454,
          0.9363751765255192,
          -0.5131001460782538,
          0.8882581078065187,
          -0.029343659740048527,
          -0.6754870985974409,
          1.5958046362154108,
          -2.1436085963223688,
          -0.1581958779663327,
          -0.23360461099664678,
          0.5079813165771442,
          0.061647670542047193,
          0.02899641655288117,
          -0.27275234337333293,
          0.49148756495672685,
          -0.545564692689696,
          -1.2163141396240653,
          -0.5490862359111989,
          0.19817083096797475,
          -1.251120933190873,
          1.2754549416064147,
          0.5201220149587816,
          1.703677267737057,
          -0.3859085935586467,
          1.289550517646563,
          1.9493326885488858,
          0.2575857167374429,
          1.0463839837335251,
          -0.9148366148308742,
          0.10979583869198205,
          1.2487376434365287,
          0.16097245546308592,
          1.4970703358059638,
          -0.5328154974567333,
          0.24933537540142459,
          -1.1554948685751172,
          1.326088400529831,
          0.27360584867356375,
          1.3000321370699883,
          1.1007093054179364,
          1.47491401679232,
          0.45569976983626465,
          0.8242964040954547,
          -1.9115678045116804,
          -0.7683689771562254,
          2.569031379677878,
          -0.5502062325947774,
          0.14525532044194114,
          1.4849040954462365,
          1.2141054375267366,
          -0.5046638174830159,
          -1.9774671911455777,
          1.5045327329378784,
          -0.21448251633690846,
          -1.3148528000099005,
          -0.6439669381412921,
          -0.050858975246559676,
          -0.07345367941524701,
          -0.2598365867622153,
          -0.49820437874123846,
          0.7209982931194726,
          -0.6010035254864129,
          -0.8359618172118304,
          0.6685142566741921,
          -0.8549479113752453,
          0.17383926260001462,
          -0.7133866708484186,
          -0.7881346399098011,
          -0.36831996791686744,
          1.1829493357226295,
          -0.2487406283367975,
          -1.7297442178642868,
          -1.8865407931968012,
          0.5770418702730062,
          -1.659245064924603,
          -1.0524671859933932,
          -1.4016617658129527,
          -0.21936773114228972,
          -0.40562462722379694,
          0.3815064200968714,
          0.35380644127916017,
          -0.8338795003409651,
          -0.22872943777564095,
          0.8105391196387309,
          0.26428977081692445,
          0.16849596506718073,
          1.0171683381258418,
          -1.1781627377796096,
          -0.17480249462195852,
          -0.7634184356183022,
          -1.5393176955964147,
          0.024669128326639166,
          0.41218641752377033,
          -0.4919363137068542,
          0.3065084785596051,
          -0.2291943176687184,
          0.6205108733654127,
          0.3593364025922371,
          -1.650147595314175,
          0.043174880210605344,
          0.2096626354549207,
          2.085213049091023,
          -0.5103154087297688,
          -1.1974835730423528,
          -0.666432975557448,
          0.538543404308083,
          0.8702636938921363,
          -1.2913153414523402,
          -1.370368691313329,
          1.5748335089329797,
          -0.8762442222875836,
          -1.2609977940593446,
          -0.5963628095815733,
          -2.330427455321188,
          1.1711318257554326,
          0.7160059704885667,
          -0.4594928936561709,
          0.7771671101596741,
          0.09823855815031196,
          -0.22344982541667988,
          0.29387560144895947,
          0.3291280353666465,
          -0.051071115968564076,
          0.13341746589326034,
          -0.12365319694134441,
          0.1775156352275807,
          -1.0691097802331424,
          1.4170214665226617,
          -0.3247983656941301,
          -0.2590251047848042,
          0.22338565986904263,
          -0.3114032961816832,
          0.026772004423545114,
          -1.4558863531980546,
          1.089772789690165,
          -1.6944202445489271,
          0.21884522189856107,
          -1.1973030201521513,
          -0.5305466873611654,
          -1.076734230805046,
          -0.1473713769196377,
          0.7448467895993588,
          -1.1113428034779587,
          1.4924339675128127,
          -1.0108388680528964,
          -2.1861405898330553,
          0.9731037364329638,
          1.2908304728207771,
          -0.7998631914988328,
          -1.1407050077534802,
          1.2405755382051826,
          1.3728055380364457,
          0.4190397274938382,
          0.9857300794662013,
          -3.0464673743170083,
          1.7509074055239857,
          0.6474479624587347,
          -0.37082345979352827,
          -0.4255299803701556,
          0.4232954414027798,
          0.008519878345758044,
          0.2008678927344371,
          0.26010456010248373,
          -0.19977039735196242,
          -0.40995204592761353,
          -0.1250879294125591,
          -0.17052502274399783,
          2.6366382833612243,
          1.524795233695693,
          1.9567982744510852,
          0.5437122654563594,
          -1.2077445838494767,
          0.5835794413173945,
          0.9400345505985225,
          1.2504056860218338,
          0.04678806846541619,
          1.647561509730829,
          -0.1484822805272847,
          -0.043586109061859515,
          -1.0932886088707305,
          -0.5661236197137396,
          1.1849272750183943,
          -0.18981491237601167,
          1.1721896987839966,
          -0.4129757642686217,
          -0.5533581375118636,
          -0.2303108694322721,
          0.1247736036599438,
          0.23778635285790697,
          -1.5880212908071056,
          -1.4744215890963017,
          -0.06499531592700422,
          -1.5101623046037136,
          1.5332904718182727,
          -1.3499487518760742,
          -0.3823385298680641,
          -0.9620728766162608,
          -0.17927362049565734,
          -1.919593013229052,
          -0.5097925485262284,
          -0.8002186547790602,
          -0.5883453933020418,
          1.1259024609129336,
          -0.572678215602561,
          1.2538189608685415,
          0.04055863895940852,
          1.0042777108415022,
          0.6748884582154256,
          -1.1917066587861187,
          0.5429382900934966,
          -0.6894647074721509,
          0.3435799690561133,
          -0.11150964865377727,
          0.34435541746492687,
          -2.714758952221109,
          -0.9586584344343279,
          0.17374514319775664,
          0.1869271180033312,
          -0.9722726980507245,
          0.21182592649897677,
          -0.8250355941986933,
          -1.1235831644438288,
          -1.5914671659523447,
          -0.2788200411686967,
          -0.8106619310153462,
          -0.5913670552287257,
          0.010733334108603873,
          1.1053488890866805,
          -1.0247272312980236,
          0.09960484548844437,
          0.18651287921712134,
          0.6193449825182824,
          -0.5320078026080463,
          -0.36205276072580744,
          0.09434305321022683,
          -0.0017209969071922693,
          0.127266455920391,
          0.015588047802465565,
          1.7512810925852378,
          -0.11430347929272366,
          -0.2490274685950862,
          1.77786024704196,
          1.7051356652837077,
          0.18594937569414538,
          1.5288257773362275,
          0.9180575954862211,
          -0.5118730229307109,
          -0.5399050582838427,
          -0.13850186777046086,
          0.22268019941872522,
          -0.3930161528691011,
          -1.3346962998968368,
          0.595522730775883,
          0.5996952908533403,
          -0.09112903095678869,
          0.9328394993172643,
          0.07329162314134485,
          0.325006871182917,
          1.0489460420679895,
          0.20606919837951074,
          0.036974006729643974,
          2.094142188128602,
          -1.1652404907949907,
          0.33118391208128967,
          -0.9581537374416135,
          -1.0745255669174991,
          -0.8256929716983487,
          0.5050102296191795,
          -0.007248083835302973,
          0.7783605314972553,
          0.1521879535633717,
          -0.20110704648739416,
          -0.08929101179484653,
          0.48171942188254424,
          -0.8010581885253298,
          -0.9159446831918986,
          1.2620649197461578,
          -0.608627873464626,
          0.04435113855698292,
          1.1134629965788503,
          -1.552100777619225,
          -0.01143448520810025,
          -1.9698629986054392,
          0.7705931072070131,
          -0.2201686215904255,
          -1.0278675073704313,
          0.5642485586066186,
          -0.295205258467293,
          0.19282285485860068,
          0.8860367338360294,
          -0.2941502956191484,
          -1.3413871691951142,
          1.52991526495742,
          0.052540650276465324,
          -0.6676531179248187,
          0.9472714328223194,
          -0.87384167044813,
          -0.9786965358047772,
          0.44421168513948533,
          0.81167751132922,
          -1.9085516536332396,
          1.6149765229087247,
          0.4512505964031079,
          -0.04179624053065671,
          -0.8101534551014253,
          -0.09026174322634116,
          -0.2502222005410458,
          -0.36210444406410397,
          -0.17023686966542279,
          1.898849651934423,
          2.954277545624831,
          0.5700713918781344,
          1.4948884472981614,
          -0.19642962456682356,
          0.21288295564796214,
          0.21948083076984268,
          -0.6330852230825782,
          1.2493878998110537,
          -0.6563760552473017,
          -1.0009222401425377,
          0.2654599941271236,
          -0.510993041028285,
          0.33672831516318336,
          0.19439040316216247,
          -0.43675335268978327,
          1.8350126322512044,
          -0.9634958006059798,
          -1.4160290917799843,
          -1.2002563866242333,
          -0.09790760723117785,
          -0.08921361518753883,
          -0.575366055985663,
          -0.9682146589617032,
          -1.1303751431064237,
          0.17615278083438687,
          -0.610384886575836,
          -0.1987734481182424,
          -0.45985769269020205,
          0.8660961922942823,
          1.653244680200378,
          0.5245968629305342,
          -0.4015911346229023,
          -0.20785241160131707,
          0.48077390679315785,
          -0.32949208350854525,
          -0.19809229257551783,
          -0.7415949350029123,
          1.110914982823379,
          -0.350973977623879,
          -1.451245737432657,
          -0.18949105786540782,
          1.3377699505376854,
          0.9896874575225145,
          -0.12795380212404855,
          -0.20163968952188477,
          -0.36171154770339986,
          -0.005236360559940693,
          0.7211250475039452,
          0.16447287872935556,
          1.247063762694835,
          -0.016456280348951653,
          -0.6695819470927054,
          -2.588231509144088,
          2.1548830884907755,
          2.0846107996423986,
          0.726640053097773,
          -0.20490174452085108,
          -0.056069107713558386,
          -1.0798360798261684,
          -0.03907180570066176,
          -0.24854801772270851,
          -1.1151060634292624,
          1.1799317463822592,
          -0.2788699161709977,
          -1.524243888012886,
          1.1703801357929629,
          0.6708481327349839,
          1.5687990557809401,
          -2.5093972089915653,
          1.0710809920160813,
          1.4895330815913972,
          -1.1568759717259796,
          -1.0372778242201899,
          -1.614742713249326,
          0.5827814949077227,
          -1.3354038613720483,
          -0.2783480826170353,
          -0.9325947822790839,
          0.14455794150232235,
          1.3576557497585213,
          -0.45223479183977305,
          -1.580648911049687,
          3.0356826947941324,
          1.6721241007436003,
          2.1328459190843376,
          0.27253725159107706,
          -0.6282239922363266,
          -0.11613989754896001,
          0.41178649136014656,
          1.2910797884597216,
          1.0451133578231158,
          1.6559766809053216,
          0.14996441631018045,
          -0.6693450002860377,
          0.543047363004441,
          -1.4143204459850538,
          -0.012027996582417622,
          -0.5308983860214108,
          0.055772233320073354,
          -0.9112507081068589,
          -0.05722995128834011,
          0.519600662737254,
          -0.47893191969750887,
          0.26881097511020574,
          -1.4955176669057122,
          1.46158276152091,
          -0.908560369290642,
          0.26696825719901796,
          -1.826537365488374,
          -0.5024770298415416,
          -0.6022868080054699,
          -2.1164767910346205,
          -0.3963714844046867,
          -1.252845648408175,
          0.29057702336081725,
          -0.3492458373653964,
          1.029385450546949,
          -1.9779071329630988,
          0.6379834097277782,
          2.242373545758867,
          -1.7602872095069941,
          -1.8913135175126352,
          1.5032464599209305,
          -0.4044868537105608,
          0.6874378993089021,
          -1.0232636510098303,
          1.5704915451798709,
          -0.9212333550425461,
          0.9081617612383222,
          1.5213700481046992,
          -2.302232049146711,
          -0.44528652827349774,
          0.5262049402262391,
          -0.11698563339380944,
          0.3898418115851575,
          -0.20931456722204433,
          -2.383318824474248,
          -0.790256060543474,
          1.0276256062309932,
          -2.933316616331166,
          1.506454391600886,
          0.7502377182616778,
          1.238607634842073,
          0.4782780288915374,
          -0.05651239505681077,
          1.8311489515520365,
          -0.507273106924066,
          1.8492418946109626,
          0.7055502506071533,
          -1.6292361944053373,
          -0.3161014351912871,
          1.202680095314057,
          0.28483007821215967,
          -0.03977003332562798,
          1.019098988457485,
          0.529893918595446,
          0.39778383467112854,
          1.38991393151277,
          -0.9351770024547346,
          -2.422731943918799,
          -0.3886106401808603,
          0.8253224360401753,
          -0.4438960879153095,
          0.0798312939825718,
          0.07941436923691228,
          -1.474933667140046,
          0.8386705994824923,
          0.04306797053526275,
          -1.0294131875171606,
          2.645711153434559,
          -0.6548400675985939,
          -0.8338298172733574,
          -0.42653407037845587,
          0.14724126964791998,
          1.5679606324876962,
          -1.081408080620175,
          1.0547363926119866,
          -0.9308651559929185,
          -0.6208352019302145,
          0.4639885421265251,
          -0.9526983828000218,
          0.26449044196220345,
          -0.6646777401160092,
          -0.7399530416695181,
          -0.6964268922455727,
          0.6388861408339894,
          0.12431130337705455,
          -0.11563128357779366,
          0.5286704843951644,
          0.24343566075825868,
          0.32485016395638827,
          0.2312228337091578,
          0.2684625192763478,
          -0.802184695666847,
          1.0150587116794947,
          0.1600135870559744,
          0.20467314957898985,
          -0.6542864017265637,
          1.1717613363971626,
          -0.5888235662149083,
          -0.2770855553969038,
          1.227126898694141,
          0.5591776663314888,
          1.6013980080340724,
          -0.009258066460099072,
          -0.28417775834167835,
          0.48401283551255964,
          0.9044037009587429,
          -0.2806983074719022,
          -0.5101489281332149,
          0.8433800059620504,
          0.8356574698438063,
          0.9780331276566349,
          2.322368141738161,
          -0.5037469542381073,
          0.46271221750209746,
          -1.0708168407282277,
          -2.1461662654578126,
          -1.1081993922862368,
          -0.5478610623259876,
          0.5384714094405807,
          -0.8868735287289908,
          -1.3096919396932354,
          0.9022578499214683,
          -0.3709781905239042,
          -0.13381147497224563,
          0.1864878772422507,
          -2.2601468576240884,
          0.4584859768708014,
          0.10397567896091753,
          0.7211101912522155,
          -0.19597038011537685,
          0.06463280882769948,
          -1.3303110085071377,
          1.0671603566024725,
          0.07346472865347568,
          0.8848774182221403,
          0.11729616528891613,
          0.3935234474674434,
          0.37296209692973536,
          1.0612790822862497,
          0.6535920500719165,
          -0.09583672164752038,
          0.7924592926835471,
          1.4072698934476071,
          -1.0869861515578227,
          -0.13241894757643638,
          1.0088951298887512,
          -1.7479832684391934,
          1.1990775461277074,
          -0.4612694208027007,
          -0.0648111746763699,
          1.297858323614923,
          0.5564672850150248,
          0.190694533905548,
          1.1369885194421145,
          -0.12937421785073844,
          -2.0851967986638447,
          0.983903327302229,
          1.8157021236293038,
          -0.48218440117289646,
          0.5627793101912122,
          0.5265121429859247,
          -1.044148641884563,
          1.423674314352565,
          -1.4400105065412196,
          -1.1273059638482605,
          -0.6541208972088768,
          1.7053652516422284,
          -0.755102144748556,
          -1.4604005242653295,
          -1.1543223387579837,
          -0.08521197920820966,
          1.3041025775178765,
          1.2130089128165633,
          -0.7127586933971833,
          0.7588581090802368,
          0.4957533012927628,
          -0.7540758101833006,
          -0.7851388991785654,
          0.09543712533001426,
          0.21546997075338034,
          0.5109956998028673,
          -1.2262311475204455,
          1.6936548632843498,
          -1.2673648843248577,
          0.992596504396897,
          0.3836596956334294,
          0.2349031358083996,
          0.6301682709131897,
          0.2676395561340468,
          1.031893347675444,
          -1.399255254424288,
          -1.957068334655531,
          -0.31718445725040517,
          0.8259777226101569,
          0.5224073601519242,
          -1.167362753835172,
          -0.7251045502216976,
          -0.2730927653331511,
          0.48993397005921663,
          -2.376408169441962,
          -0.7983471050802893,
          1.5149569401524297,
          -1.6508635728143366,
          -0.9751089331486219,
          -0.12980764442068654,
          1.4780546071490719,
          0.3149987943981122,
          0.7696467420930502,
          0.3293625976067799,
          1.141093753546772,
          -0.12667806704804108,
          0.07061241130068271,
          1.3644525702365384,
          -0.3311916556672093,
          -0.30491063114295075,
          0.21047960314820208,
          -0.8316948077963979,
          -0.34827826534177503,
          -1.8694658846992025,
          0.1626650950887597,
          -0.5376965423414197,
          0.7987547351056433,
          0.3177896140707551,
          0.3289048094913893,
          0.08475439635610074,
          1.3476313419064936,
          -0.2722984844274967,
          -0.48731230666078645,
          -0.4048143518492908,
          2.1691407954323303,
          -0.9989778280126858,
          -0.5488313282784758,
          0.03666455973505466,
          0.5977780151469657,
          -0.14491378374466085,
          1.7116967445162499,
          -0.9452269133222023,
          -0.1094795163372045,
          -0.660967992211111,
          -0.8065926377562788,
          0.34722574757940666,
          -1.866327591704192,
          -0.42348053023036847,
          -0.4645093901715932,
          -0.4383250525435481,
          0.18935972025014502,
          -0.7549227686480913,
          -0.6953839398919288,
          1.3048592700766568,
          -1.0175609841024345,
          -0.42580089635331686,
          -0.6083466831659811,
          1.0362397586354255,
          -0.7742433264328232,
          -0.5806167680389661,
          1.2256994214193093,
          -0.039735161596791996,
          0.7861351642130121,
          -0.5934659997514925,
          -1.2676742437846802,
          0.5622235315315156,
          0.07566264567710959,
          0.18505377902917422,
          -0.9369655594209287,
          1.1388656431656405,
          -2.018672549494547,
          -0.4507566134453493,
          1.143319017754394,
          -1.1943110236858137,
          1.1624986737905745,
          -0.8641622965859155,
          0.6234847021260717,
          2.5520103578421134,
          -1.1184816060632687,
          -0.4739457009467443,
          -0.3740508642881229,
          -0.6083747344842322,
          -0.000928357378303068,
          0.07979276196116174,
          0.17684444143308,
          -0.31309984568453814,
          -0.20715878609865704,
          0.6011362454812927,
          0.8834448347622781,
          -1.325524544795436,
          -0.07054842990905262,
          -0.7922185952649753,
          -1.0393633958401032,
          -1.4360375568745616,
          1.564676707698193,
          -0.6827322687071185,
          -0.6879586644277219,
          0.42993634134732883,
          -1.0161190022014501,
          -0.43514682399900106,
          -0.7399536744848739,
          -0.5835980604425968,
          0.838560795035872,
          0.4466508343010767,
          1.2980924345477167,
          0.5477500339366627,
          1.2615964306985359,
          2.1024534415685974,
          -1.677995449929631,
          1.0355877860720215,
          -0.24443330069175517,
          0.8587894447056666,
          -1.5501715149674433,
          -0.36770199801211745,
          0.7077418076124629,
          1.0672352028953105,
          -1.9342324520240255,
          -0.09850336747117625,
          -0.3470703936179095,
          0.723131812546525,
          -0.3089882790836408,
          -0.9347386212921373,
          1.7797113649118284,
          0.9863275794598165,
          0.6830443179196479,
          0.822535743209203,
          -1.6364626702431024,
          -1.152114084870933,
          0.6016049388384762,
          -0.3914281722591765,
          1.0493184238129152,
          0.5311434041452446,
          0.9880119830208269,
          0.43879422174990906,
          2.163691837556457,
          0.49614934629063306,
          -0.36520876481107445,
          -0.2074307190718948,
          1.5196946475229887,
          0.5048267252124866,
          -0.0818944018544998,
          -1.1414990272623522,
          0.8017949447657998,
          -0.20047031620654607,
          -0.5218287510448608,
          0.580721358397186,
          0.5154543944313912,
          2.2972443853911946,
          -1.3535875167745257,
          -0.60997607298154,
          -1.0812585901414937,
          -1.199400215642898,
          -1.0872926451276461,
          -1.493294445586894,
          -0.0031317010439877047,
          0.666366024616468,
          -1.2933186643191519,
          -0.7300846383484654,
          -0.19891020509623192,
          1.191652040811568,
          0.3572071398019671,
          0.26711079327759074,
          1.893401209461958,
          -0.4194561718094295,
          -1.1276226389848716,
          -2.020503737065824,
          -1.387596093482009,
          -0.2547863294777174,
          1.1962882871796432,
          -1.3052044891967562,
          0.5592973923298481,
          -0.5835415173126192,
          1.0741873655215823,
          1.5126768563858901,
          -0.2527267401278723,
          -0.9173286956947209,
          0.1887989538267861,
          -0.8314518235932834,
          -0.43165803387432017,
          0.09216652284001411,
          -0.8738114975128806,
          -2.19933728305094,
          -0.7562598668568771,
          1.2399765229594162,
          -1.3352739486509666,
          -0.22530326022724154,
          0.8709315986912683,
          0.3049275796581673,
          -0.7727662334339318,
          0.4559367416043955,
          1.4819173049095773,
          0.7862175169954948,
          0.04669740886022405,
          -0.8181803942784315,
          1.5161946698905642,
          1.3652679421752758,
          0.13309845130123646,
          0.21190672379902073,
          -0.9452607656433611,
          -0.45618745833542096,
          -0.32455143294300737,
          -0.3546720239865432,
          1.5497343386998939,
          -0.2725334187420102,
          0.9371204491913053,
          0.02071281666737501,
          -0.2955005430626251,
          -1.8891071067588294,
          -0.5237238378209247,
          0.09839323924148498,
          0.024403709160286842,
          1.2742724798764384,
          -0.8562906704141777,
          -0.6218010990882349,
          -1.9229989087020523,
          0.024376259617392877,
          0.022371530211207052,
          0.35358839224777183,
          -0.4638529751127879,
          -0.743744794312701,
          0.25569452671917886,
          -0.5208645896652299,
          -1.6618681373711637,
          -0.2699637949844495,
          0.19458940927113252,
          0.8919310079419164,
          0.9486296604206207,
          -0.37382060520884913,
          -1.9637849292565526,
          -0.5058719113369317,
          -1.175961968431568,
          -1.1010226018199334,
          -0.6527692842752109,
          0.5660158503768045,
          -0.43923899644672887,
          0.5589642776424282,
          -0.9981625374394969,
          1.1720292784110105,
          -0.6810816715133595,
          -0.15431882713933737,
          1.5812311124022913,
          1.50261887231924,
          -0.008816674238596764,
          0.7528686942938932,
          0.1613350825642084,
          0.12694271694500292,
          0.09916073031521562,
          0.11684440795364856,
          -1.0915128660288067,
          0.5413772984268785,
          0.6396994188903378,
          -0.20238664678171048,
          1.3986087825745337,
          1.361066751976469,
          1.3804485051203756,
          2.2020134817126022,
          0.08861330842383813,
          -0.2347408541766909,
          0.8834374448840451,
          0.3787851676768071,
          -0.9040480978265311,
          -0.21275471187785414,
          -0.3248612030454667,
          0.7039735270460256,
          -0.2815703630360607,
          -1.669277291679208,
          2.0348425547342104,
          -0.8226947550077292,
          -0.8910837893998875,
          -0.3366570180568158,
          -0.5407276435241813,
          0.7694876621208045,
          1.0580190818246915,
          -1.2881897217017693,
          0.13351959126584284,
          -1.8376457299573414,
          -0.3528759809370565,
          0.9599598513596644,
          0.6231028750386897,
          1.566380599842844,
          -0.4931068564920486,
          -0.04923288452035715,
          0.24532513446511225,
          -1.25781032799594,
          -0.6273055062319933,
          0.48599763243928823,
          -0.3517097056611434,
          0.7424358765211471,
          -0.13965261032681456,
          -0.07167716044795869,
          -0.6382736179190442,
          -1.3190014887645352,
          0.8541702420644345,
          -1.117110442434193,
          -0.26067315295096477,
          0.44867685587827194,
          0.13306882057376254,
          2.099096084185436,
          -0.6312047714634271,
          -2.4764848283475134,
          -1.084788086899768,
          0.6691100133884783,
          1.0791365199364227,
          1.634259766356644,
          -1.3377501288610802,
          -0.24647997184236653,
          -0.3717942931755251,
          1.5403194900101873,
          -0.5280048051690147,
          -1.0700364669044715,
          1.4368613705881055,
          1.0146658926009255,
          -1.5166979709717894
         ],
         "xaxis": "x",
         "xbins": {
          "end": 3.0356826947941324,
          "size": 1,
          "start": -3.0464673743170083
         },
         "yaxis": "y"
        },
        {
         "legendgroup": "distplot",
         "marker": {
          "color": "rgb(31, 119, 180)"
         },
         "mode": "lines",
         "name": "distplot",
         "showlegend": false,
         "type": "scatter",
         "x": [
          -3.0464673743170083,
          -3.034303074178786,
          -3.0221387740405636,
          -3.0099744739023415,
          -2.9978101737641194,
          -2.985645873625897,
          -2.9734815734876747,
          -2.961317273349452,
          -2.94915297321123,
          -2.936988673073008,
          -2.9248243729347854,
          -2.9126600727965632,
          -2.900495772658341,
          -2.8883314725201186,
          -2.8761671723818965,
          -2.864002872243674,
          -2.8518385721054518,
          -2.8396742719672297,
          -2.827509971829007,
          -2.815345671690785,
          -2.803181371552563,
          -2.7910170714143403,
          -2.778852771276118,
          -2.766688471137896,
          -2.7545241709996735,
          -2.7423598708614514,
          -2.730195570723229,
          -2.7180312705850067,
          -2.7058669704467846,
          -2.693702670308562,
          -2.68153837017034,
          -2.669374070032118,
          -2.6572097698938952,
          -2.645045469755673,
          -2.632881169617451,
          -2.6207168694792284,
          -2.6085525693410063,
          -2.5963882692027838,
          -2.5842239690645616,
          -2.5720596689263395,
          -2.559895368788117,
          -2.547731068649895,
          -2.5355667685116723,
          -2.52340246837345,
          -2.511238168235228,
          -2.4990738680970055,
          -2.4869095679587834,
          -2.4747452678205613,
          -2.4625809676823387,
          -2.4504166675441166,
          -2.4382523674058945,
          -2.426088067267672,
          -2.41392376712945,
          -2.401759466991227,
          -2.389595166853005,
          -2.377430866714783,
          -2.3652665665765604,
          -2.3531022664383383,
          -2.340937966300116,
          -2.3287736661618936,
          -2.3166093660236715,
          -2.3044450658854494,
          -2.292280765747227,
          -2.2801164656090047,
          -2.267952165470782,
          -2.25578786533256,
          -2.243623565194338,
          -2.231459265056116,
          -2.2192949649178932,
          -2.2071306647796707,
          -2.1949663646414486,
          -2.1828020645032264,
          -2.1706377643650043,
          -2.1584734642267818,
          -2.1463091640885597,
          -2.134144863950337,
          -2.121980563812115,
          -2.109816263673893,
          -2.0976519635356707,
          -2.085487663397448,
          -2.0733233632592256,
          -2.0611590631210035,
          -2.0489947629827814,
          -2.0368304628445593,
          -2.0246661627063367,
          -2.012501862568114,
          -2.000337562429892,
          -1.98817326229167,
          -1.9760089621534476,
          -1.9638446620152255,
          -1.951680361877003,
          -1.9395160617387808,
          -1.9273517616005587,
          -1.915187461462336,
          -1.903023161324114,
          -1.8908588611858916,
          -1.8786945610476693,
          -1.8665302609094472,
          -1.8543659607712248,
          -1.8422016606330025,
          -1.8300373604947802,
          -1.817873060356558,
          -1.8057087602183357,
          -1.7935444600801134,
          -1.7813801599418913,
          -1.7692158598036687,
          -1.7570515596654466,
          -1.7448872595272245,
          -1.732722959389002,
          -1.7205586592507798,
          -1.7083943591125574,
          -1.696230058974335,
          -1.6840657588361128,
          -1.6719014586978906,
          -1.6597371585596683,
          -1.647572858421446,
          -1.6354085582832238,
          -1.6232442581450013,
          -1.6110799580067792,
          -1.598915657868557,
          -1.5867513577303345,
          -1.5745870575921124,
          -1.56242275745389,
          -1.5502584573156677,
          -1.5380941571774456,
          -1.5259298570392232,
          -1.513765556901001,
          -1.5016012567627786,
          -1.4894369566245564,
          -1.477272656486334,
          -1.4651083563481118,
          -1.4529440562098896,
          -1.440779756071667,
          -1.428615455933445,
          -1.4164511557952228,
          -1.4042868556570003,
          -1.3921225555187782,
          -1.3799582553805558,
          -1.3677939552423335,
          -1.3556296551041114,
          -1.343465354965889,
          -1.331301054827667,
          -1.3191367546894444,
          -1.3069724545512222,
          -1.2948081544130001,
          -1.2826438542747776,
          -1.2704795541365554,
          -1.258315253998333,
          -1.2461509538601108,
          -1.2339866537218884,
          -1.2218223535836663,
          -1.209658053445444,
          -1.1974937533072216,
          -1.1853294531689995,
          -1.173165153030777,
          -1.1610008528925548,
          -1.1488365527543327,
          -1.1366722526161102,
          -1.124507952477888,
          -1.1123436523396657,
          -1.1001793522014434,
          -1.0880150520632212,
          -1.075850751924999,
          -1.0636864517867766,
          -1.0515221516485542,
          -1.0393578515103319,
          -1.0271935513721098,
          -1.0150292512338872,
          -1.002864951095665,
          -0.990700650957443,
          -0.9785363508192204,
          -0.9663720506809983,
          -0.9542077505427762,
          -0.9420434504045536,
          -0.9298791502663315,
          -0.9177148501281089,
          -0.9055505499898868,
          -0.8933862498516647,
          -0.8812219497134426,
          -0.86905764957522,
          -0.8568933494369975,
          -0.8447290492987753,
          -0.8325647491605532,
          -0.8204004490223311,
          -0.808236148884109,
          -0.796071848745886,
          -0.7839075486076639,
          -0.7717432484694418,
          -0.7595789483312196,
          -0.7474146481929975,
          -0.735250348054775,
          -0.7230860479165528,
          -0.7109217477783303,
          -0.6987574476401082,
          -0.686593147501886,
          -0.6744288473636635,
          -0.6622645472254414,
          -0.6501002470872193,
          -0.6379359469489967,
          -0.6257716468107746,
          -0.613607346672552,
          -0.6014430465343299,
          -0.5892787463961078,
          -0.5771144462578857,
          -0.5649501461196631,
          -0.5527858459814405,
          -0.5406215458432184,
          -0.5284572457049963,
          -0.5162929455667742,
          -0.5041286454285521,
          -0.49196434529032906,
          -0.47980004515210695,
          -0.46763574501388483,
          -0.4554714448756627,
          -0.4433071447374406,
          -0.43114284459921803,
          -0.4189785444609955,
          -0.40681424432277336,
          -0.39464994418455124,
          -0.3824856440463291,
          -0.37032134390810656,
          -0.35815704376988444,
          -0.3459927436316619,
          -0.33382844349343976,
          -0.3216641433552172,
          -0.3094998432169951,
          -0.29733554307877297,
          -0.28517124294055085,
          -0.2730069428023283,
          -0.26084264266410573,
          -0.2486783425258836,
          -0.2365140423876615,
          -0.22434974224943938,
          -0.21218544211121726,
          -0.20002114197299425,
          -0.18785684183477214,
          -0.17569254169655002,
          -0.1635282415583279,
          -0.15136394142010579,
          -0.13919964128188322,
          -0.12703534114366066,
          -0.11487104100543855,
          -0.10270674086721643,
          -0.09054244072899431,
          -0.07837814059077175,
          -0.06621384045254963,
          -0.05404954031432707,
          -0.041885240176104954,
          -0.029720940037882837,
          -0.017556639899660276,
          -0.0053923397614381585,
          0.006771960376783959,
          0.01893626051500652,
          0.031100560653228637,
          0.0432648607914512,
          0.055429160929673316,
          0.06759346106789543,
          0.07975776120611755,
          0.09192206134434011,
          0.10408636148256267,
          0.11625066162078479,
          0.1284149617590069,
          0.14057926189722902,
          0.15274356203545114,
          0.16490786217367415,
          0.17707216231189626,
          0.18923646245011838,
          0.2014007625883405,
          0.21356506272656262,
          0.22572936286478518,
          0.23789366300300774,
          0.25005796314122986,
          0.262222263279452,
          0.2743865634176741,
          0.28655086355589665,
          0.29871516369411877,
          0.31087946383234133,
          0.32304376397056345,
          0.33520806410878556,
          0.3473723642470081,
          0.35953666438523024,
          0.37170096452345236,
          0.3838652646616745,
          0.39602956479989704,
          0.4081938649381196,
          0.4203581650763417,
          0.43252246521456383,
          0.44468676535278595,
          0.45685106549100807,
          0.4690153656292311,
          0.4811796657674532,
          0.4933439659056753,
          0.5055082660438974,
          0.51767256618212,
          0.5298368663203421,
          0.5420011664585647,
          0.5541654665967868,
          0.5663297667350089,
          0.5784940668732315,
          0.5906583670114536,
          0.6028226671496757,
          0.6149869672878983,
          0.6271512674261204,
          0.6393155675643429,
          0.651479867702565,
          0.6636441678407872,
          0.6758084679790093,
          0.6879727681172318,
          0.7001370682554544,
          0.7123013683936765,
          0.7244656685318986,
          0.7366299686701208,
          0.7487942688083429,
          0.7609585689465659,
          0.773122869084788,
          0.7852871692230101,
          0.7974514693612322,
          0.8096157694994544,
          0.8217800696376769,
          0.8339443697758995,
          0.8461086699141216,
          0.8582729700523437,
          0.8704372701905658,
          0.8826015703287884,
          0.8947658704670105,
          0.9069301706052331,
          0.9190944707434552,
          0.9312587708816773,
          0.9434230710198999,
          0.9555873711581224,
          0.9677516712963445,
          0.9799159714345667,
          0.9920802715727888,
          1.004244571711011,
          1.016408871849234,
          1.028573171987456,
          1.0407374721256781,
          1.0529017722639002,
          1.0650660724021224,
          1.0772303725403445,
          1.0893946726785675,
          1.1015589728167896,
          1.1137232729550117,
          1.1258875730932338,
          1.138051873231456,
          1.150216173369679,
          1.162380473507901,
          1.1745447736461232,
          1.1867090737843453,
          1.1988733739225674,
          1.2110376740607904,
          1.2232019741990117,
          1.2353662743372347,
          1.2475305744754568,
          1.259694874613679,
          1.271859174751902,
          1.2840234748901231,
          1.2961877750283461,
          1.3083520751665683,
          1.3205163753047904,
          1.3326806754430134,
          1.3448449755812346,
          1.3570092757194576,
          1.3691735758576788,
          1.3813378759959019,
          1.3935021761341249,
          1.405666476272346,
          1.417830776410569,
          1.4299950765487903,
          1.4421593766870133,
          1.4543236768252363,
          1.4664879769634576,
          1.4786522771016806,
          1.4908165772399018,
          1.5029808773781248,
          1.515145177516347,
          1.527309477654569,
          1.539473777792792,
          1.5516380779310133,
          1.5638023780692363,
          1.5759666782074584,
          1.5881309783456805,
          1.6002952784839026,
          1.6124595786221247,
          1.6246238787603478,
          1.6367881788985699,
          1.648952479036792,
          1.661116779175014,
          1.6732810793132362,
          1.6854453794514592,
          1.6976096795896813,
          1.7097739797279035,
          1.7219382798661256,
          1.7341025800043477,
          1.7462668801425698,
          1.7584311802807928,
          1.770595480419015,
          1.782759780557237,
          1.7949240806954592,
          1.8070883808336813,
          1.8192526809719043,
          1.8314169811101264,
          1.8435812812483485,
          1.8557455813865706,
          1.8679098815247928,
          1.8800741816630158,
          1.892238481801237,
          1.90440278193946,
          1.9165670820776821,
          1.9287313822159042,
          1.9408956823541272,
          1.9530599824923485,
          1.9652242826305715,
          1.9773885827687936,
          1.9895528829070157,
          2.0017171830452387,
          2.01388148318346,
          2.026045783321683,
          2.038210083459904,
          2.050374383598127,
          2.06253868373635,
          2.0747029838745714,
          2.0868672840127944,
          2.0990315841510157,
          2.1111958842892387,
          2.1233601844274617,
          2.135524484565683,
          2.147688784703906,
          2.159853084842127,
          2.17201738498035,
          2.1841816851185722,
          2.1963459852567944,
          2.2085102853950174,
          2.2206745855332386,
          2.2328388856714616,
          2.2450031858096837,
          2.257167485947906,
          2.269331786086129,
          2.28149608622435,
          2.293660386362573,
          2.305824686500795,
          2.3179889866390173,
          2.3301532867772394,
          2.3423175869154615,
          2.3544818870536846,
          2.3666461871919067,
          2.378810487330129,
          2.390974787468351,
          2.403139087606574,
          2.415303387744796,
          2.427467687883018,
          2.4396319880212403,
          2.4517962881594624,
          2.4639605882976854,
          2.4761248884359066,
          2.4882891885741296,
          2.5004534887123517,
          2.512617788850574,
          2.524782088988797,
          2.536946389127018,
          2.549110689265241,
          2.5612749894034623,
          2.5734392895416853,
          2.5856035896799083,
          2.5977678898181296,
          2.6099321899563526,
          2.622096490094574,
          2.634260790232797,
          2.64642509037102,
          2.658589390509241,
          2.670753690647464,
          2.6829179907856853,
          2.6950822909239083,
          2.7072465910621313,
          2.7194108912003525,
          2.7315751913385755,
          2.7437394914767967,
          2.7559037916150197,
          2.768068091753242,
          2.780232391891464,
          2.792396692029687,
          2.804560992167908,
          2.8167252923061312,
          2.8288895924443533,
          2.8410538925825755,
          2.8532181927207976,
          2.8653824928590197,
          2.8775467929972427,
          2.889711093135465,
          2.901875393273687,
          2.914039693411909,
          2.926203993550131,
          2.938368293688354,
          2.9505325938265763,
          2.9626968939647984,
          2.9748611941030205,
          2.9870254942412426,
          2.9991897943794648,
          3.0113540945176878,
          3.02351839465591
         ],
         "xaxis": "x",
         "y": [
          0.004687656069333066,
          0.004870375877053844,
          0.005057493942743369,
          0.005249310800085529,
          0.005446157880304741,
          0.005648395442313782,
          0.005856409963421131,
          0.006070611015167109,
          0.006291427659531137,
          0.006519304411160758,
          0.00675469682119084,
          0.006998066747429304,
          0.00724987738396803,
          0.007510588130432483,
          0.007780649386926801,
          0.008060497365097433,
          0.00835054900848956,
          0.008651197116396897,
          0.008962805764628034,
          0.00928570611398843,
          0.00962019269279805,
          0.00996652023345973,
          0.010324901135030394,
          0.010695503614029878,
          0.011078450594489305,
          0.011473819375669547,
          0.011881642102173844,
          0.012301907046572474,
          0.012734560699411607,
          0.013179510645870607,
          0.013636629192659835,
          0.014105757693317483,
          0.014586711505181366,
          0.015079285497288597,
          0.015583260015595844,
          0.016098407200504285,
          0.01662449754198963,
          0.017161306549924486,
          0.017708621411653566,
          0.01826624750572785,
          0.018834014640058665,
          0.019411782884719536,
          0.019999447874250658,
          0.020596945461608073,
          0.02120425561579745,
          0.021821405467631647,
          0.022448471422794596,
          0.023085580278269312,
          0.023732909296928725,
          0.02439068521538594,
          0.02505918218169745,
          0.02573871864181304,
          0.02642965321634416,
          0.027132379631821957,
          0.027847320792666632,
          0.028574922101112826,
          0.029315644151849028,
          0.030069954945668588,
          0.030838321781547235,
          0.0316212029988443,
          0.032419039750401266,
          0.03323224799286638,
          0.03406121088234959,
          0.03490627176132949,
          0.035767727916488086,
          0.036645825276819796,
          0.0375407542070264,
          0.03845264653302484,
          0.03938157391462801,
          0.040327547655449415,
          0.04129052001227349,
          0.042270387036037846,
          0.043266992944781306,
          0.04428013599607537,
          0.04530957579326655,
          0.04635504192705418,
          0.04741624382224764,
          0.04849288162974426,
          0.04958465797656011,
          0.05069129036282489,
          0.05181252397464121,
          0.052948144666169004,
          0.05409799185368248,
          0.05526197105902544,
          0.05644006584009374,
          0.05763234885181534,
          0.058838991792556916,
          0.06006027400780066,
          0.061296589545012485,
          0.06254845248043679,
          0.06381650036955337,
          0.0651014957074576,
          0.06640432532272221,
          0.06772599766752738,
          0.06906763800711824,
          0.07043048155203765,
          0.07181586461614548,
          0.073225213921259,
          0.07466003420443944,
          0.07612189431569219,
          0.07761241202140604,
          0.07913323775159645,
          0.08068603754643917,
          0.08227247546930906,
          0.08389419575935853,
          0.08555280499651127,
          0.08724985454570212,
          0.08898682353550909,
          0.09076510260938464,
          0.09258597866603437,
          0.09445062077975838,
          0.09636006746250941,
          0.09831521539787431,
          0.10031680974402939,
          0.10236543606888139,
          0.10446151394700619,
          0.10660529221554009,
          0.10879684585571615,
          0.11103607443905485,
          0.11332270205299919,
          0.11565627860060085,
          0.11803618235315992,
          0.12046162362379459,
          0.122931649423906,
          0.1254451489634193,
          0.12800085985933968,
          0.1305973749252688,
          0.13323314942662712,
          0.13590650870184806,
          0.13861565606807805,
          0.14135868095016063,
          0.14413356719308967,
          0.1469382015398148,
          0.14977038227741182,
          0.15262782807434033,
          0.15550818704898545,
          0.15840904612420267,
          0.16132794073349396,
          0.16426236495122082,
          0.16720978212151053,
          0.17016763605797458,
          0.1731333628789373,
          0.1761044035306313,
          0.17907821703395527,
          0.18205229446929813,
          0.18502417368909696,
          0.18799145471988085,
          0.19095181578529757,
          0.19390302984986435,
          0.1968429815508647,
          0.1997696843538574,
          0.20268129773666843,
          0.2055761441784479,
          0.20845272570533005,
          0.21130973972328831,
          0.2141460938527134,
          0.21696091946872906,
          0.21975358364683464,
          0.22252369921554202,
          0.22527113262649653,
          0.2279960093682322,
          0.23069871667214967,
          0.23337990328828018,
          0.23604047614352283,
          0.23868159373580053,
          0.24130465616327723,
          0.24391129173764295,
          0.2465033401836168,
          0.24908283248224902,
          0.2516519674723096,
          0.25421308538093873,
          0.25676863851073034,
          0.2593211593644291,
          0.2618732265393932,
          0.2644274287709013,
          0.26698632754533624,
          0.26955241874038893,
          0.27212809377897834,
          0.2747156008059163,
          0.2773170064109855,
          0.2799341584286619,
          0.28256865034298423,
          0.28522178781598256,
          0.28789455783967466,
          0.2905876009851672,
          0.2933011871881737,
          0.2960351954688001,
          0.2987890979353322,
          0.3015619483677111,
          0.30435237561722356,
          0.307158581995536,
          0.30997834675954905,
          0.31280903472962945,
          0.3156476100086333,
          0.3184906546988328,
          0.3213343924444148,
          0.3241747165596888,
          0.32700722243849073,
          0.3298272438794327,
          0.3326298929055048,
          0.3354101026058593,
          0.33816267248310594,
          0.34088231575173367,
          0.34356370800283753,
          0.3462015366275936,
          0.3487905503771627,
          0.35132560843013255,
          0.3538017283402922,
          0.35621413224748194,
          0.3585582907523635,
          0.36082996388201066,
          0.36302523860695535,
          0.3651405624113815,
          0.36717277246608887,
          0.36911912000817304,
          0.3709772895914871,
          0.3727454129372502,
          0.3744220771839438,
          0.37600632740913553,
          0.3774976633722734,
          0.37889603050594256,
          0.3802018052626311,
          0.3814157750037459,
          0.38253911269641744,
          0.3835733467604694,
          0.38452032648169315,
          0.38538218347712966,
          0.3861612897622673,
          0.3868602130277841,
          0.387481669783555,
          0.3880284770690465,
          0.3885035034609099,
          0.3889096201296456,
          0.3892496527068469,
          0.389526334722098,
          0.3897422633536284,
          0.3898998582090502,
          0.39000132381190156,
          0.39004861641649413,
          0.39004341570821166,
          0.38998710186968333,
          0.3898807384061975,
          0.38972506102765125,
          0.38952047278080915,
          0.38926704551650293,
          0.3889645276636499,
          0.3886123581678116,
          0.38820968633877145,
          0.387755397241679,
          0.3872481421621,
          0.3866863735791911,
          0.38606838399544646,
          0.385392347898114,
          0.3846563660683055,
          0.38385851141057536,
          0.3829968754495246,
          0.3820696146316106,
          0.3810749955802073,
          0.38001143847999685,
          0.37887755781247584,
          0.3776721997267481,
          0.37639447540744303,
          0.37504378989272386,
          0.373619865897742,
          0.3721227623100592,
          0.3705528871407474,
          0.36891100483517225,
          0.36719823796786677,
          0.3654160634633825,
          0.36356630359664494,
          0.36165111212935797,
          0.35967295603088506,
          0.35763459331056763,
          0.35553904755181825,
          0.35338957978514635,
          0.3511896583666495,
          0.3489429275400151,
          0.3466531753538392,
          0.34432430158269195,
          0.34196028626093306,
          0.339565159384349,
          0.33714297226817413,
          0.33469777097324077,
          0.3322335721273891,
          0.3297543413795671,
          0.32726397463204093,
          0.3247662821046175,
          0.32226497519646846,
          0.31976365602857193,
          0.31726580947528005,
          0.3147747974290636,
          0.31229385498972084,
          0.30982608822950486,
          0.3073744731595044,
          0.3049418555105701,
          0.3025309509440012,
          0.3001443453225642,
          0.2977844947002607,
          0.2954537247283007,
          0.293154229223332,
          0.2908880677002721,
          0.2886571617340162,
          0.2864632900796728,
          0.2843080825475939,
          0.28219301269512,
          0.2801193894595459,
          0.27808834791439035,
          0.2761008393818848,
          0.2741576211772067,
          0.27225924629319004,
          0.2704060533571872,
          0.2685981572039093,
          0.2668354404092453,
          0.26511754612039945,
          0.26344387249766427,
          0.2618135690534942,
          0.26022553513629887,
          0.25867842076074066,
          0.2571706299347169,
          0.25570032657716185,
          0.2542654430619245,
          0.25286369136291603,
          0.25149257671610836,
          0.25014941365636584,
          0.24883134423299896,
          0.24753535815867342,
          0.24625831460309183,
          0.24499696530667206,
          0.24374797866109554,
          0.24250796438366456,
          0.24127349840126402,
          0.24004114755751807,
          0.23880749376340452,
          0.23756915722685865,
          0.2363228184203167,
          0.23506523847606067,
          0.2337932777368497,
          0.23250391223271835,
          0.23119424790294602,
          0.22986153243392327,
          0.22850316463775758,
          0.22711670135173856,
          0.22569986189396465,
          0.22425053016428412,
          0.2227667545310039,
          0.22124674569143052,
          0.21968887273715332,
          0.21809165769208655,
          0.2164537688218235,
          0.21477401303608354,
          0.21305132772143479,
          0.2112847723486277,
          0.2094735201975942,
          0.20761685053342674,
          0.20571414154859938,
          0.20376486436071667,
          0.2017685783216879,
          0.19972492785415386,
          0.19763364098513878,
          0.1954945296962507,
          0.19330749215552365,
          0.1910725168393923,
          0.18878968849567856,
          0.18645919584122733,
          0.18408134083231917,
          0.1816565492936221,
          0.17918538264347528,
          0.17666855041099883,
          0.17410692320495874,
          0.17150154576642043,
          0.16885364971781597,
          0.16616466561062093,
          0.1634362338728128,
          0.16067021426574604,
          0.1578686934779208,
          0.15503399051006572,
          0.15216865954135722,
          0.14927549000979395,
          0.1463575036897109,
          0.14341794860508422,
          0.140460289677407,
          0.13748819607011512,
          0.13450552525648038,
          0.13151630390304286,
          0.12852470572465377,
          0.12553502652862356,
          0.12255165672300286,
          0.1195790516164749,
          0.11662169988359863,
          0.11368409060832539,
          0.11077067935004353,
          0.10788585369933662,
          0.1050338988048048,
          0.1022189633575125,
          0.09944502651591956,
          0.09671586624172838,
          0.09403502949631387,
          0.09140580471883092,
          0.08883119697140344,
          0.08631390609476026,
          0.08385630817021786,
          0.081460440531961,
          0.07912799051816652,
          0.07686028809170571,
          0.07465830240198672,
          0.0725226423000159,
          0.07045356075997382,
          0.06845096310347705,
          0.06651441886815575,
          0.06464317711101748,
          0.06283618489008869,
          0.06109210862564189,
          0.05940935800552443,
          0.057786112068168034,
          0.05622034707211794,
          0.05470986574267838,
          0.0532523274746423,
          0.05184527906514038,
          0.05048618555235972,
          0.04917246074407513,
          0.047901497034414736,
          0.046670694127659576,
          0.045477486313788264,
          0.044319367971397974,
          0.04319391700899404,
          0.04209881599483253,
          0.04103187076779415,
          0.03999102636646626,
          0.03897438015991104,
          0.037980192110714024,
          0.03700689214804253,
          0.036053084674765944,
          0.03511755027744274,
          0.0341992447503748,
          0.03329729558427628,
          0.03241099610574127,
          0.03153979748503314,
          0.0306832988562812,
          0.029841235815536184,
          0.02901346757802244,
          0.02819996308614654,
          0.02740078636429929,
          0.026616081415291537,
          0.025846056946538503,
          0.02509097120215143,
          0.024351117160288645,
          0.0236268083339488,
          0.02291836538843566,
          0.02222610376062433,
          0.02155032243462722,
          0.020891293996228195,
          0.020249256055299453,
          0.019624404092097186,
          0.01901688575060727,
          0.01842679657069434,
          0.017854177121360466,
          0.01729901147054696,
          0.016761226903116443,
          0.016240694778371093,
          0.01573723240200021,
          0.015250605774927931,
          0.014780533073248541,
          0.01432668870927568,
          0.013888707823589568,
          0.013466191061607362,
          0.013058709495332796,
          0.012665809561161612,
          0.01228701789747361,
          0.011921845980728665,
          0.011569794475346836,
          0.011230357230241418,
          0.010903024872915015,
          0.010587287969974308,
          0.010282639740254616,
          0.009988578322984836,
          0.009704608618157579,
          0.009430243729139491,
          0.009165006048284241,
          0.008908428034703394,
          0.008660052739281773,
          0.008419434135470423,
          0.008186137315389343,
          0.007959738609448182,
          0.007739825684234252,
          0.007525997668065618,
          0.007317865346664242,
          0.007115051463194174,
          0.006917191147793786,
          0.006723932492073779,
          0.0065349372742217185,
          0.006349881830705521,
          0.006168458061431971,
          0.005990374546893983,
          0.005815357748587981,
          0.005643153258012475,
          0.005473527055029939,
          0.005306266733389598,
          0.005141182649818955,
          0.004978108953290168,
          0.00481690445279738
         ],
         "yaxis": "y"
        },
        {
         "legendgroup": "distplot",
         "marker": {
          "color": "rgb(31, 119, 180)",
          "symbol": "line-ns-open"
         },
         "mode": "markers",
         "name": "distplot",
         "showlegend": false,
         "type": "scatter",
         "x": [
          0.6233526139350194,
          0.9067248474598523,
          0.8851803747760171,
          -1.466408478815326,
          -0.414445698491945,
          -1.0499788057500896,
          -1.3681465250001361,
          0.9086548592466442,
          -0.29973270427588505,
          -0.48756940611008276,
          0.4113221479048586,
          -0.8680421031635495,
          1.437869830436381,
          0.9128694438871497,
          0.2843753716292588,
          0.13620276384288285,
          0.3640516196205729,
          -0.8291614376348568,
          -0.4721769713646088,
          1.8960415251470888,
          1.1966048015800292,
          -0.2514611688005337,
          0.08133834974369562,
          -1.1646812784272755,
          0.23442625119518207,
          -0.48918962357700185,
          1.2867834078891194,
          0.3829865813435284,
          -1.809684089756509,
          0.8496398010678085,
          -1.4816465830389747,
          0.4715406183015713,
          -1.1024665719522901,
          0.2118631210515407,
          -1.4222040737307824,
          1.461082412737266,
          -1.0365573771453684,
          2.2828039806041858,
          -0.12587473047477296,
          -0.780156455674189,
          0.5415324482868853,
          1.2206141377875956,
          -0.34948835783852655,
          0.9734529280390826,
          -0.840014079475631,
          -0.3744281938883881,
          0.24349069696461342,
          -0.9254542457172449,
          -1.5051402588347278,
          0.5937695470578489,
          0.5625512941382717,
          1.1133938186788053,
          1.454684232315281,
          1.073795108689995,
          -2.518614190385078,
          0.679251482292472,
          1.048269162314245,
          0.9118510751544809,
          1.2025243905135559,
          0.5801725393470045,
          1.186382516599771,
          0.09020752606721964,
          -1.3842798858518441,
          0.19603394788977554,
          0.15462941494686017,
          -0.8603978915034414,
          -1.4648392390220102,
          0.43353470315812437,
          -0.965039545341972,
          -0.6092262816466112,
          0.15761391903762853,
          0.41195444676141246,
          -0.5390954610456314,
          0.21186896656792722,
          -0.5484073323894619,
          1.4930127422317718,
          -0.3810648133363724,
          0.7268780021901061,
          0.05873709085930215,
          0.018446718695566414,
          -1.7290639496162454,
          0.9363751765255192,
          -0.5131001460782538,
          0.8882581078065187,
          -0.029343659740048527,
          -0.6754870985974409,
          1.5958046362154108,
          -2.1436085963223688,
          -0.1581958779663327,
          -0.23360461099664678,
          0.5079813165771442,
          0.061647670542047193,
          0.02899641655288117,
          -0.27275234337333293,
          0.49148756495672685,
          -0.545564692689696,
          -1.2163141396240653,
          -0.5490862359111989,
          0.19817083096797475,
          -1.251120933190873,
          1.2754549416064147,
          0.5201220149587816,
          1.703677267737057,
          -0.3859085935586467,
          1.289550517646563,
          1.9493326885488858,
          0.2575857167374429,
          1.0463839837335251,
          -0.9148366148308742,
          0.10979583869198205,
          1.2487376434365287,
          0.16097245546308592,
          1.4970703358059638,
          -0.5328154974567333,
          0.24933537540142459,
          -1.1554948685751172,
          1.326088400529831,
          0.27360584867356375,
          1.3000321370699883,
          1.1007093054179364,
          1.47491401679232,
          0.45569976983626465,
          0.8242964040954547,
          -1.9115678045116804,
          -0.7683689771562254,
          2.569031379677878,
          -0.5502062325947774,
          0.14525532044194114,
          1.4849040954462365,
          1.2141054375267366,
          -0.5046638174830159,
          -1.9774671911455777,
          1.5045327329378784,
          -0.21448251633690846,
          -1.3148528000099005,
          -0.6439669381412921,
          -0.050858975246559676,
          -0.07345367941524701,
          -0.2598365867622153,
          -0.49820437874123846,
          0.7209982931194726,
          -0.6010035254864129,
          -0.8359618172118304,
          0.6685142566741921,
          -0.8549479113752453,
          0.17383926260001462,
          -0.7133866708484186,
          -0.7881346399098011,
          -0.36831996791686744,
          1.1829493357226295,
          -0.2487406283367975,
          -1.7297442178642868,
          -1.8865407931968012,
          0.5770418702730062,
          -1.659245064924603,
          -1.0524671859933932,
          -1.4016617658129527,
          -0.21936773114228972,
          -0.40562462722379694,
          0.3815064200968714,
          0.35380644127916017,
          -0.8338795003409651,
          -0.22872943777564095,
          0.8105391196387309,
          0.26428977081692445,
          0.16849596506718073,
          1.0171683381258418,
          -1.1781627377796096,
          -0.17480249462195852,
          -0.7634184356183022,
          -1.5393176955964147,
          0.024669128326639166,
          0.41218641752377033,
          -0.4919363137068542,
          0.3065084785596051,
          -0.2291943176687184,
          0.6205108733654127,
          0.3593364025922371,
          -1.650147595314175,
          0.043174880210605344,
          0.2096626354549207,
          2.085213049091023,
          -0.5103154087297688,
          -1.1974835730423528,
          -0.666432975557448,
          0.538543404308083,
          0.8702636938921363,
          -1.2913153414523402,
          -1.370368691313329,
          1.5748335089329797,
          -0.8762442222875836,
          -1.2609977940593446,
          -0.5963628095815733,
          -2.330427455321188,
          1.1711318257554326,
          0.7160059704885667,
          -0.4594928936561709,
          0.7771671101596741,
          0.09823855815031196,
          -0.22344982541667988,
          0.29387560144895947,
          0.3291280353666465,
          -0.051071115968564076,
          0.13341746589326034,
          -0.12365319694134441,
          0.1775156352275807,
          -1.0691097802331424,
          1.4170214665226617,
          -0.3247983656941301,
          -0.2590251047848042,
          0.22338565986904263,
          -0.3114032961816832,
          0.026772004423545114,
          -1.4558863531980546,
          1.089772789690165,
          -1.6944202445489271,
          0.21884522189856107,
          -1.1973030201521513,
          -0.5305466873611654,
          -1.076734230805046,
          -0.1473713769196377,
          0.7448467895993588,
          -1.1113428034779587,
          1.4924339675128127,
          -1.0108388680528964,
          -2.1861405898330553,
          0.9731037364329638,
          1.2908304728207771,
          -0.7998631914988328,
          -1.1407050077534802,
          1.2405755382051826,
          1.3728055380364457,
          0.4190397274938382,
          0.9857300794662013,
          -3.0464673743170083,
          1.7509074055239857,
          0.6474479624587347,
          -0.37082345979352827,
          -0.4255299803701556,
          0.4232954414027798,
          0.008519878345758044,
          0.2008678927344371,
          0.26010456010248373,
          -0.19977039735196242,
          -0.40995204592761353,
          -0.1250879294125591,
          -0.17052502274399783,
          2.6366382833612243,
          1.524795233695693,
          1.9567982744510852,
          0.5437122654563594,
          -1.2077445838494767,
          0.5835794413173945,
          0.9400345505985225,
          1.2504056860218338,
          0.04678806846541619,
          1.647561509730829,
          -0.1484822805272847,
          -0.043586109061859515,
          -1.0932886088707305,
          -0.5661236197137396,
          1.1849272750183943,
          -0.18981491237601167,
          1.1721896987839966,
          -0.4129757642686217,
          -0.5533581375118636,
          -0.2303108694322721,
          0.1247736036599438,
          0.23778635285790697,
          -1.5880212908071056,
          -1.4744215890963017,
          -0.06499531592700422,
          -1.5101623046037136,
          1.5332904718182727,
          -1.3499487518760742,
          -0.3823385298680641,
          -0.9620728766162608,
          -0.17927362049565734,
          -1.919593013229052,
          -0.5097925485262284,
          -0.8002186547790602,
          -0.5883453933020418,
          1.1259024609129336,
          -0.572678215602561,
          1.2538189608685415,
          0.04055863895940852,
          1.0042777108415022,
          0.6748884582154256,
          -1.1917066587861187,
          0.5429382900934966,
          -0.6894647074721509,
          0.3435799690561133,
          -0.11150964865377727,
          0.34435541746492687,
          -2.714758952221109,
          -0.9586584344343279,
          0.17374514319775664,
          0.1869271180033312,
          -0.9722726980507245,
          0.21182592649897677,
          -0.8250355941986933,
          -1.1235831644438288,
          -1.5914671659523447,
          -0.2788200411686967,
          -0.8106619310153462,
          -0.5913670552287257,
          0.010733334108603873,
          1.1053488890866805,
          -1.0247272312980236,
          0.09960484548844437,
          0.18651287921712134,
          0.6193449825182824,
          -0.5320078026080463,
          -0.36205276072580744,
          0.09434305321022683,
          -0.0017209969071922693,
          0.127266455920391,
          0.015588047802465565,
          1.7512810925852378,
          -0.11430347929272366,
          -0.2490274685950862,
          1.77786024704196,
          1.7051356652837077,
          0.18594937569414538,
          1.5288257773362275,
          0.9180575954862211,
          -0.5118730229307109,
          -0.5399050582838427,
          -0.13850186777046086,
          0.22268019941872522,
          -0.3930161528691011,
          -1.3346962998968368,
          0.595522730775883,
          0.5996952908533403,
          -0.09112903095678869,
          0.9328394993172643,
          0.07329162314134485,
          0.325006871182917,
          1.0489460420679895,
          0.20606919837951074,
          0.036974006729643974,
          2.094142188128602,
          -1.1652404907949907,
          0.33118391208128967,
          -0.9581537374416135,
          -1.0745255669174991,
          -0.8256929716983487,
          0.5050102296191795,
          -0.007248083835302973,
          0.7783605314972553,
          0.1521879535633717,
          -0.20110704648739416,
          -0.08929101179484653,
          0.48171942188254424,
          -0.8010581885253298,
          -0.9159446831918986,
          1.2620649197461578,
          -0.608627873464626,
          0.04435113855698292,
          1.1134629965788503,
          -1.552100777619225,
          -0.01143448520810025,
          -1.9698629986054392,
          0.7705931072070131,
          -0.2201686215904255,
          -1.0278675073704313,
          0.5642485586066186,
          -0.295205258467293,
          0.19282285485860068,
          0.8860367338360294,
          -0.2941502956191484,
          -1.3413871691951142,
          1.52991526495742,
          0.052540650276465324,
          -0.6676531179248187,
          0.9472714328223194,
          -0.87384167044813,
          -0.9786965358047772,
          0.44421168513948533,
          0.81167751132922,
          -1.9085516536332396,
          1.6149765229087247,
          0.4512505964031079,
          -0.04179624053065671,
          -0.8101534551014253,
          -0.09026174322634116,
          -0.2502222005410458,
          -0.36210444406410397,
          -0.17023686966542279,
          1.898849651934423,
          2.954277545624831,
          0.5700713918781344,
          1.4948884472981614,
          -0.19642962456682356,
          0.21288295564796214,
          0.21948083076984268,
          -0.6330852230825782,
          1.2493878998110537,
          -0.6563760552473017,
          -1.0009222401425377,
          0.2654599941271236,
          -0.510993041028285,
          0.33672831516318336,
          0.19439040316216247,
          -0.43675335268978327,
          1.8350126322512044,
          -0.9634958006059798,
          -1.4160290917799843,
          -1.2002563866242333,
          -0.09790760723117785,
          -0.08921361518753883,
          -0.575366055985663,
          -0.9682146589617032,
          -1.1303751431064237,
          0.17615278083438687,
          -0.610384886575836,
          -0.1987734481182424,
          -0.45985769269020205,
          0.8660961922942823,
          1.653244680200378,
          0.5245968629305342,
          -0.4015911346229023,
          -0.20785241160131707,
          0.48077390679315785,
          -0.32949208350854525,
          -0.19809229257551783,
          -0.7415949350029123,
          1.110914982823379,
          -0.350973977623879,
          -1.451245737432657,
          -0.18949105786540782,
          1.3377699505376854,
          0.9896874575225145,
          -0.12795380212404855,
          -0.20163968952188477,
          -0.36171154770339986,
          -0.005236360559940693,
          0.7211250475039452,
          0.16447287872935556,
          1.247063762694835,
          -0.016456280348951653,
          -0.6695819470927054,
          -2.588231509144088,
          2.1548830884907755,
          2.0846107996423986,
          0.726640053097773,
          -0.20490174452085108,
          -0.056069107713558386,
          -1.0798360798261684,
          -0.03907180570066176,
          -0.24854801772270851,
          -1.1151060634292624,
          1.1799317463822592,
          -0.2788699161709977,
          -1.524243888012886,
          1.1703801357929629,
          0.6708481327349839,
          1.5687990557809401,
          -2.5093972089915653,
          1.0710809920160813,
          1.4895330815913972,
          -1.1568759717259796,
          -1.0372778242201899,
          -1.614742713249326,
          0.5827814949077227,
          -1.3354038613720483,
          -0.2783480826170353,
          -0.9325947822790839,
          0.14455794150232235,
          1.3576557497585213,
          -0.45223479183977305,
          -1.580648911049687,
          3.0356826947941324,
          1.6721241007436003,
          2.1328459190843376,
          0.27253725159107706,
          -0.6282239922363266,
          -0.11613989754896001,
          0.41178649136014656,
          1.2910797884597216,
          1.0451133578231158,
          1.6559766809053216,
          0.14996441631018045,
          -0.6693450002860377,
          0.543047363004441,
          -1.4143204459850538,
          -0.012027996582417622,
          -0.5308983860214108,
          0.055772233320073354,
          -0.9112507081068589,
          -0.05722995128834011,
          0.519600662737254,
          -0.47893191969750887,
          0.26881097511020574,
          -1.4955176669057122,
          1.46158276152091,
          -0.908560369290642,
          0.26696825719901796,
          -1.826537365488374,
          -0.5024770298415416,
          -0.6022868080054699,
          -2.1164767910346205,
          -0.3963714844046867,
          -1.252845648408175,
          0.29057702336081725,
          -0.3492458373653964,
          1.029385450546949,
          -1.9779071329630988,
          0.6379834097277782,
          2.242373545758867,
          -1.7602872095069941,
          -1.8913135175126352,
          1.5032464599209305,
          -0.4044868537105608,
          0.6874378993089021,
          -1.0232636510098303,
          1.5704915451798709,
          -0.9212333550425461,
          0.9081617612383222,
          1.5213700481046992,
          -2.302232049146711,
          -0.44528652827349774,
          0.5262049402262391,
          -0.11698563339380944,
          0.3898418115851575,
          -0.20931456722204433,
          -2.383318824474248,
          -0.790256060543474,
          1.0276256062309932,
          -2.933316616331166,
          1.506454391600886,
          0.7502377182616778,
          1.238607634842073,
          0.4782780288915374,
          -0.05651239505681077,
          1.8311489515520365,
          -0.507273106924066,
          1.8492418946109626,
          0.7055502506071533,
          -1.6292361944053373,
          -0.3161014351912871,
          1.202680095314057,
          0.28483007821215967,
          -0.03977003332562798,
          1.019098988457485,
          0.529893918595446,
          0.39778383467112854,
          1.38991393151277,
          -0.9351770024547346,
          -2.422731943918799,
          -0.3886106401808603,
          0.8253224360401753,
          -0.4438960879153095,
          0.0798312939825718,
          0.07941436923691228,
          -1.474933667140046,
          0.8386705994824923,
          0.04306797053526275,
          -1.0294131875171606,
          2.645711153434559,
          -0.6548400675985939,
          -0.8338298172733574,
          -0.42653407037845587,
          0.14724126964791998,
          1.5679606324876962,
          -1.081408080620175,
          1.0547363926119866,
          -0.9308651559929185,
          -0.6208352019302145,
          0.4639885421265251,
          -0.9526983828000218,
          0.26449044196220345,
          -0.6646777401160092,
          -0.7399530416695181,
          -0.6964268922455727,
          0.6388861408339894,
          0.12431130337705455,
          -0.11563128357779366,
          0.5286704843951644,
          0.24343566075825868,
          0.32485016395638827,
          0.2312228337091578,
          0.2684625192763478,
          -0.802184695666847,
          1.0150587116794947,
          0.1600135870559744,
          0.20467314957898985,
          -0.6542864017265637,
          1.1717613363971626,
          -0.5888235662149083,
          -0.2770855553969038,
          1.227126898694141,
          0.5591776663314888,
          1.6013980080340724,
          -0.009258066460099072,
          -0.28417775834167835,
          0.48401283551255964,
          0.9044037009587429,
          -0.2806983074719022,
          -0.5101489281332149,
          0.8433800059620504,
          0.8356574698438063,
          0.9780331276566349,
          2.322368141738161,
          -0.5037469542381073,
          0.46271221750209746,
          -1.0708168407282277,
          -2.1461662654578126,
          -1.1081993922862368,
          -0.5478610623259876,
          0.5384714094405807,
          -0.8868735287289908,
          -1.3096919396932354,
          0.9022578499214683,
          -0.3709781905239042,
          -0.13381147497224563,
          0.1864878772422507,
          -2.2601468576240884,
          0.4584859768708014,
          0.10397567896091753,
          0.7211101912522155,
          -0.19597038011537685,
          0.06463280882769948,
          -1.3303110085071377,
          1.0671603566024725,
          0.07346472865347568,
          0.8848774182221403,
          0.11729616528891613,
          0.3935234474674434,
          0.37296209692973536,
          1.0612790822862497,
          0.6535920500719165,
          -0.09583672164752038,
          0.7924592926835471,
          1.4072698934476071,
          -1.0869861515578227,
          -0.13241894757643638,
          1.0088951298887512,
          -1.7479832684391934,
          1.1990775461277074,
          -0.4612694208027007,
          -0.0648111746763699,
          1.297858323614923,
          0.5564672850150248,
          0.190694533905548,
          1.1369885194421145,
          -0.12937421785073844,
          -2.0851967986638447,
          0.983903327302229,
          1.8157021236293038,
          -0.48218440117289646,
          0.5627793101912122,
          0.5265121429859247,
          -1.044148641884563,
          1.423674314352565,
          -1.4400105065412196,
          -1.1273059638482605,
          -0.6541208972088768,
          1.7053652516422284,
          -0.755102144748556,
          -1.4604005242653295,
          -1.1543223387579837,
          -0.08521197920820966,
          1.3041025775178765,
          1.2130089128165633,
          -0.7127586933971833,
          0.7588581090802368,
          0.4957533012927628,
          -0.7540758101833006,
          -0.7851388991785654,
          0.09543712533001426,
          0.21546997075338034,
          0.5109956998028673,
          -1.2262311475204455,
          1.6936548632843498,
          -1.2673648843248577,
          0.992596504396897,
          0.3836596956334294,
          0.2349031358083996,
          0.6301682709131897,
          0.2676395561340468,
          1.031893347675444,
          -1.399255254424288,
          -1.957068334655531,
          -0.31718445725040517,
          0.8259777226101569,
          0.5224073601519242,
          -1.167362753835172,
          -0.7251045502216976,
          -0.2730927653331511,
          0.48993397005921663,
          -2.376408169441962,
          -0.7983471050802893,
          1.5149569401524297,
          -1.6508635728143366,
          -0.9751089331486219,
          -0.12980764442068654,
          1.4780546071490719,
          0.3149987943981122,
          0.7696467420930502,
          0.3293625976067799,
          1.141093753546772,
          -0.12667806704804108,
          0.07061241130068271,
          1.3644525702365384,
          -0.3311916556672093,
          -0.30491063114295075,
          0.21047960314820208,
          -0.8316948077963979,
          -0.34827826534177503,
          -1.8694658846992025,
          0.1626650950887597,
          -0.5376965423414197,
          0.7987547351056433,
          0.3177896140707551,
          0.3289048094913893,
          0.08475439635610074,
          1.3476313419064936,
          -0.2722984844274967,
          -0.48731230666078645,
          -0.4048143518492908,
          2.1691407954323303,
          -0.9989778280126858,
          -0.5488313282784758,
          0.03666455973505466,
          0.5977780151469657,
          -0.14491378374466085,
          1.7116967445162499,
          -0.9452269133222023,
          -0.1094795163372045,
          -0.660967992211111,
          -0.8065926377562788,
          0.34722574757940666,
          -1.866327591704192,
          -0.42348053023036847,
          -0.4645093901715932,
          -0.4383250525435481,
          0.18935972025014502,
          -0.7549227686480913,
          -0.6953839398919288,
          1.3048592700766568,
          -1.0175609841024345,
          -0.42580089635331686,
          -0.6083466831659811,
          1.0362397586354255,
          -0.7742433264328232,
          -0.5806167680389661,
          1.2256994214193093,
          -0.039735161596791996,
          0.7861351642130121,
          -0.5934659997514925,
          -1.2676742437846802,
          0.5622235315315156,
          0.07566264567710959,
          0.18505377902917422,
          -0.9369655594209287,
          1.1388656431656405,
          -2.018672549494547,
          -0.4507566134453493,
          1.143319017754394,
          -1.1943110236858137,
          1.1624986737905745,
          -0.8641622965859155,
          0.6234847021260717,
          2.5520103578421134,
          -1.1184816060632687,
          -0.4739457009467443,
          -0.3740508642881229,
          -0.6083747344842322,
          -0.000928357378303068,
          0.07979276196116174,
          0.17684444143308,
          -0.31309984568453814,
          -0.20715878609865704,
          0.6011362454812927,
          0.8834448347622781,
          -1.325524544795436,
          -0.07054842990905262,
          -0.7922185952649753,
          -1.0393633958401032,
          -1.4360375568745616,
          1.564676707698193,
          -0.6827322687071185,
          -0.6879586644277219,
          0.42993634134732883,
          -1.0161190022014501,
          -0.43514682399900106,
          -0.7399536744848739,
          -0.5835980604425968,
          0.838560795035872,
          0.4466508343010767,
          1.2980924345477167,
          0.5477500339366627,
          1.2615964306985359,
          2.1024534415685974,
          -1.677995449929631,
          1.0355877860720215,
          -0.24443330069175517,
          0.8587894447056666,
          -1.5501715149674433,
          -0.36770199801211745,
          0.7077418076124629,
          1.0672352028953105,
          -1.9342324520240255,
          -0.09850336747117625,
          -0.3470703936179095,
          0.723131812546525,
          -0.3089882790836408,
          -0.9347386212921373,
          1.7797113649118284,
          0.9863275794598165,
          0.6830443179196479,
          0.822535743209203,
          -1.6364626702431024,
          -1.152114084870933,
          0.6016049388384762,
          -0.3914281722591765,
          1.0493184238129152,
          0.5311434041452446,
          0.9880119830208269,
          0.43879422174990906,
          2.163691837556457,
          0.49614934629063306,
          -0.36520876481107445,
          -0.2074307190718948,
          1.5196946475229887,
          0.5048267252124866,
          -0.0818944018544998,
          -1.1414990272623522,
          0.8017949447657998,
          -0.20047031620654607,
          -0.5218287510448608,
          0.580721358397186,
          0.5154543944313912,
          2.2972443853911946,
          -1.3535875167745257,
          -0.60997607298154,
          -1.0812585901414937,
          -1.199400215642898,
          -1.0872926451276461,
          -1.493294445586894,
          -0.0031317010439877047,
          0.666366024616468,
          -1.2933186643191519,
          -0.7300846383484654,
          -0.19891020509623192,
          1.191652040811568,
          0.3572071398019671,
          0.26711079327759074,
          1.893401209461958,
          -0.4194561718094295,
          -1.1276226389848716,
          -2.020503737065824,
          -1.387596093482009,
          -0.2547863294777174,
          1.1962882871796432,
          -1.3052044891967562,
          0.5592973923298481,
          -0.5835415173126192,
          1.0741873655215823,
          1.5126768563858901,
          -0.2527267401278723,
          -0.9173286956947209,
          0.1887989538267861,
          -0.8314518235932834,
          -0.43165803387432017,
          0.09216652284001411,
          -0.8738114975128806,
          -2.19933728305094,
          -0.7562598668568771,
          1.2399765229594162,
          -1.3352739486509666,
          -0.22530326022724154,
          0.8709315986912683,
          0.3049275796581673,
          -0.7727662334339318,
          0.4559367416043955,
          1.4819173049095773,
          0.7862175169954948,
          0.04669740886022405,
          -0.8181803942784315,
          1.5161946698905642,
          1.3652679421752758,
          0.13309845130123646,
          0.21190672379902073,
          -0.9452607656433611,
          -0.45618745833542096,
          -0.32455143294300737,
          -0.3546720239865432,
          1.5497343386998939,
          -0.2725334187420102,
          0.9371204491913053,
          0.02071281666737501,
          -0.2955005430626251,
          -1.8891071067588294,
          -0.5237238378209247,
          0.09839323924148498,
          0.024403709160286842,
          1.2742724798764384,
          -0.8562906704141777,
          -0.6218010990882349,
          -1.9229989087020523,
          0.024376259617392877,
          0.022371530211207052,
          0.35358839224777183,
          -0.4638529751127879,
          -0.743744794312701,
          0.25569452671917886,
          -0.5208645896652299,
          -1.6618681373711637,
          -0.2699637949844495,
          0.19458940927113252,
          0.8919310079419164,
          0.9486296604206207,
          -0.37382060520884913,
          -1.9637849292565526,
          -0.5058719113369317,
          -1.175961968431568,
          -1.1010226018199334,
          -0.6527692842752109,
          0.5660158503768045,
          -0.43923899644672887,
          0.5589642776424282,
          -0.9981625374394969,
          1.1720292784110105,
          -0.6810816715133595,
          -0.15431882713933737,
          1.5812311124022913,
          1.50261887231924,
          -0.008816674238596764,
          0.7528686942938932,
          0.1613350825642084,
          0.12694271694500292,
          0.09916073031521562,
          0.11684440795364856,
          -1.0915128660288067,
          0.5413772984268785,
          0.6396994188903378,
          -0.20238664678171048,
          1.3986087825745337,
          1.361066751976469,
          1.3804485051203756,
          2.2020134817126022,
          0.08861330842383813,
          -0.2347408541766909,
          0.8834374448840451,
          0.3787851676768071,
          -0.9040480978265311,
          -0.21275471187785414,
          -0.3248612030454667,
          0.7039735270460256,
          -0.2815703630360607,
          -1.669277291679208,
          2.0348425547342104,
          -0.8226947550077292,
          -0.8910837893998875,
          -0.3366570180568158,
          -0.5407276435241813,
          0.7694876621208045,
          1.0580190818246915,
          -1.2881897217017693,
          0.13351959126584284,
          -1.8376457299573414,
          -0.3528759809370565,
          0.9599598513596644,
          0.6231028750386897,
          1.566380599842844,
          -0.4931068564920486,
          -0.04923288452035715,
          0.24532513446511225,
          -1.25781032799594,
          -0.6273055062319933,
          0.48599763243928823,
          -0.3517097056611434,
          0.7424358765211471,
          -0.13965261032681456,
          -0.07167716044795869,
          -0.6382736179190442,
          -1.3190014887645352,
          0.8541702420644345,
          -1.117110442434193,
          -0.26067315295096477,
          0.44867685587827194,
          0.13306882057376254,
          2.099096084185436,
          -0.6312047714634271,
          -2.4764848283475134,
          -1.084788086899768,
          0.6691100133884783,
          1.0791365199364227,
          1.634259766356644,
          -1.3377501288610802,
          -0.24647997184236653,
          -0.3717942931755251,
          1.5403194900101873,
          -0.5280048051690147,
          -1.0700364669044715,
          1.4368613705881055,
          1.0146658926009255,
          -1.5166979709717894
         ],
         "xaxis": "x",
         "y": [
          "distplot",
          "distplot",
          "distplot",
          "distplot",
          "distplot",
          "distplot",
          "distplot",
          "distplot",
          "distplot",
          "distplot",
          "distplot",
          "distplot",
          "distplot",
          "distplot",
          "distplot",
          "distplot",
          "distplot",
          "distplot",
          "distplot",
          "distplot",
          "distplot",
          "distplot",
          "distplot",
          "distplot",
          "distplot",
          "distplot",
          "distplot",
          "distplot",
          "distplot",
          "distplot",
          "distplot",
          "distplot",
          "distplot",
          "distplot",
          "distplot",
          "distplot",
          "distplot",
          "distplot",
          "distplot",
          "distplot",
          "distplot",
          "distplot",
          "distplot",
          "distplot",
          "distplot",
          "distplot",
          "distplot",
          "distplot",
          "distplot",
          "distplot",
          "distplot",
          "distplot",
          "distplot",
          "distplot",
          "distplot",
          "distplot",
          "distplot",
          "distplot",
          "distplot",
          "distplot",
          "distplot",
          "distplot",
          "distplot",
          "distplot",
          "distplot",
          "distplot",
          "distplot",
          "distplot",
          "distplot",
          "distplot",
          "distplot",
          "distplot",
          "distplot",
          "distplot",
          "distplot",
          "distplot",
          "distplot",
          "distplot",
          "distplot",
          "distplot",
          "distplot",
          "distplot",
          "distplot",
          "distplot",
          "distplot",
          "distplot",
          "distplot",
          "distplot",
          "distplot",
          "distplot",
          "distplot",
          "distplot",
          "distplot",
          "distplot",
          "distplot",
          "distplot",
          "distplot",
          "distplot",
          "distplot",
          "distplot",
          "distplot",
          "distplot",
          "distplot",
          "distplot",
          "distplot",
          "distplot",
          "distplot",
          "distplot",
          "distplot",
          "distplot",
          "distplot",
          "distplot",
          "distplot",
          "distplot",
          "distplot",
          "distplot",
          "distplot",
          "distplot",
          "distplot",
          "distplot",
          "distplot",
          "distplot",
          "distplot",
          "distplot",
          "distplot",
          "distplot",
          "distplot",
          "distplot",
          "distplot",
          "distplot",
          "distplot",
          "distplot",
          "distplot",
          "distplot",
          "distplot",
          "distplot",
          "distplot",
          "distplot",
          "distplot",
          "distplot",
          "distplot",
          "distplot",
          "distplot",
          "distplot",
          "distplot",
          "distplot",
          "distplot",
          "distplot",
          "distplot",
          "distplot",
          "distplot",
          "distplot",
          "distplot",
          "distplot",
          "distplot",
          "distplot",
          "distplot",
          "distplot",
          "distplot",
          "distplot",
          "distplot",
          "distplot",
          "distplot",
          "distplot",
          "distplot",
          "distplot",
          "distplot",
          "distplot",
          "distplot",
          "distplot",
          "distplot",
          "distplot",
          "distplot",
          "distplot",
          "distplot",
          "distplot",
          "distplot",
          "distplot",
          "distplot",
          "distplot",
          "distplot",
          "distplot",
          "distplot",
          "distplot",
          "distplot",
          "distplot",
          "distplot",
          "distplot",
          "distplot",
          "distplot",
          "distplot",
          "distplot",
          "distplot",
          "distplot",
          "distplot",
          "distplot",
          "distplot",
          "distplot",
          "distplot",
          "distplot",
          "distplot",
          "distplot",
          "distplot",
          "distplot",
          "distplot",
          "distplot",
          "distplot",
          "distplot",
          "distplot",
          "distplot",
          "distplot",
          "distplot",
          "distplot",
          "distplot",
          "distplot",
          "distplot",
          "distplot",
          "distplot",
          "distplot",
          "distplot",
          "distplot",
          "distplot",
          "distplot",
          "distplot",
          "distplot",
          "distplot",
          "distplot",
          "distplot",
          "distplot",
          "distplot",
          "distplot",
          "distplot",
          "distplot",
          "distplot",
          "distplot",
          "distplot",
          "distplot",
          "distplot",
          "distplot",
          "distplot",
          "distplot",
          "distplot",
          "distplot",
          "distplot",
          "distplot",
          "distplot",
          "distplot",
          "distplot",
          "distplot",
          "distplot",
          "distplot",
          "distplot",
          "distplot",
          "distplot",
          "distplot",
          "distplot",
          "distplot",
          "distplot",
          "distplot",
          "distplot",
          "distplot",
          "distplot",
          "distplot",
          "distplot",
          "distplot",
          "distplot",
          "distplot",
          "distplot",
          "distplot",
          "distplot",
          "distplot",
          "distplot",
          "distplot",
          "distplot",
          "distplot",
          "distplot",
          "distplot",
          "distplot",
          "distplot",
          "distplot",
          "distplot",
          "distplot",
          "distplot",
          "distplot",
          "distplot",
          "distplot",
          "distplot",
          "distplot",
          "distplot",
          "distplot",
          "distplot",
          "distplot",
          "distplot",
          "distplot",
          "distplot",
          "distplot",
          "distplot",
          "distplot",
          "distplot",
          "distplot",
          "distplot",
          "distplot",
          "distplot",
          "distplot",
          "distplot",
          "distplot",
          "distplot",
          "distplot",
          "distplot",
          "distplot",
          "distplot",
          "distplot",
          "distplot",
          "distplot",
          "distplot",
          "distplot",
          "distplot",
          "distplot",
          "distplot",
          "distplot",
          "distplot",
          "distplot",
          "distplot",
          "distplot",
          "distplot",
          "distplot",
          "distplot",
          "distplot",
          "distplot",
          "distplot",
          "distplot",
          "distplot",
          "distplot",
          "distplot",
          "distplot",
          "distplot",
          "distplot",
          "distplot",
          "distplot",
          "distplot",
          "distplot",
          "distplot",
          "distplot",
          "distplot",
          "distplot",
          "distplot",
          "distplot",
          "distplot",
          "distplot",
          "distplot",
          "distplot",
          "distplot",
          "distplot",
          "distplot",
          "distplot",
          "distplot",
          "distplot",
          "distplot",
          "distplot",
          "distplot",
          "distplot",
          "distplot",
          "distplot",
          "distplot",
          "distplot",
          "distplot",
          "distplot",
          "distplot",
          "distplot",
          "distplot",
          "distplot",
          "distplot",
          "distplot",
          "distplot",
          "distplot",
          "distplot",
          "distplot",
          "distplot",
          "distplot",
          "distplot",
          "distplot",
          "distplot",
          "distplot",
          "distplot",
          "distplot",
          "distplot",
          "distplot",
          "distplot",
          "distplot",
          "distplot",
          "distplot",
          "distplot",
          "distplot",
          "distplot",
          "distplot",
          "distplot",
          "distplot",
          "distplot",
          "distplot",
          "distplot",
          "distplot",
          "distplot",
          "distplot",
          "distplot",
          "distplot",
          "distplot",
          "distplot",
          "distplot",
          "distplot",
          "distplot",
          "distplot",
          "distplot",
          "distplot",
          "distplot",
          "distplot",
          "distplot",
          "distplot",
          "distplot",
          "distplot",
          "distplot",
          "distplot",
          "distplot",
          "distplot",
          "distplot",
          "distplot",
          "distplot",
          "distplot",
          "distplot",
          "distplot",
          "distplot",
          "distplot",
          "distplot",
          "distplot",
          "distplot",
          "distplot",
          "distplot",
          "distplot",
          "distplot",
          "distplot",
          "distplot",
          "distplot",
          "distplot",
          "distplot",
          "distplot",
          "distplot",
          "distplot",
          "distplot",
          "distplot",
          "distplot",
          "distplot",
          "distplot",
          "distplot",
          "distplot",
          "distplot",
          "distplot",
          "distplot",
          "distplot",
          "distplot",
          "distplot",
          "distplot",
          "distplot",
          "distplot",
          "distplot",
          "distplot",
          "distplot",
          "distplot",
          "distplot",
          "distplot",
          "distplot",
          "distplot",
          "distplot",
          "distplot",
          "distplot",
          "distplot",
          "distplot",
          "distplot",
          "distplot",
          "distplot",
          "distplot",
          "distplot",
          "distplot",
          "distplot",
          "distplot",
          "distplot",
          "distplot",
          "distplot",
          "distplot",
          "distplot",
          "distplot",
          "distplot",
          "distplot",
          "distplot",
          "distplot",
          "distplot",
          "distplot",
          "distplot",
          "distplot",
          "distplot",
          "distplot",
          "distplot",
          "distplot",
          "distplot",
          "distplot",
          "distplot",
          "distplot",
          "distplot",
          "distplot",
          "distplot",
          "distplot",
          "distplot",
          "distplot",
          "distplot",
          "distplot",
          "distplot",
          "distplot",
          "distplot",
          "distplot",
          "distplot",
          "distplot",
          "distplot",
          "distplot",
          "distplot",
          "distplot",
          "distplot",
          "distplot",
          "distplot",
          "distplot",
          "distplot",
          "distplot",
          "distplot",
          "distplot",
          "distplot",
          "distplot",
          "distplot",
          "distplot",
          "distplot",
          "distplot",
          "distplot",
          "distplot",
          "distplot",
          "distplot",
          "distplot",
          "distplot",
          "distplot",
          "distplot",
          "distplot",
          "distplot",
          "distplot",
          "distplot",
          "distplot",
          "distplot",
          "distplot",
          "distplot",
          "distplot",
          "distplot",
          "distplot",
          "distplot",
          "distplot",
          "distplot",
          "distplot",
          "distplot",
          "distplot",
          "distplot",
          "distplot",
          "distplot",
          "distplot",
          "distplot",
          "distplot",
          "distplot",
          "distplot",
          "distplot",
          "distplot",
          "distplot",
          "distplot",
          "distplot",
          "distplot",
          "distplot",
          "distplot",
          "distplot",
          "distplot",
          "distplot",
          "distplot",
          "distplot",
          "distplot",
          "distplot",
          "distplot",
          "distplot",
          "distplot",
          "distplot",
          "distplot",
          "distplot",
          "distplot",
          "distplot",
          "distplot",
          "distplot",
          "distplot",
          "distplot",
          "distplot",
          "distplot",
          "distplot",
          "distplot",
          "distplot",
          "distplot",
          "distplot",
          "distplot",
          "distplot",
          "distplot",
          "distplot",
          "distplot",
          "distplot",
          "distplot",
          "distplot",
          "distplot",
          "distplot",
          "distplot",
          "distplot",
          "distplot",
          "distplot",
          "distplot",
          "distplot",
          "distplot",
          "distplot",
          "distplot",
          "distplot",
          "distplot",
          "distplot",
          "distplot",
          "distplot",
          "distplot",
          "distplot",
          "distplot",
          "distplot",
          "distplot",
          "distplot",
          "distplot",
          "distplot",
          "distplot",
          "distplot",
          "distplot",
          "distplot",
          "distplot",
          "distplot",
          "distplot",
          "distplot",
          "distplot",
          "distplot",
          "distplot",
          "distplot",
          "distplot",
          "distplot",
          "distplot",
          "distplot",
          "distplot",
          "distplot",
          "distplot",
          "distplot",
          "distplot",
          "distplot",
          "distplot",
          "distplot",
          "distplot",
          "distplot",
          "distplot",
          "distplot",
          "distplot",
          "distplot",
          "distplot",
          "distplot",
          "distplot",
          "distplot",
          "distplot",
          "distplot",
          "distplot",
          "distplot",
          "distplot",
          "distplot",
          "distplot",
          "distplot",
          "distplot",
          "distplot",
          "distplot",
          "distplot",
          "distplot",
          "distplot",
          "distplot",
          "distplot",
          "distplot",
          "distplot",
          "distplot",
          "distplot",
          "distplot",
          "distplot",
          "distplot",
          "distplot",
          "distplot",
          "distplot",
          "distplot",
          "distplot",
          "distplot",
          "distplot",
          "distplot",
          "distplot",
          "distplot",
          "distplot",
          "distplot",
          "distplot",
          "distplot",
          "distplot",
          "distplot",
          "distplot",
          "distplot",
          "distplot",
          "distplot",
          "distplot",
          "distplot",
          "distplot",
          "distplot",
          "distplot",
          "distplot",
          "distplot",
          "distplot",
          "distplot",
          "distplot",
          "distplot",
          "distplot",
          "distplot",
          "distplot",
          "distplot",
          "distplot",
          "distplot",
          "distplot",
          "distplot",
          "distplot",
          "distplot",
          "distplot",
          "distplot",
          "distplot",
          "distplot",
          "distplot",
          "distplot",
          "distplot",
          "distplot",
          "distplot",
          "distplot",
          "distplot",
          "distplot",
          "distplot",
          "distplot",
          "distplot",
          "distplot",
          "distplot",
          "distplot",
          "distplot",
          "distplot",
          "distplot",
          "distplot",
          "distplot",
          "distplot",
          "distplot",
          "distplot",
          "distplot",
          "distplot",
          "distplot",
          "distplot",
          "distplot",
          "distplot",
          "distplot",
          "distplot",
          "distplot",
          "distplot",
          "distplot",
          "distplot",
          "distplot",
          "distplot",
          "distplot",
          "distplot",
          "distplot",
          "distplot",
          "distplot",
          "distplot",
          "distplot",
          "distplot",
          "distplot",
          "distplot",
          "distplot",
          "distplot",
          "distplot",
          "distplot",
          "distplot",
          "distplot",
          "distplot",
          "distplot",
          "distplot",
          "distplot",
          "distplot",
          "distplot",
          "distplot",
          "distplot",
          "distplot",
          "distplot",
          "distplot",
          "distplot",
          "distplot",
          "distplot",
          "distplot",
          "distplot",
          "distplot",
          "distplot",
          "distplot",
          "distplot",
          "distplot",
          "distplot",
          "distplot",
          "distplot",
          "distplot",
          "distplot",
          "distplot",
          "distplot",
          "distplot",
          "distplot",
          "distplot",
          "distplot",
          "distplot",
          "distplot",
          "distplot",
          "distplot",
          "distplot",
          "distplot",
          "distplot",
          "distplot",
          "distplot",
          "distplot",
          "distplot",
          "distplot",
          "distplot",
          "distplot",
          "distplot",
          "distplot",
          "distplot",
          "distplot",
          "distplot",
          "distplot",
          "distplot",
          "distplot",
          "distplot",
          "distplot",
          "distplot",
          "distplot",
          "distplot",
          "distplot",
          "distplot",
          "distplot",
          "distplot",
          "distplot",
          "distplot",
          "distplot",
          "distplot",
          "distplot",
          "distplot",
          "distplot",
          "distplot",
          "distplot",
          "distplot",
          "distplot",
          "distplot",
          "distplot",
          "distplot",
          "distplot",
          "distplot",
          "distplot",
          "distplot",
          "distplot",
          "distplot",
          "distplot",
          "distplot",
          "distplot",
          "distplot",
          "distplot",
          "distplot",
          "distplot",
          "distplot",
          "distplot",
          "distplot",
          "distplot",
          "distplot",
          "distplot",
          "distplot",
          "distplot",
          "distplot",
          "distplot",
          "distplot",
          "distplot",
          "distplot",
          "distplot",
          "distplot",
          "distplot",
          "distplot",
          "distplot",
          "distplot",
          "distplot",
          "distplot",
          "distplot",
          "distplot",
          "distplot",
          "distplot",
          "distplot",
          "distplot",
          "distplot",
          "distplot",
          "distplot",
          "distplot",
          "distplot",
          "distplot",
          "distplot",
          "distplot",
          "distplot",
          "distplot",
          "distplot",
          "distplot",
          "distplot",
          "distplot",
          "distplot",
          "distplot",
          "distplot",
          "distplot",
          "distplot",
          "distplot",
          "distplot",
          "distplot",
          "distplot",
          "distplot",
          "distplot",
          "distplot",
          "distplot",
          "distplot",
          "distplot",
          "distplot",
          "distplot",
          "distplot",
          "distplot",
          "distplot",
          "distplot",
          "distplot",
          "distplot",
          "distplot",
          "distplot",
          "distplot",
          "distplot",
          "distplot",
          "distplot",
          "distplot",
          "distplot",
          "distplot",
          "distplot",
          "distplot",
          "distplot",
          "distplot",
          "distplot",
          "distplot",
          "distplot",
          "distplot",
          "distplot",
          "distplot",
          "distplot",
          "distplot",
          "distplot",
          "distplot",
          "distplot",
          "distplot",
          "distplot",
          "distplot",
          "distplot",
          "distplot",
          "distplot",
          "distplot",
          "distplot",
          "distplot",
          "distplot",
          "distplot",
          "distplot",
          "distplot",
          "distplot",
          "distplot",
          "distplot",
          "distplot",
          "distplot",
          "distplot",
          "distplot",
          "distplot",
          "distplot",
          "distplot",
          "distplot",
          "distplot",
          "distplot",
          "distplot",
          "distplot",
          "distplot",
          "distplot",
          "distplot",
          "distplot"
         ],
         "yaxis": "y2"
        }
       ],
       "layout": {
        "barmode": "overlay",
        "hovermode": "closest",
        "legend": {
         "traceorder": "reversed"
        },
        "template": {
         "data": {
          "bar": [
           {
            "error_x": {
             "color": "#2a3f5f"
            },
            "error_y": {
             "color": "#2a3f5f"
            },
            "marker": {
             "line": {
              "color": "#E5ECF6",
              "width": 0.5
             }
            },
            "type": "bar"
           }
          ],
          "barpolar": [
           {
            "marker": {
             "line": {
              "color": "#E5ECF6",
              "width": 0.5
             }
            },
            "type": "barpolar"
           }
          ],
          "carpet": [
           {
            "aaxis": {
             "endlinecolor": "#2a3f5f",
             "gridcolor": "white",
             "linecolor": "white",
             "minorgridcolor": "white",
             "startlinecolor": "#2a3f5f"
            },
            "baxis": {
             "endlinecolor": "#2a3f5f",
             "gridcolor": "white",
             "linecolor": "white",
             "minorgridcolor": "white",
             "startlinecolor": "#2a3f5f"
            },
            "type": "carpet"
           }
          ],
          "choropleth": [
           {
            "colorbar": {
             "outlinewidth": 0,
             "ticks": ""
            },
            "type": "choropleth"
           }
          ],
          "contour": [
           {
            "colorbar": {
             "outlinewidth": 0,
             "ticks": ""
            },
            "colorscale": [
             [
              0,
              "#0d0887"
             ],
             [
              0.1111111111111111,
              "#46039f"
             ],
             [
              0.2222222222222222,
              "#7201a8"
             ],
             [
              0.3333333333333333,
              "#9c179e"
             ],
             [
              0.4444444444444444,
              "#bd3786"
             ],
             [
              0.5555555555555556,
              "#d8576b"
             ],
             [
              0.6666666666666666,
              "#ed7953"
             ],
             [
              0.7777777777777778,
              "#fb9f3a"
             ],
             [
              0.8888888888888888,
              "#fdca26"
             ],
             [
              1,
              "#f0f921"
             ]
            ],
            "type": "contour"
           }
          ],
          "contourcarpet": [
           {
            "colorbar": {
             "outlinewidth": 0,
             "ticks": ""
            },
            "type": "contourcarpet"
           }
          ],
          "heatmap": [
           {
            "colorbar": {
             "outlinewidth": 0,
             "ticks": ""
            },
            "colorscale": [
             [
              0,
              "#0d0887"
             ],
             [
              0.1111111111111111,
              "#46039f"
             ],
             [
              0.2222222222222222,
              "#7201a8"
             ],
             [
              0.3333333333333333,
              "#9c179e"
             ],
             [
              0.4444444444444444,
              "#bd3786"
             ],
             [
              0.5555555555555556,
              "#d8576b"
             ],
             [
              0.6666666666666666,
              "#ed7953"
             ],
             [
              0.7777777777777778,
              "#fb9f3a"
             ],
             [
              0.8888888888888888,
              "#fdca26"
             ],
             [
              1,
              "#f0f921"
             ]
            ],
            "type": "heatmap"
           }
          ],
          "heatmapgl": [
           {
            "colorbar": {
             "outlinewidth": 0,
             "ticks": ""
            },
            "colorscale": [
             [
              0,
              "#0d0887"
             ],
             [
              0.1111111111111111,
              "#46039f"
             ],
             [
              0.2222222222222222,
              "#7201a8"
             ],
             [
              0.3333333333333333,
              "#9c179e"
             ],
             [
              0.4444444444444444,
              "#bd3786"
             ],
             [
              0.5555555555555556,
              "#d8576b"
             ],
             [
              0.6666666666666666,
              "#ed7953"
             ],
             [
              0.7777777777777778,
              "#fb9f3a"
             ],
             [
              0.8888888888888888,
              "#fdca26"
             ],
             [
              1,
              "#f0f921"
             ]
            ],
            "type": "heatmapgl"
           }
          ],
          "histogram": [
           {
            "marker": {
             "colorbar": {
              "outlinewidth": 0,
              "ticks": ""
             }
            },
            "type": "histogram"
           }
          ],
          "histogram2d": [
           {
            "colorbar": {
             "outlinewidth": 0,
             "ticks": ""
            },
            "colorscale": [
             [
              0,
              "#0d0887"
             ],
             [
              0.1111111111111111,
              "#46039f"
             ],
             [
              0.2222222222222222,
              "#7201a8"
             ],
             [
              0.3333333333333333,
              "#9c179e"
             ],
             [
              0.4444444444444444,
              "#bd3786"
             ],
             [
              0.5555555555555556,
              "#d8576b"
             ],
             [
              0.6666666666666666,
              "#ed7953"
             ],
             [
              0.7777777777777778,
              "#fb9f3a"
             ],
             [
              0.8888888888888888,
              "#fdca26"
             ],
             [
              1,
              "#f0f921"
             ]
            ],
            "type": "histogram2d"
           }
          ],
          "histogram2dcontour": [
           {
            "colorbar": {
             "outlinewidth": 0,
             "ticks": ""
            },
            "colorscale": [
             [
              0,
              "#0d0887"
             ],
             [
              0.1111111111111111,
              "#46039f"
             ],
             [
              0.2222222222222222,
              "#7201a8"
             ],
             [
              0.3333333333333333,
              "#9c179e"
             ],
             [
              0.4444444444444444,
              "#bd3786"
             ],
             [
              0.5555555555555556,
              "#d8576b"
             ],
             [
              0.6666666666666666,
              "#ed7953"
             ],
             [
              0.7777777777777778,
              "#fb9f3a"
             ],
             [
              0.8888888888888888,
              "#fdca26"
             ],
             [
              1,
              "#f0f921"
             ]
            ],
            "type": "histogram2dcontour"
           }
          ],
          "mesh3d": [
           {
            "colorbar": {
             "outlinewidth": 0,
             "ticks": ""
            },
            "type": "mesh3d"
           }
          ],
          "parcoords": [
           {
            "line": {
             "colorbar": {
              "outlinewidth": 0,
              "ticks": ""
             }
            },
            "type": "parcoords"
           }
          ],
          "pie": [
           {
            "automargin": true,
            "type": "pie"
           }
          ],
          "scatter": [
           {
            "marker": {
             "colorbar": {
              "outlinewidth": 0,
              "ticks": ""
             }
            },
            "type": "scatter"
           }
          ],
          "scatter3d": [
           {
            "line": {
             "colorbar": {
              "outlinewidth": 0,
              "ticks": ""
             }
            },
            "marker": {
             "colorbar": {
              "outlinewidth": 0,
              "ticks": ""
             }
            },
            "type": "scatter3d"
           }
          ],
          "scattercarpet": [
           {
            "marker": {
             "colorbar": {
              "outlinewidth": 0,
              "ticks": ""
             }
            },
            "type": "scattercarpet"
           }
          ],
          "scattergeo": [
           {
            "marker": {
             "colorbar": {
              "outlinewidth": 0,
              "ticks": ""
             }
            },
            "type": "scattergeo"
           }
          ],
          "scattergl": [
           {
            "marker": {
             "colorbar": {
              "outlinewidth": 0,
              "ticks": ""
             }
            },
            "type": "scattergl"
           }
          ],
          "scattermapbox": [
           {
            "marker": {
             "colorbar": {
              "outlinewidth": 0,
              "ticks": ""
             }
            },
            "type": "scattermapbox"
           }
          ],
          "scatterpolar": [
           {
            "marker": {
             "colorbar": {
              "outlinewidth": 0,
              "ticks": ""
             }
            },
            "type": "scatterpolar"
           }
          ],
          "scatterpolargl": [
           {
            "marker": {
             "colorbar": {
              "outlinewidth": 0,
              "ticks": ""
             }
            },
            "type": "scatterpolargl"
           }
          ],
          "scatterternary": [
           {
            "marker": {
             "colorbar": {
              "outlinewidth": 0,
              "ticks": ""
             }
            },
            "type": "scatterternary"
           }
          ],
          "surface": [
           {
            "colorbar": {
             "outlinewidth": 0,
             "ticks": ""
            },
            "colorscale": [
             [
              0,
              "#0d0887"
             ],
             [
              0.1111111111111111,
              "#46039f"
             ],
             [
              0.2222222222222222,
              "#7201a8"
             ],
             [
              0.3333333333333333,
              "#9c179e"
             ],
             [
              0.4444444444444444,
              "#bd3786"
             ],
             [
              0.5555555555555556,
              "#d8576b"
             ],
             [
              0.6666666666666666,
              "#ed7953"
             ],
             [
              0.7777777777777778,
              "#fb9f3a"
             ],
             [
              0.8888888888888888,
              "#fdca26"
             ],
             [
              1,
              "#f0f921"
             ]
            ],
            "type": "surface"
           }
          ],
          "table": [
           {
            "cells": {
             "fill": {
              "color": "#EBF0F8"
             },
             "line": {
              "color": "white"
             }
            },
            "header": {
             "fill": {
              "color": "#C8D4E3"
             },
             "line": {
              "color": "white"
             }
            },
            "type": "table"
           }
          ]
         },
         "layout": {
          "annotationdefaults": {
           "arrowcolor": "#2a3f5f",
           "arrowhead": 0,
           "arrowwidth": 1
          },
          "coloraxis": {
           "colorbar": {
            "outlinewidth": 0,
            "ticks": ""
           }
          },
          "colorscale": {
           "diverging": [
            [
             0,
             "#8e0152"
            ],
            [
             0.1,
             "#c51b7d"
            ],
            [
             0.2,
             "#de77ae"
            ],
            [
             0.3,
             "#f1b6da"
            ],
            [
             0.4,
             "#fde0ef"
            ],
            [
             0.5,
             "#f7f7f7"
            ],
            [
             0.6,
             "#e6f5d0"
            ],
            [
             0.7,
             "#b8e186"
            ],
            [
             0.8,
             "#7fbc41"
            ],
            [
             0.9,
             "#4d9221"
            ],
            [
             1,
             "#276419"
            ]
           ],
           "sequential": [
            [
             0,
             "#0d0887"
            ],
            [
             0.1111111111111111,
             "#46039f"
            ],
            [
             0.2222222222222222,
             "#7201a8"
            ],
            [
             0.3333333333333333,
             "#9c179e"
            ],
            [
             0.4444444444444444,
             "#bd3786"
            ],
            [
             0.5555555555555556,
             "#d8576b"
            ],
            [
             0.6666666666666666,
             "#ed7953"
            ],
            [
             0.7777777777777778,
             "#fb9f3a"
            ],
            [
             0.8888888888888888,
             "#fdca26"
            ],
            [
             1,
             "#f0f921"
            ]
           ],
           "sequentialminus": [
            [
             0,
             "#0d0887"
            ],
            [
             0.1111111111111111,
             "#46039f"
            ],
            [
             0.2222222222222222,
             "#7201a8"
            ],
            [
             0.3333333333333333,
             "#9c179e"
            ],
            [
             0.4444444444444444,
             "#bd3786"
            ],
            [
             0.5555555555555556,
             "#d8576b"
            ],
            [
             0.6666666666666666,
             "#ed7953"
            ],
            [
             0.7777777777777778,
             "#fb9f3a"
            ],
            [
             0.8888888888888888,
             "#fdca26"
            ],
            [
             1,
             "#f0f921"
            ]
           ]
          },
          "colorway": [
           "#636efa",
           "#EF553B",
           "#00cc96",
           "#ab63fa",
           "#FFA15A",
           "#19d3f3",
           "#FF6692",
           "#B6E880",
           "#FF97FF",
           "#FECB52"
          ],
          "font": {
           "color": "#2a3f5f"
          },
          "geo": {
           "bgcolor": "white",
           "lakecolor": "white",
           "landcolor": "#E5ECF6",
           "showlakes": true,
           "showland": true,
           "subunitcolor": "white"
          },
          "hoverlabel": {
           "align": "left"
          },
          "hovermode": "closest",
          "mapbox": {
           "style": "light"
          },
          "paper_bgcolor": "white",
          "plot_bgcolor": "#E5ECF6",
          "polar": {
           "angularaxis": {
            "gridcolor": "white",
            "linecolor": "white",
            "ticks": ""
           },
           "bgcolor": "#E5ECF6",
           "radialaxis": {
            "gridcolor": "white",
            "linecolor": "white",
            "ticks": ""
           }
          },
          "scene": {
           "xaxis": {
            "backgroundcolor": "#E5ECF6",
            "gridcolor": "white",
            "gridwidth": 2,
            "linecolor": "white",
            "showbackground": true,
            "ticks": "",
            "zerolinecolor": "white"
           },
           "yaxis": {
            "backgroundcolor": "#E5ECF6",
            "gridcolor": "white",
            "gridwidth": 2,
            "linecolor": "white",
            "showbackground": true,
            "ticks": "",
            "zerolinecolor": "white"
           },
           "zaxis": {
            "backgroundcolor": "#E5ECF6",
            "gridcolor": "white",
            "gridwidth": 2,
            "linecolor": "white",
            "showbackground": true,
            "ticks": "",
            "zerolinecolor": "white"
           }
          },
          "shapedefaults": {
           "line": {
            "color": "#2a3f5f"
           }
          },
          "ternary": {
           "aaxis": {
            "gridcolor": "white",
            "linecolor": "white",
            "ticks": ""
           },
           "baxis": {
            "gridcolor": "white",
            "linecolor": "white",
            "ticks": ""
           },
           "bgcolor": "#E5ECF6",
           "caxis": {
            "gridcolor": "white",
            "linecolor": "white",
            "ticks": ""
           }
          },
          "title": {
           "x": 0.05
          },
          "xaxis": {
           "automargin": true,
           "gridcolor": "white",
           "linecolor": "white",
           "ticks": "",
           "title": {
            "standoff": 15
           },
           "zerolinecolor": "white",
           "zerolinewidth": 2
          },
          "yaxis": {
           "automargin": true,
           "gridcolor": "white",
           "linecolor": "white",
           "ticks": "",
           "title": {
            "standoff": 15
           },
           "zerolinecolor": "white",
           "zerolinewidth": 2
          }
         }
        },
        "title": {
         "text": "Distplot showing the distribution of the generated random numbers"
        },
        "xaxis": {
         "anchor": "y2",
         "domain": [
          0,
          1
         ],
         "zeroline": false
        },
        "yaxis": {
         "anchor": "free",
         "domain": [
          0.35,
          1
         ],
         "position": 0
        },
        "yaxis2": {
         "anchor": "x",
         "domain": [
          0,
          0.25
         ],
         "dtick": 1,
         "showticklabels": false
        }
       }
      },
      "text/html": [
       "<div>\n",
       "        \n",
       "        \n",
       "            <div id=\"56ee8691-abb5-48cb-a1e1-34a22fe818c7\" class=\"plotly-graph-div\" style=\"height:525px; width:100%;\"></div>\n",
       "            <script type=\"text/javascript\">\n",
       "                require([\"plotly\"], function(Plotly) {\n",
       "                    window.PLOTLYENV=window.PLOTLYENV || {};\n",
       "                    \n",
       "                if (document.getElementById(\"56ee8691-abb5-48cb-a1e1-34a22fe818c7\")) {\n",
       "                    Plotly.newPlot(\n",
       "                        '56ee8691-abb5-48cb-a1e1-34a22fe818c7',\n",
       "                        [{\"autobinx\": false, \"histnorm\": \"probability density\", \"legendgroup\": \"distplot\", \"marker\": {\"color\": \"rgb(31, 119, 180)\"}, \"name\": \"distplot\", \"opacity\": 0.7, \"type\": \"histogram\", \"x\": [0.6233526139350194, 0.9067248474598523, 0.8851803747760171, -1.466408478815326, -0.414445698491945, -1.0499788057500896, -1.3681465250001361, 0.9086548592466442, -0.29973270427588505, -0.48756940611008276, 0.4113221479048586, -0.8680421031635495, 1.437869830436381, 0.9128694438871497, 0.2843753716292588, 0.13620276384288285, 0.3640516196205729, -0.8291614376348568, -0.4721769713646088, 1.8960415251470888, 1.1966048015800292, -0.2514611688005337, 0.08133834974369562, -1.1646812784272755, 0.23442625119518207, -0.48918962357700185, 1.2867834078891194, 0.3829865813435284, -1.809684089756509, 0.8496398010678085, -1.4816465830389747, 0.4715406183015713, -1.1024665719522901, 0.2118631210515407, -1.4222040737307824, 1.461082412737266, -1.0365573771453684, 2.2828039806041858, -0.12587473047477296, -0.780156455674189, 0.5415324482868853, 1.2206141377875956, -0.34948835783852655, 0.9734529280390826, -0.840014079475631, -0.3744281938883881, 0.24349069696461342, -0.9254542457172449, -1.5051402588347278, 0.5937695470578489, 0.5625512941382717, 1.1133938186788053, 1.454684232315281, 1.073795108689995, -2.518614190385078, 0.679251482292472, 1.048269162314245, 0.9118510751544809, 1.2025243905135559, 0.5801725393470045, 1.186382516599771, 0.09020752606721964, -1.3842798858518441, 0.19603394788977554, 0.15462941494686017, -0.8603978915034414, -1.4648392390220102, 0.43353470315812437, -0.965039545341972, -0.6092262816466112, 0.15761391903762853, 0.41195444676141246, -0.5390954610456314, 0.21186896656792722, -0.5484073323894619, 1.4930127422317718, -0.3810648133363724, 0.7268780021901061, 0.05873709085930215, 0.018446718695566414, -1.7290639496162454, 0.9363751765255192, -0.5131001460782538, 0.8882581078065187, -0.029343659740048527, -0.6754870985974409, 1.5958046362154108, -2.1436085963223688, -0.1581958779663327, -0.23360461099664678, 0.5079813165771442, 0.061647670542047193, 0.02899641655288117, -0.27275234337333293, 0.49148756495672685, -0.545564692689696, -1.2163141396240653, -0.5490862359111989, 0.19817083096797475, -1.251120933190873, 1.2754549416064147, 0.5201220149587816, 1.703677267737057, -0.3859085935586467, 1.289550517646563, 1.9493326885488858, 0.2575857167374429, 1.0463839837335251, -0.9148366148308742, 0.10979583869198205, 1.2487376434365287, 0.16097245546308592, 1.4970703358059638, -0.5328154974567333, 0.24933537540142459, -1.1554948685751172, 1.326088400529831, 0.27360584867356375, 1.3000321370699883, 1.1007093054179364, 1.47491401679232, 0.45569976983626465, 0.8242964040954547, -1.9115678045116804, -0.7683689771562254, 2.569031379677878, -0.5502062325947774, 0.14525532044194114, 1.4849040954462365, 1.2141054375267366, -0.5046638174830159, -1.9774671911455777, 1.5045327329378784, -0.21448251633690846, -1.3148528000099005, -0.6439669381412921, -0.050858975246559676, -0.07345367941524701, -0.2598365867622153, -0.49820437874123846, 0.7209982931194726, -0.6010035254864129, -0.8359618172118304, 0.6685142566741921, -0.8549479113752453, 0.17383926260001462, -0.7133866708484186, -0.7881346399098011, -0.36831996791686744, 1.1829493357226295, -0.2487406283367975, -1.7297442178642868, -1.8865407931968012, 0.5770418702730062, -1.659245064924603, -1.0524671859933932, -1.4016617658129527, -0.21936773114228972, -0.40562462722379694, 0.3815064200968714, 0.35380644127916017, -0.8338795003409651, -0.22872943777564095, 0.8105391196387309, 0.26428977081692445, 0.16849596506718073, 1.0171683381258418, -1.1781627377796096, -0.17480249462195852, -0.7634184356183022, -1.5393176955964147, 0.024669128326639166, 0.41218641752377033, -0.4919363137068542, 0.3065084785596051, -0.2291943176687184, 0.6205108733654127, 0.3593364025922371, -1.650147595314175, 0.043174880210605344, 0.2096626354549207, 2.085213049091023, -0.5103154087297688, -1.1974835730423528, -0.666432975557448, 0.538543404308083, 0.8702636938921363, -1.2913153414523402, -1.370368691313329, 1.5748335089329797, -0.8762442222875836, -1.2609977940593446, -0.5963628095815733, -2.330427455321188, 1.1711318257554326, 0.7160059704885667, -0.4594928936561709, 0.7771671101596741, 0.09823855815031196, -0.22344982541667988, 0.29387560144895947, 0.3291280353666465, -0.051071115968564076, 0.13341746589326034, -0.12365319694134441, 0.1775156352275807, -1.0691097802331424, 1.4170214665226617, -0.3247983656941301, -0.2590251047848042, 0.22338565986904263, -0.3114032961816832, 0.026772004423545114, -1.4558863531980546, 1.089772789690165, -1.6944202445489271, 0.21884522189856107, -1.1973030201521513, -0.5305466873611654, -1.076734230805046, -0.1473713769196377, 0.7448467895993588, -1.1113428034779587, 1.4924339675128127, -1.0108388680528964, -2.1861405898330553, 0.9731037364329638, 1.2908304728207771, -0.7998631914988328, -1.1407050077534802, 1.2405755382051826, 1.3728055380364457, 0.4190397274938382, 0.9857300794662013, -3.0464673743170083, 1.7509074055239857, 0.6474479624587347, -0.37082345979352827, -0.4255299803701556, 0.4232954414027798, 0.008519878345758044, 0.2008678927344371, 0.26010456010248373, -0.19977039735196242, -0.40995204592761353, -0.1250879294125591, -0.17052502274399783, 2.6366382833612243, 1.524795233695693, 1.9567982744510852, 0.5437122654563594, -1.2077445838494767, 0.5835794413173945, 0.9400345505985225, 1.2504056860218338, 0.04678806846541619, 1.647561509730829, -0.1484822805272847, -0.043586109061859515, -1.0932886088707305, -0.5661236197137396, 1.1849272750183943, -0.18981491237601167, 1.1721896987839966, -0.4129757642686217, -0.5533581375118636, -0.2303108694322721, 0.1247736036599438, 0.23778635285790697, -1.5880212908071056, -1.4744215890963017, -0.06499531592700422, -1.5101623046037136, 1.5332904718182727, -1.3499487518760742, -0.3823385298680641, -0.9620728766162608, -0.17927362049565734, -1.919593013229052, -0.5097925485262284, -0.8002186547790602, -0.5883453933020418, 1.1259024609129336, -0.572678215602561, 1.2538189608685415, 0.04055863895940852, 1.0042777108415022, 0.6748884582154256, -1.1917066587861187, 0.5429382900934966, -0.6894647074721509, 0.3435799690561133, -0.11150964865377727, 0.34435541746492687, -2.714758952221109, -0.9586584344343279, 0.17374514319775664, 0.1869271180033312, -0.9722726980507245, 0.21182592649897677, -0.8250355941986933, -1.1235831644438288, -1.5914671659523447, -0.2788200411686967, -0.8106619310153462, -0.5913670552287257, 0.010733334108603873, 1.1053488890866805, -1.0247272312980236, 0.09960484548844437, 0.18651287921712134, 0.6193449825182824, -0.5320078026080463, -0.36205276072580744, 0.09434305321022683, -0.0017209969071922693, 0.127266455920391, 0.015588047802465565, 1.7512810925852378, -0.11430347929272366, -0.2490274685950862, 1.77786024704196, 1.7051356652837077, 0.18594937569414538, 1.5288257773362275, 0.9180575954862211, -0.5118730229307109, -0.5399050582838427, -0.13850186777046086, 0.22268019941872522, -0.3930161528691011, -1.3346962998968368, 0.595522730775883, 0.5996952908533403, -0.09112903095678869, 0.9328394993172643, 0.07329162314134485, 0.325006871182917, 1.0489460420679895, 0.20606919837951074, 0.036974006729643974, 2.094142188128602, -1.1652404907949907, 0.33118391208128967, -0.9581537374416135, -1.0745255669174991, -0.8256929716983487, 0.5050102296191795, -0.007248083835302973, 0.7783605314972553, 0.1521879535633717, -0.20110704648739416, -0.08929101179484653, 0.48171942188254424, -0.8010581885253298, -0.9159446831918986, 1.2620649197461578, -0.608627873464626, 0.04435113855698292, 1.1134629965788503, -1.552100777619225, -0.01143448520810025, -1.9698629986054392, 0.7705931072070131, -0.2201686215904255, -1.0278675073704313, 0.5642485586066186, -0.295205258467293, 0.19282285485860068, 0.8860367338360294, -0.2941502956191484, -1.3413871691951142, 1.52991526495742, 0.052540650276465324, -0.6676531179248187, 0.9472714328223194, -0.87384167044813, -0.9786965358047772, 0.44421168513948533, 0.81167751132922, -1.9085516536332396, 1.6149765229087247, 0.4512505964031079, -0.04179624053065671, -0.8101534551014253, -0.09026174322634116, -0.2502222005410458, -0.36210444406410397, -0.17023686966542279, 1.898849651934423, 2.954277545624831, 0.5700713918781344, 1.4948884472981614, -0.19642962456682356, 0.21288295564796214, 0.21948083076984268, -0.6330852230825782, 1.2493878998110537, -0.6563760552473017, -1.0009222401425377, 0.2654599941271236, -0.510993041028285, 0.33672831516318336, 0.19439040316216247, -0.43675335268978327, 1.8350126322512044, -0.9634958006059798, -1.4160290917799843, -1.2002563866242333, -0.09790760723117785, -0.08921361518753883, -0.575366055985663, -0.9682146589617032, -1.1303751431064237, 0.17615278083438687, -0.610384886575836, -0.1987734481182424, -0.45985769269020205, 0.8660961922942823, 1.653244680200378, 0.5245968629305342, -0.4015911346229023, -0.20785241160131707, 0.48077390679315785, -0.32949208350854525, -0.19809229257551783, -0.7415949350029123, 1.110914982823379, -0.350973977623879, -1.451245737432657, -0.18949105786540782, 1.3377699505376854, 0.9896874575225145, -0.12795380212404855, -0.20163968952188477, -0.36171154770339986, -0.005236360559940693, 0.7211250475039452, 0.16447287872935556, 1.247063762694835, -0.016456280348951653, -0.6695819470927054, -2.588231509144088, 2.1548830884907755, 2.0846107996423986, 0.726640053097773, -0.20490174452085108, -0.056069107713558386, -1.0798360798261684, -0.03907180570066176, -0.24854801772270851, -1.1151060634292624, 1.1799317463822592, -0.2788699161709977, -1.524243888012886, 1.1703801357929629, 0.6708481327349839, 1.5687990557809401, -2.5093972089915653, 1.0710809920160813, 1.4895330815913972, -1.1568759717259796, -1.0372778242201899, -1.614742713249326, 0.5827814949077227, -1.3354038613720483, -0.2783480826170353, -0.9325947822790839, 0.14455794150232235, 1.3576557497585213, -0.45223479183977305, -1.580648911049687, 3.0356826947941324, 1.6721241007436003, 2.1328459190843376, 0.27253725159107706, -0.6282239922363266, -0.11613989754896001, 0.41178649136014656, 1.2910797884597216, 1.0451133578231158, 1.6559766809053216, 0.14996441631018045, -0.6693450002860377, 0.543047363004441, -1.4143204459850538, -0.012027996582417622, -0.5308983860214108, 0.055772233320073354, -0.9112507081068589, -0.05722995128834011, 0.519600662737254, -0.47893191969750887, 0.26881097511020574, -1.4955176669057122, 1.46158276152091, -0.908560369290642, 0.26696825719901796, -1.826537365488374, -0.5024770298415416, -0.6022868080054699, -2.1164767910346205, -0.3963714844046867, -1.252845648408175, 0.29057702336081725, -0.3492458373653964, 1.029385450546949, -1.9779071329630988, 0.6379834097277782, 2.242373545758867, -1.7602872095069941, -1.8913135175126352, 1.5032464599209305, -0.4044868537105608, 0.6874378993089021, -1.0232636510098303, 1.5704915451798709, -0.9212333550425461, 0.9081617612383222, 1.5213700481046992, -2.302232049146711, -0.44528652827349774, 0.5262049402262391, -0.11698563339380944, 0.3898418115851575, -0.20931456722204433, -2.383318824474248, -0.790256060543474, 1.0276256062309932, -2.933316616331166, 1.506454391600886, 0.7502377182616778, 1.238607634842073, 0.4782780288915374, -0.05651239505681077, 1.8311489515520365, -0.507273106924066, 1.8492418946109626, 0.7055502506071533, -1.6292361944053373, -0.3161014351912871, 1.202680095314057, 0.28483007821215967, -0.03977003332562798, 1.019098988457485, 0.529893918595446, 0.39778383467112854, 1.38991393151277, -0.9351770024547346, -2.422731943918799, -0.3886106401808603, 0.8253224360401753, -0.4438960879153095, 0.0798312939825718, 0.07941436923691228, -1.474933667140046, 0.8386705994824923, 0.04306797053526275, -1.0294131875171606, 2.645711153434559, -0.6548400675985939, -0.8338298172733574, -0.42653407037845587, 0.14724126964791998, 1.5679606324876962, -1.081408080620175, 1.0547363926119866, -0.9308651559929185, -0.6208352019302145, 0.4639885421265251, -0.9526983828000218, 0.26449044196220345, -0.6646777401160092, -0.7399530416695181, -0.6964268922455727, 0.6388861408339894, 0.12431130337705455, -0.11563128357779366, 0.5286704843951644, 0.24343566075825868, 0.32485016395638827, 0.2312228337091578, 0.2684625192763478, -0.802184695666847, 1.0150587116794947, 0.1600135870559744, 0.20467314957898985, -0.6542864017265637, 1.1717613363971626, -0.5888235662149083, -0.2770855553969038, 1.227126898694141, 0.5591776663314888, 1.6013980080340724, -0.009258066460099072, -0.28417775834167835, 0.48401283551255964, 0.9044037009587429, -0.2806983074719022, -0.5101489281332149, 0.8433800059620504, 0.8356574698438063, 0.9780331276566349, 2.322368141738161, -0.5037469542381073, 0.46271221750209746, -1.0708168407282277, -2.1461662654578126, -1.1081993922862368, -0.5478610623259876, 0.5384714094405807, -0.8868735287289908, -1.3096919396932354, 0.9022578499214683, -0.3709781905239042, -0.13381147497224563, 0.1864878772422507, -2.2601468576240884, 0.4584859768708014, 0.10397567896091753, 0.7211101912522155, -0.19597038011537685, 0.06463280882769948, -1.3303110085071377, 1.0671603566024725, 0.07346472865347568, 0.8848774182221403, 0.11729616528891613, 0.3935234474674434, 0.37296209692973536, 1.0612790822862497, 0.6535920500719165, -0.09583672164752038, 0.7924592926835471, 1.4072698934476071, -1.0869861515578227, -0.13241894757643638, 1.0088951298887512, -1.7479832684391934, 1.1990775461277074, -0.4612694208027007, -0.0648111746763699, 1.297858323614923, 0.5564672850150248, 0.190694533905548, 1.1369885194421145, -0.12937421785073844, -2.0851967986638447, 0.983903327302229, 1.8157021236293038, -0.48218440117289646, 0.5627793101912122, 0.5265121429859247, -1.044148641884563, 1.423674314352565, -1.4400105065412196, -1.1273059638482605, -0.6541208972088768, 1.7053652516422284, -0.755102144748556, -1.4604005242653295, -1.1543223387579837, -0.08521197920820966, 1.3041025775178765, 1.2130089128165633, -0.7127586933971833, 0.7588581090802368, 0.4957533012927628, -0.7540758101833006, -0.7851388991785654, 0.09543712533001426, 0.21546997075338034, 0.5109956998028673, -1.2262311475204455, 1.6936548632843498, -1.2673648843248577, 0.992596504396897, 0.3836596956334294, 0.2349031358083996, 0.6301682709131897, 0.2676395561340468, 1.031893347675444, -1.399255254424288, -1.957068334655531, -0.31718445725040517, 0.8259777226101569, 0.5224073601519242, -1.167362753835172, -0.7251045502216976, -0.2730927653331511, 0.48993397005921663, -2.376408169441962, -0.7983471050802893, 1.5149569401524297, -1.6508635728143366, -0.9751089331486219, -0.12980764442068654, 1.4780546071490719, 0.3149987943981122, 0.7696467420930502, 0.3293625976067799, 1.141093753546772, -0.12667806704804108, 0.07061241130068271, 1.3644525702365384, -0.3311916556672093, -0.30491063114295075, 0.21047960314820208, -0.8316948077963979, -0.34827826534177503, -1.8694658846992025, 0.1626650950887597, -0.5376965423414197, 0.7987547351056433, 0.3177896140707551, 0.3289048094913893, 0.08475439635610074, 1.3476313419064936, -0.2722984844274967, -0.48731230666078645, -0.4048143518492908, 2.1691407954323303, -0.9989778280126858, -0.5488313282784758, 0.03666455973505466, 0.5977780151469657, -0.14491378374466085, 1.7116967445162499, -0.9452269133222023, -0.1094795163372045, -0.660967992211111, -0.8065926377562788, 0.34722574757940666, -1.866327591704192, -0.42348053023036847, -0.4645093901715932, -0.4383250525435481, 0.18935972025014502, -0.7549227686480913, -0.6953839398919288, 1.3048592700766568, -1.0175609841024345, -0.42580089635331686, -0.6083466831659811, 1.0362397586354255, -0.7742433264328232, -0.5806167680389661, 1.2256994214193093, -0.039735161596791996, 0.7861351642130121, -0.5934659997514925, -1.2676742437846802, 0.5622235315315156, 0.07566264567710959, 0.18505377902917422, -0.9369655594209287, 1.1388656431656405, -2.018672549494547, -0.4507566134453493, 1.143319017754394, -1.1943110236858137, 1.1624986737905745, -0.8641622965859155, 0.6234847021260717, 2.5520103578421134, -1.1184816060632687, -0.4739457009467443, -0.3740508642881229, -0.6083747344842322, -0.000928357378303068, 0.07979276196116174, 0.17684444143308, -0.31309984568453814, -0.20715878609865704, 0.6011362454812927, 0.8834448347622781, -1.325524544795436, -0.07054842990905262, -0.7922185952649753, -1.0393633958401032, -1.4360375568745616, 1.564676707698193, -0.6827322687071185, -0.6879586644277219, 0.42993634134732883, -1.0161190022014501, -0.43514682399900106, -0.7399536744848739, -0.5835980604425968, 0.838560795035872, 0.4466508343010767, 1.2980924345477167, 0.5477500339366627, 1.2615964306985359, 2.1024534415685974, -1.677995449929631, 1.0355877860720215, -0.24443330069175517, 0.8587894447056666, -1.5501715149674433, -0.36770199801211745, 0.7077418076124629, 1.0672352028953105, -1.9342324520240255, -0.09850336747117625, -0.3470703936179095, 0.723131812546525, -0.3089882790836408, -0.9347386212921373, 1.7797113649118284, 0.9863275794598165, 0.6830443179196479, 0.822535743209203, -1.6364626702431024, -1.152114084870933, 0.6016049388384762, -0.3914281722591765, 1.0493184238129152, 0.5311434041452446, 0.9880119830208269, 0.43879422174990906, 2.163691837556457, 0.49614934629063306, -0.36520876481107445, -0.2074307190718948, 1.5196946475229887, 0.5048267252124866, -0.0818944018544998, -1.1414990272623522, 0.8017949447657998, -0.20047031620654607, -0.5218287510448608, 0.580721358397186, 0.5154543944313912, 2.2972443853911946, -1.3535875167745257, -0.60997607298154, -1.0812585901414937, -1.199400215642898, -1.0872926451276461, -1.493294445586894, -0.0031317010439877047, 0.666366024616468, -1.2933186643191519, -0.7300846383484654, -0.19891020509623192, 1.191652040811568, 0.3572071398019671, 0.26711079327759074, 1.893401209461958, -0.4194561718094295, -1.1276226389848716, -2.020503737065824, -1.387596093482009, -0.2547863294777174, 1.1962882871796432, -1.3052044891967562, 0.5592973923298481, -0.5835415173126192, 1.0741873655215823, 1.5126768563858901, -0.2527267401278723, -0.9173286956947209, 0.1887989538267861, -0.8314518235932834, -0.43165803387432017, 0.09216652284001411, -0.8738114975128806, -2.19933728305094, -0.7562598668568771, 1.2399765229594162, -1.3352739486509666, -0.22530326022724154, 0.8709315986912683, 0.3049275796581673, -0.7727662334339318, 0.4559367416043955, 1.4819173049095773, 0.7862175169954948, 0.04669740886022405, -0.8181803942784315, 1.5161946698905642, 1.3652679421752758, 0.13309845130123646, 0.21190672379902073, -0.9452607656433611, -0.45618745833542096, -0.32455143294300737, -0.3546720239865432, 1.5497343386998939, -0.2725334187420102, 0.9371204491913053, 0.02071281666737501, -0.2955005430626251, -1.8891071067588294, -0.5237238378209247, 0.09839323924148498, 0.024403709160286842, 1.2742724798764384, -0.8562906704141777, -0.6218010990882349, -1.9229989087020523, 0.024376259617392877, 0.022371530211207052, 0.35358839224777183, -0.4638529751127879, -0.743744794312701, 0.25569452671917886, -0.5208645896652299, -1.6618681373711637, -0.2699637949844495, 0.19458940927113252, 0.8919310079419164, 0.9486296604206207, -0.37382060520884913, -1.9637849292565526, -0.5058719113369317, -1.175961968431568, -1.1010226018199334, -0.6527692842752109, 0.5660158503768045, -0.43923899644672887, 0.5589642776424282, -0.9981625374394969, 1.1720292784110105, -0.6810816715133595, -0.15431882713933737, 1.5812311124022913, 1.50261887231924, -0.008816674238596764, 0.7528686942938932, 0.1613350825642084, 0.12694271694500292, 0.09916073031521562, 0.11684440795364856, -1.0915128660288067, 0.5413772984268785, 0.6396994188903378, -0.20238664678171048, 1.3986087825745337, 1.361066751976469, 1.3804485051203756, 2.2020134817126022, 0.08861330842383813, -0.2347408541766909, 0.8834374448840451, 0.3787851676768071, -0.9040480978265311, -0.21275471187785414, -0.3248612030454667, 0.7039735270460256, -0.2815703630360607, -1.669277291679208, 2.0348425547342104, -0.8226947550077292, -0.8910837893998875, -0.3366570180568158, -0.5407276435241813, 0.7694876621208045, 1.0580190818246915, -1.2881897217017693, 0.13351959126584284, -1.8376457299573414, -0.3528759809370565, 0.9599598513596644, 0.6231028750386897, 1.566380599842844, -0.4931068564920486, -0.04923288452035715, 0.24532513446511225, -1.25781032799594, -0.6273055062319933, 0.48599763243928823, -0.3517097056611434, 0.7424358765211471, -0.13965261032681456, -0.07167716044795869, -0.6382736179190442, -1.3190014887645352, 0.8541702420644345, -1.117110442434193, -0.26067315295096477, 0.44867685587827194, 0.13306882057376254, 2.099096084185436, -0.6312047714634271, -2.4764848283475134, -1.084788086899768, 0.6691100133884783, 1.0791365199364227, 1.634259766356644, -1.3377501288610802, -0.24647997184236653, -0.3717942931755251, 1.5403194900101873, -0.5280048051690147, -1.0700364669044715, 1.4368613705881055, 1.0146658926009255, -1.5166979709717894], \"xaxis\": \"x\", \"xbins\": {\"end\": 3.0356826947941324, \"size\": 1.0, \"start\": -3.0464673743170083}, \"yaxis\": \"y\"}, {\"legendgroup\": \"distplot\", \"marker\": {\"color\": \"rgb(31, 119, 180)\"}, \"mode\": \"lines\", \"name\": \"distplot\", \"showlegend\": false, \"type\": \"scatter\", \"x\": [-3.0464673743170083, -3.034303074178786, -3.0221387740405636, -3.0099744739023415, -2.9978101737641194, -2.985645873625897, -2.9734815734876747, -2.961317273349452, -2.94915297321123, -2.936988673073008, -2.9248243729347854, -2.9126600727965632, -2.900495772658341, -2.8883314725201186, -2.8761671723818965, -2.864002872243674, -2.8518385721054518, -2.8396742719672297, -2.827509971829007, -2.815345671690785, -2.803181371552563, -2.7910170714143403, -2.778852771276118, -2.766688471137896, -2.7545241709996735, -2.7423598708614514, -2.730195570723229, -2.7180312705850067, -2.7058669704467846, -2.693702670308562, -2.68153837017034, -2.669374070032118, -2.6572097698938952, -2.645045469755673, -2.632881169617451, -2.6207168694792284, -2.6085525693410063, -2.5963882692027838, -2.5842239690645616, -2.5720596689263395, -2.559895368788117, -2.547731068649895, -2.5355667685116723, -2.52340246837345, -2.511238168235228, -2.4990738680970055, -2.4869095679587834, -2.4747452678205613, -2.4625809676823387, -2.4504166675441166, -2.4382523674058945, -2.426088067267672, -2.41392376712945, -2.401759466991227, -2.389595166853005, -2.377430866714783, -2.3652665665765604, -2.3531022664383383, -2.340937966300116, -2.3287736661618936, -2.3166093660236715, -2.3044450658854494, -2.292280765747227, -2.2801164656090047, -2.267952165470782, -2.25578786533256, -2.243623565194338, -2.231459265056116, -2.2192949649178932, -2.2071306647796707, -2.1949663646414486, -2.1828020645032264, -2.1706377643650043, -2.1584734642267818, -2.1463091640885597, -2.134144863950337, -2.121980563812115, -2.109816263673893, -2.0976519635356707, -2.085487663397448, -2.0733233632592256, -2.0611590631210035, -2.0489947629827814, -2.0368304628445593, -2.0246661627063367, -2.012501862568114, -2.000337562429892, -1.98817326229167, -1.9760089621534476, -1.9638446620152255, -1.951680361877003, -1.9395160617387808, -1.9273517616005587, -1.915187461462336, -1.903023161324114, -1.8908588611858916, -1.8786945610476693, -1.8665302609094472, -1.8543659607712248, -1.8422016606330025, -1.8300373604947802, -1.817873060356558, -1.8057087602183357, -1.7935444600801134, -1.7813801599418913, -1.7692158598036687, -1.7570515596654466, -1.7448872595272245, -1.732722959389002, -1.7205586592507798, -1.7083943591125574, -1.696230058974335, -1.6840657588361128, -1.6719014586978906, -1.6597371585596683, -1.647572858421446, -1.6354085582832238, -1.6232442581450013, -1.6110799580067792, -1.598915657868557, -1.5867513577303345, -1.5745870575921124, -1.56242275745389, -1.5502584573156677, -1.5380941571774456, -1.5259298570392232, -1.513765556901001, -1.5016012567627786, -1.4894369566245564, -1.477272656486334, -1.4651083563481118, -1.4529440562098896, -1.440779756071667, -1.428615455933445, -1.4164511557952228, -1.4042868556570003, -1.3921225555187782, -1.3799582553805558, -1.3677939552423335, -1.3556296551041114, -1.343465354965889, -1.331301054827667, -1.3191367546894444, -1.3069724545512222, -1.2948081544130001, -1.2826438542747776, -1.2704795541365554, -1.258315253998333, -1.2461509538601108, -1.2339866537218884, -1.2218223535836663, -1.209658053445444, -1.1974937533072216, -1.1853294531689995, -1.173165153030777, -1.1610008528925548, -1.1488365527543327, -1.1366722526161102, -1.124507952477888, -1.1123436523396657, -1.1001793522014434, -1.0880150520632212, -1.075850751924999, -1.0636864517867766, -1.0515221516485542, -1.0393578515103319, -1.0271935513721098, -1.0150292512338872, -1.002864951095665, -0.990700650957443, -0.9785363508192204, -0.9663720506809983, -0.9542077505427762, -0.9420434504045536, -0.9298791502663315, -0.9177148501281089, -0.9055505499898868, -0.8933862498516647, -0.8812219497134426, -0.86905764957522, -0.8568933494369975, -0.8447290492987753, -0.8325647491605532, -0.8204004490223311, -0.808236148884109, -0.796071848745886, -0.7839075486076639, -0.7717432484694418, -0.7595789483312196, -0.7474146481929975, -0.735250348054775, -0.7230860479165528, -0.7109217477783303, -0.6987574476401082, -0.686593147501886, -0.6744288473636635, -0.6622645472254414, -0.6501002470872193, -0.6379359469489967, -0.6257716468107746, -0.613607346672552, -0.6014430465343299, -0.5892787463961078, -0.5771144462578857, -0.5649501461196631, -0.5527858459814405, -0.5406215458432184, -0.5284572457049963, -0.5162929455667742, -0.5041286454285521, -0.49196434529032906, -0.47980004515210695, -0.46763574501388483, -0.4554714448756627, -0.4433071447374406, -0.43114284459921803, -0.4189785444609955, -0.40681424432277336, -0.39464994418455124, -0.3824856440463291, -0.37032134390810656, -0.35815704376988444, -0.3459927436316619, -0.33382844349343976, -0.3216641433552172, -0.3094998432169951, -0.29733554307877297, -0.28517124294055085, -0.2730069428023283, -0.26084264266410573, -0.2486783425258836, -0.2365140423876615, -0.22434974224943938, -0.21218544211121726, -0.20002114197299425, -0.18785684183477214, -0.17569254169655002, -0.1635282415583279, -0.15136394142010579, -0.13919964128188322, -0.12703534114366066, -0.11487104100543855, -0.10270674086721643, -0.09054244072899431, -0.07837814059077175, -0.06621384045254963, -0.05404954031432707, -0.041885240176104954, -0.029720940037882837, -0.017556639899660276, -0.0053923397614381585, 0.006771960376783959, 0.01893626051500652, 0.031100560653228637, 0.0432648607914512, 0.055429160929673316, 0.06759346106789543, 0.07975776120611755, 0.09192206134434011, 0.10408636148256267, 0.11625066162078479, 0.1284149617590069, 0.14057926189722902, 0.15274356203545114, 0.16490786217367415, 0.17707216231189626, 0.18923646245011838, 0.2014007625883405, 0.21356506272656262, 0.22572936286478518, 0.23789366300300774, 0.25005796314122986, 0.262222263279452, 0.2743865634176741, 0.28655086355589665, 0.29871516369411877, 0.31087946383234133, 0.32304376397056345, 0.33520806410878556, 0.3473723642470081, 0.35953666438523024, 0.37170096452345236, 0.3838652646616745, 0.39602956479989704, 0.4081938649381196, 0.4203581650763417, 0.43252246521456383, 0.44468676535278595, 0.45685106549100807, 0.4690153656292311, 0.4811796657674532, 0.4933439659056753, 0.5055082660438974, 0.51767256618212, 0.5298368663203421, 0.5420011664585647, 0.5541654665967868, 0.5663297667350089, 0.5784940668732315, 0.5906583670114536, 0.6028226671496757, 0.6149869672878983, 0.6271512674261204, 0.6393155675643429, 0.651479867702565, 0.6636441678407872, 0.6758084679790093, 0.6879727681172318, 0.7001370682554544, 0.7123013683936765, 0.7244656685318986, 0.7366299686701208, 0.7487942688083429, 0.7609585689465659, 0.773122869084788, 0.7852871692230101, 0.7974514693612322, 0.8096157694994544, 0.8217800696376769, 0.8339443697758995, 0.8461086699141216, 0.8582729700523437, 0.8704372701905658, 0.8826015703287884, 0.8947658704670105, 0.9069301706052331, 0.9190944707434552, 0.9312587708816773, 0.9434230710198999, 0.9555873711581224, 0.9677516712963445, 0.9799159714345667, 0.9920802715727888, 1.004244571711011, 1.016408871849234, 1.028573171987456, 1.0407374721256781, 1.0529017722639002, 1.0650660724021224, 1.0772303725403445, 1.0893946726785675, 1.1015589728167896, 1.1137232729550117, 1.1258875730932338, 1.138051873231456, 1.150216173369679, 1.162380473507901, 1.1745447736461232, 1.1867090737843453, 1.1988733739225674, 1.2110376740607904, 1.2232019741990117, 1.2353662743372347, 1.2475305744754568, 1.259694874613679, 1.271859174751902, 1.2840234748901231, 1.2961877750283461, 1.3083520751665683, 1.3205163753047904, 1.3326806754430134, 1.3448449755812346, 1.3570092757194576, 1.3691735758576788, 1.3813378759959019, 1.3935021761341249, 1.405666476272346, 1.417830776410569, 1.4299950765487903, 1.4421593766870133, 1.4543236768252363, 1.4664879769634576, 1.4786522771016806, 1.4908165772399018, 1.5029808773781248, 1.515145177516347, 1.527309477654569, 1.539473777792792, 1.5516380779310133, 1.5638023780692363, 1.5759666782074584, 1.5881309783456805, 1.6002952784839026, 1.6124595786221247, 1.6246238787603478, 1.6367881788985699, 1.648952479036792, 1.661116779175014, 1.6732810793132362, 1.6854453794514592, 1.6976096795896813, 1.7097739797279035, 1.7219382798661256, 1.7341025800043477, 1.7462668801425698, 1.7584311802807928, 1.770595480419015, 1.782759780557237, 1.7949240806954592, 1.8070883808336813, 1.8192526809719043, 1.8314169811101264, 1.8435812812483485, 1.8557455813865706, 1.8679098815247928, 1.8800741816630158, 1.892238481801237, 1.90440278193946, 1.9165670820776821, 1.9287313822159042, 1.9408956823541272, 1.9530599824923485, 1.9652242826305715, 1.9773885827687936, 1.9895528829070157, 2.0017171830452387, 2.01388148318346, 2.026045783321683, 2.038210083459904, 2.050374383598127, 2.06253868373635, 2.0747029838745714, 2.0868672840127944, 2.0990315841510157, 2.1111958842892387, 2.1233601844274617, 2.135524484565683, 2.147688784703906, 2.159853084842127, 2.17201738498035, 2.1841816851185722, 2.1963459852567944, 2.2085102853950174, 2.2206745855332386, 2.2328388856714616, 2.2450031858096837, 2.257167485947906, 2.269331786086129, 2.28149608622435, 2.293660386362573, 2.305824686500795, 2.3179889866390173, 2.3301532867772394, 2.3423175869154615, 2.3544818870536846, 2.3666461871919067, 2.378810487330129, 2.390974787468351, 2.403139087606574, 2.415303387744796, 2.427467687883018, 2.4396319880212403, 2.4517962881594624, 2.4639605882976854, 2.4761248884359066, 2.4882891885741296, 2.5004534887123517, 2.512617788850574, 2.524782088988797, 2.536946389127018, 2.549110689265241, 2.5612749894034623, 2.5734392895416853, 2.5856035896799083, 2.5977678898181296, 2.6099321899563526, 2.622096490094574, 2.634260790232797, 2.64642509037102, 2.658589390509241, 2.670753690647464, 2.6829179907856853, 2.6950822909239083, 2.7072465910621313, 2.7194108912003525, 2.7315751913385755, 2.7437394914767967, 2.7559037916150197, 2.768068091753242, 2.780232391891464, 2.792396692029687, 2.804560992167908, 2.8167252923061312, 2.8288895924443533, 2.8410538925825755, 2.8532181927207976, 2.8653824928590197, 2.8775467929972427, 2.889711093135465, 2.901875393273687, 2.914039693411909, 2.926203993550131, 2.938368293688354, 2.9505325938265763, 2.9626968939647984, 2.9748611941030205, 2.9870254942412426, 2.9991897943794648, 3.0113540945176878, 3.02351839465591], \"xaxis\": \"x\", \"y\": [0.004687656069333066, 0.004870375877053844, 0.005057493942743369, 0.005249310800085529, 0.005446157880304741, 0.005648395442313782, 0.005856409963421131, 0.006070611015167109, 0.006291427659531137, 0.006519304411160758, 0.00675469682119084, 0.006998066747429304, 0.00724987738396803, 0.007510588130432483, 0.007780649386926801, 0.008060497365097433, 0.00835054900848956, 0.008651197116396897, 0.008962805764628034, 0.00928570611398843, 0.00962019269279805, 0.00996652023345973, 0.010324901135030394, 0.010695503614029878, 0.011078450594489305, 0.011473819375669547, 0.011881642102173844, 0.012301907046572474, 0.012734560699411607, 0.013179510645870607, 0.013636629192659835, 0.014105757693317483, 0.014586711505181366, 0.015079285497288597, 0.015583260015595844, 0.016098407200504285, 0.01662449754198963, 0.017161306549924486, 0.017708621411653566, 0.01826624750572785, 0.018834014640058665, 0.019411782884719536, 0.019999447874250658, 0.020596945461608073, 0.02120425561579745, 0.021821405467631647, 0.022448471422794596, 0.023085580278269312, 0.023732909296928725, 0.02439068521538594, 0.02505918218169745, 0.02573871864181304, 0.02642965321634416, 0.027132379631821957, 0.027847320792666632, 0.028574922101112826, 0.029315644151849028, 0.030069954945668588, 0.030838321781547235, 0.0316212029988443, 0.032419039750401266, 0.03323224799286638, 0.03406121088234959, 0.03490627176132949, 0.035767727916488086, 0.036645825276819796, 0.0375407542070264, 0.03845264653302484, 0.03938157391462801, 0.040327547655449415, 0.04129052001227349, 0.042270387036037846, 0.043266992944781306, 0.04428013599607537, 0.04530957579326655, 0.04635504192705418, 0.04741624382224764, 0.04849288162974426, 0.04958465797656011, 0.05069129036282489, 0.05181252397464121, 0.052948144666169004, 0.05409799185368248, 0.05526197105902544, 0.05644006584009374, 0.05763234885181534, 0.058838991792556916, 0.06006027400780066, 0.061296589545012485, 0.06254845248043679, 0.06381650036955337, 0.0651014957074576, 0.06640432532272221, 0.06772599766752738, 0.06906763800711824, 0.07043048155203765, 0.07181586461614548, 0.073225213921259, 0.07466003420443944, 0.07612189431569219, 0.07761241202140604, 0.07913323775159645, 0.08068603754643917, 0.08227247546930906, 0.08389419575935853, 0.08555280499651127, 0.08724985454570212, 0.08898682353550909, 0.09076510260938464, 0.09258597866603437, 0.09445062077975838, 0.09636006746250941, 0.09831521539787431, 0.10031680974402939, 0.10236543606888139, 0.10446151394700619, 0.10660529221554009, 0.10879684585571615, 0.11103607443905485, 0.11332270205299919, 0.11565627860060085, 0.11803618235315992, 0.12046162362379459, 0.122931649423906, 0.1254451489634193, 0.12800085985933968, 0.1305973749252688, 0.13323314942662712, 0.13590650870184806, 0.13861565606807805, 0.14135868095016063, 0.14413356719308967, 0.1469382015398148, 0.14977038227741182, 0.15262782807434033, 0.15550818704898545, 0.15840904612420267, 0.16132794073349396, 0.16426236495122082, 0.16720978212151053, 0.17016763605797458, 0.1731333628789373, 0.1761044035306313, 0.17907821703395527, 0.18205229446929813, 0.18502417368909696, 0.18799145471988085, 0.19095181578529757, 0.19390302984986435, 0.1968429815508647, 0.1997696843538574, 0.20268129773666843, 0.2055761441784479, 0.20845272570533005, 0.21130973972328831, 0.2141460938527134, 0.21696091946872906, 0.21975358364683464, 0.22252369921554202, 0.22527113262649653, 0.2279960093682322, 0.23069871667214967, 0.23337990328828018, 0.23604047614352283, 0.23868159373580053, 0.24130465616327723, 0.24391129173764295, 0.2465033401836168, 0.24908283248224902, 0.2516519674723096, 0.25421308538093873, 0.25676863851073034, 0.2593211593644291, 0.2618732265393932, 0.2644274287709013, 0.26698632754533624, 0.26955241874038893, 0.27212809377897834, 0.2747156008059163, 0.2773170064109855, 0.2799341584286619, 0.28256865034298423, 0.28522178781598256, 0.28789455783967466, 0.2905876009851672, 0.2933011871881737, 0.2960351954688001, 0.2987890979353322, 0.3015619483677111, 0.30435237561722356, 0.307158581995536, 0.30997834675954905, 0.31280903472962945, 0.3156476100086333, 0.3184906546988328, 0.3213343924444148, 0.3241747165596888, 0.32700722243849073, 0.3298272438794327, 0.3326298929055048, 0.3354101026058593, 0.33816267248310594, 0.34088231575173367, 0.34356370800283753, 0.3462015366275936, 0.3487905503771627, 0.35132560843013255, 0.3538017283402922, 0.35621413224748194, 0.3585582907523635, 0.36082996388201066, 0.36302523860695535, 0.3651405624113815, 0.36717277246608887, 0.36911912000817304, 0.3709772895914871, 0.3727454129372502, 0.3744220771839438, 0.37600632740913553, 0.3774976633722734, 0.37889603050594256, 0.3802018052626311, 0.3814157750037459, 0.38253911269641744, 0.3835733467604694, 0.38452032648169315, 0.38538218347712966, 0.3861612897622673, 0.3868602130277841, 0.387481669783555, 0.3880284770690465, 0.3885035034609099, 0.3889096201296456, 0.3892496527068469, 0.389526334722098, 0.3897422633536284, 0.3898998582090502, 0.39000132381190156, 0.39004861641649413, 0.39004341570821166, 0.38998710186968333, 0.3898807384061975, 0.38972506102765125, 0.38952047278080915, 0.38926704551650293, 0.3889645276636499, 0.3886123581678116, 0.38820968633877145, 0.387755397241679, 0.3872481421621, 0.3866863735791911, 0.38606838399544646, 0.385392347898114, 0.3846563660683055, 0.38385851141057536, 0.3829968754495246, 0.3820696146316106, 0.3810749955802073, 0.38001143847999685, 0.37887755781247584, 0.3776721997267481, 0.37639447540744303, 0.37504378989272386, 0.373619865897742, 0.3721227623100592, 0.3705528871407474, 0.36891100483517225, 0.36719823796786677, 0.3654160634633825, 0.36356630359664494, 0.36165111212935797, 0.35967295603088506, 0.35763459331056763, 0.35553904755181825, 0.35338957978514635, 0.3511896583666495, 0.3489429275400151, 0.3466531753538392, 0.34432430158269195, 0.34196028626093306, 0.339565159384349, 0.33714297226817413, 0.33469777097324077, 0.3322335721273891, 0.3297543413795671, 0.32726397463204093, 0.3247662821046175, 0.32226497519646846, 0.31976365602857193, 0.31726580947528005, 0.3147747974290636, 0.31229385498972084, 0.30982608822950486, 0.3073744731595044, 0.3049418555105701, 0.3025309509440012, 0.3001443453225642, 0.2977844947002607, 0.2954537247283007, 0.293154229223332, 0.2908880677002721, 0.2886571617340162, 0.2864632900796728, 0.2843080825475939, 0.28219301269512, 0.2801193894595459, 0.27808834791439035, 0.2761008393818848, 0.2741576211772067, 0.27225924629319004, 0.2704060533571872, 0.2685981572039093, 0.2668354404092453, 0.26511754612039945, 0.26344387249766427, 0.2618135690534942, 0.26022553513629887, 0.25867842076074066, 0.2571706299347169, 0.25570032657716185, 0.2542654430619245, 0.25286369136291603, 0.25149257671610836, 0.25014941365636584, 0.24883134423299896, 0.24753535815867342, 0.24625831460309183, 0.24499696530667206, 0.24374797866109554, 0.24250796438366456, 0.24127349840126402, 0.24004114755751807, 0.23880749376340452, 0.23756915722685865, 0.2363228184203167, 0.23506523847606067, 0.2337932777368497, 0.23250391223271835, 0.23119424790294602, 0.22986153243392327, 0.22850316463775758, 0.22711670135173856, 0.22569986189396465, 0.22425053016428412, 0.2227667545310039, 0.22124674569143052, 0.21968887273715332, 0.21809165769208655, 0.2164537688218235, 0.21477401303608354, 0.21305132772143479, 0.2112847723486277, 0.2094735201975942, 0.20761685053342674, 0.20571414154859938, 0.20376486436071667, 0.2017685783216879, 0.19972492785415386, 0.19763364098513878, 0.1954945296962507, 0.19330749215552365, 0.1910725168393923, 0.18878968849567856, 0.18645919584122733, 0.18408134083231917, 0.1816565492936221, 0.17918538264347528, 0.17666855041099883, 0.17410692320495874, 0.17150154576642043, 0.16885364971781597, 0.16616466561062093, 0.1634362338728128, 0.16067021426574604, 0.1578686934779208, 0.15503399051006572, 0.15216865954135722, 0.14927549000979395, 0.1463575036897109, 0.14341794860508422, 0.140460289677407, 0.13748819607011512, 0.13450552525648038, 0.13151630390304286, 0.12852470572465377, 0.12553502652862356, 0.12255165672300286, 0.1195790516164749, 0.11662169988359863, 0.11368409060832539, 0.11077067935004353, 0.10788585369933662, 0.1050338988048048, 0.1022189633575125, 0.09944502651591956, 0.09671586624172838, 0.09403502949631387, 0.09140580471883092, 0.08883119697140344, 0.08631390609476026, 0.08385630817021786, 0.081460440531961, 0.07912799051816652, 0.07686028809170571, 0.07465830240198672, 0.0725226423000159, 0.07045356075997382, 0.06845096310347705, 0.06651441886815575, 0.06464317711101748, 0.06283618489008869, 0.06109210862564189, 0.05940935800552443, 0.057786112068168034, 0.05622034707211794, 0.05470986574267838, 0.0532523274746423, 0.05184527906514038, 0.05048618555235972, 0.04917246074407513, 0.047901497034414736, 0.046670694127659576, 0.045477486313788264, 0.044319367971397974, 0.04319391700899404, 0.04209881599483253, 0.04103187076779415, 0.03999102636646626, 0.03897438015991104, 0.037980192110714024, 0.03700689214804253, 0.036053084674765944, 0.03511755027744274, 0.0341992447503748, 0.03329729558427628, 0.03241099610574127, 0.03153979748503314, 0.0306832988562812, 0.029841235815536184, 0.02901346757802244, 0.02819996308614654, 0.02740078636429929, 0.026616081415291537, 0.025846056946538503, 0.02509097120215143, 0.024351117160288645, 0.0236268083339488, 0.02291836538843566, 0.02222610376062433, 0.02155032243462722, 0.020891293996228195, 0.020249256055299453, 0.019624404092097186, 0.01901688575060727, 0.01842679657069434, 0.017854177121360466, 0.01729901147054696, 0.016761226903116443, 0.016240694778371093, 0.01573723240200021, 0.015250605774927931, 0.014780533073248541, 0.01432668870927568, 0.013888707823589568, 0.013466191061607362, 0.013058709495332796, 0.012665809561161612, 0.01228701789747361, 0.011921845980728665, 0.011569794475346836, 0.011230357230241418, 0.010903024872915015, 0.010587287969974308, 0.010282639740254616, 0.009988578322984836, 0.009704608618157579, 0.009430243729139491, 0.009165006048284241, 0.008908428034703394, 0.008660052739281773, 0.008419434135470423, 0.008186137315389343, 0.007959738609448182, 0.007739825684234252, 0.007525997668065618, 0.007317865346664242, 0.007115051463194174, 0.006917191147793786, 0.006723932492073779, 0.0065349372742217185, 0.006349881830705521, 0.006168458061431971, 0.005990374546893983, 0.005815357748587981, 0.005643153258012475, 0.005473527055029939, 0.005306266733389598, 0.005141182649818955, 0.004978108953290168, 0.00481690445279738], \"yaxis\": \"y\"}, {\"legendgroup\": \"distplot\", \"marker\": {\"color\": \"rgb(31, 119, 180)\", \"symbol\": \"line-ns-open\"}, \"mode\": \"markers\", \"name\": \"distplot\", \"showlegend\": false, \"type\": \"scatter\", \"x\": [0.6233526139350194, 0.9067248474598523, 0.8851803747760171, -1.466408478815326, -0.414445698491945, -1.0499788057500896, -1.3681465250001361, 0.9086548592466442, -0.29973270427588505, -0.48756940611008276, 0.4113221479048586, -0.8680421031635495, 1.437869830436381, 0.9128694438871497, 0.2843753716292588, 0.13620276384288285, 0.3640516196205729, -0.8291614376348568, -0.4721769713646088, 1.8960415251470888, 1.1966048015800292, -0.2514611688005337, 0.08133834974369562, -1.1646812784272755, 0.23442625119518207, -0.48918962357700185, 1.2867834078891194, 0.3829865813435284, -1.809684089756509, 0.8496398010678085, -1.4816465830389747, 0.4715406183015713, -1.1024665719522901, 0.2118631210515407, -1.4222040737307824, 1.461082412737266, -1.0365573771453684, 2.2828039806041858, -0.12587473047477296, -0.780156455674189, 0.5415324482868853, 1.2206141377875956, -0.34948835783852655, 0.9734529280390826, -0.840014079475631, -0.3744281938883881, 0.24349069696461342, -0.9254542457172449, -1.5051402588347278, 0.5937695470578489, 0.5625512941382717, 1.1133938186788053, 1.454684232315281, 1.073795108689995, -2.518614190385078, 0.679251482292472, 1.048269162314245, 0.9118510751544809, 1.2025243905135559, 0.5801725393470045, 1.186382516599771, 0.09020752606721964, -1.3842798858518441, 0.19603394788977554, 0.15462941494686017, -0.8603978915034414, -1.4648392390220102, 0.43353470315812437, -0.965039545341972, -0.6092262816466112, 0.15761391903762853, 0.41195444676141246, -0.5390954610456314, 0.21186896656792722, -0.5484073323894619, 1.4930127422317718, -0.3810648133363724, 0.7268780021901061, 0.05873709085930215, 0.018446718695566414, -1.7290639496162454, 0.9363751765255192, -0.5131001460782538, 0.8882581078065187, -0.029343659740048527, -0.6754870985974409, 1.5958046362154108, -2.1436085963223688, -0.1581958779663327, -0.23360461099664678, 0.5079813165771442, 0.061647670542047193, 0.02899641655288117, -0.27275234337333293, 0.49148756495672685, -0.545564692689696, -1.2163141396240653, -0.5490862359111989, 0.19817083096797475, -1.251120933190873, 1.2754549416064147, 0.5201220149587816, 1.703677267737057, -0.3859085935586467, 1.289550517646563, 1.9493326885488858, 0.2575857167374429, 1.0463839837335251, -0.9148366148308742, 0.10979583869198205, 1.2487376434365287, 0.16097245546308592, 1.4970703358059638, -0.5328154974567333, 0.24933537540142459, -1.1554948685751172, 1.326088400529831, 0.27360584867356375, 1.3000321370699883, 1.1007093054179364, 1.47491401679232, 0.45569976983626465, 0.8242964040954547, -1.9115678045116804, -0.7683689771562254, 2.569031379677878, -0.5502062325947774, 0.14525532044194114, 1.4849040954462365, 1.2141054375267366, -0.5046638174830159, -1.9774671911455777, 1.5045327329378784, -0.21448251633690846, -1.3148528000099005, -0.6439669381412921, -0.050858975246559676, -0.07345367941524701, -0.2598365867622153, -0.49820437874123846, 0.7209982931194726, -0.6010035254864129, -0.8359618172118304, 0.6685142566741921, -0.8549479113752453, 0.17383926260001462, -0.7133866708484186, -0.7881346399098011, -0.36831996791686744, 1.1829493357226295, -0.2487406283367975, -1.7297442178642868, -1.8865407931968012, 0.5770418702730062, -1.659245064924603, -1.0524671859933932, -1.4016617658129527, -0.21936773114228972, -0.40562462722379694, 0.3815064200968714, 0.35380644127916017, -0.8338795003409651, -0.22872943777564095, 0.8105391196387309, 0.26428977081692445, 0.16849596506718073, 1.0171683381258418, -1.1781627377796096, -0.17480249462195852, -0.7634184356183022, -1.5393176955964147, 0.024669128326639166, 0.41218641752377033, -0.4919363137068542, 0.3065084785596051, -0.2291943176687184, 0.6205108733654127, 0.3593364025922371, -1.650147595314175, 0.043174880210605344, 0.2096626354549207, 2.085213049091023, -0.5103154087297688, -1.1974835730423528, -0.666432975557448, 0.538543404308083, 0.8702636938921363, -1.2913153414523402, -1.370368691313329, 1.5748335089329797, -0.8762442222875836, -1.2609977940593446, -0.5963628095815733, -2.330427455321188, 1.1711318257554326, 0.7160059704885667, -0.4594928936561709, 0.7771671101596741, 0.09823855815031196, -0.22344982541667988, 0.29387560144895947, 0.3291280353666465, -0.051071115968564076, 0.13341746589326034, -0.12365319694134441, 0.1775156352275807, -1.0691097802331424, 1.4170214665226617, -0.3247983656941301, -0.2590251047848042, 0.22338565986904263, -0.3114032961816832, 0.026772004423545114, -1.4558863531980546, 1.089772789690165, -1.6944202445489271, 0.21884522189856107, -1.1973030201521513, -0.5305466873611654, -1.076734230805046, -0.1473713769196377, 0.7448467895993588, -1.1113428034779587, 1.4924339675128127, -1.0108388680528964, -2.1861405898330553, 0.9731037364329638, 1.2908304728207771, -0.7998631914988328, -1.1407050077534802, 1.2405755382051826, 1.3728055380364457, 0.4190397274938382, 0.9857300794662013, -3.0464673743170083, 1.7509074055239857, 0.6474479624587347, -0.37082345979352827, -0.4255299803701556, 0.4232954414027798, 0.008519878345758044, 0.2008678927344371, 0.26010456010248373, -0.19977039735196242, -0.40995204592761353, -0.1250879294125591, -0.17052502274399783, 2.6366382833612243, 1.524795233695693, 1.9567982744510852, 0.5437122654563594, -1.2077445838494767, 0.5835794413173945, 0.9400345505985225, 1.2504056860218338, 0.04678806846541619, 1.647561509730829, -0.1484822805272847, -0.043586109061859515, -1.0932886088707305, -0.5661236197137396, 1.1849272750183943, -0.18981491237601167, 1.1721896987839966, -0.4129757642686217, -0.5533581375118636, -0.2303108694322721, 0.1247736036599438, 0.23778635285790697, -1.5880212908071056, -1.4744215890963017, -0.06499531592700422, -1.5101623046037136, 1.5332904718182727, -1.3499487518760742, -0.3823385298680641, -0.9620728766162608, -0.17927362049565734, -1.919593013229052, -0.5097925485262284, -0.8002186547790602, -0.5883453933020418, 1.1259024609129336, -0.572678215602561, 1.2538189608685415, 0.04055863895940852, 1.0042777108415022, 0.6748884582154256, -1.1917066587861187, 0.5429382900934966, -0.6894647074721509, 0.3435799690561133, -0.11150964865377727, 0.34435541746492687, -2.714758952221109, -0.9586584344343279, 0.17374514319775664, 0.1869271180033312, -0.9722726980507245, 0.21182592649897677, -0.8250355941986933, -1.1235831644438288, -1.5914671659523447, -0.2788200411686967, -0.8106619310153462, -0.5913670552287257, 0.010733334108603873, 1.1053488890866805, -1.0247272312980236, 0.09960484548844437, 0.18651287921712134, 0.6193449825182824, -0.5320078026080463, -0.36205276072580744, 0.09434305321022683, -0.0017209969071922693, 0.127266455920391, 0.015588047802465565, 1.7512810925852378, -0.11430347929272366, -0.2490274685950862, 1.77786024704196, 1.7051356652837077, 0.18594937569414538, 1.5288257773362275, 0.9180575954862211, -0.5118730229307109, -0.5399050582838427, -0.13850186777046086, 0.22268019941872522, -0.3930161528691011, -1.3346962998968368, 0.595522730775883, 0.5996952908533403, -0.09112903095678869, 0.9328394993172643, 0.07329162314134485, 0.325006871182917, 1.0489460420679895, 0.20606919837951074, 0.036974006729643974, 2.094142188128602, -1.1652404907949907, 0.33118391208128967, -0.9581537374416135, -1.0745255669174991, -0.8256929716983487, 0.5050102296191795, -0.007248083835302973, 0.7783605314972553, 0.1521879535633717, -0.20110704648739416, -0.08929101179484653, 0.48171942188254424, -0.8010581885253298, -0.9159446831918986, 1.2620649197461578, -0.608627873464626, 0.04435113855698292, 1.1134629965788503, -1.552100777619225, -0.01143448520810025, -1.9698629986054392, 0.7705931072070131, -0.2201686215904255, -1.0278675073704313, 0.5642485586066186, -0.295205258467293, 0.19282285485860068, 0.8860367338360294, -0.2941502956191484, -1.3413871691951142, 1.52991526495742, 0.052540650276465324, -0.6676531179248187, 0.9472714328223194, -0.87384167044813, -0.9786965358047772, 0.44421168513948533, 0.81167751132922, -1.9085516536332396, 1.6149765229087247, 0.4512505964031079, -0.04179624053065671, -0.8101534551014253, -0.09026174322634116, -0.2502222005410458, -0.36210444406410397, -0.17023686966542279, 1.898849651934423, 2.954277545624831, 0.5700713918781344, 1.4948884472981614, -0.19642962456682356, 0.21288295564796214, 0.21948083076984268, -0.6330852230825782, 1.2493878998110537, -0.6563760552473017, -1.0009222401425377, 0.2654599941271236, -0.510993041028285, 0.33672831516318336, 0.19439040316216247, -0.43675335268978327, 1.8350126322512044, -0.9634958006059798, -1.4160290917799843, -1.2002563866242333, -0.09790760723117785, -0.08921361518753883, -0.575366055985663, -0.9682146589617032, -1.1303751431064237, 0.17615278083438687, -0.610384886575836, -0.1987734481182424, -0.45985769269020205, 0.8660961922942823, 1.653244680200378, 0.5245968629305342, -0.4015911346229023, -0.20785241160131707, 0.48077390679315785, -0.32949208350854525, -0.19809229257551783, -0.7415949350029123, 1.110914982823379, -0.350973977623879, -1.451245737432657, -0.18949105786540782, 1.3377699505376854, 0.9896874575225145, -0.12795380212404855, -0.20163968952188477, -0.36171154770339986, -0.005236360559940693, 0.7211250475039452, 0.16447287872935556, 1.247063762694835, -0.016456280348951653, -0.6695819470927054, -2.588231509144088, 2.1548830884907755, 2.0846107996423986, 0.726640053097773, -0.20490174452085108, -0.056069107713558386, -1.0798360798261684, -0.03907180570066176, -0.24854801772270851, -1.1151060634292624, 1.1799317463822592, -0.2788699161709977, -1.524243888012886, 1.1703801357929629, 0.6708481327349839, 1.5687990557809401, -2.5093972089915653, 1.0710809920160813, 1.4895330815913972, -1.1568759717259796, -1.0372778242201899, -1.614742713249326, 0.5827814949077227, -1.3354038613720483, -0.2783480826170353, -0.9325947822790839, 0.14455794150232235, 1.3576557497585213, -0.45223479183977305, -1.580648911049687, 3.0356826947941324, 1.6721241007436003, 2.1328459190843376, 0.27253725159107706, -0.6282239922363266, -0.11613989754896001, 0.41178649136014656, 1.2910797884597216, 1.0451133578231158, 1.6559766809053216, 0.14996441631018045, -0.6693450002860377, 0.543047363004441, -1.4143204459850538, -0.012027996582417622, -0.5308983860214108, 0.055772233320073354, -0.9112507081068589, -0.05722995128834011, 0.519600662737254, -0.47893191969750887, 0.26881097511020574, -1.4955176669057122, 1.46158276152091, -0.908560369290642, 0.26696825719901796, -1.826537365488374, -0.5024770298415416, -0.6022868080054699, -2.1164767910346205, -0.3963714844046867, -1.252845648408175, 0.29057702336081725, -0.3492458373653964, 1.029385450546949, -1.9779071329630988, 0.6379834097277782, 2.242373545758867, -1.7602872095069941, -1.8913135175126352, 1.5032464599209305, -0.4044868537105608, 0.6874378993089021, -1.0232636510098303, 1.5704915451798709, -0.9212333550425461, 0.9081617612383222, 1.5213700481046992, -2.302232049146711, -0.44528652827349774, 0.5262049402262391, -0.11698563339380944, 0.3898418115851575, -0.20931456722204433, -2.383318824474248, -0.790256060543474, 1.0276256062309932, -2.933316616331166, 1.506454391600886, 0.7502377182616778, 1.238607634842073, 0.4782780288915374, -0.05651239505681077, 1.8311489515520365, -0.507273106924066, 1.8492418946109626, 0.7055502506071533, -1.6292361944053373, -0.3161014351912871, 1.202680095314057, 0.28483007821215967, -0.03977003332562798, 1.019098988457485, 0.529893918595446, 0.39778383467112854, 1.38991393151277, -0.9351770024547346, -2.422731943918799, -0.3886106401808603, 0.8253224360401753, -0.4438960879153095, 0.0798312939825718, 0.07941436923691228, -1.474933667140046, 0.8386705994824923, 0.04306797053526275, -1.0294131875171606, 2.645711153434559, -0.6548400675985939, -0.8338298172733574, -0.42653407037845587, 0.14724126964791998, 1.5679606324876962, -1.081408080620175, 1.0547363926119866, -0.9308651559929185, -0.6208352019302145, 0.4639885421265251, -0.9526983828000218, 0.26449044196220345, -0.6646777401160092, -0.7399530416695181, -0.6964268922455727, 0.6388861408339894, 0.12431130337705455, -0.11563128357779366, 0.5286704843951644, 0.24343566075825868, 0.32485016395638827, 0.2312228337091578, 0.2684625192763478, -0.802184695666847, 1.0150587116794947, 0.1600135870559744, 0.20467314957898985, -0.6542864017265637, 1.1717613363971626, -0.5888235662149083, -0.2770855553969038, 1.227126898694141, 0.5591776663314888, 1.6013980080340724, -0.009258066460099072, -0.28417775834167835, 0.48401283551255964, 0.9044037009587429, -0.2806983074719022, -0.5101489281332149, 0.8433800059620504, 0.8356574698438063, 0.9780331276566349, 2.322368141738161, -0.5037469542381073, 0.46271221750209746, -1.0708168407282277, -2.1461662654578126, -1.1081993922862368, -0.5478610623259876, 0.5384714094405807, -0.8868735287289908, -1.3096919396932354, 0.9022578499214683, -0.3709781905239042, -0.13381147497224563, 0.1864878772422507, -2.2601468576240884, 0.4584859768708014, 0.10397567896091753, 0.7211101912522155, -0.19597038011537685, 0.06463280882769948, -1.3303110085071377, 1.0671603566024725, 0.07346472865347568, 0.8848774182221403, 0.11729616528891613, 0.3935234474674434, 0.37296209692973536, 1.0612790822862497, 0.6535920500719165, -0.09583672164752038, 0.7924592926835471, 1.4072698934476071, -1.0869861515578227, -0.13241894757643638, 1.0088951298887512, -1.7479832684391934, 1.1990775461277074, -0.4612694208027007, -0.0648111746763699, 1.297858323614923, 0.5564672850150248, 0.190694533905548, 1.1369885194421145, -0.12937421785073844, -2.0851967986638447, 0.983903327302229, 1.8157021236293038, -0.48218440117289646, 0.5627793101912122, 0.5265121429859247, -1.044148641884563, 1.423674314352565, -1.4400105065412196, -1.1273059638482605, -0.6541208972088768, 1.7053652516422284, -0.755102144748556, -1.4604005242653295, -1.1543223387579837, -0.08521197920820966, 1.3041025775178765, 1.2130089128165633, -0.7127586933971833, 0.7588581090802368, 0.4957533012927628, -0.7540758101833006, -0.7851388991785654, 0.09543712533001426, 0.21546997075338034, 0.5109956998028673, -1.2262311475204455, 1.6936548632843498, -1.2673648843248577, 0.992596504396897, 0.3836596956334294, 0.2349031358083996, 0.6301682709131897, 0.2676395561340468, 1.031893347675444, -1.399255254424288, -1.957068334655531, -0.31718445725040517, 0.8259777226101569, 0.5224073601519242, -1.167362753835172, -0.7251045502216976, -0.2730927653331511, 0.48993397005921663, -2.376408169441962, -0.7983471050802893, 1.5149569401524297, -1.6508635728143366, -0.9751089331486219, -0.12980764442068654, 1.4780546071490719, 0.3149987943981122, 0.7696467420930502, 0.3293625976067799, 1.141093753546772, -0.12667806704804108, 0.07061241130068271, 1.3644525702365384, -0.3311916556672093, -0.30491063114295075, 0.21047960314820208, -0.8316948077963979, -0.34827826534177503, -1.8694658846992025, 0.1626650950887597, -0.5376965423414197, 0.7987547351056433, 0.3177896140707551, 0.3289048094913893, 0.08475439635610074, 1.3476313419064936, -0.2722984844274967, -0.48731230666078645, -0.4048143518492908, 2.1691407954323303, -0.9989778280126858, -0.5488313282784758, 0.03666455973505466, 0.5977780151469657, -0.14491378374466085, 1.7116967445162499, -0.9452269133222023, -0.1094795163372045, -0.660967992211111, -0.8065926377562788, 0.34722574757940666, -1.866327591704192, -0.42348053023036847, -0.4645093901715932, -0.4383250525435481, 0.18935972025014502, -0.7549227686480913, -0.6953839398919288, 1.3048592700766568, -1.0175609841024345, -0.42580089635331686, -0.6083466831659811, 1.0362397586354255, -0.7742433264328232, -0.5806167680389661, 1.2256994214193093, -0.039735161596791996, 0.7861351642130121, -0.5934659997514925, -1.2676742437846802, 0.5622235315315156, 0.07566264567710959, 0.18505377902917422, -0.9369655594209287, 1.1388656431656405, -2.018672549494547, -0.4507566134453493, 1.143319017754394, -1.1943110236858137, 1.1624986737905745, -0.8641622965859155, 0.6234847021260717, 2.5520103578421134, -1.1184816060632687, -0.4739457009467443, -0.3740508642881229, -0.6083747344842322, -0.000928357378303068, 0.07979276196116174, 0.17684444143308, -0.31309984568453814, -0.20715878609865704, 0.6011362454812927, 0.8834448347622781, -1.325524544795436, -0.07054842990905262, -0.7922185952649753, -1.0393633958401032, -1.4360375568745616, 1.564676707698193, -0.6827322687071185, -0.6879586644277219, 0.42993634134732883, -1.0161190022014501, -0.43514682399900106, -0.7399536744848739, -0.5835980604425968, 0.838560795035872, 0.4466508343010767, 1.2980924345477167, 0.5477500339366627, 1.2615964306985359, 2.1024534415685974, -1.677995449929631, 1.0355877860720215, -0.24443330069175517, 0.8587894447056666, -1.5501715149674433, -0.36770199801211745, 0.7077418076124629, 1.0672352028953105, -1.9342324520240255, -0.09850336747117625, -0.3470703936179095, 0.723131812546525, -0.3089882790836408, -0.9347386212921373, 1.7797113649118284, 0.9863275794598165, 0.6830443179196479, 0.822535743209203, -1.6364626702431024, -1.152114084870933, 0.6016049388384762, -0.3914281722591765, 1.0493184238129152, 0.5311434041452446, 0.9880119830208269, 0.43879422174990906, 2.163691837556457, 0.49614934629063306, -0.36520876481107445, -0.2074307190718948, 1.5196946475229887, 0.5048267252124866, -0.0818944018544998, -1.1414990272623522, 0.8017949447657998, -0.20047031620654607, -0.5218287510448608, 0.580721358397186, 0.5154543944313912, 2.2972443853911946, -1.3535875167745257, -0.60997607298154, -1.0812585901414937, -1.199400215642898, -1.0872926451276461, -1.493294445586894, -0.0031317010439877047, 0.666366024616468, -1.2933186643191519, -0.7300846383484654, -0.19891020509623192, 1.191652040811568, 0.3572071398019671, 0.26711079327759074, 1.893401209461958, -0.4194561718094295, -1.1276226389848716, -2.020503737065824, -1.387596093482009, -0.2547863294777174, 1.1962882871796432, -1.3052044891967562, 0.5592973923298481, -0.5835415173126192, 1.0741873655215823, 1.5126768563858901, -0.2527267401278723, -0.9173286956947209, 0.1887989538267861, -0.8314518235932834, -0.43165803387432017, 0.09216652284001411, -0.8738114975128806, -2.19933728305094, -0.7562598668568771, 1.2399765229594162, -1.3352739486509666, -0.22530326022724154, 0.8709315986912683, 0.3049275796581673, -0.7727662334339318, 0.4559367416043955, 1.4819173049095773, 0.7862175169954948, 0.04669740886022405, -0.8181803942784315, 1.5161946698905642, 1.3652679421752758, 0.13309845130123646, 0.21190672379902073, -0.9452607656433611, -0.45618745833542096, -0.32455143294300737, -0.3546720239865432, 1.5497343386998939, -0.2725334187420102, 0.9371204491913053, 0.02071281666737501, -0.2955005430626251, -1.8891071067588294, -0.5237238378209247, 0.09839323924148498, 0.024403709160286842, 1.2742724798764384, -0.8562906704141777, -0.6218010990882349, -1.9229989087020523, 0.024376259617392877, 0.022371530211207052, 0.35358839224777183, -0.4638529751127879, -0.743744794312701, 0.25569452671917886, -0.5208645896652299, -1.6618681373711637, -0.2699637949844495, 0.19458940927113252, 0.8919310079419164, 0.9486296604206207, -0.37382060520884913, -1.9637849292565526, -0.5058719113369317, -1.175961968431568, -1.1010226018199334, -0.6527692842752109, 0.5660158503768045, -0.43923899644672887, 0.5589642776424282, -0.9981625374394969, 1.1720292784110105, -0.6810816715133595, -0.15431882713933737, 1.5812311124022913, 1.50261887231924, -0.008816674238596764, 0.7528686942938932, 0.1613350825642084, 0.12694271694500292, 0.09916073031521562, 0.11684440795364856, -1.0915128660288067, 0.5413772984268785, 0.6396994188903378, -0.20238664678171048, 1.3986087825745337, 1.361066751976469, 1.3804485051203756, 2.2020134817126022, 0.08861330842383813, -0.2347408541766909, 0.8834374448840451, 0.3787851676768071, -0.9040480978265311, -0.21275471187785414, -0.3248612030454667, 0.7039735270460256, -0.2815703630360607, -1.669277291679208, 2.0348425547342104, -0.8226947550077292, -0.8910837893998875, -0.3366570180568158, -0.5407276435241813, 0.7694876621208045, 1.0580190818246915, -1.2881897217017693, 0.13351959126584284, -1.8376457299573414, -0.3528759809370565, 0.9599598513596644, 0.6231028750386897, 1.566380599842844, -0.4931068564920486, -0.04923288452035715, 0.24532513446511225, -1.25781032799594, -0.6273055062319933, 0.48599763243928823, -0.3517097056611434, 0.7424358765211471, -0.13965261032681456, -0.07167716044795869, -0.6382736179190442, -1.3190014887645352, 0.8541702420644345, -1.117110442434193, -0.26067315295096477, 0.44867685587827194, 0.13306882057376254, 2.099096084185436, -0.6312047714634271, -2.4764848283475134, -1.084788086899768, 0.6691100133884783, 1.0791365199364227, 1.634259766356644, -1.3377501288610802, -0.24647997184236653, -0.3717942931755251, 1.5403194900101873, -0.5280048051690147, -1.0700364669044715, 1.4368613705881055, 1.0146658926009255, -1.5166979709717894], \"xaxis\": \"x\", \"y\": [\"distplot\", \"distplot\", \"distplot\", \"distplot\", \"distplot\", \"distplot\", \"distplot\", \"distplot\", \"distplot\", \"distplot\", \"distplot\", \"distplot\", \"distplot\", \"distplot\", \"distplot\", \"distplot\", \"distplot\", \"distplot\", \"distplot\", \"distplot\", \"distplot\", \"distplot\", \"distplot\", \"distplot\", \"distplot\", \"distplot\", \"distplot\", \"distplot\", \"distplot\", \"distplot\", \"distplot\", \"distplot\", \"distplot\", \"distplot\", \"distplot\", \"distplot\", \"distplot\", \"distplot\", \"distplot\", \"distplot\", \"distplot\", \"distplot\", \"distplot\", \"distplot\", \"distplot\", \"distplot\", \"distplot\", \"distplot\", \"distplot\", \"distplot\", \"distplot\", \"distplot\", \"distplot\", \"distplot\", \"distplot\", \"distplot\", \"distplot\", \"distplot\", \"distplot\", \"distplot\", \"distplot\", \"distplot\", \"distplot\", \"distplot\", \"distplot\", \"distplot\", \"distplot\", \"distplot\", \"distplot\", \"distplot\", \"distplot\", \"distplot\", \"distplot\", \"distplot\", \"distplot\", \"distplot\", \"distplot\", \"distplot\", \"distplot\", \"distplot\", \"distplot\", \"distplot\", \"distplot\", \"distplot\", \"distplot\", \"distplot\", \"distplot\", \"distplot\", \"distplot\", \"distplot\", \"distplot\", \"distplot\", \"distplot\", \"distplot\", \"distplot\", \"distplot\", \"distplot\", \"distplot\", \"distplot\", \"distplot\", \"distplot\", \"distplot\", \"distplot\", \"distplot\", \"distplot\", \"distplot\", \"distplot\", \"distplot\", \"distplot\", \"distplot\", \"distplot\", \"distplot\", \"distplot\", \"distplot\", \"distplot\", \"distplot\", \"distplot\", \"distplot\", \"distplot\", \"distplot\", \"distplot\", \"distplot\", \"distplot\", \"distplot\", \"distplot\", \"distplot\", \"distplot\", \"distplot\", \"distplot\", \"distplot\", \"distplot\", \"distplot\", \"distplot\", \"distplot\", \"distplot\", \"distplot\", \"distplot\", \"distplot\", \"distplot\", \"distplot\", \"distplot\", \"distplot\", \"distplot\", \"distplot\", \"distplot\", \"distplot\", \"distplot\", \"distplot\", \"distplot\", \"distplot\", \"distplot\", \"distplot\", \"distplot\", \"distplot\", \"distplot\", \"distplot\", \"distplot\", \"distplot\", \"distplot\", \"distplot\", \"distplot\", \"distplot\", \"distplot\", \"distplot\", \"distplot\", \"distplot\", \"distplot\", \"distplot\", \"distplot\", \"distplot\", \"distplot\", \"distplot\", \"distplot\", \"distplot\", \"distplot\", \"distplot\", \"distplot\", \"distplot\", \"distplot\", \"distplot\", \"distplot\", \"distplot\", \"distplot\", \"distplot\", \"distplot\", \"distplot\", \"distplot\", \"distplot\", \"distplot\", \"distplot\", \"distplot\", \"distplot\", \"distplot\", \"distplot\", \"distplot\", \"distplot\", \"distplot\", \"distplot\", \"distplot\", \"distplot\", \"distplot\", \"distplot\", \"distplot\", \"distplot\", \"distplot\", \"distplot\", \"distplot\", \"distplot\", \"distplot\", \"distplot\", \"distplot\", \"distplot\", \"distplot\", \"distplot\", \"distplot\", \"distplot\", \"distplot\", \"distplot\", \"distplot\", \"distplot\", \"distplot\", \"distplot\", \"distplot\", \"distplot\", \"distplot\", \"distplot\", \"distplot\", \"distplot\", \"distplot\", \"distplot\", \"distplot\", \"distplot\", \"distplot\", \"distplot\", \"distplot\", \"distplot\", \"distplot\", \"distplot\", \"distplot\", \"distplot\", \"distplot\", \"distplot\", \"distplot\", \"distplot\", \"distplot\", \"distplot\", \"distplot\", \"distplot\", \"distplot\", \"distplot\", \"distplot\", \"distplot\", \"distplot\", \"distplot\", \"distplot\", \"distplot\", \"distplot\", \"distplot\", \"distplot\", \"distplot\", \"distplot\", \"distplot\", \"distplot\", \"distplot\", \"distplot\", \"distplot\", \"distplot\", \"distplot\", \"distplot\", \"distplot\", \"distplot\", \"distplot\", \"distplot\", \"distplot\", \"distplot\", \"distplot\", \"distplot\", \"distplot\", \"distplot\", \"distplot\", \"distplot\", \"distplot\", \"distplot\", \"distplot\", \"distplot\", \"distplot\", \"distplot\", \"distplot\", \"distplot\", \"distplot\", \"distplot\", \"distplot\", \"distplot\", \"distplot\", \"distplot\", \"distplot\", \"distplot\", \"distplot\", \"distplot\", \"distplot\", \"distplot\", \"distplot\", \"distplot\", \"distplot\", \"distplot\", \"distplot\", \"distplot\", \"distplot\", \"distplot\", \"distplot\", \"distplot\", \"distplot\", \"distplot\", \"distplot\", \"distplot\", \"distplot\", \"distplot\", \"distplot\", \"distplot\", \"distplot\", \"distplot\", \"distplot\", \"distplot\", \"distplot\", \"distplot\", \"distplot\", \"distplot\", \"distplot\", \"distplot\", \"distplot\", \"distplot\", \"distplot\", \"distplot\", \"distplot\", \"distplot\", \"distplot\", \"distplot\", \"distplot\", \"distplot\", \"distplot\", \"distplot\", \"distplot\", \"distplot\", \"distplot\", \"distplot\", \"distplot\", \"distplot\", \"distplot\", \"distplot\", \"distplot\", \"distplot\", \"distplot\", \"distplot\", \"distplot\", \"distplot\", \"distplot\", \"distplot\", \"distplot\", \"distplot\", \"distplot\", \"distplot\", \"distplot\", \"distplot\", \"distplot\", \"distplot\", \"distplot\", \"distplot\", \"distplot\", \"distplot\", \"distplot\", \"distplot\", \"distplot\", \"distplot\", \"distplot\", \"distplot\", \"distplot\", \"distplot\", \"distplot\", \"distplot\", \"distplot\", \"distplot\", \"distplot\", \"distplot\", \"distplot\", \"distplot\", \"distplot\", \"distplot\", \"distplot\", \"distplot\", \"distplot\", \"distplot\", \"distplot\", \"distplot\", \"distplot\", \"distplot\", \"distplot\", \"distplot\", \"distplot\", \"distplot\", \"distplot\", \"distplot\", \"distplot\", \"distplot\", \"distplot\", \"distplot\", \"distplot\", \"distplot\", \"distplot\", \"distplot\", \"distplot\", \"distplot\", \"distplot\", \"distplot\", \"distplot\", \"distplot\", \"distplot\", \"distplot\", \"distplot\", \"distplot\", \"distplot\", \"distplot\", \"distplot\", \"distplot\", \"distplot\", \"distplot\", \"distplot\", \"distplot\", \"distplot\", \"distplot\", \"distplot\", \"distplot\", \"distplot\", \"distplot\", \"distplot\", \"distplot\", \"distplot\", \"distplot\", \"distplot\", \"distplot\", \"distplot\", \"distplot\", \"distplot\", \"distplot\", \"distplot\", \"distplot\", \"distplot\", \"distplot\", \"distplot\", \"distplot\", \"distplot\", \"distplot\", \"distplot\", \"distplot\", \"distplot\", \"distplot\", \"distplot\", \"distplot\", \"distplot\", \"distplot\", \"distplot\", \"distplot\", \"distplot\", \"distplot\", \"distplot\", \"distplot\", \"distplot\", \"distplot\", \"distplot\", \"distplot\", \"distplot\", \"distplot\", \"distplot\", \"distplot\", \"distplot\", \"distplot\", \"distplot\", \"distplot\", \"distplot\", \"distplot\", \"distplot\", \"distplot\", \"distplot\", \"distplot\", \"distplot\", \"distplot\", \"distplot\", \"distplot\", \"distplot\", \"distplot\", \"distplot\", \"distplot\", \"distplot\", \"distplot\", \"distplot\", \"distplot\", \"distplot\", \"distplot\", \"distplot\", \"distplot\", \"distplot\", \"distplot\", \"distplot\", \"distplot\", \"distplot\", \"distplot\", \"distplot\", \"distplot\", \"distplot\", \"distplot\", \"distplot\", \"distplot\", \"distplot\", \"distplot\", \"distplot\", \"distplot\", \"distplot\", \"distplot\", \"distplot\", \"distplot\", \"distplot\", \"distplot\", \"distplot\", \"distplot\", \"distplot\", \"distplot\", \"distplot\", \"distplot\", \"distplot\", \"distplot\", \"distplot\", \"distplot\", \"distplot\", \"distplot\", \"distplot\", \"distplot\", \"distplot\", \"distplot\", \"distplot\", \"distplot\", \"distplot\", \"distplot\", \"distplot\", \"distplot\", \"distplot\", \"distplot\", \"distplot\", \"distplot\", \"distplot\", \"distplot\", \"distplot\", \"distplot\", \"distplot\", \"distplot\", \"distplot\", \"distplot\", \"distplot\", \"distplot\", \"distplot\", \"distplot\", \"distplot\", \"distplot\", \"distplot\", \"distplot\", \"distplot\", \"distplot\", \"distplot\", \"distplot\", \"distplot\", \"distplot\", \"distplot\", \"distplot\", \"distplot\", \"distplot\", \"distplot\", \"distplot\", \"distplot\", \"distplot\", \"distplot\", \"distplot\", \"distplot\", \"distplot\", \"distplot\", \"distplot\", \"distplot\", \"distplot\", \"distplot\", \"distplot\", \"distplot\", \"distplot\", \"distplot\", \"distplot\", \"distplot\", \"distplot\", \"distplot\", \"distplot\", \"distplot\", \"distplot\", \"distplot\", \"distplot\", \"distplot\", \"distplot\", \"distplot\", \"distplot\", \"distplot\", \"distplot\", \"distplot\", \"distplot\", \"distplot\", \"distplot\", \"distplot\", \"distplot\", \"distplot\", \"distplot\", \"distplot\", \"distplot\", \"distplot\", \"distplot\", \"distplot\", \"distplot\", \"distplot\", \"distplot\", \"distplot\", \"distplot\", \"distplot\", \"distplot\", \"distplot\", \"distplot\", \"distplot\", \"distplot\", \"distplot\", \"distplot\", \"distplot\", \"distplot\", \"distplot\", \"distplot\", \"distplot\", \"distplot\", \"distplot\", \"distplot\", \"distplot\", \"distplot\", \"distplot\", \"distplot\", \"distplot\", \"distplot\", \"distplot\", \"distplot\", \"distplot\", \"distplot\", \"distplot\", \"distplot\", \"distplot\", \"distplot\", \"distplot\", \"distplot\", \"distplot\", \"distplot\", \"distplot\", \"distplot\", \"distplot\", \"distplot\", \"distplot\", \"distplot\", \"distplot\", \"distplot\", \"distplot\", \"distplot\", \"distplot\", \"distplot\", \"distplot\", \"distplot\", \"distplot\", \"distplot\", \"distplot\", \"distplot\", \"distplot\", \"distplot\", \"distplot\", \"distplot\", \"distplot\", \"distplot\", \"distplot\", \"distplot\", \"distplot\", \"distplot\", \"distplot\", \"distplot\", \"distplot\", \"distplot\", \"distplot\", \"distplot\", \"distplot\", \"distplot\", \"distplot\", \"distplot\", \"distplot\", \"distplot\", \"distplot\", \"distplot\", \"distplot\", \"distplot\", \"distplot\", \"distplot\", \"distplot\", \"distplot\", \"distplot\", \"distplot\", \"distplot\", \"distplot\", \"distplot\", \"distplot\", \"distplot\", \"distplot\", \"distplot\", \"distplot\", \"distplot\", \"distplot\", \"distplot\", \"distplot\", \"distplot\", \"distplot\", \"distplot\", \"distplot\", \"distplot\", \"distplot\", \"distplot\", \"distplot\", \"distplot\", \"distplot\", \"distplot\", \"distplot\", \"distplot\", \"distplot\", \"distplot\", \"distplot\", \"distplot\", \"distplot\", \"distplot\", \"distplot\", \"distplot\", \"distplot\", \"distplot\", \"distplot\", \"distplot\", \"distplot\", \"distplot\", \"distplot\", \"distplot\", \"distplot\", \"distplot\", \"distplot\", \"distplot\", \"distplot\", \"distplot\", \"distplot\", \"distplot\", \"distplot\", \"distplot\", \"distplot\", \"distplot\", \"distplot\", \"distplot\", \"distplot\", \"distplot\", \"distplot\", \"distplot\", \"distplot\", \"distplot\", \"distplot\", \"distplot\", \"distplot\", \"distplot\", \"distplot\", \"distplot\", \"distplot\", \"distplot\", \"distplot\", \"distplot\", \"distplot\", \"distplot\", \"distplot\", \"distplot\", \"distplot\", \"distplot\", \"distplot\", \"distplot\", \"distplot\", \"distplot\", \"distplot\", \"distplot\", \"distplot\", \"distplot\", \"distplot\", \"distplot\", \"distplot\", \"distplot\", \"distplot\", \"distplot\", \"distplot\", \"distplot\", \"distplot\", \"distplot\", \"distplot\", \"distplot\", \"distplot\", \"distplot\", \"distplot\", \"distplot\", \"distplot\", \"distplot\", \"distplot\", \"distplot\", \"distplot\", \"distplot\", \"distplot\", \"distplot\", \"distplot\", \"distplot\", \"distplot\", \"distplot\", \"distplot\", \"distplot\", \"distplot\", \"distplot\", \"distplot\", \"distplot\", \"distplot\", \"distplot\", \"distplot\", \"distplot\", \"distplot\", \"distplot\", \"distplot\", \"distplot\", \"distplot\", \"distplot\", \"distplot\", \"distplot\", \"distplot\", \"distplot\", \"distplot\", \"distplot\", \"distplot\", \"distplot\", \"distplot\", \"distplot\", \"distplot\", \"distplot\", \"distplot\", \"distplot\", \"distplot\", \"distplot\", \"distplot\", \"distplot\", \"distplot\", \"distplot\", \"distplot\", \"distplot\", \"distplot\", \"distplot\", \"distplot\", \"distplot\", \"distplot\", \"distplot\", \"distplot\", \"distplot\", \"distplot\", \"distplot\", \"distplot\", \"distplot\", \"distplot\", \"distplot\", \"distplot\", \"distplot\", \"distplot\", \"distplot\", \"distplot\", \"distplot\", \"distplot\", \"distplot\", \"distplot\", \"distplot\", \"distplot\", \"distplot\", \"distplot\", \"distplot\", \"distplot\", \"distplot\", \"distplot\", \"distplot\", \"distplot\", \"distplot\", \"distplot\", \"distplot\", \"distplot\", \"distplot\", \"distplot\", \"distplot\", \"distplot\", \"distplot\", \"distplot\", \"distplot\", \"distplot\", \"distplot\", \"distplot\", \"distplot\", \"distplot\", \"distplot\", \"distplot\", \"distplot\", \"distplot\", \"distplot\", \"distplot\", \"distplot\", \"distplot\", \"distplot\", \"distplot\", \"distplot\", \"distplot\", \"distplot\", \"distplot\", \"distplot\", \"distplot\", \"distplot\", \"distplot\", \"distplot\", \"distplot\", \"distplot\", \"distplot\", \"distplot\", \"distplot\", \"distplot\", \"distplot\", \"distplot\", \"distplot\", \"distplot\", \"distplot\", \"distplot\", \"distplot\", \"distplot\", \"distplot\", \"distplot\", \"distplot\", \"distplot\", \"distplot\", \"distplot\", \"distplot\", \"distplot\", \"distplot\", \"distplot\", \"distplot\", \"distplot\", \"distplot\", \"distplot\", \"distplot\", \"distplot\", \"distplot\", \"distplot\", \"distplot\", \"distplot\", \"distplot\", \"distplot\", \"distplot\", \"distplot\", \"distplot\", \"distplot\", \"distplot\", \"distplot\", \"distplot\", \"distplot\", \"distplot\", \"distplot\", \"distplot\", \"distplot\", \"distplot\", \"distplot\", \"distplot\", \"distplot\", \"distplot\", \"distplot\", \"distplot\", \"distplot\", \"distplot\", \"distplot\", \"distplot\", \"distplot\", \"distplot\", \"distplot\", \"distplot\", \"distplot\", \"distplot\", \"distplot\", \"distplot\", \"distplot\", \"distplot\", \"distplot\", \"distplot\", \"distplot\", \"distplot\", \"distplot\"], \"yaxis\": \"y2\"}],\n",
       "                        {\"barmode\": \"overlay\", \"hovermode\": \"closest\", \"legend\": {\"traceorder\": \"reversed\"}, \"template\": {\"data\": {\"bar\": [{\"error_x\": {\"color\": \"#2a3f5f\"}, \"error_y\": {\"color\": \"#2a3f5f\"}, \"marker\": {\"line\": {\"color\": \"#E5ECF6\", \"width\": 0.5}}, \"type\": \"bar\"}], \"barpolar\": [{\"marker\": {\"line\": {\"color\": \"#E5ECF6\", \"width\": 0.5}}, \"type\": \"barpolar\"}], \"carpet\": [{\"aaxis\": {\"endlinecolor\": \"#2a3f5f\", \"gridcolor\": \"white\", \"linecolor\": \"white\", \"minorgridcolor\": \"white\", \"startlinecolor\": \"#2a3f5f\"}, \"baxis\": {\"endlinecolor\": \"#2a3f5f\", \"gridcolor\": \"white\", \"linecolor\": \"white\", \"minorgridcolor\": \"white\", \"startlinecolor\": \"#2a3f5f\"}, \"type\": \"carpet\"}], \"choropleth\": [{\"colorbar\": {\"outlinewidth\": 0, \"ticks\": \"\"}, \"type\": \"choropleth\"}], \"contour\": [{\"colorbar\": {\"outlinewidth\": 0, \"ticks\": \"\"}, \"colorscale\": [[0.0, \"#0d0887\"], [0.1111111111111111, \"#46039f\"], [0.2222222222222222, \"#7201a8\"], [0.3333333333333333, \"#9c179e\"], [0.4444444444444444, \"#bd3786\"], [0.5555555555555556, \"#d8576b\"], [0.6666666666666666, \"#ed7953\"], [0.7777777777777778, \"#fb9f3a\"], [0.8888888888888888, \"#fdca26\"], [1.0, \"#f0f921\"]], \"type\": \"contour\"}], \"contourcarpet\": [{\"colorbar\": {\"outlinewidth\": 0, \"ticks\": \"\"}, \"type\": \"contourcarpet\"}], \"heatmap\": [{\"colorbar\": {\"outlinewidth\": 0, \"ticks\": \"\"}, \"colorscale\": [[0.0, \"#0d0887\"], [0.1111111111111111, \"#46039f\"], [0.2222222222222222, \"#7201a8\"], [0.3333333333333333, \"#9c179e\"], [0.4444444444444444, \"#bd3786\"], [0.5555555555555556, \"#d8576b\"], [0.6666666666666666, \"#ed7953\"], [0.7777777777777778, \"#fb9f3a\"], [0.8888888888888888, \"#fdca26\"], [1.0, \"#f0f921\"]], \"type\": \"heatmap\"}], \"heatmapgl\": [{\"colorbar\": {\"outlinewidth\": 0, \"ticks\": \"\"}, \"colorscale\": [[0.0, \"#0d0887\"], [0.1111111111111111, \"#46039f\"], [0.2222222222222222, \"#7201a8\"], [0.3333333333333333, \"#9c179e\"], [0.4444444444444444, \"#bd3786\"], [0.5555555555555556, \"#d8576b\"], [0.6666666666666666, \"#ed7953\"], [0.7777777777777778, \"#fb9f3a\"], [0.8888888888888888, \"#fdca26\"], [1.0, \"#f0f921\"]], \"type\": \"heatmapgl\"}], \"histogram\": [{\"marker\": {\"colorbar\": {\"outlinewidth\": 0, \"ticks\": \"\"}}, \"type\": \"histogram\"}], \"histogram2d\": [{\"colorbar\": {\"outlinewidth\": 0, \"ticks\": \"\"}, \"colorscale\": [[0.0, \"#0d0887\"], [0.1111111111111111, \"#46039f\"], [0.2222222222222222, \"#7201a8\"], [0.3333333333333333, \"#9c179e\"], [0.4444444444444444, \"#bd3786\"], [0.5555555555555556, \"#d8576b\"], [0.6666666666666666, \"#ed7953\"], [0.7777777777777778, \"#fb9f3a\"], [0.8888888888888888, \"#fdca26\"], [1.0, \"#f0f921\"]], \"type\": \"histogram2d\"}], \"histogram2dcontour\": [{\"colorbar\": {\"outlinewidth\": 0, \"ticks\": \"\"}, \"colorscale\": [[0.0, \"#0d0887\"], [0.1111111111111111, \"#46039f\"], [0.2222222222222222, \"#7201a8\"], [0.3333333333333333, \"#9c179e\"], [0.4444444444444444, \"#bd3786\"], [0.5555555555555556, \"#d8576b\"], [0.6666666666666666, \"#ed7953\"], [0.7777777777777778, \"#fb9f3a\"], [0.8888888888888888, \"#fdca26\"], [1.0, \"#f0f921\"]], \"type\": \"histogram2dcontour\"}], \"mesh3d\": [{\"colorbar\": {\"outlinewidth\": 0, \"ticks\": \"\"}, \"type\": \"mesh3d\"}], \"parcoords\": [{\"line\": {\"colorbar\": {\"outlinewidth\": 0, \"ticks\": \"\"}}, \"type\": \"parcoords\"}], \"pie\": [{\"automargin\": true, \"type\": \"pie\"}], \"scatter\": [{\"marker\": {\"colorbar\": {\"outlinewidth\": 0, \"ticks\": \"\"}}, \"type\": \"scatter\"}], \"scatter3d\": [{\"line\": {\"colorbar\": {\"outlinewidth\": 0, \"ticks\": \"\"}}, \"marker\": {\"colorbar\": {\"outlinewidth\": 0, \"ticks\": \"\"}}, \"type\": \"scatter3d\"}], \"scattercarpet\": [{\"marker\": {\"colorbar\": {\"outlinewidth\": 0, \"ticks\": \"\"}}, \"type\": \"scattercarpet\"}], \"scattergeo\": [{\"marker\": {\"colorbar\": {\"outlinewidth\": 0, \"ticks\": \"\"}}, \"type\": \"scattergeo\"}], \"scattergl\": [{\"marker\": {\"colorbar\": {\"outlinewidth\": 0, \"ticks\": \"\"}}, \"type\": \"scattergl\"}], \"scattermapbox\": [{\"marker\": {\"colorbar\": {\"outlinewidth\": 0, \"ticks\": \"\"}}, \"type\": \"scattermapbox\"}], \"scatterpolar\": [{\"marker\": {\"colorbar\": {\"outlinewidth\": 0, \"ticks\": \"\"}}, \"type\": \"scatterpolar\"}], \"scatterpolargl\": [{\"marker\": {\"colorbar\": {\"outlinewidth\": 0, \"ticks\": \"\"}}, \"type\": \"scatterpolargl\"}], \"scatterternary\": [{\"marker\": {\"colorbar\": {\"outlinewidth\": 0, \"ticks\": \"\"}}, \"type\": \"scatterternary\"}], \"surface\": [{\"colorbar\": {\"outlinewidth\": 0, \"ticks\": \"\"}, \"colorscale\": [[0.0, \"#0d0887\"], [0.1111111111111111, \"#46039f\"], [0.2222222222222222, \"#7201a8\"], [0.3333333333333333, \"#9c179e\"], [0.4444444444444444, \"#bd3786\"], [0.5555555555555556, \"#d8576b\"], [0.6666666666666666, \"#ed7953\"], [0.7777777777777778, \"#fb9f3a\"], [0.8888888888888888, \"#fdca26\"], [1.0, \"#f0f921\"]], \"type\": \"surface\"}], \"table\": [{\"cells\": {\"fill\": {\"color\": \"#EBF0F8\"}, \"line\": {\"color\": \"white\"}}, \"header\": {\"fill\": {\"color\": \"#C8D4E3\"}, \"line\": {\"color\": \"white\"}}, \"type\": \"table\"}]}, \"layout\": {\"annotationdefaults\": {\"arrowcolor\": \"#2a3f5f\", \"arrowhead\": 0, \"arrowwidth\": 1}, \"coloraxis\": {\"colorbar\": {\"outlinewidth\": 0, \"ticks\": \"\"}}, \"colorscale\": {\"diverging\": [[0, \"#8e0152\"], [0.1, \"#c51b7d\"], [0.2, \"#de77ae\"], [0.3, \"#f1b6da\"], [0.4, \"#fde0ef\"], [0.5, \"#f7f7f7\"], [0.6, \"#e6f5d0\"], [0.7, \"#b8e186\"], [0.8, \"#7fbc41\"], [0.9, \"#4d9221\"], [1, \"#276419\"]], \"sequential\": [[0.0, \"#0d0887\"], [0.1111111111111111, \"#46039f\"], [0.2222222222222222, \"#7201a8\"], [0.3333333333333333, \"#9c179e\"], [0.4444444444444444, \"#bd3786\"], [0.5555555555555556, \"#d8576b\"], [0.6666666666666666, \"#ed7953\"], [0.7777777777777778, \"#fb9f3a\"], [0.8888888888888888, \"#fdca26\"], [1.0, \"#f0f921\"]], \"sequentialminus\": [[0.0, \"#0d0887\"], [0.1111111111111111, \"#46039f\"], [0.2222222222222222, \"#7201a8\"], [0.3333333333333333, \"#9c179e\"], [0.4444444444444444, \"#bd3786\"], [0.5555555555555556, \"#d8576b\"], [0.6666666666666666, \"#ed7953\"], [0.7777777777777778, \"#fb9f3a\"], [0.8888888888888888, \"#fdca26\"], [1.0, \"#f0f921\"]]}, \"colorway\": [\"#636efa\", \"#EF553B\", \"#00cc96\", \"#ab63fa\", \"#FFA15A\", \"#19d3f3\", \"#FF6692\", \"#B6E880\", \"#FF97FF\", \"#FECB52\"], \"font\": {\"color\": \"#2a3f5f\"}, \"geo\": {\"bgcolor\": \"white\", \"lakecolor\": \"white\", \"landcolor\": \"#E5ECF6\", \"showlakes\": true, \"showland\": true, \"subunitcolor\": \"white\"}, \"hoverlabel\": {\"align\": \"left\"}, \"hovermode\": \"closest\", \"mapbox\": {\"style\": \"light\"}, \"paper_bgcolor\": \"white\", \"plot_bgcolor\": \"#E5ECF6\", \"polar\": {\"angularaxis\": {\"gridcolor\": \"white\", \"linecolor\": \"white\", \"ticks\": \"\"}, \"bgcolor\": \"#E5ECF6\", \"radialaxis\": {\"gridcolor\": \"white\", \"linecolor\": \"white\", \"ticks\": \"\"}}, \"scene\": {\"xaxis\": {\"backgroundcolor\": \"#E5ECF6\", \"gridcolor\": \"white\", \"gridwidth\": 2, \"linecolor\": \"white\", \"showbackground\": true, \"ticks\": \"\", \"zerolinecolor\": \"white\"}, \"yaxis\": {\"backgroundcolor\": \"#E5ECF6\", \"gridcolor\": \"white\", \"gridwidth\": 2, \"linecolor\": \"white\", \"showbackground\": true, \"ticks\": \"\", \"zerolinecolor\": \"white\"}, \"zaxis\": {\"backgroundcolor\": \"#E5ECF6\", \"gridcolor\": \"white\", \"gridwidth\": 2, \"linecolor\": \"white\", \"showbackground\": true, \"ticks\": \"\", \"zerolinecolor\": \"white\"}}, \"shapedefaults\": {\"line\": {\"color\": \"#2a3f5f\"}}, \"ternary\": {\"aaxis\": {\"gridcolor\": \"white\", \"linecolor\": \"white\", \"ticks\": \"\"}, \"baxis\": {\"gridcolor\": \"white\", \"linecolor\": \"white\", \"ticks\": \"\"}, \"bgcolor\": \"#E5ECF6\", \"caxis\": {\"gridcolor\": \"white\", \"linecolor\": \"white\", \"ticks\": \"\"}}, \"title\": {\"x\": 0.05}, \"xaxis\": {\"automargin\": true, \"gridcolor\": \"white\", \"linecolor\": \"white\", \"ticks\": \"\", \"title\": {\"standoff\": 15}, \"zerolinecolor\": \"white\", \"zerolinewidth\": 2}, \"yaxis\": {\"automargin\": true, \"gridcolor\": \"white\", \"linecolor\": \"white\", \"ticks\": \"\", \"title\": {\"standoff\": 15}, \"zerolinecolor\": \"white\", \"zerolinewidth\": 2}}}, \"title\": {\"text\": \"Distplot showing the distribution of the generated random numbers\"}, \"xaxis\": {\"anchor\": \"y2\", \"domain\": [0.0, 1.0], \"zeroline\": false}, \"yaxis\": {\"anchor\": \"free\", \"domain\": [0.35, 1], \"position\": 0.0}, \"yaxis2\": {\"anchor\": \"x\", \"domain\": [0, 0.25], \"dtick\": 1, \"showticklabels\": false}},\n",
       "                        {\"responsive\": true}\n",
       "                    ).then(function(){\n",
       "                            \n",
       "var gd = document.getElementById('56ee8691-abb5-48cb-a1e1-34a22fe818c7');\n",
       "var x = new MutationObserver(function (mutations, observer) {{\n",
       "        var display = window.getComputedStyle(gd).display;\n",
       "        if (!display || display === 'none') {{\n",
       "            console.log([gd, 'removed!']);\n",
       "            Plotly.purge(gd);\n",
       "            observer.disconnect();\n",
       "        }}\n",
       "}});\n",
       "\n",
       "// Listen for the removal of the full notebook cells\n",
       "var notebookContainer = gd.closest('#notebook-container');\n",
       "if (notebookContainer) {{\n",
       "    x.observe(notebookContainer, {childList: true});\n",
       "}}\n",
       "\n",
       "// Listen for the clearing of the current output cell\n",
       "var outputEl = gd.closest('.output');\n",
       "if (outputEl) {{\n",
       "    x.observe(outputEl, {childList: true});\n",
       "}}\n",
       "\n",
       "                        })\n",
       "                };\n",
       "                });\n",
       "            </script>\n",
       "        </div>"
      ]
     },
     "metadata": {},
     "output_type": "display_data"
    }
   ],
   "source": [
    "\n",
    "x = np.random.randn(1000)\n",
    "hist_data = [x]\n",
    "group_labels = ['distplot']\n",
    "fig = ff.create_distplot(hist_data, group_labels)\n",
    "fig.update_layout(title_text='Distplot showing the distribution of the generated random numbers')\n",
    "\n",
    "iplot(fig)"
   ]
  },
  {
   "cell_type": "markdown",
   "metadata": {},
   "source": [
    "## 6. Box Plot "
   ]
  },
  {
   "cell_type": "code",
   "execution_count": 17,
   "metadata": {},
   "outputs": [
    {
     "data": {
      "text/html": [
       "<div>\n",
       "<style scoped>\n",
       "    .dataframe tbody tr th:only-of-type {\n",
       "        vertical-align: middle;\n",
       "    }\n",
       "\n",
       "    .dataframe tbody tr th {\n",
       "        vertical-align: top;\n",
       "    }\n",
       "\n",
       "    .dataframe thead th {\n",
       "        text-align: right;\n",
       "    }\n",
       "</style>\n",
       "<table border=\"1\" class=\"dataframe\">\n",
       "  <thead>\n",
       "    <tr style=\"text-align: right;\">\n",
       "      <th>category</th>\n",
       "      <th>CategoryA</th>\n",
       "      <th>CategoryB</th>\n",
       "      <th>CategoryC</th>\n",
       "    </tr>\n",
       "  </thead>\n",
       "  <tbody>\n",
       "    <tr>\n",
       "      <th>0</th>\n",
       "      <td>3</td>\n",
       "      <td>2</td>\n",
       "      <td>1</td>\n",
       "    </tr>\n",
       "    <tr>\n",
       "      <th>1</th>\n",
       "      <td>3</td>\n",
       "      <td>2</td>\n",
       "      <td>5</td>\n",
       "    </tr>\n",
       "    <tr>\n",
       "      <th>2</th>\n",
       "      <td>2</td>\n",
       "      <td>1</td>\n",
       "      <td>2</td>\n",
       "    </tr>\n",
       "    <tr>\n",
       "      <th>3</th>\n",
       "      <td>2</td>\n",
       "      <td>2</td>\n",
       "      <td>3</td>\n",
       "    </tr>\n",
       "    <tr>\n",
       "      <th>4</th>\n",
       "      <td>1</td>\n",
       "      <td>1</td>\n",
       "      <td>2</td>\n",
       "    </tr>\n",
       "    <tr>\n",
       "      <th>5</th>\n",
       "      <td>2</td>\n",
       "      <td>7</td>\n",
       "      <td>3</td>\n",
       "    </tr>\n",
       "    <tr>\n",
       "      <th>6</th>\n",
       "      <td>4</td>\n",
       "      <td>3</td>\n",
       "      <td>2</td>\n",
       "    </tr>\n",
       "    <tr>\n",
       "      <th>7</th>\n",
       "      <td>6</td>\n",
       "      <td>5</td>\n",
       "      <td>5</td>\n",
       "    </tr>\n",
       "    <tr>\n",
       "      <th>8</th>\n",
       "      <td>4</td>\n",
       "      <td>2</td>\n",
       "      <td>4</td>\n",
       "    </tr>\n",
       "    <tr>\n",
       "      <th>9</th>\n",
       "      <td>4</td>\n",
       "      <td>4</td>\n",
       "      <td>7</td>\n",
       "    </tr>\n",
       "    <tr>\n",
       "      <th>10</th>\n",
       "      <td>4</td>\n",
       "      <td>2</td>\n",
       "      <td>6</td>\n",
       "    </tr>\n",
       "    <tr>\n",
       "      <th>11</th>\n",
       "      <td>6</td>\n",
       "      <td>2</td>\n",
       "      <td>6</td>\n",
       "    </tr>\n",
       "    <tr>\n",
       "      <th>12</th>\n",
       "      <td>7</td>\n",
       "      <td>2</td>\n",
       "      <td>6</td>\n",
       "    </tr>\n",
       "    <tr>\n",
       "      <th>13</th>\n",
       "      <td>2</td>\n",
       "      <td>4</td>\n",
       "      <td>5</td>\n",
       "    </tr>\n",
       "    <tr>\n",
       "      <th>14</th>\n",
       "      <td>4</td>\n",
       "      <td>2</td>\n",
       "      <td>7</td>\n",
       "    </tr>\n",
       "  </tbody>\n",
       "</table>\n",
       "</div>"
      ],
      "text/plain": [
       "category  CategoryA  CategoryB  CategoryC\n",
       "0                 3          2          1\n",
       "1                 3          2          5\n",
       "2                 2          1          2\n",
       "3                 2          2          3\n",
       "4                 1          1          2\n",
       "5                 2          7          3\n",
       "6                 4          3          2\n",
       "7                 6          5          5\n",
       "8                 4          2          4\n",
       "9                 4          4          7\n",
       "10                4          2          6\n",
       "11                6          2          6\n",
       "12                7          2          6\n",
       "13                2          4          5\n",
       "14                4          2          7"
      ]
     },
     "execution_count": 17,
     "metadata": {},
     "output_type": "execute_result"
    }
   ],
   "source": [
    "df_box = df.groupby(['date','category']).size().reset_index().rename(columns={0:'category_count'})\n",
    "plot_box = df_box.pivot_table(index='date', columns='category', values='category_count', fill_value=0).reset_index().drop(columns=['date'])\n",
    "plot_box"
   ]
  },
  {
   "cell_type": "markdown",
   "metadata": {},
   "source": [
    "Combine the CategoryA, CategoryB and CategoryC values to a list to plot the box plot"
   ]
  },
  {
   "cell_type": "code",
   "execution_count": 18,
   "metadata": {},
   "outputs": [
    {
     "data": {
      "application/vnd.plotly.v1+json": {
       "config": {
        "linkText": "Export to plot.ly",
        "plotlyServerURL": "https://plot.ly",
        "showLink": false
       },
       "data": [
        {
         "type": "box",
         "y": [
          3,
          2,
          1,
          3,
          2,
          5,
          2,
          1,
          2,
          2,
          2,
          3,
          1,
          1,
          2,
          2,
          7,
          3,
          4,
          3,
          2,
          6,
          5,
          5,
          4,
          2,
          4,
          4,
          4,
          7,
          4,
          2,
          6,
          6,
          2,
          6,
          7,
          2,
          6,
          2,
          4,
          5,
          4,
          2,
          7
         ]
        }
       ],
       "layout": {
        "template": {
         "data": {
          "bar": [
           {
            "error_x": {
             "color": "#2a3f5f"
            },
            "error_y": {
             "color": "#2a3f5f"
            },
            "marker": {
             "line": {
              "color": "#E5ECF6",
              "width": 0.5
             }
            },
            "type": "bar"
           }
          ],
          "barpolar": [
           {
            "marker": {
             "line": {
              "color": "#E5ECF6",
              "width": 0.5
             }
            },
            "type": "barpolar"
           }
          ],
          "carpet": [
           {
            "aaxis": {
             "endlinecolor": "#2a3f5f",
             "gridcolor": "white",
             "linecolor": "white",
             "minorgridcolor": "white",
             "startlinecolor": "#2a3f5f"
            },
            "baxis": {
             "endlinecolor": "#2a3f5f",
             "gridcolor": "white",
             "linecolor": "white",
             "minorgridcolor": "white",
             "startlinecolor": "#2a3f5f"
            },
            "type": "carpet"
           }
          ],
          "choropleth": [
           {
            "colorbar": {
             "outlinewidth": 0,
             "ticks": ""
            },
            "type": "choropleth"
           }
          ],
          "contour": [
           {
            "colorbar": {
             "outlinewidth": 0,
             "ticks": ""
            },
            "colorscale": [
             [
              0,
              "#0d0887"
             ],
             [
              0.1111111111111111,
              "#46039f"
             ],
             [
              0.2222222222222222,
              "#7201a8"
             ],
             [
              0.3333333333333333,
              "#9c179e"
             ],
             [
              0.4444444444444444,
              "#bd3786"
             ],
             [
              0.5555555555555556,
              "#d8576b"
             ],
             [
              0.6666666666666666,
              "#ed7953"
             ],
             [
              0.7777777777777778,
              "#fb9f3a"
             ],
             [
              0.8888888888888888,
              "#fdca26"
             ],
             [
              1,
              "#f0f921"
             ]
            ],
            "type": "contour"
           }
          ],
          "contourcarpet": [
           {
            "colorbar": {
             "outlinewidth": 0,
             "ticks": ""
            },
            "type": "contourcarpet"
           }
          ],
          "heatmap": [
           {
            "colorbar": {
             "outlinewidth": 0,
             "ticks": ""
            },
            "colorscale": [
             [
              0,
              "#0d0887"
             ],
             [
              0.1111111111111111,
              "#46039f"
             ],
             [
              0.2222222222222222,
              "#7201a8"
             ],
             [
              0.3333333333333333,
              "#9c179e"
             ],
             [
              0.4444444444444444,
              "#bd3786"
             ],
             [
              0.5555555555555556,
              "#d8576b"
             ],
             [
              0.6666666666666666,
              "#ed7953"
             ],
             [
              0.7777777777777778,
              "#fb9f3a"
             ],
             [
              0.8888888888888888,
              "#fdca26"
             ],
             [
              1,
              "#f0f921"
             ]
            ],
            "type": "heatmap"
           }
          ],
          "heatmapgl": [
           {
            "colorbar": {
             "outlinewidth": 0,
             "ticks": ""
            },
            "colorscale": [
             [
              0,
              "#0d0887"
             ],
             [
              0.1111111111111111,
              "#46039f"
             ],
             [
              0.2222222222222222,
              "#7201a8"
             ],
             [
              0.3333333333333333,
              "#9c179e"
             ],
             [
              0.4444444444444444,
              "#bd3786"
             ],
             [
              0.5555555555555556,
              "#d8576b"
             ],
             [
              0.6666666666666666,
              "#ed7953"
             ],
             [
              0.7777777777777778,
              "#fb9f3a"
             ],
             [
              0.8888888888888888,
              "#fdca26"
             ],
             [
              1,
              "#f0f921"
             ]
            ],
            "type": "heatmapgl"
           }
          ],
          "histogram": [
           {
            "marker": {
             "colorbar": {
              "outlinewidth": 0,
              "ticks": ""
             }
            },
            "type": "histogram"
           }
          ],
          "histogram2d": [
           {
            "colorbar": {
             "outlinewidth": 0,
             "ticks": ""
            },
            "colorscale": [
             [
              0,
              "#0d0887"
             ],
             [
              0.1111111111111111,
              "#46039f"
             ],
             [
              0.2222222222222222,
              "#7201a8"
             ],
             [
              0.3333333333333333,
              "#9c179e"
             ],
             [
              0.4444444444444444,
              "#bd3786"
             ],
             [
              0.5555555555555556,
              "#d8576b"
             ],
             [
              0.6666666666666666,
              "#ed7953"
             ],
             [
              0.7777777777777778,
              "#fb9f3a"
             ],
             [
              0.8888888888888888,
              "#fdca26"
             ],
             [
              1,
              "#f0f921"
             ]
            ],
            "type": "histogram2d"
           }
          ],
          "histogram2dcontour": [
           {
            "colorbar": {
             "outlinewidth": 0,
             "ticks": ""
            },
            "colorscale": [
             [
              0,
              "#0d0887"
             ],
             [
              0.1111111111111111,
              "#46039f"
             ],
             [
              0.2222222222222222,
              "#7201a8"
             ],
             [
              0.3333333333333333,
              "#9c179e"
             ],
             [
              0.4444444444444444,
              "#bd3786"
             ],
             [
              0.5555555555555556,
              "#d8576b"
             ],
             [
              0.6666666666666666,
              "#ed7953"
             ],
             [
              0.7777777777777778,
              "#fb9f3a"
             ],
             [
              0.8888888888888888,
              "#fdca26"
             ],
             [
              1,
              "#f0f921"
             ]
            ],
            "type": "histogram2dcontour"
           }
          ],
          "mesh3d": [
           {
            "colorbar": {
             "outlinewidth": 0,
             "ticks": ""
            },
            "type": "mesh3d"
           }
          ],
          "parcoords": [
           {
            "line": {
             "colorbar": {
              "outlinewidth": 0,
              "ticks": ""
             }
            },
            "type": "parcoords"
           }
          ],
          "pie": [
           {
            "automargin": true,
            "type": "pie"
           }
          ],
          "scatter": [
           {
            "marker": {
             "colorbar": {
              "outlinewidth": 0,
              "ticks": ""
             }
            },
            "type": "scatter"
           }
          ],
          "scatter3d": [
           {
            "line": {
             "colorbar": {
              "outlinewidth": 0,
              "ticks": ""
             }
            },
            "marker": {
             "colorbar": {
              "outlinewidth": 0,
              "ticks": ""
             }
            },
            "type": "scatter3d"
           }
          ],
          "scattercarpet": [
           {
            "marker": {
             "colorbar": {
              "outlinewidth": 0,
              "ticks": ""
             }
            },
            "type": "scattercarpet"
           }
          ],
          "scattergeo": [
           {
            "marker": {
             "colorbar": {
              "outlinewidth": 0,
              "ticks": ""
             }
            },
            "type": "scattergeo"
           }
          ],
          "scattergl": [
           {
            "marker": {
             "colorbar": {
              "outlinewidth": 0,
              "ticks": ""
             }
            },
            "type": "scattergl"
           }
          ],
          "scattermapbox": [
           {
            "marker": {
             "colorbar": {
              "outlinewidth": 0,
              "ticks": ""
             }
            },
            "type": "scattermapbox"
           }
          ],
          "scatterpolar": [
           {
            "marker": {
             "colorbar": {
              "outlinewidth": 0,
              "ticks": ""
             }
            },
            "type": "scatterpolar"
           }
          ],
          "scatterpolargl": [
           {
            "marker": {
             "colorbar": {
              "outlinewidth": 0,
              "ticks": ""
             }
            },
            "type": "scatterpolargl"
           }
          ],
          "scatterternary": [
           {
            "marker": {
             "colorbar": {
              "outlinewidth": 0,
              "ticks": ""
             }
            },
            "type": "scatterternary"
           }
          ],
          "surface": [
           {
            "colorbar": {
             "outlinewidth": 0,
             "ticks": ""
            },
            "colorscale": [
             [
              0,
              "#0d0887"
             ],
             [
              0.1111111111111111,
              "#46039f"
             ],
             [
              0.2222222222222222,
              "#7201a8"
             ],
             [
              0.3333333333333333,
              "#9c179e"
             ],
             [
              0.4444444444444444,
              "#bd3786"
             ],
             [
              0.5555555555555556,
              "#d8576b"
             ],
             [
              0.6666666666666666,
              "#ed7953"
             ],
             [
              0.7777777777777778,
              "#fb9f3a"
             ],
             [
              0.8888888888888888,
              "#fdca26"
             ],
             [
              1,
              "#f0f921"
             ]
            ],
            "type": "surface"
           }
          ],
          "table": [
           {
            "cells": {
             "fill": {
              "color": "#EBF0F8"
             },
             "line": {
              "color": "white"
             }
            },
            "header": {
             "fill": {
              "color": "#C8D4E3"
             },
             "line": {
              "color": "white"
             }
            },
            "type": "table"
           }
          ]
         },
         "layout": {
          "annotationdefaults": {
           "arrowcolor": "#2a3f5f",
           "arrowhead": 0,
           "arrowwidth": 1
          },
          "coloraxis": {
           "colorbar": {
            "outlinewidth": 0,
            "ticks": ""
           }
          },
          "colorscale": {
           "diverging": [
            [
             0,
             "#8e0152"
            ],
            [
             0.1,
             "#c51b7d"
            ],
            [
             0.2,
             "#de77ae"
            ],
            [
             0.3,
             "#f1b6da"
            ],
            [
             0.4,
             "#fde0ef"
            ],
            [
             0.5,
             "#f7f7f7"
            ],
            [
             0.6,
             "#e6f5d0"
            ],
            [
             0.7,
             "#b8e186"
            ],
            [
             0.8,
             "#7fbc41"
            ],
            [
             0.9,
             "#4d9221"
            ],
            [
             1,
             "#276419"
            ]
           ],
           "sequential": [
            [
             0,
             "#0d0887"
            ],
            [
             0.1111111111111111,
             "#46039f"
            ],
            [
             0.2222222222222222,
             "#7201a8"
            ],
            [
             0.3333333333333333,
             "#9c179e"
            ],
            [
             0.4444444444444444,
             "#bd3786"
            ],
            [
             0.5555555555555556,
             "#d8576b"
            ],
            [
             0.6666666666666666,
             "#ed7953"
            ],
            [
             0.7777777777777778,
             "#fb9f3a"
            ],
            [
             0.8888888888888888,
             "#fdca26"
            ],
            [
             1,
             "#f0f921"
            ]
           ],
           "sequentialminus": [
            [
             0,
             "#0d0887"
            ],
            [
             0.1111111111111111,
             "#46039f"
            ],
            [
             0.2222222222222222,
             "#7201a8"
            ],
            [
             0.3333333333333333,
             "#9c179e"
            ],
            [
             0.4444444444444444,
             "#bd3786"
            ],
            [
             0.5555555555555556,
             "#d8576b"
            ],
            [
             0.6666666666666666,
             "#ed7953"
            ],
            [
             0.7777777777777778,
             "#fb9f3a"
            ],
            [
             0.8888888888888888,
             "#fdca26"
            ],
            [
             1,
             "#f0f921"
            ]
           ]
          },
          "colorway": [
           "#636efa",
           "#EF553B",
           "#00cc96",
           "#ab63fa",
           "#FFA15A",
           "#19d3f3",
           "#FF6692",
           "#B6E880",
           "#FF97FF",
           "#FECB52"
          ],
          "font": {
           "color": "#2a3f5f"
          },
          "geo": {
           "bgcolor": "white",
           "lakecolor": "white",
           "landcolor": "#E5ECF6",
           "showlakes": true,
           "showland": true,
           "subunitcolor": "white"
          },
          "hoverlabel": {
           "align": "left"
          },
          "hovermode": "closest",
          "mapbox": {
           "style": "light"
          },
          "paper_bgcolor": "white",
          "plot_bgcolor": "#E5ECF6",
          "polar": {
           "angularaxis": {
            "gridcolor": "white",
            "linecolor": "white",
            "ticks": ""
           },
           "bgcolor": "#E5ECF6",
           "radialaxis": {
            "gridcolor": "white",
            "linecolor": "white",
            "ticks": ""
           }
          },
          "scene": {
           "xaxis": {
            "backgroundcolor": "#E5ECF6",
            "gridcolor": "white",
            "gridwidth": 2,
            "linecolor": "white",
            "showbackground": true,
            "ticks": "",
            "zerolinecolor": "white"
           },
           "yaxis": {
            "backgroundcolor": "#E5ECF6",
            "gridcolor": "white",
            "gridwidth": 2,
            "linecolor": "white",
            "showbackground": true,
            "ticks": "",
            "zerolinecolor": "white"
           },
           "zaxis": {
            "backgroundcolor": "#E5ECF6",
            "gridcolor": "white",
            "gridwidth": 2,
            "linecolor": "white",
            "showbackground": true,
            "ticks": "",
            "zerolinecolor": "white"
           }
          },
          "shapedefaults": {
           "line": {
            "color": "#2a3f5f"
           }
          },
          "ternary": {
           "aaxis": {
            "gridcolor": "white",
            "linecolor": "white",
            "ticks": ""
           },
           "baxis": {
            "gridcolor": "white",
            "linecolor": "white",
            "ticks": ""
           },
           "bgcolor": "#E5ECF6",
           "caxis": {
            "gridcolor": "white",
            "linecolor": "white",
            "ticks": ""
           }
          },
          "title": {
           "x": 0.05
          },
          "xaxis": {
           "automargin": true,
           "gridcolor": "white",
           "linecolor": "white",
           "ticks": "",
           "title": {
            "standoff": 15
           },
           "zerolinecolor": "white",
           "zerolinewidth": 2
          },
          "yaxis": {
           "automargin": true,
           "gridcolor": "white",
           "linecolor": "white",
           "ticks": "",
           "title": {
            "standoff": 15
           },
           "zerolinecolor": "white",
           "zerolinewidth": 2
          }
         }
        },
        "title": {
         "text": "BoxPlot showing the distribution of unit sales of each category"
        }
       }
      },
      "text/html": [
       "<div>\n",
       "        \n",
       "        \n",
       "            <div id=\"41151d21-b58a-4e6a-8060-9d7c810404bb\" class=\"plotly-graph-div\" style=\"height:525px; width:100%;\"></div>\n",
       "            <script type=\"text/javascript\">\n",
       "                require([\"plotly\"], function(Plotly) {\n",
       "                    window.PLOTLYENV=window.PLOTLYENV || {};\n",
       "                    \n",
       "                if (document.getElementById(\"41151d21-b58a-4e6a-8060-9d7c810404bb\")) {\n",
       "                    Plotly.newPlot(\n",
       "                        '41151d21-b58a-4e6a-8060-9d7c810404bb',\n",
       "                        [{\"type\": \"box\", \"y\": [3, 2, 1, 3, 2, 5, 2, 1, 2, 2, 2, 3, 1, 1, 2, 2, 7, 3, 4, 3, 2, 6, 5, 5, 4, 2, 4, 4, 4, 7, 4, 2, 6, 6, 2, 6, 7, 2, 6, 2, 4, 5, 4, 2, 7]}],\n",
       "                        {\"template\": {\"data\": {\"bar\": [{\"error_x\": {\"color\": \"#2a3f5f\"}, \"error_y\": {\"color\": \"#2a3f5f\"}, \"marker\": {\"line\": {\"color\": \"#E5ECF6\", \"width\": 0.5}}, \"type\": \"bar\"}], \"barpolar\": [{\"marker\": {\"line\": {\"color\": \"#E5ECF6\", \"width\": 0.5}}, \"type\": \"barpolar\"}], \"carpet\": [{\"aaxis\": {\"endlinecolor\": \"#2a3f5f\", \"gridcolor\": \"white\", \"linecolor\": \"white\", \"minorgridcolor\": \"white\", \"startlinecolor\": \"#2a3f5f\"}, \"baxis\": {\"endlinecolor\": \"#2a3f5f\", \"gridcolor\": \"white\", \"linecolor\": \"white\", \"minorgridcolor\": \"white\", \"startlinecolor\": \"#2a3f5f\"}, \"type\": \"carpet\"}], \"choropleth\": [{\"colorbar\": {\"outlinewidth\": 0, \"ticks\": \"\"}, \"type\": \"choropleth\"}], \"contour\": [{\"colorbar\": {\"outlinewidth\": 0, \"ticks\": \"\"}, \"colorscale\": [[0.0, \"#0d0887\"], [0.1111111111111111, \"#46039f\"], [0.2222222222222222, \"#7201a8\"], [0.3333333333333333, \"#9c179e\"], [0.4444444444444444, \"#bd3786\"], [0.5555555555555556, \"#d8576b\"], [0.6666666666666666, \"#ed7953\"], [0.7777777777777778, \"#fb9f3a\"], [0.8888888888888888, \"#fdca26\"], [1.0, \"#f0f921\"]], \"type\": \"contour\"}], \"contourcarpet\": [{\"colorbar\": {\"outlinewidth\": 0, \"ticks\": \"\"}, \"type\": \"contourcarpet\"}], \"heatmap\": [{\"colorbar\": {\"outlinewidth\": 0, \"ticks\": \"\"}, \"colorscale\": [[0.0, \"#0d0887\"], [0.1111111111111111, \"#46039f\"], [0.2222222222222222, \"#7201a8\"], [0.3333333333333333, \"#9c179e\"], [0.4444444444444444, \"#bd3786\"], [0.5555555555555556, \"#d8576b\"], [0.6666666666666666, \"#ed7953\"], [0.7777777777777778, \"#fb9f3a\"], [0.8888888888888888, \"#fdca26\"], [1.0, \"#f0f921\"]], \"type\": \"heatmap\"}], \"heatmapgl\": [{\"colorbar\": {\"outlinewidth\": 0, \"ticks\": \"\"}, \"colorscale\": [[0.0, \"#0d0887\"], [0.1111111111111111, \"#46039f\"], [0.2222222222222222, \"#7201a8\"], [0.3333333333333333, \"#9c179e\"], [0.4444444444444444, \"#bd3786\"], [0.5555555555555556, \"#d8576b\"], [0.6666666666666666, \"#ed7953\"], [0.7777777777777778, \"#fb9f3a\"], [0.8888888888888888, \"#fdca26\"], [1.0, \"#f0f921\"]], \"type\": \"heatmapgl\"}], \"histogram\": [{\"marker\": {\"colorbar\": {\"outlinewidth\": 0, \"ticks\": \"\"}}, \"type\": \"histogram\"}], \"histogram2d\": [{\"colorbar\": {\"outlinewidth\": 0, \"ticks\": \"\"}, \"colorscale\": [[0.0, \"#0d0887\"], [0.1111111111111111, \"#46039f\"], [0.2222222222222222, \"#7201a8\"], [0.3333333333333333, \"#9c179e\"], [0.4444444444444444, \"#bd3786\"], [0.5555555555555556, \"#d8576b\"], [0.6666666666666666, \"#ed7953\"], [0.7777777777777778, \"#fb9f3a\"], [0.8888888888888888, \"#fdca26\"], [1.0, \"#f0f921\"]], \"type\": \"histogram2d\"}], \"histogram2dcontour\": [{\"colorbar\": {\"outlinewidth\": 0, \"ticks\": \"\"}, \"colorscale\": [[0.0, \"#0d0887\"], [0.1111111111111111, \"#46039f\"], [0.2222222222222222, \"#7201a8\"], [0.3333333333333333, \"#9c179e\"], [0.4444444444444444, \"#bd3786\"], [0.5555555555555556, \"#d8576b\"], [0.6666666666666666, \"#ed7953\"], [0.7777777777777778, \"#fb9f3a\"], [0.8888888888888888, \"#fdca26\"], [1.0, \"#f0f921\"]], \"type\": \"histogram2dcontour\"}], \"mesh3d\": [{\"colorbar\": {\"outlinewidth\": 0, \"ticks\": \"\"}, \"type\": \"mesh3d\"}], \"parcoords\": [{\"line\": {\"colorbar\": {\"outlinewidth\": 0, \"ticks\": \"\"}}, \"type\": \"parcoords\"}], \"pie\": [{\"automargin\": true, \"type\": \"pie\"}], \"scatter\": [{\"marker\": {\"colorbar\": {\"outlinewidth\": 0, \"ticks\": \"\"}}, \"type\": \"scatter\"}], \"scatter3d\": [{\"line\": {\"colorbar\": {\"outlinewidth\": 0, \"ticks\": \"\"}}, \"marker\": {\"colorbar\": {\"outlinewidth\": 0, \"ticks\": \"\"}}, \"type\": \"scatter3d\"}], \"scattercarpet\": [{\"marker\": {\"colorbar\": {\"outlinewidth\": 0, \"ticks\": \"\"}}, \"type\": \"scattercarpet\"}], \"scattergeo\": [{\"marker\": {\"colorbar\": {\"outlinewidth\": 0, \"ticks\": \"\"}}, \"type\": \"scattergeo\"}], \"scattergl\": [{\"marker\": {\"colorbar\": {\"outlinewidth\": 0, \"ticks\": \"\"}}, \"type\": \"scattergl\"}], \"scattermapbox\": [{\"marker\": {\"colorbar\": {\"outlinewidth\": 0, \"ticks\": \"\"}}, \"type\": \"scattermapbox\"}], \"scatterpolar\": [{\"marker\": {\"colorbar\": {\"outlinewidth\": 0, \"ticks\": \"\"}}, \"type\": \"scatterpolar\"}], \"scatterpolargl\": [{\"marker\": {\"colorbar\": {\"outlinewidth\": 0, \"ticks\": \"\"}}, \"type\": \"scatterpolargl\"}], \"scatterternary\": [{\"marker\": {\"colorbar\": {\"outlinewidth\": 0, \"ticks\": \"\"}}, \"type\": \"scatterternary\"}], \"surface\": [{\"colorbar\": {\"outlinewidth\": 0, \"ticks\": \"\"}, \"colorscale\": [[0.0, \"#0d0887\"], [0.1111111111111111, \"#46039f\"], [0.2222222222222222, \"#7201a8\"], [0.3333333333333333, \"#9c179e\"], [0.4444444444444444, \"#bd3786\"], [0.5555555555555556, \"#d8576b\"], [0.6666666666666666, \"#ed7953\"], [0.7777777777777778, \"#fb9f3a\"], [0.8888888888888888, \"#fdca26\"], [1.0, \"#f0f921\"]], \"type\": \"surface\"}], \"table\": [{\"cells\": {\"fill\": {\"color\": \"#EBF0F8\"}, \"line\": {\"color\": \"white\"}}, \"header\": {\"fill\": {\"color\": \"#C8D4E3\"}, \"line\": {\"color\": \"white\"}}, \"type\": \"table\"}]}, \"layout\": {\"annotationdefaults\": {\"arrowcolor\": \"#2a3f5f\", \"arrowhead\": 0, \"arrowwidth\": 1}, \"coloraxis\": {\"colorbar\": {\"outlinewidth\": 0, \"ticks\": \"\"}}, \"colorscale\": {\"diverging\": [[0, \"#8e0152\"], [0.1, \"#c51b7d\"], [0.2, \"#de77ae\"], [0.3, \"#f1b6da\"], [0.4, \"#fde0ef\"], [0.5, \"#f7f7f7\"], [0.6, \"#e6f5d0\"], [0.7, \"#b8e186\"], [0.8, \"#7fbc41\"], [0.9, \"#4d9221\"], [1, \"#276419\"]], \"sequential\": [[0.0, \"#0d0887\"], [0.1111111111111111, \"#46039f\"], [0.2222222222222222, \"#7201a8\"], [0.3333333333333333, \"#9c179e\"], [0.4444444444444444, \"#bd3786\"], [0.5555555555555556, \"#d8576b\"], [0.6666666666666666, \"#ed7953\"], [0.7777777777777778, \"#fb9f3a\"], [0.8888888888888888, \"#fdca26\"], [1.0, \"#f0f921\"]], \"sequentialminus\": [[0.0, \"#0d0887\"], [0.1111111111111111, \"#46039f\"], [0.2222222222222222, \"#7201a8\"], [0.3333333333333333, \"#9c179e\"], [0.4444444444444444, \"#bd3786\"], [0.5555555555555556, \"#d8576b\"], [0.6666666666666666, \"#ed7953\"], [0.7777777777777778, \"#fb9f3a\"], [0.8888888888888888, \"#fdca26\"], [1.0, \"#f0f921\"]]}, \"colorway\": [\"#636efa\", \"#EF553B\", \"#00cc96\", \"#ab63fa\", \"#FFA15A\", \"#19d3f3\", \"#FF6692\", \"#B6E880\", \"#FF97FF\", \"#FECB52\"], \"font\": {\"color\": \"#2a3f5f\"}, \"geo\": {\"bgcolor\": \"white\", \"lakecolor\": \"white\", \"landcolor\": \"#E5ECF6\", \"showlakes\": true, \"showland\": true, \"subunitcolor\": \"white\"}, \"hoverlabel\": {\"align\": \"left\"}, \"hovermode\": \"closest\", \"mapbox\": {\"style\": \"light\"}, \"paper_bgcolor\": \"white\", \"plot_bgcolor\": \"#E5ECF6\", \"polar\": {\"angularaxis\": {\"gridcolor\": \"white\", \"linecolor\": \"white\", \"ticks\": \"\"}, \"bgcolor\": \"#E5ECF6\", \"radialaxis\": {\"gridcolor\": \"white\", \"linecolor\": \"white\", \"ticks\": \"\"}}, \"scene\": {\"xaxis\": {\"backgroundcolor\": \"#E5ECF6\", \"gridcolor\": \"white\", \"gridwidth\": 2, \"linecolor\": \"white\", \"showbackground\": true, \"ticks\": \"\", \"zerolinecolor\": \"white\"}, \"yaxis\": {\"backgroundcolor\": \"#E5ECF6\", \"gridcolor\": \"white\", \"gridwidth\": 2, \"linecolor\": \"white\", \"showbackground\": true, \"ticks\": \"\", \"zerolinecolor\": \"white\"}, \"zaxis\": {\"backgroundcolor\": \"#E5ECF6\", \"gridcolor\": \"white\", \"gridwidth\": 2, \"linecolor\": \"white\", \"showbackground\": true, \"ticks\": \"\", \"zerolinecolor\": \"white\"}}, \"shapedefaults\": {\"line\": {\"color\": \"#2a3f5f\"}}, \"ternary\": {\"aaxis\": {\"gridcolor\": \"white\", \"linecolor\": \"white\", \"ticks\": \"\"}, \"baxis\": {\"gridcolor\": \"white\", \"linecolor\": \"white\", \"ticks\": \"\"}, \"bgcolor\": \"#E5ECF6\", \"caxis\": {\"gridcolor\": \"white\", \"linecolor\": \"white\", \"ticks\": \"\"}}, \"title\": {\"x\": 0.05}, \"xaxis\": {\"automargin\": true, \"gridcolor\": \"white\", \"linecolor\": \"white\", \"ticks\": \"\", \"title\": {\"standoff\": 15}, \"zerolinecolor\": \"white\", \"zerolinewidth\": 2}, \"yaxis\": {\"automargin\": true, \"gridcolor\": \"white\", \"linecolor\": \"white\", \"ticks\": \"\", \"title\": {\"standoff\": 15}, \"zerolinecolor\": \"white\", \"zerolinewidth\": 2}}}, \"title\": {\"text\": \"BoxPlot showing the distribution of unit sales of each category\"}},\n",
       "                        {\"responsive\": true}\n",
       "                    ).then(function(){\n",
       "                            \n",
       "var gd = document.getElementById('41151d21-b58a-4e6a-8060-9d7c810404bb');\n",
       "var x = new MutationObserver(function (mutations, observer) {{\n",
       "        var display = window.getComputedStyle(gd).display;\n",
       "        if (!display || display === 'none') {{\n",
       "            console.log([gd, 'removed!']);\n",
       "            Plotly.purge(gd);\n",
       "            observer.disconnect();\n",
       "        }}\n",
       "}});\n",
       "\n",
       "// Listen for the removal of the full notebook cells\n",
       "var notebookContainer = gd.closest('#notebook-container');\n",
       "if (notebookContainer) {{\n",
       "    x.observe(notebookContainer, {childList: true});\n",
       "}}\n",
       "\n",
       "// Listen for the clearing of the current output cell\n",
       "var outputEl = gd.closest('.output');\n",
       "if (outputEl) {{\n",
       "    x.observe(outputEl, {childList: true});\n",
       "}}\n",
       "\n",
       "                        })\n",
       "                };\n",
       "                });\n",
       "            </script>\n",
       "        </div>"
      ]
     },
     "metadata": {},
     "output_type": "display_data"
    }
   ],
   "source": [
    "\n",
    "item_count_list = plot_box.values.tolist()\n",
    "flat_list = [item for sublist in item_count_list for item in sublist]\n",
    "\n",
    "trace = go.Box(y = flat_list)\n",
    "data = [trace]\n",
    "fig = go.Figure(data)\n",
    "fig.update_layout(title_text='BoxPlot showing the distribution of unit sales of each category')\n",
    "iplot(fig)"
   ]
  },
  {
   "cell_type": "markdown",
   "metadata": {},
   "source": [
    "## 7. Heatmap "
   ]
  },
  {
   "cell_type": "code",
   "execution_count": 19,
   "metadata": {},
   "outputs": [
    {
     "data": {
      "application/vnd.plotly.v1+json": {
       "config": {
        "linkText": "Export to plot.ly",
        "plotlyServerURL": "https://plot.ly",
        "showLink": false
       },
       "data": [
        {
         "colorscale": [
          [
           0,
           "#440154"
          ],
          [
           0.1111111111111111,
           "#482878"
          ],
          [
           0.2222222222222222,
           "#3e4989"
          ],
          [
           0.3333333333333333,
           "#31688e"
          ],
          [
           0.4444444444444444,
           "#26828e"
          ],
          [
           0.5555555555555556,
           "#1f9e89"
          ],
          [
           0.6666666666666666,
           "#35b779"
          ],
          [
           0.7777777777777778,
           "#6ece58"
          ],
          [
           0.8888888888888888,
           "#b5de2b"
          ],
          [
           1,
           "#fde725"
          ]
         ],
         "type": "heatmap",
         "x": [
          "CategoryA",
          "CategoryB",
          "CategoryC"
         ],
         "y": [
          "2020-05-07",
          "2020-05-08",
          "2020-05-09",
          "2020-05-10",
          "2020-05-11",
          "2020-05-12",
          "2020-05-13",
          "2020-05-14",
          "2020-05-15",
          "2020-05-16",
          "2020-05-17",
          "2020-05-18",
          "2020-05-19",
          "2020-05-20",
          "2020-05-21"
         ],
         "z": [
          [
           3,
           2,
           1
          ],
          [
           3,
           2,
           5
          ],
          [
           2,
           1,
           2
          ],
          [
           2,
           2,
           3
          ],
          [
           1,
           1,
           2
          ],
          [
           2,
           7,
           3
          ],
          [
           4,
           3,
           2
          ],
          [
           6,
           5,
           5
          ],
          [
           4,
           2,
           4
          ],
          [
           4,
           4,
           7
          ],
          [
           4,
           2,
           6
          ],
          [
           6,
           2,
           6
          ],
          [
           7,
           2,
           6
          ],
          [
           2,
           4,
           5
          ],
          [
           4,
           2,
           7
          ]
         ]
        }
       ],
       "layout": {
        "template": {
         "data": {
          "bar": [
           {
            "error_x": {
             "color": "#2a3f5f"
            },
            "error_y": {
             "color": "#2a3f5f"
            },
            "marker": {
             "line": {
              "color": "#E5ECF6",
              "width": 0.5
             }
            },
            "type": "bar"
           }
          ],
          "barpolar": [
           {
            "marker": {
             "line": {
              "color": "#E5ECF6",
              "width": 0.5
             }
            },
            "type": "barpolar"
           }
          ],
          "carpet": [
           {
            "aaxis": {
             "endlinecolor": "#2a3f5f",
             "gridcolor": "white",
             "linecolor": "white",
             "minorgridcolor": "white",
             "startlinecolor": "#2a3f5f"
            },
            "baxis": {
             "endlinecolor": "#2a3f5f",
             "gridcolor": "white",
             "linecolor": "white",
             "minorgridcolor": "white",
             "startlinecolor": "#2a3f5f"
            },
            "type": "carpet"
           }
          ],
          "choropleth": [
           {
            "colorbar": {
             "outlinewidth": 0,
             "ticks": ""
            },
            "type": "choropleth"
           }
          ],
          "contour": [
           {
            "colorbar": {
             "outlinewidth": 0,
             "ticks": ""
            },
            "colorscale": [
             [
              0,
              "#0d0887"
             ],
             [
              0.1111111111111111,
              "#46039f"
             ],
             [
              0.2222222222222222,
              "#7201a8"
             ],
             [
              0.3333333333333333,
              "#9c179e"
             ],
             [
              0.4444444444444444,
              "#bd3786"
             ],
             [
              0.5555555555555556,
              "#d8576b"
             ],
             [
              0.6666666666666666,
              "#ed7953"
             ],
             [
              0.7777777777777778,
              "#fb9f3a"
             ],
             [
              0.8888888888888888,
              "#fdca26"
             ],
             [
              1,
              "#f0f921"
             ]
            ],
            "type": "contour"
           }
          ],
          "contourcarpet": [
           {
            "colorbar": {
             "outlinewidth": 0,
             "ticks": ""
            },
            "type": "contourcarpet"
           }
          ],
          "heatmap": [
           {
            "colorbar": {
             "outlinewidth": 0,
             "ticks": ""
            },
            "colorscale": [
             [
              0,
              "#0d0887"
             ],
             [
              0.1111111111111111,
              "#46039f"
             ],
             [
              0.2222222222222222,
              "#7201a8"
             ],
             [
              0.3333333333333333,
              "#9c179e"
             ],
             [
              0.4444444444444444,
              "#bd3786"
             ],
             [
              0.5555555555555556,
              "#d8576b"
             ],
             [
              0.6666666666666666,
              "#ed7953"
             ],
             [
              0.7777777777777778,
              "#fb9f3a"
             ],
             [
              0.8888888888888888,
              "#fdca26"
             ],
             [
              1,
              "#f0f921"
             ]
            ],
            "type": "heatmap"
           }
          ],
          "heatmapgl": [
           {
            "colorbar": {
             "outlinewidth": 0,
             "ticks": ""
            },
            "colorscale": [
             [
              0,
              "#0d0887"
             ],
             [
              0.1111111111111111,
              "#46039f"
             ],
             [
              0.2222222222222222,
              "#7201a8"
             ],
             [
              0.3333333333333333,
              "#9c179e"
             ],
             [
              0.4444444444444444,
              "#bd3786"
             ],
             [
              0.5555555555555556,
              "#d8576b"
             ],
             [
              0.6666666666666666,
              "#ed7953"
             ],
             [
              0.7777777777777778,
              "#fb9f3a"
             ],
             [
              0.8888888888888888,
              "#fdca26"
             ],
             [
              1,
              "#f0f921"
             ]
            ],
            "type": "heatmapgl"
           }
          ],
          "histogram": [
           {
            "marker": {
             "colorbar": {
              "outlinewidth": 0,
              "ticks": ""
             }
            },
            "type": "histogram"
           }
          ],
          "histogram2d": [
           {
            "colorbar": {
             "outlinewidth": 0,
             "ticks": ""
            },
            "colorscale": [
             [
              0,
              "#0d0887"
             ],
             [
              0.1111111111111111,
              "#46039f"
             ],
             [
              0.2222222222222222,
              "#7201a8"
             ],
             [
              0.3333333333333333,
              "#9c179e"
             ],
             [
              0.4444444444444444,
              "#bd3786"
             ],
             [
              0.5555555555555556,
              "#d8576b"
             ],
             [
              0.6666666666666666,
              "#ed7953"
             ],
             [
              0.7777777777777778,
              "#fb9f3a"
             ],
             [
              0.8888888888888888,
              "#fdca26"
             ],
             [
              1,
              "#f0f921"
             ]
            ],
            "type": "histogram2d"
           }
          ],
          "histogram2dcontour": [
           {
            "colorbar": {
             "outlinewidth": 0,
             "ticks": ""
            },
            "colorscale": [
             [
              0,
              "#0d0887"
             ],
             [
              0.1111111111111111,
              "#46039f"
             ],
             [
              0.2222222222222222,
              "#7201a8"
             ],
             [
              0.3333333333333333,
              "#9c179e"
             ],
             [
              0.4444444444444444,
              "#bd3786"
             ],
             [
              0.5555555555555556,
              "#d8576b"
             ],
             [
              0.6666666666666666,
              "#ed7953"
             ],
             [
              0.7777777777777778,
              "#fb9f3a"
             ],
             [
              0.8888888888888888,
              "#fdca26"
             ],
             [
              1,
              "#f0f921"
             ]
            ],
            "type": "histogram2dcontour"
           }
          ],
          "mesh3d": [
           {
            "colorbar": {
             "outlinewidth": 0,
             "ticks": ""
            },
            "type": "mesh3d"
           }
          ],
          "parcoords": [
           {
            "line": {
             "colorbar": {
              "outlinewidth": 0,
              "ticks": ""
             }
            },
            "type": "parcoords"
           }
          ],
          "pie": [
           {
            "automargin": true,
            "type": "pie"
           }
          ],
          "scatter": [
           {
            "marker": {
             "colorbar": {
              "outlinewidth": 0,
              "ticks": ""
             }
            },
            "type": "scatter"
           }
          ],
          "scatter3d": [
           {
            "line": {
             "colorbar": {
              "outlinewidth": 0,
              "ticks": ""
             }
            },
            "marker": {
             "colorbar": {
              "outlinewidth": 0,
              "ticks": ""
             }
            },
            "type": "scatter3d"
           }
          ],
          "scattercarpet": [
           {
            "marker": {
             "colorbar": {
              "outlinewidth": 0,
              "ticks": ""
             }
            },
            "type": "scattercarpet"
           }
          ],
          "scattergeo": [
           {
            "marker": {
             "colorbar": {
              "outlinewidth": 0,
              "ticks": ""
             }
            },
            "type": "scattergeo"
           }
          ],
          "scattergl": [
           {
            "marker": {
             "colorbar": {
              "outlinewidth": 0,
              "ticks": ""
             }
            },
            "type": "scattergl"
           }
          ],
          "scattermapbox": [
           {
            "marker": {
             "colorbar": {
              "outlinewidth": 0,
              "ticks": ""
             }
            },
            "type": "scattermapbox"
           }
          ],
          "scatterpolar": [
           {
            "marker": {
             "colorbar": {
              "outlinewidth": 0,
              "ticks": ""
             }
            },
            "type": "scatterpolar"
           }
          ],
          "scatterpolargl": [
           {
            "marker": {
             "colorbar": {
              "outlinewidth": 0,
              "ticks": ""
             }
            },
            "type": "scatterpolargl"
           }
          ],
          "scatterternary": [
           {
            "marker": {
             "colorbar": {
              "outlinewidth": 0,
              "ticks": ""
             }
            },
            "type": "scatterternary"
           }
          ],
          "surface": [
           {
            "colorbar": {
             "outlinewidth": 0,
             "ticks": ""
            },
            "colorscale": [
             [
              0,
              "#0d0887"
             ],
             [
              0.1111111111111111,
              "#46039f"
             ],
             [
              0.2222222222222222,
              "#7201a8"
             ],
             [
              0.3333333333333333,
              "#9c179e"
             ],
             [
              0.4444444444444444,
              "#bd3786"
             ],
             [
              0.5555555555555556,
              "#d8576b"
             ],
             [
              0.6666666666666666,
              "#ed7953"
             ],
             [
              0.7777777777777778,
              "#fb9f3a"
             ],
             [
              0.8888888888888888,
              "#fdca26"
             ],
             [
              1,
              "#f0f921"
             ]
            ],
            "type": "surface"
           }
          ],
          "table": [
           {
            "cells": {
             "fill": {
              "color": "#EBF0F8"
             },
             "line": {
              "color": "white"
             }
            },
            "header": {
             "fill": {
              "color": "#C8D4E3"
             },
             "line": {
              "color": "white"
             }
            },
            "type": "table"
           }
          ]
         },
         "layout": {
          "annotationdefaults": {
           "arrowcolor": "#2a3f5f",
           "arrowhead": 0,
           "arrowwidth": 1
          },
          "coloraxis": {
           "colorbar": {
            "outlinewidth": 0,
            "ticks": ""
           }
          },
          "colorscale": {
           "diverging": [
            [
             0,
             "#8e0152"
            ],
            [
             0.1,
             "#c51b7d"
            ],
            [
             0.2,
             "#de77ae"
            ],
            [
             0.3,
             "#f1b6da"
            ],
            [
             0.4,
             "#fde0ef"
            ],
            [
             0.5,
             "#f7f7f7"
            ],
            [
             0.6,
             "#e6f5d0"
            ],
            [
             0.7,
             "#b8e186"
            ],
            [
             0.8,
             "#7fbc41"
            ],
            [
             0.9,
             "#4d9221"
            ],
            [
             1,
             "#276419"
            ]
           ],
           "sequential": [
            [
             0,
             "#0d0887"
            ],
            [
             0.1111111111111111,
             "#46039f"
            ],
            [
             0.2222222222222222,
             "#7201a8"
            ],
            [
             0.3333333333333333,
             "#9c179e"
            ],
            [
             0.4444444444444444,
             "#bd3786"
            ],
            [
             0.5555555555555556,
             "#d8576b"
            ],
            [
             0.6666666666666666,
             "#ed7953"
            ],
            [
             0.7777777777777778,
             "#fb9f3a"
            ],
            [
             0.8888888888888888,
             "#fdca26"
            ],
            [
             1,
             "#f0f921"
            ]
           ],
           "sequentialminus": [
            [
             0,
             "#0d0887"
            ],
            [
             0.1111111111111111,
             "#46039f"
            ],
            [
             0.2222222222222222,
             "#7201a8"
            ],
            [
             0.3333333333333333,
             "#9c179e"
            ],
            [
             0.4444444444444444,
             "#bd3786"
            ],
            [
             0.5555555555555556,
             "#d8576b"
            ],
            [
             0.6666666666666666,
             "#ed7953"
            ],
            [
             0.7777777777777778,
             "#fb9f3a"
            ],
            [
             0.8888888888888888,
             "#fdca26"
            ],
            [
             1,
             "#f0f921"
            ]
           ]
          },
          "colorway": [
           "#636efa",
           "#EF553B",
           "#00cc96",
           "#ab63fa",
           "#FFA15A",
           "#19d3f3",
           "#FF6692",
           "#B6E880",
           "#FF97FF",
           "#FECB52"
          ],
          "font": {
           "color": "#2a3f5f"
          },
          "geo": {
           "bgcolor": "white",
           "lakecolor": "white",
           "landcolor": "#E5ECF6",
           "showlakes": true,
           "showland": true,
           "subunitcolor": "white"
          },
          "hoverlabel": {
           "align": "left"
          },
          "hovermode": "closest",
          "mapbox": {
           "style": "light"
          },
          "paper_bgcolor": "white",
          "plot_bgcolor": "#E5ECF6",
          "polar": {
           "angularaxis": {
            "gridcolor": "white",
            "linecolor": "white",
            "ticks": ""
           },
           "bgcolor": "#E5ECF6",
           "radialaxis": {
            "gridcolor": "white",
            "linecolor": "white",
            "ticks": ""
           }
          },
          "scene": {
           "xaxis": {
            "backgroundcolor": "#E5ECF6",
            "gridcolor": "white",
            "gridwidth": 2,
            "linecolor": "white",
            "showbackground": true,
            "ticks": "",
            "zerolinecolor": "white"
           },
           "yaxis": {
            "backgroundcolor": "#E5ECF6",
            "gridcolor": "white",
            "gridwidth": 2,
            "linecolor": "white",
            "showbackground": true,
            "ticks": "",
            "zerolinecolor": "white"
           },
           "zaxis": {
            "backgroundcolor": "#E5ECF6",
            "gridcolor": "white",
            "gridwidth": 2,
            "linecolor": "white",
            "showbackground": true,
            "ticks": "",
            "zerolinecolor": "white"
           }
          },
          "shapedefaults": {
           "line": {
            "color": "#2a3f5f"
           }
          },
          "ternary": {
           "aaxis": {
            "gridcolor": "white",
            "linecolor": "white",
            "ticks": ""
           },
           "baxis": {
            "gridcolor": "white",
            "linecolor": "white",
            "ticks": ""
           },
           "bgcolor": "#E5ECF6",
           "caxis": {
            "gridcolor": "white",
            "linecolor": "white",
            "ticks": ""
           }
          },
          "title": {
           "x": 0.05
          },
          "xaxis": {
           "automargin": true,
           "gridcolor": "white",
           "linecolor": "white",
           "ticks": "",
           "title": {
            "standoff": 15
           },
           "zerolinecolor": "white",
           "zerolinewidth": 2
          },
          "yaxis": {
           "automargin": true,
           "gridcolor": "white",
           "linecolor": "white",
           "ticks": "",
           "title": {
            "standoff": 15
           },
           "zerolinecolor": "white",
           "zerolinewidth": 2
          }
         }
        }
       }
      },
      "text/html": [
       "<div>\n",
       "        \n",
       "        \n",
       "            <div id=\"5885ca77-5990-46e4-b4db-0a8a245d15fd\" class=\"plotly-graph-div\" style=\"height:525px; width:100%;\"></div>\n",
       "            <script type=\"text/javascript\">\n",
       "                require([\"plotly\"], function(Plotly) {\n",
       "                    window.PLOTLYENV=window.PLOTLYENV || {};\n",
       "                    \n",
       "                if (document.getElementById(\"5885ca77-5990-46e4-b4db-0a8a245d15fd\")) {\n",
       "                    Plotly.newPlot(\n",
       "                        '5885ca77-5990-46e4-b4db-0a8a245d15fd',\n",
       "                        [{\"colorscale\": [[0.0, \"#440154\"], [0.1111111111111111, \"#482878\"], [0.2222222222222222, \"#3e4989\"], [0.3333333333333333, \"#31688e\"], [0.4444444444444444, \"#26828e\"], [0.5555555555555556, \"#1f9e89\"], [0.6666666666666666, \"#35b779\"], [0.7777777777777778, \"#6ece58\"], [0.8888888888888888, \"#b5de2b\"], [1.0, \"#fde725\"]], \"type\": \"heatmap\", \"x\": [\"CategoryA\", \"CategoryB\", \"CategoryC\"], \"y\": [\"2020-05-07\", \"2020-05-08\", \"2020-05-09\", \"2020-05-10\", \"2020-05-11\", \"2020-05-12\", \"2020-05-13\", \"2020-05-14\", \"2020-05-15\", \"2020-05-16\", \"2020-05-17\", \"2020-05-18\", \"2020-05-19\", \"2020-05-20\", \"2020-05-21\"], \"z\": [[3, 2, 1], [3, 2, 5], [2, 1, 2], [2, 2, 3], [1, 1, 2], [2, 7, 3], [4, 3, 2], [6, 5, 5], [4, 2, 4], [4, 4, 7], [4, 2, 6], [6, 2, 6], [7, 2, 6], [2, 4, 5], [4, 2, 7]]}],\n",
       "                        {\"template\": {\"data\": {\"bar\": [{\"error_x\": {\"color\": \"#2a3f5f\"}, \"error_y\": {\"color\": \"#2a3f5f\"}, \"marker\": {\"line\": {\"color\": \"#E5ECF6\", \"width\": 0.5}}, \"type\": \"bar\"}], \"barpolar\": [{\"marker\": {\"line\": {\"color\": \"#E5ECF6\", \"width\": 0.5}}, \"type\": \"barpolar\"}], \"carpet\": [{\"aaxis\": {\"endlinecolor\": \"#2a3f5f\", \"gridcolor\": \"white\", \"linecolor\": \"white\", \"minorgridcolor\": \"white\", \"startlinecolor\": \"#2a3f5f\"}, \"baxis\": {\"endlinecolor\": \"#2a3f5f\", \"gridcolor\": \"white\", \"linecolor\": \"white\", \"minorgridcolor\": \"white\", \"startlinecolor\": \"#2a3f5f\"}, \"type\": \"carpet\"}], \"choropleth\": [{\"colorbar\": {\"outlinewidth\": 0, \"ticks\": \"\"}, \"type\": \"choropleth\"}], \"contour\": [{\"colorbar\": {\"outlinewidth\": 0, \"ticks\": \"\"}, \"colorscale\": [[0.0, \"#0d0887\"], [0.1111111111111111, \"#46039f\"], [0.2222222222222222, \"#7201a8\"], [0.3333333333333333, \"#9c179e\"], [0.4444444444444444, \"#bd3786\"], [0.5555555555555556, \"#d8576b\"], [0.6666666666666666, \"#ed7953\"], [0.7777777777777778, \"#fb9f3a\"], [0.8888888888888888, \"#fdca26\"], [1.0, \"#f0f921\"]], \"type\": \"contour\"}], \"contourcarpet\": [{\"colorbar\": {\"outlinewidth\": 0, \"ticks\": \"\"}, \"type\": \"contourcarpet\"}], \"heatmap\": [{\"colorbar\": {\"outlinewidth\": 0, \"ticks\": \"\"}, \"colorscale\": [[0.0, \"#0d0887\"], [0.1111111111111111, \"#46039f\"], [0.2222222222222222, \"#7201a8\"], [0.3333333333333333, \"#9c179e\"], [0.4444444444444444, \"#bd3786\"], [0.5555555555555556, \"#d8576b\"], [0.6666666666666666, \"#ed7953\"], [0.7777777777777778, \"#fb9f3a\"], [0.8888888888888888, \"#fdca26\"], [1.0, \"#f0f921\"]], \"type\": \"heatmap\"}], \"heatmapgl\": [{\"colorbar\": {\"outlinewidth\": 0, \"ticks\": \"\"}, \"colorscale\": [[0.0, \"#0d0887\"], [0.1111111111111111, \"#46039f\"], [0.2222222222222222, \"#7201a8\"], [0.3333333333333333, \"#9c179e\"], [0.4444444444444444, \"#bd3786\"], [0.5555555555555556, \"#d8576b\"], [0.6666666666666666, \"#ed7953\"], [0.7777777777777778, \"#fb9f3a\"], [0.8888888888888888, \"#fdca26\"], [1.0, \"#f0f921\"]], \"type\": \"heatmapgl\"}], \"histogram\": [{\"marker\": {\"colorbar\": {\"outlinewidth\": 0, \"ticks\": \"\"}}, \"type\": \"histogram\"}], \"histogram2d\": [{\"colorbar\": {\"outlinewidth\": 0, \"ticks\": \"\"}, \"colorscale\": [[0.0, \"#0d0887\"], [0.1111111111111111, \"#46039f\"], [0.2222222222222222, \"#7201a8\"], [0.3333333333333333, \"#9c179e\"], [0.4444444444444444, \"#bd3786\"], [0.5555555555555556, \"#d8576b\"], [0.6666666666666666, \"#ed7953\"], [0.7777777777777778, \"#fb9f3a\"], [0.8888888888888888, \"#fdca26\"], [1.0, \"#f0f921\"]], \"type\": \"histogram2d\"}], \"histogram2dcontour\": [{\"colorbar\": {\"outlinewidth\": 0, \"ticks\": \"\"}, \"colorscale\": [[0.0, \"#0d0887\"], [0.1111111111111111, \"#46039f\"], [0.2222222222222222, \"#7201a8\"], [0.3333333333333333, \"#9c179e\"], [0.4444444444444444, \"#bd3786\"], [0.5555555555555556, \"#d8576b\"], [0.6666666666666666, \"#ed7953\"], [0.7777777777777778, \"#fb9f3a\"], [0.8888888888888888, \"#fdca26\"], [1.0, \"#f0f921\"]], \"type\": \"histogram2dcontour\"}], \"mesh3d\": [{\"colorbar\": {\"outlinewidth\": 0, \"ticks\": \"\"}, \"type\": \"mesh3d\"}], \"parcoords\": [{\"line\": {\"colorbar\": {\"outlinewidth\": 0, \"ticks\": \"\"}}, \"type\": \"parcoords\"}], \"pie\": [{\"automargin\": true, \"type\": \"pie\"}], \"scatter\": [{\"marker\": {\"colorbar\": {\"outlinewidth\": 0, \"ticks\": \"\"}}, \"type\": \"scatter\"}], \"scatter3d\": [{\"line\": {\"colorbar\": {\"outlinewidth\": 0, \"ticks\": \"\"}}, \"marker\": {\"colorbar\": {\"outlinewidth\": 0, \"ticks\": \"\"}}, \"type\": \"scatter3d\"}], \"scattercarpet\": [{\"marker\": {\"colorbar\": {\"outlinewidth\": 0, \"ticks\": \"\"}}, \"type\": \"scattercarpet\"}], \"scattergeo\": [{\"marker\": {\"colorbar\": {\"outlinewidth\": 0, \"ticks\": \"\"}}, \"type\": \"scattergeo\"}], \"scattergl\": [{\"marker\": {\"colorbar\": {\"outlinewidth\": 0, \"ticks\": \"\"}}, \"type\": \"scattergl\"}], \"scattermapbox\": [{\"marker\": {\"colorbar\": {\"outlinewidth\": 0, \"ticks\": \"\"}}, \"type\": \"scattermapbox\"}], \"scatterpolar\": [{\"marker\": {\"colorbar\": {\"outlinewidth\": 0, \"ticks\": \"\"}}, \"type\": \"scatterpolar\"}], \"scatterpolargl\": [{\"marker\": {\"colorbar\": {\"outlinewidth\": 0, \"ticks\": \"\"}}, \"type\": \"scatterpolargl\"}], \"scatterternary\": [{\"marker\": {\"colorbar\": {\"outlinewidth\": 0, \"ticks\": \"\"}}, \"type\": \"scatterternary\"}], \"surface\": [{\"colorbar\": {\"outlinewidth\": 0, \"ticks\": \"\"}, \"colorscale\": [[0.0, \"#0d0887\"], [0.1111111111111111, \"#46039f\"], [0.2222222222222222, \"#7201a8\"], [0.3333333333333333, \"#9c179e\"], [0.4444444444444444, \"#bd3786\"], [0.5555555555555556, \"#d8576b\"], [0.6666666666666666, \"#ed7953\"], [0.7777777777777778, \"#fb9f3a\"], [0.8888888888888888, \"#fdca26\"], [1.0, \"#f0f921\"]], \"type\": \"surface\"}], \"table\": [{\"cells\": {\"fill\": {\"color\": \"#EBF0F8\"}, \"line\": {\"color\": \"white\"}}, \"header\": {\"fill\": {\"color\": \"#C8D4E3\"}, \"line\": {\"color\": \"white\"}}, \"type\": \"table\"}]}, \"layout\": {\"annotationdefaults\": {\"arrowcolor\": \"#2a3f5f\", \"arrowhead\": 0, \"arrowwidth\": 1}, \"coloraxis\": {\"colorbar\": {\"outlinewidth\": 0, \"ticks\": \"\"}}, \"colorscale\": {\"diverging\": [[0, \"#8e0152\"], [0.1, \"#c51b7d\"], [0.2, \"#de77ae\"], [0.3, \"#f1b6da\"], [0.4, \"#fde0ef\"], [0.5, \"#f7f7f7\"], [0.6, \"#e6f5d0\"], [0.7, \"#b8e186\"], [0.8, \"#7fbc41\"], [0.9, \"#4d9221\"], [1, \"#276419\"]], \"sequential\": [[0.0, \"#0d0887\"], [0.1111111111111111, \"#46039f\"], [0.2222222222222222, \"#7201a8\"], [0.3333333333333333, \"#9c179e\"], [0.4444444444444444, \"#bd3786\"], [0.5555555555555556, \"#d8576b\"], [0.6666666666666666, \"#ed7953\"], [0.7777777777777778, \"#fb9f3a\"], [0.8888888888888888, \"#fdca26\"], [1.0, \"#f0f921\"]], \"sequentialminus\": [[0.0, \"#0d0887\"], [0.1111111111111111, \"#46039f\"], [0.2222222222222222, \"#7201a8\"], [0.3333333333333333, \"#9c179e\"], [0.4444444444444444, \"#bd3786\"], [0.5555555555555556, \"#d8576b\"], [0.6666666666666666, \"#ed7953\"], [0.7777777777777778, \"#fb9f3a\"], [0.8888888888888888, \"#fdca26\"], [1.0, \"#f0f921\"]]}, \"colorway\": [\"#636efa\", \"#EF553B\", \"#00cc96\", \"#ab63fa\", \"#FFA15A\", \"#19d3f3\", \"#FF6692\", \"#B6E880\", \"#FF97FF\", \"#FECB52\"], \"font\": {\"color\": \"#2a3f5f\"}, \"geo\": {\"bgcolor\": \"white\", \"lakecolor\": \"white\", \"landcolor\": \"#E5ECF6\", \"showlakes\": true, \"showland\": true, \"subunitcolor\": \"white\"}, \"hoverlabel\": {\"align\": \"left\"}, \"hovermode\": \"closest\", \"mapbox\": {\"style\": \"light\"}, \"paper_bgcolor\": \"white\", \"plot_bgcolor\": \"#E5ECF6\", \"polar\": {\"angularaxis\": {\"gridcolor\": \"white\", \"linecolor\": \"white\", \"ticks\": \"\"}, \"bgcolor\": \"#E5ECF6\", \"radialaxis\": {\"gridcolor\": \"white\", \"linecolor\": \"white\", \"ticks\": \"\"}}, \"scene\": {\"xaxis\": {\"backgroundcolor\": \"#E5ECF6\", \"gridcolor\": \"white\", \"gridwidth\": 2, \"linecolor\": \"white\", \"showbackground\": true, \"ticks\": \"\", \"zerolinecolor\": \"white\"}, \"yaxis\": {\"backgroundcolor\": \"#E5ECF6\", \"gridcolor\": \"white\", \"gridwidth\": 2, \"linecolor\": \"white\", \"showbackground\": true, \"ticks\": \"\", \"zerolinecolor\": \"white\"}, \"zaxis\": {\"backgroundcolor\": \"#E5ECF6\", \"gridcolor\": \"white\", \"gridwidth\": 2, \"linecolor\": \"white\", \"showbackground\": true, \"ticks\": \"\", \"zerolinecolor\": \"white\"}}, \"shapedefaults\": {\"line\": {\"color\": \"#2a3f5f\"}}, \"ternary\": {\"aaxis\": {\"gridcolor\": \"white\", \"linecolor\": \"white\", \"ticks\": \"\"}, \"baxis\": {\"gridcolor\": \"white\", \"linecolor\": \"white\", \"ticks\": \"\"}, \"bgcolor\": \"#E5ECF6\", \"caxis\": {\"gridcolor\": \"white\", \"linecolor\": \"white\", \"ticks\": \"\"}}, \"title\": {\"x\": 0.05}, \"xaxis\": {\"automargin\": true, \"gridcolor\": \"white\", \"linecolor\": \"white\", \"ticks\": \"\", \"title\": {\"standoff\": 15}, \"zerolinecolor\": \"white\", \"zerolinewidth\": 2}, \"yaxis\": {\"automargin\": true, \"gridcolor\": \"white\", \"linecolor\": \"white\", \"ticks\": \"\", \"title\": {\"standoff\": 15}, \"zerolinecolor\": \"white\", \"zerolinewidth\": 2}}}},\n",
       "                        {\"responsive\": true}\n",
       "                    ).then(function(){\n",
       "                            \n",
       "var gd = document.getElementById('5885ca77-5990-46e4-b4db-0a8a245d15fd');\n",
       "var x = new MutationObserver(function (mutations, observer) {{\n",
       "        var display = window.getComputedStyle(gd).display;\n",
       "        if (!display || display === 'none') {{\n",
       "            console.log([gd, 'removed!']);\n",
       "            Plotly.purge(gd);\n",
       "            observer.disconnect();\n",
       "        }}\n",
       "}});\n",
       "\n",
       "// Listen for the removal of the full notebook cells\n",
       "var notebookContainer = gd.closest('#notebook-container');\n",
       "if (notebookContainer) {{\n",
       "    x.observe(notebookContainer, {childList: true});\n",
       "}}\n",
       "\n",
       "// Listen for the clearing of the current output cell\n",
       "var outputEl = gd.closest('.output');\n",
       "if (outputEl) {{\n",
       "    x.observe(outputEl, {childList: true});\n",
       "}}\n",
       "\n",
       "                        })\n",
       "                };\n",
       "                });\n",
       "            </script>\n",
       "        </div>"
      ]
     },
     "metadata": {},
     "output_type": "display_data"
    }
   ],
   "source": [
    "df_heatmap = df.groupby(['date','category']).size().reset_index().rename(columns={0:'category_count'})\n",
    "plot_heatmap = df_heatmap.pivot_table(index='date', columns='category', values='category_count', fill_value=0).reset_index()\n",
    "\n",
    "categories = ['CategoryA', 'CategoryB', 'CategoryC'] \n",
    "date_field = plot_heatmap['date'].unique()\n",
    "category_count = plot_heatmap[categories].values\n",
    "\n",
    "trace = go.Heatmap(x = categories, y = date_field, z = category_count, type = 'heatmap', colorscale = 'Viridis')\n",
    "data = [trace]\n",
    "fig = go.Figure(data = data)\n",
    "iplot(fig)"
   ]
  },
  {
   "cell_type": "markdown",
   "metadata": {},
   "source": [
    "## 8. World Map"
   ]
  },
  {
   "cell_type": "markdown",
   "metadata": {},
   "source": [
    "We use the 2014 World GDP of different countries"
   ]
  },
  {
   "cell_type": "code",
   "execution_count": 20,
   "metadata": {},
   "outputs": [
    {
     "data": {
      "text/html": [
       "<div>\n",
       "<style scoped>\n",
       "    .dataframe tbody tr th:only-of-type {\n",
       "        vertical-align: middle;\n",
       "    }\n",
       "\n",
       "    .dataframe tbody tr th {\n",
       "        vertical-align: top;\n",
       "    }\n",
       "\n",
       "    .dataframe thead th {\n",
       "        text-align: right;\n",
       "    }\n",
       "</style>\n",
       "<table border=\"1\" class=\"dataframe\">\n",
       "  <thead>\n",
       "    <tr style=\"text-align: right;\">\n",
       "      <th></th>\n",
       "      <th>COUNTRY</th>\n",
       "      <th>GDP (BILLIONS)</th>\n",
       "      <th>CODE</th>\n",
       "    </tr>\n",
       "  </thead>\n",
       "  <tbody>\n",
       "    <tr>\n",
       "      <th>0</th>\n",
       "      <td>Afghanistan</td>\n",
       "      <td>21.71</td>\n",
       "      <td>AFG</td>\n",
       "    </tr>\n",
       "    <tr>\n",
       "      <th>1</th>\n",
       "      <td>Albania</td>\n",
       "      <td>13.40</td>\n",
       "      <td>ALB</td>\n",
       "    </tr>\n",
       "    <tr>\n",
       "      <th>2</th>\n",
       "      <td>Algeria</td>\n",
       "      <td>227.80</td>\n",
       "      <td>DZA</td>\n",
       "    </tr>\n",
       "    <tr>\n",
       "      <th>3</th>\n",
       "      <td>American Samoa</td>\n",
       "      <td>0.75</td>\n",
       "      <td>ASM</td>\n",
       "    </tr>\n",
       "    <tr>\n",
       "      <th>4</th>\n",
       "      <td>Andorra</td>\n",
       "      <td>4.80</td>\n",
       "      <td>AND</td>\n",
       "    </tr>\n",
       "  </tbody>\n",
       "</table>\n",
       "</div>"
      ],
      "text/plain": [
       "          COUNTRY  GDP (BILLIONS) CODE\n",
       "0     Afghanistan           21.71  AFG\n",
       "1         Albania           13.40  ALB\n",
       "2         Algeria          227.80  DZA\n",
       "3  American Samoa            0.75  ASM\n",
       "4         Andorra            4.80  AND"
      ]
     },
     "execution_count": 20,
     "metadata": {},
     "output_type": "execute_result"
    }
   ],
   "source": [
    "df_worldmap = pd.read_csv('https://raw.githubusercontent.com/plotly/datasets/master/2014_world_gdp_with_codes.csv')\n",
    "df_worldmap.head()"
   ]
  },
  {
   "cell_type": "code",
   "execution_count": 21,
   "metadata": {},
   "outputs": [
    {
     "data": {
      "application/vnd.plotly.v1+json": {
       "config": {
        "linkText": "Export to plot.ly",
        "plotlyServerURL": "https://plot.ly",
        "showLink": false
       },
       "data": [
        {
         "autocolorscale": false,
         "colorbar": {
          "tickprefix": "$",
          "title": {
           "text": "GDP<br>Billions US$"
          }
         },
         "colorscale": [
          [
           0,
           "rgb(247,251,255)"
          ],
          [
           0.125,
           "rgb(222,235,247)"
          ],
          [
           0.25,
           "rgb(198,219,239)"
          ],
          [
           0.375,
           "rgb(158,202,225)"
          ],
          [
           0.5,
           "rgb(107,174,214)"
          ],
          [
           0.625,
           "rgb(66,146,198)"
          ],
          [
           0.75,
           "rgb(33,113,181)"
          ],
          [
           0.875,
           "rgb(8,81,156)"
          ],
          [
           1,
           "rgb(8,48,107)"
          ]
         ],
         "locations": [
          "AFG",
          "ALB",
          "DZA",
          "ASM",
          "AND",
          "AGO",
          "AIA",
          "ATG",
          "ARG",
          "ARM",
          "ABW",
          "AUS",
          "AUT",
          "AZE",
          "BHM",
          "BHR",
          "BGD",
          "BRB",
          "BLR",
          "BEL",
          "BLZ",
          "BEN",
          "BMU",
          "BTN",
          "BOL",
          "BIH",
          "BWA",
          "BRA",
          "VGB",
          "BRN",
          "BGR",
          "BFA",
          "MMR",
          "BDI",
          "CPV",
          "KHM",
          "CMR",
          "CAN",
          "CYM",
          "CAF",
          "TCD",
          "CHL",
          "CHN",
          "COL",
          "COM",
          "COD",
          "COG",
          "COK",
          "CRI",
          "CIV",
          "HRV",
          "CUB",
          "CUW",
          "CYP",
          "CZE",
          "DNK",
          "DJI",
          "DMA",
          "DOM",
          "ECU",
          "EGY",
          "SLV",
          "GNQ",
          "ERI",
          "EST",
          "ETH",
          "FLK",
          "FRO",
          "FJI",
          "FIN",
          "FRA",
          "PYF",
          "GAB",
          "GMB",
          "GEO",
          "DEU",
          "GHA",
          "GIB",
          "GRC",
          "GRL",
          "GRD",
          "GUM",
          "GTM",
          "GGY",
          "GNB",
          "GIN",
          "GUY",
          "HTI",
          "HND",
          "HKG",
          "HUN",
          "ISL",
          "IND",
          "IDN",
          "IRN",
          "IRQ",
          "IRL",
          "IMN",
          "ISR",
          "ITA",
          "JAM",
          "JPN",
          "JEY",
          "JOR",
          "KAZ",
          "KEN",
          "KIR",
          "PRK",
          "KOR",
          "KSV",
          "KWT",
          "KGZ",
          "LAO",
          "LVA",
          "LBN",
          "LSO",
          "LBR",
          "LBY",
          "LIE",
          "LTU",
          "LUX",
          "MAC",
          "MKD",
          "MDG",
          "MWI",
          "MYS",
          "MDV",
          "MLI",
          "MLT",
          "MHL",
          "MRT",
          "MUS",
          "MEX",
          "FSM",
          "MDA",
          "MCO",
          "MNG",
          "MNE",
          "MAR",
          "MOZ",
          "NAM",
          "NPL",
          "NLD",
          "NCL",
          "NZL",
          "NIC",
          "NGA",
          "NER",
          "NIU",
          "MNP",
          "NOR",
          "OMN",
          "PAK",
          "PLW",
          "PAN",
          "PNG",
          "PRY",
          "PER",
          "PHL",
          "POL",
          "PRT",
          "PRI",
          "QAT",
          "ROU",
          "RUS",
          "RWA",
          "KNA",
          "LCA",
          "MAF",
          "SPM",
          "VCT",
          "WSM",
          "SMR",
          "STP",
          "SAU",
          "SEN",
          "SRB",
          "SYC",
          "SLE",
          "SGP",
          "SXM",
          "SVK",
          "SVN",
          "SLB",
          "SOM",
          "ZAF",
          "SSD",
          "ESP",
          "LKA",
          "SDN",
          "SUR",
          "SWZ",
          "SWE",
          "CHE",
          "SYR",
          "TWN",
          "TJK",
          "TZA",
          "THA",
          "TLS",
          "TGO",
          "TON",
          "TTO",
          "TUN",
          "TUR",
          "TKM",
          "TUV",
          "UGA",
          "UKR",
          "ARE",
          "GBR",
          "USA",
          "URY",
          "UZB",
          "VUT",
          "VEN",
          "VNM",
          "VGB",
          "WBG",
          "YEM",
          "ZMB",
          "ZWE"
         ],
         "marker": {
          "line": {
           "color": "darkgray",
           "width": 0.5
          }
         },
         "reversescale": true,
         "text": [
          "Afghanistan",
          "Albania",
          "Algeria",
          "American Samoa",
          "Andorra",
          "Angola",
          "Anguilla",
          "Antigua and Barbuda",
          "Argentina",
          "Armenia",
          "Aruba",
          "Australia",
          "Austria",
          "Azerbaijan",
          "Bahamas, The",
          "Bahrain",
          "Bangladesh",
          "Barbados",
          "Belarus",
          "Belgium",
          "Belize",
          "Benin",
          "Bermuda",
          "Bhutan",
          "Bolivia",
          "Bosnia and Herzegovina",
          "Botswana",
          "Brazil",
          "British Virgin Islands",
          "Brunei",
          "Bulgaria",
          "Burkina Faso",
          "Burma",
          "Burundi",
          "Cabo Verde",
          "Cambodia",
          "Cameroon",
          "Canada",
          "Cayman Islands",
          "Central African Republic",
          "Chad",
          "Chile",
          "China",
          "Colombia",
          "Comoros",
          "Congo, Democratic Republic of the",
          "Congo, Republic of the",
          "Cook Islands",
          "Costa Rica",
          "Cote d'Ivoire",
          "Croatia",
          "Cuba",
          "Curacao",
          "Cyprus",
          "Czech Republic",
          "Denmark",
          "Djibouti",
          "Dominica",
          "Dominican Republic",
          "Ecuador",
          "Egypt",
          "El Salvador",
          "Equatorial Guinea",
          "Eritrea",
          "Estonia",
          "Ethiopia",
          "Falkland Islands (Islas Malvinas)",
          "Faroe Islands",
          "Fiji",
          "Finland",
          "France",
          "French Polynesia",
          "Gabon",
          "Gambia, The",
          "Georgia",
          "Germany",
          "Ghana",
          "Gibraltar",
          "Greece",
          "Greenland",
          "Grenada",
          "Guam",
          "Guatemala",
          "Guernsey",
          "Guinea-Bissau",
          "Guinea",
          "Guyana",
          "Haiti",
          "Honduras",
          "Hong Kong",
          "Hungary",
          "Iceland",
          "India",
          "Indonesia",
          "Iran",
          "Iraq",
          "Ireland",
          "Isle of Man",
          "Israel",
          "Italy",
          "Jamaica",
          "Japan",
          "Jersey",
          "Jordan",
          "Kazakhstan",
          "Kenya",
          "Kiribati",
          "Korea, North",
          "Korea, South",
          "Kosovo",
          "Kuwait",
          "Kyrgyzstan",
          "Laos",
          "Latvia",
          "Lebanon",
          "Lesotho",
          "Liberia",
          "Libya",
          "Liechtenstein",
          "Lithuania",
          "Luxembourg",
          "Macau",
          "Macedonia",
          "Madagascar",
          "Malawi",
          "Malaysia",
          "Maldives",
          "Mali",
          "Malta",
          "Marshall Islands",
          "Mauritania",
          "Mauritius",
          "Mexico",
          "Micronesia, Federated States of",
          "Moldova",
          "Monaco",
          "Mongolia",
          "Montenegro",
          "Morocco",
          "Mozambique",
          "Namibia",
          "Nepal",
          "Netherlands",
          "New Caledonia",
          "New Zealand",
          "Nicaragua",
          "Nigeria",
          "Niger",
          "Niue",
          "Northern Mariana Islands",
          "Norway",
          "Oman",
          "Pakistan",
          "Palau",
          "Panama",
          "Papua New Guinea",
          "Paraguay",
          "Peru",
          "Philippines",
          "Poland",
          "Portugal",
          "Puerto Rico",
          "Qatar",
          "Romania",
          "Russia",
          "Rwanda",
          "Saint Kitts and Nevis",
          "Saint Lucia",
          "Saint Martin",
          "Saint Pierre and Miquelon",
          "Saint Vincent and the Grenadines",
          "Samoa",
          "San Marino",
          "Sao Tome and Principe",
          "Saudi Arabia",
          "Senegal",
          "Serbia",
          "Seychelles",
          "Sierra Leone",
          "Singapore",
          "Sint Maarten",
          "Slovakia",
          "Slovenia",
          "Solomon Islands",
          "Somalia",
          "South Africa",
          "South Sudan",
          "Spain",
          "Sri Lanka",
          "Sudan",
          "Suriname",
          "Swaziland",
          "Sweden",
          "Switzerland",
          "Syria",
          "Taiwan",
          "Tajikistan",
          "Tanzania",
          "Thailand",
          "Timor-Leste",
          "Togo",
          "Tonga",
          "Trinidad and Tobago",
          "Tunisia",
          "Turkey",
          "Turkmenistan",
          "Tuvalu",
          "Uganda",
          "Ukraine",
          "United Arab Emirates",
          "United Kingdom",
          "United States",
          "Uruguay",
          "Uzbekistan",
          "Vanuatu",
          "Venezuela",
          "Vietnam",
          "Virgin Islands",
          "West Bank",
          "Yemen",
          "Zambia",
          "Zimbabwe"
         ],
         "type": "choropleth",
         "z": [
          21.71,
          13.4,
          227.8,
          0.75,
          4.8,
          131.4,
          0.18,
          1.24,
          536.2,
          10.88,
          2.52,
          1483,
          436.1,
          77.91,
          8.65,
          34.05,
          186.6,
          4.28,
          75.25,
          527.8,
          1.67,
          9.24,
          5.2,
          2.09,
          34.08,
          19.55,
          16.3,
          2244,
          1.1,
          17.43,
          55.08,
          13.38,
          65.29,
          3.04,
          1.98,
          16.9,
          32.16,
          1794,
          2.25,
          1.73,
          15.84,
          264.1,
          10360,
          400.1,
          0.72,
          32.67,
          14.11,
          0.18,
          50.46,
          33.96,
          57.18,
          77.15,
          5.6,
          21.34,
          205.6,
          347.2,
          1.58,
          0.51,
          64.05,
          100.5,
          284.9,
          25.14,
          15.4,
          3.87,
          26.36,
          49.86,
          0.16,
          2.32,
          4.17,
          276.3,
          2902,
          7.15,
          20.68,
          0.92,
          16.13,
          3820,
          35.48,
          1.85,
          246.4,
          2.16,
          0.84,
          4.6,
          58.3,
          2.74,
          1.04,
          6.77,
          3.14,
          8.92,
          19.37,
          292.7,
          129.7,
          16.2,
          2048,
          856.1,
          402.7,
          232.2,
          245.8,
          4.08,
          305,
          2129,
          13.92,
          4770,
          5.77,
          36.55,
          225.6,
          62.72,
          0.16,
          28,
          1410,
          5.99,
          179.3,
          7.65,
          11.71,
          32.82,
          47.5,
          2.46,
          2.07,
          49.34,
          5.11,
          48.72,
          63.93,
          51.68,
          10.92,
          11.19,
          4.41,
          336.9,
          2.41,
          12.04,
          10.57,
          0.18,
          4.29,
          12.72,
          1296,
          0.34,
          7.74,
          6.06,
          11.73,
          4.66,
          112.6,
          16.59,
          13.11,
          19.64,
          880.4,
          11.1,
          201,
          11.85,
          594.3,
          8.29,
          0.01,
          1.23,
          511.6,
          80.54,
          237.5,
          0.65,
          44.69,
          16.1,
          31.3,
          208.2,
          284.6,
          552.2,
          228.2,
          93.52,
          212,
          199,
          2057,
          8,
          0.81,
          1.35,
          0.56,
          0.22,
          0.75,
          0.83,
          1.86,
          0.36,
          777.9,
          15.88,
          42.65,
          1.47,
          5.41,
          307.9,
          304.1,
          99.75,
          49.93,
          1.16,
          2.37,
          341.2,
          11.89,
          1400,
          71.57,
          70.03,
          5.27,
          3.84,
          559.1,
          679,
          64.7,
          529.5,
          9.16,
          36.62,
          373.8,
          4.51,
          4.84,
          0.49,
          29.63,
          49.12,
          813.3,
          43.5,
          0.04,
          26.09,
          134.9,
          416.4,
          2848,
          17420,
          55.6,
          63.08,
          0.82,
          209.2,
          187.8,
          5.08,
          6.64,
          45.45,
          25.61,
          13.74
         ]
        }
       ],
       "layout": {
        "annotations": [
         {
          "showarrow": false,
          "text": "Source: <a href=\"https://www.cia.gov/library/publications/the-world-factbook/fields/2195.html\">            CIA World Factbook</a>",
          "x": 0.55,
          "xref": "paper",
          "y": 0.1,
          "yref": "paper"
         }
        ],
        "geo": {
         "projection": {
          "type": "equirectangular"
         },
         "showcoastlines": false,
         "showframe": false
        },
        "template": {
         "data": {
          "bar": [
           {
            "error_x": {
             "color": "#2a3f5f"
            },
            "error_y": {
             "color": "#2a3f5f"
            },
            "marker": {
             "line": {
              "color": "#E5ECF6",
              "width": 0.5
             }
            },
            "type": "bar"
           }
          ],
          "barpolar": [
           {
            "marker": {
             "line": {
              "color": "#E5ECF6",
              "width": 0.5
             }
            },
            "type": "barpolar"
           }
          ],
          "carpet": [
           {
            "aaxis": {
             "endlinecolor": "#2a3f5f",
             "gridcolor": "white",
             "linecolor": "white",
             "minorgridcolor": "white",
             "startlinecolor": "#2a3f5f"
            },
            "baxis": {
             "endlinecolor": "#2a3f5f",
             "gridcolor": "white",
             "linecolor": "white",
             "minorgridcolor": "white",
             "startlinecolor": "#2a3f5f"
            },
            "type": "carpet"
           }
          ],
          "choropleth": [
           {
            "colorbar": {
             "outlinewidth": 0,
             "ticks": ""
            },
            "type": "choropleth"
           }
          ],
          "contour": [
           {
            "colorbar": {
             "outlinewidth": 0,
             "ticks": ""
            },
            "colorscale": [
             [
              0,
              "#0d0887"
             ],
             [
              0.1111111111111111,
              "#46039f"
             ],
             [
              0.2222222222222222,
              "#7201a8"
             ],
             [
              0.3333333333333333,
              "#9c179e"
             ],
             [
              0.4444444444444444,
              "#bd3786"
             ],
             [
              0.5555555555555556,
              "#d8576b"
             ],
             [
              0.6666666666666666,
              "#ed7953"
             ],
             [
              0.7777777777777778,
              "#fb9f3a"
             ],
             [
              0.8888888888888888,
              "#fdca26"
             ],
             [
              1,
              "#f0f921"
             ]
            ],
            "type": "contour"
           }
          ],
          "contourcarpet": [
           {
            "colorbar": {
             "outlinewidth": 0,
             "ticks": ""
            },
            "type": "contourcarpet"
           }
          ],
          "heatmap": [
           {
            "colorbar": {
             "outlinewidth": 0,
             "ticks": ""
            },
            "colorscale": [
             [
              0,
              "#0d0887"
             ],
             [
              0.1111111111111111,
              "#46039f"
             ],
             [
              0.2222222222222222,
              "#7201a8"
             ],
             [
              0.3333333333333333,
              "#9c179e"
             ],
             [
              0.4444444444444444,
              "#bd3786"
             ],
             [
              0.5555555555555556,
              "#d8576b"
             ],
             [
              0.6666666666666666,
              "#ed7953"
             ],
             [
              0.7777777777777778,
              "#fb9f3a"
             ],
             [
              0.8888888888888888,
              "#fdca26"
             ],
             [
              1,
              "#f0f921"
             ]
            ],
            "type": "heatmap"
           }
          ],
          "heatmapgl": [
           {
            "colorbar": {
             "outlinewidth": 0,
             "ticks": ""
            },
            "colorscale": [
             [
              0,
              "#0d0887"
             ],
             [
              0.1111111111111111,
              "#46039f"
             ],
             [
              0.2222222222222222,
              "#7201a8"
             ],
             [
              0.3333333333333333,
              "#9c179e"
             ],
             [
              0.4444444444444444,
              "#bd3786"
             ],
             [
              0.5555555555555556,
              "#d8576b"
             ],
             [
              0.6666666666666666,
              "#ed7953"
             ],
             [
              0.7777777777777778,
              "#fb9f3a"
             ],
             [
              0.8888888888888888,
              "#fdca26"
             ],
             [
              1,
              "#f0f921"
             ]
            ],
            "type": "heatmapgl"
           }
          ],
          "histogram": [
           {
            "marker": {
             "colorbar": {
              "outlinewidth": 0,
              "ticks": ""
             }
            },
            "type": "histogram"
           }
          ],
          "histogram2d": [
           {
            "colorbar": {
             "outlinewidth": 0,
             "ticks": ""
            },
            "colorscale": [
             [
              0,
              "#0d0887"
             ],
             [
              0.1111111111111111,
              "#46039f"
             ],
             [
              0.2222222222222222,
              "#7201a8"
             ],
             [
              0.3333333333333333,
              "#9c179e"
             ],
             [
              0.4444444444444444,
              "#bd3786"
             ],
             [
              0.5555555555555556,
              "#d8576b"
             ],
             [
              0.6666666666666666,
              "#ed7953"
             ],
             [
              0.7777777777777778,
              "#fb9f3a"
             ],
             [
              0.8888888888888888,
              "#fdca26"
             ],
             [
              1,
              "#f0f921"
             ]
            ],
            "type": "histogram2d"
           }
          ],
          "histogram2dcontour": [
           {
            "colorbar": {
             "outlinewidth": 0,
             "ticks": ""
            },
            "colorscale": [
             [
              0,
              "#0d0887"
             ],
             [
              0.1111111111111111,
              "#46039f"
             ],
             [
              0.2222222222222222,
              "#7201a8"
             ],
             [
              0.3333333333333333,
              "#9c179e"
             ],
             [
              0.4444444444444444,
              "#bd3786"
             ],
             [
              0.5555555555555556,
              "#d8576b"
             ],
             [
              0.6666666666666666,
              "#ed7953"
             ],
             [
              0.7777777777777778,
              "#fb9f3a"
             ],
             [
              0.8888888888888888,
              "#fdca26"
             ],
             [
              1,
              "#f0f921"
             ]
            ],
            "type": "histogram2dcontour"
           }
          ],
          "mesh3d": [
           {
            "colorbar": {
             "outlinewidth": 0,
             "ticks": ""
            },
            "type": "mesh3d"
           }
          ],
          "parcoords": [
           {
            "line": {
             "colorbar": {
              "outlinewidth": 0,
              "ticks": ""
             }
            },
            "type": "parcoords"
           }
          ],
          "pie": [
           {
            "automargin": true,
            "type": "pie"
           }
          ],
          "scatter": [
           {
            "marker": {
             "colorbar": {
              "outlinewidth": 0,
              "ticks": ""
             }
            },
            "type": "scatter"
           }
          ],
          "scatter3d": [
           {
            "line": {
             "colorbar": {
              "outlinewidth": 0,
              "ticks": ""
             }
            },
            "marker": {
             "colorbar": {
              "outlinewidth": 0,
              "ticks": ""
             }
            },
            "type": "scatter3d"
           }
          ],
          "scattercarpet": [
           {
            "marker": {
             "colorbar": {
              "outlinewidth": 0,
              "ticks": ""
             }
            },
            "type": "scattercarpet"
           }
          ],
          "scattergeo": [
           {
            "marker": {
             "colorbar": {
              "outlinewidth": 0,
              "ticks": ""
             }
            },
            "type": "scattergeo"
           }
          ],
          "scattergl": [
           {
            "marker": {
             "colorbar": {
              "outlinewidth": 0,
              "ticks": ""
             }
            },
            "type": "scattergl"
           }
          ],
          "scattermapbox": [
           {
            "marker": {
             "colorbar": {
              "outlinewidth": 0,
              "ticks": ""
             }
            },
            "type": "scattermapbox"
           }
          ],
          "scatterpolar": [
           {
            "marker": {
             "colorbar": {
              "outlinewidth": 0,
              "ticks": ""
             }
            },
            "type": "scatterpolar"
           }
          ],
          "scatterpolargl": [
           {
            "marker": {
             "colorbar": {
              "outlinewidth": 0,
              "ticks": ""
             }
            },
            "type": "scatterpolargl"
           }
          ],
          "scatterternary": [
           {
            "marker": {
             "colorbar": {
              "outlinewidth": 0,
              "ticks": ""
             }
            },
            "type": "scatterternary"
           }
          ],
          "surface": [
           {
            "colorbar": {
             "outlinewidth": 0,
             "ticks": ""
            },
            "colorscale": [
             [
              0,
              "#0d0887"
             ],
             [
              0.1111111111111111,
              "#46039f"
             ],
             [
              0.2222222222222222,
              "#7201a8"
             ],
             [
              0.3333333333333333,
              "#9c179e"
             ],
             [
              0.4444444444444444,
              "#bd3786"
             ],
             [
              0.5555555555555556,
              "#d8576b"
             ],
             [
              0.6666666666666666,
              "#ed7953"
             ],
             [
              0.7777777777777778,
              "#fb9f3a"
             ],
             [
              0.8888888888888888,
              "#fdca26"
             ],
             [
              1,
              "#f0f921"
             ]
            ],
            "type": "surface"
           }
          ],
          "table": [
           {
            "cells": {
             "fill": {
              "color": "#EBF0F8"
             },
             "line": {
              "color": "white"
             }
            },
            "header": {
             "fill": {
              "color": "#C8D4E3"
             },
             "line": {
              "color": "white"
             }
            },
            "type": "table"
           }
          ]
         },
         "layout": {
          "annotationdefaults": {
           "arrowcolor": "#2a3f5f",
           "arrowhead": 0,
           "arrowwidth": 1
          },
          "coloraxis": {
           "colorbar": {
            "outlinewidth": 0,
            "ticks": ""
           }
          },
          "colorscale": {
           "diverging": [
            [
             0,
             "#8e0152"
            ],
            [
             0.1,
             "#c51b7d"
            ],
            [
             0.2,
             "#de77ae"
            ],
            [
             0.3,
             "#f1b6da"
            ],
            [
             0.4,
             "#fde0ef"
            ],
            [
             0.5,
             "#f7f7f7"
            ],
            [
             0.6,
             "#e6f5d0"
            ],
            [
             0.7,
             "#b8e186"
            ],
            [
             0.8,
             "#7fbc41"
            ],
            [
             0.9,
             "#4d9221"
            ],
            [
             1,
             "#276419"
            ]
           ],
           "sequential": [
            [
             0,
             "#0d0887"
            ],
            [
             0.1111111111111111,
             "#46039f"
            ],
            [
             0.2222222222222222,
             "#7201a8"
            ],
            [
             0.3333333333333333,
             "#9c179e"
            ],
            [
             0.4444444444444444,
             "#bd3786"
            ],
            [
             0.5555555555555556,
             "#d8576b"
            ],
            [
             0.6666666666666666,
             "#ed7953"
            ],
            [
             0.7777777777777778,
             "#fb9f3a"
            ],
            [
             0.8888888888888888,
             "#fdca26"
            ],
            [
             1,
             "#f0f921"
            ]
           ],
           "sequentialminus": [
            [
             0,
             "#0d0887"
            ],
            [
             0.1111111111111111,
             "#46039f"
            ],
            [
             0.2222222222222222,
             "#7201a8"
            ],
            [
             0.3333333333333333,
             "#9c179e"
            ],
            [
             0.4444444444444444,
             "#bd3786"
            ],
            [
             0.5555555555555556,
             "#d8576b"
            ],
            [
             0.6666666666666666,
             "#ed7953"
            ],
            [
             0.7777777777777778,
             "#fb9f3a"
            ],
            [
             0.8888888888888888,
             "#fdca26"
            ],
            [
             1,
             "#f0f921"
            ]
           ]
          },
          "colorway": [
           "#636efa",
           "#EF553B",
           "#00cc96",
           "#ab63fa",
           "#FFA15A",
           "#19d3f3",
           "#FF6692",
           "#B6E880",
           "#FF97FF",
           "#FECB52"
          ],
          "font": {
           "color": "#2a3f5f"
          },
          "geo": {
           "bgcolor": "white",
           "lakecolor": "white",
           "landcolor": "#E5ECF6",
           "showlakes": true,
           "showland": true,
           "subunitcolor": "white"
          },
          "hoverlabel": {
           "align": "left"
          },
          "hovermode": "closest",
          "mapbox": {
           "style": "light"
          },
          "paper_bgcolor": "white",
          "plot_bgcolor": "#E5ECF6",
          "polar": {
           "angularaxis": {
            "gridcolor": "white",
            "linecolor": "white",
            "ticks": ""
           },
           "bgcolor": "#E5ECF6",
           "radialaxis": {
            "gridcolor": "white",
            "linecolor": "white",
            "ticks": ""
           }
          },
          "scene": {
           "xaxis": {
            "backgroundcolor": "#E5ECF6",
            "gridcolor": "white",
            "gridwidth": 2,
            "linecolor": "white",
            "showbackground": true,
            "ticks": "",
            "zerolinecolor": "white"
           },
           "yaxis": {
            "backgroundcolor": "#E5ECF6",
            "gridcolor": "white",
            "gridwidth": 2,
            "linecolor": "white",
            "showbackground": true,
            "ticks": "",
            "zerolinecolor": "white"
           },
           "zaxis": {
            "backgroundcolor": "#E5ECF6",
            "gridcolor": "white",
            "gridwidth": 2,
            "linecolor": "white",
            "showbackground": true,
            "ticks": "",
            "zerolinecolor": "white"
           }
          },
          "shapedefaults": {
           "line": {
            "color": "#2a3f5f"
           }
          },
          "ternary": {
           "aaxis": {
            "gridcolor": "white",
            "linecolor": "white",
            "ticks": ""
           },
           "baxis": {
            "gridcolor": "white",
            "linecolor": "white",
            "ticks": ""
           },
           "bgcolor": "#E5ECF6",
           "caxis": {
            "gridcolor": "white",
            "linecolor": "white",
            "ticks": ""
           }
          },
          "title": {
           "x": 0.05
          },
          "xaxis": {
           "automargin": true,
           "gridcolor": "white",
           "linecolor": "white",
           "ticks": "",
           "title": {
            "standoff": 15
           },
           "zerolinecolor": "white",
           "zerolinewidth": 2
          },
          "yaxis": {
           "automargin": true,
           "gridcolor": "white",
           "linecolor": "white",
           "ticks": "",
           "title": {
            "standoff": 15
           },
           "zerolinecolor": "white",
           "zerolinewidth": 2
          }
         }
        },
        "title": {
         "text": "2014 Global GDP"
        }
       }
      },
      "text/html": [
       "<div>\n",
       "        \n",
       "        \n",
       "            <div id=\"70f04cf4-28e7-4dc6-a441-e2ec483693fd\" class=\"plotly-graph-div\" style=\"height:525px; width:100%;\"></div>\n",
       "            <script type=\"text/javascript\">\n",
       "                require([\"plotly\"], function(Plotly) {\n",
       "                    window.PLOTLYENV=window.PLOTLYENV || {};\n",
       "                    \n",
       "                if (document.getElementById(\"70f04cf4-28e7-4dc6-a441-e2ec483693fd\")) {\n",
       "                    Plotly.newPlot(\n",
       "                        '70f04cf4-28e7-4dc6-a441-e2ec483693fd',\n",
       "                        [{\"autocolorscale\": false, \"colorbar\": {\"tickprefix\": \"$\", \"title\": {\"text\": \"GDP<br>Billions US$\"}}, \"colorscale\": [[0.0, \"rgb(247,251,255)\"], [0.125, \"rgb(222,235,247)\"], [0.25, \"rgb(198,219,239)\"], [0.375, \"rgb(158,202,225)\"], [0.5, \"rgb(107,174,214)\"], [0.625, \"rgb(66,146,198)\"], [0.75, \"rgb(33,113,181)\"], [0.875, \"rgb(8,81,156)\"], [1.0, \"rgb(8,48,107)\"]], \"locations\": [\"AFG\", \"ALB\", \"DZA\", \"ASM\", \"AND\", \"AGO\", \"AIA\", \"ATG\", \"ARG\", \"ARM\", \"ABW\", \"AUS\", \"AUT\", \"AZE\", \"BHM\", \"BHR\", \"BGD\", \"BRB\", \"BLR\", \"BEL\", \"BLZ\", \"BEN\", \"BMU\", \"BTN\", \"BOL\", \"BIH\", \"BWA\", \"BRA\", \"VGB\", \"BRN\", \"BGR\", \"BFA\", \"MMR\", \"BDI\", \"CPV\", \"KHM\", \"CMR\", \"CAN\", \"CYM\", \"CAF\", \"TCD\", \"CHL\", \"CHN\", \"COL\", \"COM\", \"COD\", \"COG\", \"COK\", \"CRI\", \"CIV\", \"HRV\", \"CUB\", \"CUW\", \"CYP\", \"CZE\", \"DNK\", \"DJI\", \"DMA\", \"DOM\", \"ECU\", \"EGY\", \"SLV\", \"GNQ\", \"ERI\", \"EST\", \"ETH\", \"FLK\", \"FRO\", \"FJI\", \"FIN\", \"FRA\", \"PYF\", \"GAB\", \"GMB\", \"GEO\", \"DEU\", \"GHA\", \"GIB\", \"GRC\", \"GRL\", \"GRD\", \"GUM\", \"GTM\", \"GGY\", \"GNB\", \"GIN\", \"GUY\", \"HTI\", \"HND\", \"HKG\", \"HUN\", \"ISL\", \"IND\", \"IDN\", \"IRN\", \"IRQ\", \"IRL\", \"IMN\", \"ISR\", \"ITA\", \"JAM\", \"JPN\", \"JEY\", \"JOR\", \"KAZ\", \"KEN\", \"KIR\", \"PRK\", \"KOR\", \"KSV\", \"KWT\", \"KGZ\", \"LAO\", \"LVA\", \"LBN\", \"LSO\", \"LBR\", \"LBY\", \"LIE\", \"LTU\", \"LUX\", \"MAC\", \"MKD\", \"MDG\", \"MWI\", \"MYS\", \"MDV\", \"MLI\", \"MLT\", \"MHL\", \"MRT\", \"MUS\", \"MEX\", \"FSM\", \"MDA\", \"MCO\", \"MNG\", \"MNE\", \"MAR\", \"MOZ\", \"NAM\", \"NPL\", \"NLD\", \"NCL\", \"NZL\", \"NIC\", \"NGA\", \"NER\", \"NIU\", \"MNP\", \"NOR\", \"OMN\", \"PAK\", \"PLW\", \"PAN\", \"PNG\", \"PRY\", \"PER\", \"PHL\", \"POL\", \"PRT\", \"PRI\", \"QAT\", \"ROU\", \"RUS\", \"RWA\", \"KNA\", \"LCA\", \"MAF\", \"SPM\", \"VCT\", \"WSM\", \"SMR\", \"STP\", \"SAU\", \"SEN\", \"SRB\", \"SYC\", \"SLE\", \"SGP\", \"SXM\", \"SVK\", \"SVN\", \"SLB\", \"SOM\", \"ZAF\", \"SSD\", \"ESP\", \"LKA\", \"SDN\", \"SUR\", \"SWZ\", \"SWE\", \"CHE\", \"SYR\", \"TWN\", \"TJK\", \"TZA\", \"THA\", \"TLS\", \"TGO\", \"TON\", \"TTO\", \"TUN\", \"TUR\", \"TKM\", \"TUV\", \"UGA\", \"UKR\", \"ARE\", \"GBR\", \"USA\", \"URY\", \"UZB\", \"VUT\", \"VEN\", \"VNM\", \"VGB\", \"WBG\", \"YEM\", \"ZMB\", \"ZWE\"], \"marker\": {\"line\": {\"color\": \"darkgray\", \"width\": 0.5}}, \"reversescale\": true, \"text\": [\"Afghanistan\", \"Albania\", \"Algeria\", \"American Samoa\", \"Andorra\", \"Angola\", \"Anguilla\", \"Antigua and Barbuda\", \"Argentina\", \"Armenia\", \"Aruba\", \"Australia\", \"Austria\", \"Azerbaijan\", \"Bahamas, The\", \"Bahrain\", \"Bangladesh\", \"Barbados\", \"Belarus\", \"Belgium\", \"Belize\", \"Benin\", \"Bermuda\", \"Bhutan\", \"Bolivia\", \"Bosnia and Herzegovina\", \"Botswana\", \"Brazil\", \"British Virgin Islands\", \"Brunei\", \"Bulgaria\", \"Burkina Faso\", \"Burma\", \"Burundi\", \"Cabo Verde\", \"Cambodia\", \"Cameroon\", \"Canada\", \"Cayman Islands\", \"Central African Republic\", \"Chad\", \"Chile\", \"China\", \"Colombia\", \"Comoros\", \"Congo, Democratic Republic of the\", \"Congo, Republic of the\", \"Cook Islands\", \"Costa Rica\", \"Cote d'Ivoire\", \"Croatia\", \"Cuba\", \"Curacao\", \"Cyprus\", \"Czech Republic\", \"Denmark\", \"Djibouti\", \"Dominica\", \"Dominican Republic\", \"Ecuador\", \"Egypt\", \"El Salvador\", \"Equatorial Guinea\", \"Eritrea\", \"Estonia\", \"Ethiopia\", \"Falkland Islands (Islas Malvinas)\", \"Faroe Islands\", \"Fiji\", \"Finland\", \"France\", \"French Polynesia\", \"Gabon\", \"Gambia, The\", \"Georgia\", \"Germany\", \"Ghana\", \"Gibraltar\", \"Greece\", \"Greenland\", \"Grenada\", \"Guam\", \"Guatemala\", \"Guernsey\", \"Guinea-Bissau\", \"Guinea\", \"Guyana\", \"Haiti\", \"Honduras\", \"Hong Kong\", \"Hungary\", \"Iceland\", \"India\", \"Indonesia\", \"Iran\", \"Iraq\", \"Ireland\", \"Isle of Man\", \"Israel\", \"Italy\", \"Jamaica\", \"Japan\", \"Jersey\", \"Jordan\", \"Kazakhstan\", \"Kenya\", \"Kiribati\", \"Korea, North\", \"Korea, South\", \"Kosovo\", \"Kuwait\", \"Kyrgyzstan\", \"Laos\", \"Latvia\", \"Lebanon\", \"Lesotho\", \"Liberia\", \"Libya\", \"Liechtenstein\", \"Lithuania\", \"Luxembourg\", \"Macau\", \"Macedonia\", \"Madagascar\", \"Malawi\", \"Malaysia\", \"Maldives\", \"Mali\", \"Malta\", \"Marshall Islands\", \"Mauritania\", \"Mauritius\", \"Mexico\", \"Micronesia, Federated States of\", \"Moldova\", \"Monaco\", \"Mongolia\", \"Montenegro\", \"Morocco\", \"Mozambique\", \"Namibia\", \"Nepal\", \"Netherlands\", \"New Caledonia\", \"New Zealand\", \"Nicaragua\", \"Nigeria\", \"Niger\", \"Niue\", \"Northern Mariana Islands\", \"Norway\", \"Oman\", \"Pakistan\", \"Palau\", \"Panama\", \"Papua New Guinea\", \"Paraguay\", \"Peru\", \"Philippines\", \"Poland\", \"Portugal\", \"Puerto Rico\", \"Qatar\", \"Romania\", \"Russia\", \"Rwanda\", \"Saint Kitts and Nevis\", \"Saint Lucia\", \"Saint Martin\", \"Saint Pierre and Miquelon\", \"Saint Vincent and the Grenadines\", \"Samoa\", \"San Marino\", \"Sao Tome and Principe\", \"Saudi Arabia\", \"Senegal\", \"Serbia\", \"Seychelles\", \"Sierra Leone\", \"Singapore\", \"Sint Maarten\", \"Slovakia\", \"Slovenia\", \"Solomon Islands\", \"Somalia\", \"South Africa\", \"South Sudan\", \"Spain\", \"Sri Lanka\", \"Sudan\", \"Suriname\", \"Swaziland\", \"Sweden\", \"Switzerland\", \"Syria\", \"Taiwan\", \"Tajikistan\", \"Tanzania\", \"Thailand\", \"Timor-Leste\", \"Togo\", \"Tonga\", \"Trinidad and Tobago\", \"Tunisia\", \"Turkey\", \"Turkmenistan\", \"Tuvalu\", \"Uganda\", \"Ukraine\", \"United Arab Emirates\", \"United Kingdom\", \"United States\", \"Uruguay\", \"Uzbekistan\", \"Vanuatu\", \"Venezuela\", \"Vietnam\", \"Virgin Islands\", \"West Bank\", \"Yemen\", \"Zambia\", \"Zimbabwe\"], \"type\": \"choropleth\", \"z\": [21.71, 13.4, 227.8, 0.75, 4.8, 131.4, 0.18, 1.24, 536.2, 10.88, 2.52, 1483.0, 436.1, 77.91, 8.65, 34.05, 186.6, 4.28, 75.25, 527.8, 1.67, 9.24, 5.2, 2.09, 34.08, 19.55, 16.3, 2244.0, 1.1, 17.43, 55.08, 13.38, 65.29, 3.04, 1.98, 16.9, 32.16, 1794.0, 2.25, 1.73, 15.84, 264.1, 10360.0, 400.1, 0.72, 32.67, 14.11, 0.18, 50.46, 33.96, 57.18, 77.15, 5.6, 21.34, 205.6, 347.2, 1.58, 0.51, 64.05, 100.5, 284.9, 25.14, 15.4, 3.87, 26.36, 49.86, 0.16, 2.32, 4.17, 276.3, 2902.0, 7.15, 20.68, 0.92, 16.13, 3820.0, 35.48, 1.85, 246.4, 2.16, 0.84, 4.6, 58.3, 2.74, 1.04, 6.77, 3.14, 8.92, 19.37, 292.7, 129.7, 16.2, 2048.0, 856.1, 402.7, 232.2, 245.8, 4.08, 305.0, 2129.0, 13.92, 4770.0, 5.77, 36.55, 225.6, 62.72, 0.16, 28.0, 1410.0, 5.99, 179.3, 7.65, 11.71, 32.82, 47.5, 2.46, 2.07, 49.34, 5.11, 48.72, 63.93, 51.68, 10.92, 11.19, 4.41, 336.9, 2.41, 12.04, 10.57, 0.18, 4.29, 12.72, 1296.0, 0.34, 7.74, 6.06, 11.73, 4.66, 112.6, 16.59, 13.11, 19.64, 880.4, 11.1, 201.0, 11.85, 594.3, 8.29, 0.01, 1.23, 511.6, 80.54, 237.5, 0.65, 44.69, 16.1, 31.3, 208.2, 284.6, 552.2, 228.2, 93.52, 212.0, 199.0, 2057.0, 8.0, 0.81, 1.35, 0.56, 0.22, 0.75, 0.83, 1.86, 0.36, 777.9, 15.88, 42.65, 1.47, 5.41, 307.9, 304.1, 99.75, 49.93, 1.16, 2.37, 341.2, 11.89, 1400.0, 71.57, 70.03, 5.27, 3.84, 559.1, 679.0, 64.7, 529.5, 9.16, 36.62, 373.8, 4.51, 4.84, 0.49, 29.63, 49.12, 813.3, 43.5, 0.04, 26.09, 134.9, 416.4, 2848.0, 17420.0, 55.6, 63.08, 0.82, 209.2, 187.8, 5.08, 6.64, 45.45, 25.61, 13.74]}],\n",
       "                        {\"annotations\": [{\"showarrow\": false, \"text\": \"Source: <a href=\\\"https://www.cia.gov/library/publications/the-world-factbook/fields/2195.html\\\">            CIA World Factbook</a>\", \"x\": 0.55, \"xref\": \"paper\", \"y\": 0.1, \"yref\": \"paper\"}], \"geo\": {\"projection\": {\"type\": \"equirectangular\"}, \"showcoastlines\": false, \"showframe\": false}, \"template\": {\"data\": {\"bar\": [{\"error_x\": {\"color\": \"#2a3f5f\"}, \"error_y\": {\"color\": \"#2a3f5f\"}, \"marker\": {\"line\": {\"color\": \"#E5ECF6\", \"width\": 0.5}}, \"type\": \"bar\"}], \"barpolar\": [{\"marker\": {\"line\": {\"color\": \"#E5ECF6\", \"width\": 0.5}}, \"type\": \"barpolar\"}], \"carpet\": [{\"aaxis\": {\"endlinecolor\": \"#2a3f5f\", \"gridcolor\": \"white\", \"linecolor\": \"white\", \"minorgridcolor\": \"white\", \"startlinecolor\": \"#2a3f5f\"}, \"baxis\": {\"endlinecolor\": \"#2a3f5f\", \"gridcolor\": \"white\", \"linecolor\": \"white\", \"minorgridcolor\": \"white\", \"startlinecolor\": \"#2a3f5f\"}, \"type\": \"carpet\"}], \"choropleth\": [{\"colorbar\": {\"outlinewidth\": 0, \"ticks\": \"\"}, \"type\": \"choropleth\"}], \"contour\": [{\"colorbar\": {\"outlinewidth\": 0, \"ticks\": \"\"}, \"colorscale\": [[0.0, \"#0d0887\"], [0.1111111111111111, \"#46039f\"], [0.2222222222222222, \"#7201a8\"], [0.3333333333333333, \"#9c179e\"], [0.4444444444444444, \"#bd3786\"], [0.5555555555555556, \"#d8576b\"], [0.6666666666666666, \"#ed7953\"], [0.7777777777777778, \"#fb9f3a\"], [0.8888888888888888, \"#fdca26\"], [1.0, \"#f0f921\"]], \"type\": \"contour\"}], \"contourcarpet\": [{\"colorbar\": {\"outlinewidth\": 0, \"ticks\": \"\"}, \"type\": \"contourcarpet\"}], \"heatmap\": [{\"colorbar\": {\"outlinewidth\": 0, \"ticks\": \"\"}, \"colorscale\": [[0.0, \"#0d0887\"], [0.1111111111111111, \"#46039f\"], [0.2222222222222222, \"#7201a8\"], [0.3333333333333333, \"#9c179e\"], [0.4444444444444444, \"#bd3786\"], [0.5555555555555556, \"#d8576b\"], [0.6666666666666666, \"#ed7953\"], [0.7777777777777778, \"#fb9f3a\"], [0.8888888888888888, \"#fdca26\"], [1.0, \"#f0f921\"]], \"type\": \"heatmap\"}], \"heatmapgl\": [{\"colorbar\": {\"outlinewidth\": 0, \"ticks\": \"\"}, \"colorscale\": [[0.0, \"#0d0887\"], [0.1111111111111111, \"#46039f\"], [0.2222222222222222, \"#7201a8\"], [0.3333333333333333, \"#9c179e\"], [0.4444444444444444, \"#bd3786\"], [0.5555555555555556, \"#d8576b\"], [0.6666666666666666, \"#ed7953\"], [0.7777777777777778, \"#fb9f3a\"], [0.8888888888888888, \"#fdca26\"], [1.0, \"#f0f921\"]], \"type\": \"heatmapgl\"}], \"histogram\": [{\"marker\": {\"colorbar\": {\"outlinewidth\": 0, \"ticks\": \"\"}}, \"type\": \"histogram\"}], \"histogram2d\": [{\"colorbar\": {\"outlinewidth\": 0, \"ticks\": \"\"}, \"colorscale\": [[0.0, \"#0d0887\"], [0.1111111111111111, \"#46039f\"], [0.2222222222222222, \"#7201a8\"], [0.3333333333333333, \"#9c179e\"], [0.4444444444444444, \"#bd3786\"], [0.5555555555555556, \"#d8576b\"], [0.6666666666666666, \"#ed7953\"], [0.7777777777777778, \"#fb9f3a\"], [0.8888888888888888, \"#fdca26\"], [1.0, \"#f0f921\"]], \"type\": \"histogram2d\"}], \"histogram2dcontour\": [{\"colorbar\": {\"outlinewidth\": 0, \"ticks\": \"\"}, \"colorscale\": [[0.0, \"#0d0887\"], [0.1111111111111111, \"#46039f\"], [0.2222222222222222, \"#7201a8\"], [0.3333333333333333, \"#9c179e\"], [0.4444444444444444, \"#bd3786\"], [0.5555555555555556, \"#d8576b\"], [0.6666666666666666, \"#ed7953\"], [0.7777777777777778, \"#fb9f3a\"], [0.8888888888888888, \"#fdca26\"], [1.0, \"#f0f921\"]], \"type\": \"histogram2dcontour\"}], \"mesh3d\": [{\"colorbar\": {\"outlinewidth\": 0, \"ticks\": \"\"}, \"type\": \"mesh3d\"}], \"parcoords\": [{\"line\": {\"colorbar\": {\"outlinewidth\": 0, \"ticks\": \"\"}}, \"type\": \"parcoords\"}], \"pie\": [{\"automargin\": true, \"type\": \"pie\"}], \"scatter\": [{\"marker\": {\"colorbar\": {\"outlinewidth\": 0, \"ticks\": \"\"}}, \"type\": \"scatter\"}], \"scatter3d\": [{\"line\": {\"colorbar\": {\"outlinewidth\": 0, \"ticks\": \"\"}}, \"marker\": {\"colorbar\": {\"outlinewidth\": 0, \"ticks\": \"\"}}, \"type\": \"scatter3d\"}], \"scattercarpet\": [{\"marker\": {\"colorbar\": {\"outlinewidth\": 0, \"ticks\": \"\"}}, \"type\": \"scattercarpet\"}], \"scattergeo\": [{\"marker\": {\"colorbar\": {\"outlinewidth\": 0, \"ticks\": \"\"}}, \"type\": \"scattergeo\"}], \"scattergl\": [{\"marker\": {\"colorbar\": {\"outlinewidth\": 0, \"ticks\": \"\"}}, \"type\": \"scattergl\"}], \"scattermapbox\": [{\"marker\": {\"colorbar\": {\"outlinewidth\": 0, \"ticks\": \"\"}}, \"type\": \"scattermapbox\"}], \"scatterpolar\": [{\"marker\": {\"colorbar\": {\"outlinewidth\": 0, \"ticks\": \"\"}}, \"type\": \"scatterpolar\"}], \"scatterpolargl\": [{\"marker\": {\"colorbar\": {\"outlinewidth\": 0, \"ticks\": \"\"}}, \"type\": \"scatterpolargl\"}], \"scatterternary\": [{\"marker\": {\"colorbar\": {\"outlinewidth\": 0, \"ticks\": \"\"}}, \"type\": \"scatterternary\"}], \"surface\": [{\"colorbar\": {\"outlinewidth\": 0, \"ticks\": \"\"}, \"colorscale\": [[0.0, \"#0d0887\"], [0.1111111111111111, \"#46039f\"], [0.2222222222222222, \"#7201a8\"], [0.3333333333333333, \"#9c179e\"], [0.4444444444444444, \"#bd3786\"], [0.5555555555555556, \"#d8576b\"], [0.6666666666666666, \"#ed7953\"], [0.7777777777777778, \"#fb9f3a\"], [0.8888888888888888, \"#fdca26\"], [1.0, \"#f0f921\"]], \"type\": \"surface\"}], \"table\": [{\"cells\": {\"fill\": {\"color\": \"#EBF0F8\"}, \"line\": {\"color\": \"white\"}}, \"header\": {\"fill\": {\"color\": \"#C8D4E3\"}, \"line\": {\"color\": \"white\"}}, \"type\": \"table\"}]}, \"layout\": {\"annotationdefaults\": {\"arrowcolor\": \"#2a3f5f\", \"arrowhead\": 0, \"arrowwidth\": 1}, \"coloraxis\": {\"colorbar\": {\"outlinewidth\": 0, \"ticks\": \"\"}}, \"colorscale\": {\"diverging\": [[0, \"#8e0152\"], [0.1, \"#c51b7d\"], [0.2, \"#de77ae\"], [0.3, \"#f1b6da\"], [0.4, \"#fde0ef\"], [0.5, \"#f7f7f7\"], [0.6, \"#e6f5d0\"], [0.7, \"#b8e186\"], [0.8, \"#7fbc41\"], [0.9, \"#4d9221\"], [1, \"#276419\"]], \"sequential\": [[0.0, \"#0d0887\"], [0.1111111111111111, \"#46039f\"], [0.2222222222222222, \"#7201a8\"], [0.3333333333333333, \"#9c179e\"], [0.4444444444444444, \"#bd3786\"], [0.5555555555555556, \"#d8576b\"], [0.6666666666666666, \"#ed7953\"], [0.7777777777777778, \"#fb9f3a\"], [0.8888888888888888, \"#fdca26\"], [1.0, \"#f0f921\"]], \"sequentialminus\": [[0.0, \"#0d0887\"], [0.1111111111111111, \"#46039f\"], [0.2222222222222222, \"#7201a8\"], [0.3333333333333333, \"#9c179e\"], [0.4444444444444444, \"#bd3786\"], [0.5555555555555556, \"#d8576b\"], [0.6666666666666666, \"#ed7953\"], [0.7777777777777778, \"#fb9f3a\"], [0.8888888888888888, \"#fdca26\"], [1.0, \"#f0f921\"]]}, \"colorway\": [\"#636efa\", \"#EF553B\", \"#00cc96\", \"#ab63fa\", \"#FFA15A\", \"#19d3f3\", \"#FF6692\", \"#B6E880\", \"#FF97FF\", \"#FECB52\"], \"font\": {\"color\": \"#2a3f5f\"}, \"geo\": {\"bgcolor\": \"white\", \"lakecolor\": \"white\", \"landcolor\": \"#E5ECF6\", \"showlakes\": true, \"showland\": true, \"subunitcolor\": \"white\"}, \"hoverlabel\": {\"align\": \"left\"}, \"hovermode\": \"closest\", \"mapbox\": {\"style\": \"light\"}, \"paper_bgcolor\": \"white\", \"plot_bgcolor\": \"#E5ECF6\", \"polar\": {\"angularaxis\": {\"gridcolor\": \"white\", \"linecolor\": \"white\", \"ticks\": \"\"}, \"bgcolor\": \"#E5ECF6\", \"radialaxis\": {\"gridcolor\": \"white\", \"linecolor\": \"white\", \"ticks\": \"\"}}, \"scene\": {\"xaxis\": {\"backgroundcolor\": \"#E5ECF6\", \"gridcolor\": \"white\", \"gridwidth\": 2, \"linecolor\": \"white\", \"showbackground\": true, \"ticks\": \"\", \"zerolinecolor\": \"white\"}, \"yaxis\": {\"backgroundcolor\": \"#E5ECF6\", \"gridcolor\": \"white\", \"gridwidth\": 2, \"linecolor\": \"white\", \"showbackground\": true, \"ticks\": \"\", \"zerolinecolor\": \"white\"}, \"zaxis\": {\"backgroundcolor\": \"#E5ECF6\", \"gridcolor\": \"white\", \"gridwidth\": 2, \"linecolor\": \"white\", \"showbackground\": true, \"ticks\": \"\", \"zerolinecolor\": \"white\"}}, \"shapedefaults\": {\"line\": {\"color\": \"#2a3f5f\"}}, \"ternary\": {\"aaxis\": {\"gridcolor\": \"white\", \"linecolor\": \"white\", \"ticks\": \"\"}, \"baxis\": {\"gridcolor\": \"white\", \"linecolor\": \"white\", \"ticks\": \"\"}, \"bgcolor\": \"#E5ECF6\", \"caxis\": {\"gridcolor\": \"white\", \"linecolor\": \"white\", \"ticks\": \"\"}}, \"title\": {\"x\": 0.05}, \"xaxis\": {\"automargin\": true, \"gridcolor\": \"white\", \"linecolor\": \"white\", \"ticks\": \"\", \"title\": {\"standoff\": 15}, \"zerolinecolor\": \"white\", \"zerolinewidth\": 2}, \"yaxis\": {\"automargin\": true, \"gridcolor\": \"white\", \"linecolor\": \"white\", \"ticks\": \"\", \"title\": {\"standoff\": 15}, \"zerolinecolor\": \"white\", \"zerolinewidth\": 2}}}, \"title\": {\"text\": \"2014 Global GDP\"}},\n",
       "                        {\"responsive\": true}\n",
       "                    ).then(function(){\n",
       "                            \n",
       "var gd = document.getElementById('70f04cf4-28e7-4dc6-a441-e2ec483693fd');\n",
       "var x = new MutationObserver(function (mutations, observer) {{\n",
       "        var display = window.getComputedStyle(gd).display;\n",
       "        if (!display || display === 'none') {{\n",
       "            console.log([gd, 'removed!']);\n",
       "            Plotly.purge(gd);\n",
       "            observer.disconnect();\n",
       "        }}\n",
       "}});\n",
       "\n",
       "// Listen for the removal of the full notebook cells\n",
       "var notebookContainer = gd.closest('#notebook-container');\n",
       "if (notebookContainer) {{\n",
       "    x.observe(notebookContainer, {childList: true});\n",
       "}}\n",
       "\n",
       "// Listen for the clearing of the current output cell\n",
       "var outputEl = gd.closest('.output');\n",
       "if (outputEl) {{\n",
       "    x.observe(outputEl, {childList: true});\n",
       "}}\n",
       "\n",
       "                        })\n",
       "                };\n",
       "                });\n",
       "            </script>\n",
       "        </div>"
      ]
     },
     "metadata": {},
     "output_type": "display_data"
    }
   ],
   "source": [
    "\n",
    "fig = go.Figure(data=go.Choropleth(\n",
    "    locations = df_worldmap['CODE'],\n",
    "    z = df_worldmap['GDP (BILLIONS)'],\n",
    "    text = df_worldmap['COUNTRY'],\n",
    "    colorscale = 'Blues',\n",
    "    autocolorscale=False,\n",
    "    reversescale=True,\n",
    "    marker_line_color='darkgray',\n",
    "    marker_line_width=0.5,\n",
    "    colorbar_tickprefix = '$',\n",
    "    colorbar_title = 'GDP<br>Billions US$',\n",
    "))\n",
    "\n",
    "fig.update_layout(\n",
    "    title_text='2014 Global GDP',\n",
    "    geo=dict(\n",
    "        showframe=False,\n",
    "        showcoastlines=False,\n",
    "        projection_type='equirectangular'\n",
    "    ),\n",
    "    annotations = [dict(\n",
    "        x=0.55,\n",
    "        y=0.1,\n",
    "        xref='paper',\n",
    "        yref='paper',\n",
    "        text='Source: <a href=\"https://www.cia.gov/library/publications/the-world-factbook/fields/2195.html\">\\\n",
    "            CIA World Factbook</a>',\n",
    "        showarrow = False\n",
    "    )]\n",
    ")\n",
    "\n",
    "iplot(fig)"
   ]
  }
 ],
 "metadata": {
  "kernelspec": {
   "display_name": "Python 3",
   "language": "python",
   "name": "python3"
  },
  "language_info": {
   "codemirror_mode": {
    "name": "ipython",
    "version": 3
   },
   "file_extension": ".py",
   "mimetype": "text/x-python",
   "name": "python",
   "nbconvert_exporter": "python",
   "pygments_lexer": "ipython3",
   "version": "3.7.6"
  }
 },
 "nbformat": 4,
 "nbformat_minor": 4
}
